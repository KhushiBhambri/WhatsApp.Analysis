{
 "cells": [
  {
   "cell_type": "code",
   "execution_count": 144,
   "id": "a927160c",
   "metadata": {},
   "outputs": [],
   "source": [
    "import re\n",
    "import pandas as pd\n",
    "import numpy as np\n",
    "import emoji\n",
    "import matplotlib.pyplot as plt\n",
    "from wordcloud import WordCloud\n",
    "import plotly.express as px"
   ]
  },
  {
   "cell_type": "code",
   "execution_count": 145,
   "id": "f57b3672",
   "metadata": {},
   "outputs": [],
   "source": [
    "file = open('Group1.txt','r',encoding='utf-8')"
   ]
  },
  {
   "cell_type": "code",
   "execution_count": 146,
   "id": "898a4811",
   "metadata": {},
   "outputs": [
    {
     "name": "stdout",
     "output_type": "stream",
     "text": [
      "20/08/21, 11:12 pm - Messages and calls are end-to-end encrypted. No one outside of this chat, not even WhatsApp, can read or listen to them. Tap to learn more.\n",
      "20/08/21, 11:12 pm - Nandini Cse created group \"Amazon wow\"\n",
      "20/08/21, 11:12 pm - Nandini Cse added you\n",
      "20/08/21, 11:12 pm - You're now an admin\n",
      "20/08/21, 11:21 pm - Akanksha Cse: Even if we girls were too busy to respond to a simple text in the group, I think we can manage to donate fraction of a minute to enter a new group. \n",
      "*ONLY FOR THE ONES WHO GOT THE EMAIL*\n",
      "\n",
      "\n",
      "https://chat.whatsapp.com/KNxhe71Mh2BHdPRZAkq1B4\n",
      "20/08/21, 11:21 pm - Akanksha Cse: Thoda polite krle yaar 😂😬\n",
      "20/08/21, 11:21 pm - Khushi Cse: 😂😂😂😂\n",
      "20/08/21, 11:21 pm - Khushi Cse: vese girls bhi bdda ignore kr ri he\n",
      "20/08/21, 11:22 pm - Nandini Cse: They should have responded\n",
      "20/08/21, 11:22 pm - Khushi Cse: Ik msg krne me kya jara tha\n",
      "20/08/21, 11:22 pm - Akanksha Cse: Hn wo toh hai\n",
      "20/08/21, 11:22 pm - Nandini Cse: Ak you should have responded\n",
      "20/08/21, 11:22 pm - Khushi Cse: 😂😂🌚\n",
      "20/08/21, 11:22 pm - Akanksha Cse: Aree mera toh pta hi tha\n",
      "20/08/21, 11:22 pm - Akanksha Cse: Tujhe bhi\n",
      "20/08/21, 11:22 pm - Akanksha Cse: Khushi ko bhi\n",
      "20/08/21, 11:22 pm - Akanksha Cse: 🌚\n",
      "20/08/21, 11:22 pm - Nandini Cse: Mera bhi pata tha\n",
      "20/08/21, 11:22 pm - Nandini Cse: It was me and khushi the whole time\n",
      "20/08/21, 11:22 pm - Nandini Cse: 😂😂😂\n",
      "20/08/21, 11:22 pm - Nandini Cse: Hum personal me baat karke group me chale jaare the\n",
      "20/08/21, 11:22 pm - Akanksha Cse: Lol okay\n",
      "20/08/21, 11:22 pm - Nandini Cse: 😂😂\n",
      "20/08/21, 11:23 pm - Akanksha Cse: Mujhe ni pta tha na\n",
      "20/08/21, 11:23 pm - Khushi Cse: 😂😂\n",
      "20/08/21, 11:23 pm - Khushi Cse: Ab hum enjoy krte\n",
      "20/08/21, 11:23 pm - Khushi Cse: Jab tak\n",
      "20/08/21, 11:23 pm - Khushi Cse: Koi ni ata\n",
      "20/08/21, 11:23 pm - Khushi Cse: 😂\n",
      "20/08/21, 11:23 pm - Nandini Cse: 😂😂\n",
      "20/08/21, 11:24 pm - Nandini Cse: Bhai ladkiya dekh rhi hai aa ri nahi hai\n",
      "20/08/21, 11:24 pm - Nandini Cse: 😂😂\n",
      "20/08/21, 11:24 pm - Akanksha Cse: Yess\n",
      "20/08/21, 11:24 pm - Nandini Cse: Kissi ko ni aaya kya?\n",
      "20/08/21, 11:24 pm - Akanksha Cse: Lol ye zada hogya\n",
      "20/08/21, 11:24 pm - Akanksha Cse: Aaya hoga\n",
      "20/08/21, 11:24 pm - Khushi Cse: Mamta rushika shikha sheffy\n",
      "20/08/21, 11:24 pm - Khushi Cse: Kk toh aya he\n",
      "20/08/21, 11:24 pm - Khushi Cse: Bakio ka ni pta\n",
      "20/08/21, 11:24 pm - Nandini Cse: bhai sahi  me\n",
      "20/08/21, 11:25 pm - Nandini Cse: bhai priyanka bhi achhi hai\n",
      "20/08/21, 11:25 pm - Akanksha Cse: Kis kis ne dekhliya?\n",
      "20/08/21, 11:25 pm - Nandini Cse: uska bhi hua hoga\n",
      "20/08/21, 11:25 pm - Nandini Cse: sejal??\n",
      "20/08/21, 11:25 pm - Khushi Cse: Hain vo ece vali he\n",
      "20/08/21, 11:25 pm - Khushi Cse: Nope\n",
      "20/08/21, 11:25 pm - Nandini Cse: apni waali\n",
      "20/08/21, 11:25 pm - Nandini Cse: west bengal ki to thi\n",
      "20/08/21, 11:26 pm - Khushi Cse: Pta ni then ab tak toh baar name aya interns vgera me dono baar ece vali thi\n",
      "20/08/21, 11:26 pm - Akanksha Cse: WB se kon tha bhai 😬\n",
      "20/08/21, 11:26 pm - Nandini Cse: abhilasha, shruti\n",
      "20/08/21, 11:26 pm - Khushi Cse: Priyanka\n",
      "20/08/21, 11:26 pm - Nandini Cse: ++\n",
      "20/08/21, 11:26 pm - Akanksha Cse: Wo specs wali?\n",
      "20/08/21, 11:26 pm - Nandini Cse: haa\n",
      "20/08/21, 11:26 pm - Khushi Cse: Ishita ko toh test link hi ni aya tha\n",
      "20/08/21, 11:26 pm - Akanksha Cse: Day scholar ni thi wo?\n",
      "20/08/21, 11:26 pm - Khushi Cse: Hn ohi\n",
      "20/08/21, 11:26 pm - Nandini Cse: haan\n",
      "20/08/21, 11:26 pm - Nandini Cse: ohh achha\n",
      "20/08/21, 11:27 pm - Nandini Cse: muskan??\n",
      "20/08/21, 11:27 pm - Akanksha Cse: Yaar mujhe wo toh btao\n",
      "20/08/21, 11:27 pm - Akanksha Cse: Apna college list mei ni hai\n",
      "20/08/21, 11:27 pm - Nandini Cse: kya?\n",
      "20/08/21, 11:27 pm - Khushi Cse: Pta ni cgpa creterion bhi tha na?\n",
      "20/08/21, 11:27 pm - Nandini Cse: haan\n",
      "20/08/21, 11:27 pm - Nandini Cse: others\n",
      "20/08/21, 11:27 pm - Akanksha Cse: <Media omitted>\n",
      "20/08/21, 11:27 pm - Akanksha Cse: <Media omitted>\n",
      "20/08/21, 11:27 pm - Akanksha Cse: <Media omitted>\n",
      "20/08/21, 11:27 pm - Nandini Cse: 😂😂😂\n",
      "20/08/21, 11:27 pm - Nandini Cse: apna college others me hai\n",
      "20/08/21, 11:27 pm - Akanksha Cse: Apna college hi fuddu hai\n",
      "20/08/21, 11:27 pm - Nandini Cse: pata hai\n",
      "20/08/21, 11:27 pm - Akanksha Cse: 🌚\n",
      "20/08/21, 11:27 pm - Nandini Cse: dav hai\n",
      "20/08/21, 11:27 pm - Nandini Cse: smile\n",
      "20/08/21, 11:28 pm - Khushi Cse: 🥴🥴hor ki Tpo bhi\n",
      "20/08/21, 11:28 pm - Akanksha Cse: <Media omitted>\n",
      "20/08/21, 11:28 pm - Khushi Cse: Hor ki bure haal he\n",
      "20/08/21, 11:28 pm - Nandini Cse: spotify ki sub lene lagi\n",
      "20/08/21, 11:28 pm - Khushi Cse: Oye ab tak msg ni dekha\n",
      "20/08/21, 11:29 pm - Nandini Cse: usme bhi nhi tha\n",
      "20/08/21, 11:29 pm - Khushi Cse: Ya apna popat hogya?\n",
      "20/08/21, 11:29 pm - Khushi Cse: 😂😂\n",
      "20/08/21, 11:29 pm - Nandini Cse: canada waala ni bhramaine\n",
      "20/08/21, 11:29 pm - Nandini Cse: soch rahe the\n",
      "20/08/21, 11:29 pm - Akanksha Cse: 😂😂\n",
      "20/08/21, 11:29 pm - Nandini Cse: akriti\n",
      "20/08/21, 11:29 pm - Nandini Cse: uska hua??\n",
      "20/08/21, 11:30 pm - Khushi Cse: Pta ni\n",
      "20/08/21, 11:30 pm - Nandini Cse: aman ko bula lete hai\n",
      "20/08/21, 11:30 pm - Khushi Cse: Vo kya karegi\n",
      "20/08/21, 11:30 pm - Khushi Cse: 🌚\n",
      "20/08/21, 11:30 pm - Nandini Cse: tips degi\n",
      "20/08/21, 11:30 pm - Khushi Cse: Bulalo\n",
      "20/08/21, 11:30 pm - Khushi Cse: Chief guest\n",
      "20/08/21, 11:30 pm - Nandini Cse: riyanshi ko bula lete hai\n",
      "20/08/21, 11:30 pm - Khushi Cse: Pehle koi aa toh jaye 🥲\n",
      "20/08/21, 11:31 pm - Khushi Cse: Sheffy ne dekha?\n",
      "20/08/21, 11:31 pm - Nandini Cse: nhi\n",
      "20/08/21, 11:31 pm - Akanksha Cse: Hadd hogyi bhai abb\n",
      "20/08/21, 11:31 pm - Khushi Cse: Chalo subah ka wait krte he fir\n",
      "20/08/21, 11:31 pm - Khushi Cse: 😂😂apna grp shi he 🌚fir je koi nhi aya\n",
      "20/08/21, 11:31 pm - Akanksha Cse: 😂😂👍🏻\n",
      "20/08/21, 11:32 pm - Khushi Cse: Jalil krta ladkio ne 😂\n",
      "20/08/21, 11:32 pm - Akanksha Cse: Khushi ab apa uss msg pe exclamation daalte hai 😂😂\n",
      "20/08/21, 11:32 pm - Nandini Cse: haan hum iska name change karke 3 idiots rakh denge\n",
      "20/08/21, 11:32 pm - Nandini Cse: nhi nhi\n",
      "20/08/21, 11:32 pm - Khushi Cse: Hn daalde me bhi daldungi\n",
      "20/08/21, 11:32 pm - Khushi Cse: 😂😂\n",
      "20/08/21, 11:32 pm - Akanksha Cse: Jiska link sbke paas hai koi bhi aaskta\n",
      "20/08/21, 11:32 pm - Nandini Cse: bezzatti hogi\n",
      "20/08/21, 11:32 pm - Khushi Cse: Link change hojata\n",
      "20/08/21, 11:32 pm - Khushi Cse: Baad me\n",
      "20/08/21, 11:32 pm - Akanksha Cse: Oh acha\n",
      "20/08/21, 11:32 pm - Khushi Cse: Aho\n",
      "20/08/21, 11:33 pm - Mamta Cse joined using this group's invite link\n",
      "20/08/21, 11:33 pm - Khushi Cse: 🌚welcome\n",
      "20/08/21, 11:33 pm - Khushi Cse: 🎊\n",
      "20/08/21, 11:33 pm - Akanksha Cse: Finally 😂😂\n",
      "20/08/21, 11:33 pm - Khushi Cse: ++\n",
      "20/08/21, 11:33 pm - Mamta Cse: 😂bhai isme 3 hr round h ig\n",
      "20/08/21, 11:33 pm - Mamta Cse: 🤔kya ye sach h\n",
      "20/08/21, 11:33 pm - Akanksha Cse: @917526961911   tune 10th ki area of study mei kya likha hai?\n",
      "20/08/21, 11:33 pm - Khushi Cse: Pta nhi yhi sab pta krna he 😂\n",
      "20/08/21, 11:33 pm - Nandini Cse: welcome mamta\n",
      "20/08/21, 11:34 pm - Nandini Cse: hain?\n",
      "20/08/21, 11:34 pm - Nandini Cse: ss bhej\n",
      "20/08/21, 11:34 pm - Akanksha Cse: Are education mei add ni kre the?\n",
      "20/08/21, 11:34 pm - Nandini Cse: nhi\n",
      "20/08/21, 11:34 pm - Akanksha Cse: Acha\n",
      "20/08/21, 11:34 pm - Nandini Cse: sirf ek hi kra\n",
      "20/08/21, 11:34 pm - Akanksha Cse: Okok\n",
      "20/08/21, 11:35 pm - Mamta Cse: Yarr wow ki jo site h na\n",
      "20/08/21, 11:35 pm - Nandini Cse: haan?\n",
      "20/08/21, 11:35 pm - Mamta Cse: Usme phle k session h live\n",
      "20/08/21, 11:35 pm - Mamta Cse: Wha usne bataya tha\n",
      "20/08/21, 11:35 pm - Mamta Cse: Wo ek madam thi\n",
      "20/08/21, 11:35 pm - Khushi Cse: 3 interview\n",
      "20/08/21, 11:35 pm - Nandini Cse: kya kehti?\n",
      "20/08/21, 11:35 pm - Mamta Cse: Per I don't remember exactly ki\n",
      "20/08/21, 11:35 pm - Khushi Cse: 2 tech ek hr\n",
      "20/08/21, 11:35 pm - Khushi Cse: Esa ni hota\n",
      "20/08/21, 11:35 pm - Khushi Cse: ?\n",
      "20/08/21, 11:35 pm - Nandini Cse: hard hote hai\n",
      "20/08/21, 11:35 pm - Nandini Cse: bhai question kaisa aaya hua tha\n",
      "20/08/21, 11:35 pm - Mamta Cse: Aree nah\n",
      "20/08/21, 11:35 pm - Mamta Cse: But han remember\n",
      "20/08/21, 11:35 pm - Mamta Cse: Ye off-campus h\n",
      "20/08/21, 11:36 pm - Mamta Cse: Toh refferal lena hoga\n",
      "20/08/21, 11:36 pm - Khushi Cse: Coding ala gfg pe mil gya tha meko\n",
      "20/08/21, 11:36 pm - Mamta Cse: Isk liye\n",
      "20/08/21, 11:36 pm - Khushi Cse: 🌚🌚\n",
      "20/08/21, 11:36 pm - Mamta Cse: Bhai 3 din h\n",
      "20/08/21, 11:36 pm - Nandini Cse: manav kehta ladkiyo se array sort karwate hai\n",
      "20/08/21, 11:36 pm - Khushi Cse: Yrr ek gal dasso ye refrel resume me include ni na hota?\n",
      "20/08/21, 11:36 pm - Nandini Cse: maine itni gaaliya nikali naa usse\n",
      "20/08/21, 11:36 pm - Mamta Cse: Trees nnd graphs krlo\n",
      "20/08/21, 11:36 pm - Mamta Cse: Basic basic\n",
      "20/08/21, 11:36 pm - Khushi Cse: 😂\n",
      "20/08/21, 11:36 pm - Mamta Cse: Nd basic dp\n",
      "20/08/21, 11:36 pm - Mamta Cse: Nah\n",
      "20/08/21, 11:36 pm - Nandini Cse: maine badi bezzati kri uski\n",
      "20/08/21, 11:36 pm - Mamta Cse: Bas uss time wo puch skate h\n",
      "20/08/21, 11:37 pm - Mamta Cse: 🤣😂\n",
      "20/08/21, 11:37 pm - Nandini Cse: tere saare test case pass hoge the??\n",
      "20/08/21, 11:37 pm - Akanksha Cse: <Media omitted>\n",
      "20/08/21, 11:37 pm - Mamta Cse: Haj\n",
      "20/08/21, 11:37 pm - Akanksha Cse: Ismei btao yaar\n",
      "20/08/21, 11:37 pm - Nandini Cse: nahi\n",
      "20/08/21, 11:37 pm - Akanksha Cse: Konse que ki baat ho rhi\n",
      "20/08/21, 11:37 pm - Nandini Cse: nandy candy waale\n",
      "20/08/21, 11:37 pm - Mamta Cse: Sayad jo hands on coding practice aaya tha\n",
      "20/08/21, 11:38 pm - Akanksha Cse: Khn?\n",
      "20/08/21, 11:38 pm - Khushi Cse: Hn\n",
      "20/08/21, 11:38 pm - Mamta Cse: Sabk alag the\n",
      "20/08/21, 11:38 pm - Mamta Cse: Merko toh linux commands hi gajab ki aayi thi\n",
      "20/08/21, 11:38 pm - Khushi Cse: Hn\n",
      "20/08/21, 11:38 pm - Nandini Cse: haan\n",
      "20/08/21, 11:38 pm - Mamta Cse: Jo maine aaj tk internet per nii mili muje\n",
      "20/08/21, 11:38 pm - Mamta Cse: 😂\n",
      "20/08/21, 11:38 pm - Akanksha Cse: Hnnn\n",
      "20/08/21, 11:38 pm - Khushi Cse: Meko smj hi na arra tha linus aur software testing bla bla\n",
      "20/08/21, 11:38 pm - Khushi Cse: Mene tukke\n",
      "20/08/21, 11:38 pm - Khushi Cse: Mare\n",
      "20/08/21, 11:38 pm - Khushi Cse: 😂\n",
      "20/08/21, 11:38 pm - Akanksha Cse: Or ek wo software wala bhi\n",
      "20/08/21, 11:38 pm - Mamta Cse: 🤣smae here\n",
      "20/08/21, 11:39 pm - Khushi Cse: Hn\n",
      "20/08/21, 11:39 pm - Nandini Cse: same\n",
      "20/08/21, 11:39 pm - Akanksha Cse: -ve marking ni thi?\n",
      "20/08/21, 11:39 pm - Mamta Cse: Nah\n",
      "20/08/21, 11:39 pm - Nandini Cse: dedh ghante me 41 questions\n",
      "20/08/21, 11:39 pm - Mamta Cse: 😂tbhi bach gye na\n",
      "20/08/21, 11:39 pm - Khushi Cse: Naah\n",
      "20/08/21, 11:39 pm - Khushi Cse: Yo\n",
      "20/08/21, 11:39 pm - Khushi Cse: Vrna bas code aur kuch dsa ke shi he\n",
      "20/08/21, 11:39 pm - Khushi Cse: Baki tukka\n",
      "20/08/21, 11:39 pm - Akanksha Cse: Ohho maine linux or software wale pure chod diye rhe 🌚\n",
      "20/08/21, 11:40 pm - Mamta Cse: 🤔\n",
      "20/08/21, 11:40 pm - Khushi Cse: Toh bhi we are at same place 😂\n",
      "20/08/21, 11:40 pm - Mamta Cse: Maine toh software wale k formaula se kiye the\n",
      "20/08/21, 11:40 pm - Khushi Cse: Girls IR + CR group 😂 he ye\n",
      "20/08/21, 11:40 pm - Khushi Cse: Aur koi ni ara drr ke\n",
      "20/08/21, 11:40 pm - Mamta Cse: 😂\n",
      "20/08/21, 11:41 pm - Nandini Cse: maine itne politely bulaya tha\n",
      "20/08/21, 11:41 pm - Nandini Cse: phir bhi\n",
      "20/08/21, 11:41 pm - Khushi Cse: Formulae bhi hote he 🤔😂\n",
      "20/08/21, 11:41 pm - Mamta Cse: Tbhi nii aa rhe na 😂\n",
      "20/08/21, 11:41 pm - Mamta Cse: Hn yarr usme the\n",
      "20/08/21, 11:41 pm - Mamta Cse: I mean ki jaise koi model h toh usk bare me jo best match tha wo lagaya tha\n",
      "20/08/21, 11:41 pm - Akanksha Cse: Theory ni thi itni bdi bdi?\n",
      "20/08/21, 11:41 pm - Mamta Cse: Han thi\n",
      "20/08/21, 11:42 pm - Mamta Cse: 2 the na software wale\n",
      "20/08/21, 11:42 pm - Khushi Cse: Hn same hhere meko thoryu ayi mene read kre bina hi tukke mare\n",
      "20/08/21, 11:42 pm - Khushi Cse: 😂🤝\n",
      "20/08/21, 11:42 pm - Nandini Cse: ++\n",
      "20/08/21, 11:42 pm - Khushi Cse: Hn\n",
      "20/08/21, 11:42 pm - Nandini Cse: mamta ko bahar nikalo yeh dra rhi hai\n",
      "20/08/21, 11:42 pm - Mamta Cse: 🤣😂\n",
      "20/08/21, 11:42 pm - Mamta Cse: Chill relax\n",
      "20/08/21, 11:42 pm - Khushi Cse: Nhi agle test me\n",
      "20/08/21, 11:42 pm - Khushi Cse: Isko sabs\n",
      "20/08/21, 11:42 pm - Khushi Cse: Pehle\n",
      "20/08/21, 11:42 pm - Khushi Cse: Paper divake\n",
      "20/08/21, 11:42 pm - Khushi Cse: Pattern\n",
      "20/08/21, 11:42 pm - Khushi Cse: Pta krenge\n",
      "20/08/21, 11:42 pm - Khushi Cse: 😂😂🌚\n",
      "20/08/21, 11:43 pm - Mamta Cse: 😂\n",
      "20/08/21, 11:43 pm - Nandini Cse: best\n",
      "20/08/21, 11:43 pm - Nandini Cse: jo nahi aay iss group me unka loss\n",
      "20/08/21, 11:43 pm - Khushi Cse: Yoo\n",
      "20/08/21, 11:43 pm - Khushi Cse: 🤝\n",
      "20/08/21, 11:43 pm - Nandini Cse: girl ganggg\n",
      "20/08/21, 11:43 pm - Khushi Cse: ++\n",
      "20/08/21, 11:43 pm - Mamta Cse: 🥲oko\n",
      "20/08/21, 11:44 pm - Nandini Cse: hume cse ki ladkiyo ko alag group banana chahye\n",
      "20/08/21, 11:44 pm - Nandini Cse: ladko ka hai\n",
      "20/08/21, 11:44 pm - Nandini Cse: woh gand daalte hai usme\n",
      "20/08/21, 11:44 pm - Khushi Cse: bro tera vese hi hojana 😂\n",
      "Sath hmara faida kra diyo\n",
      "20/08/21, 11:44 pm - Akanksha Cse: Mai toh aadhi bhul bhi gyi 🌚\n",
      "20/08/21, 11:44 pm - Mamta Cse: Bahi ladkiya bolti hi nii 😂 cse wali\n",
      "20/08/21, 11:44 pm - Nandini Cse: hume bhi daalna hai\n",
      "20/08/21, 11:44 pm - Nandini Cse: main toh saari hi\n",
      "20/08/21, 11:44 pm - Mamta Cse: 😂😂\n",
      "20/08/21, 11:44 pm - Khushi Cse: 😂😂😂\n",
      "20/08/21, 11:44 pm - Nandini Cse: behen confession daal deti hai ki nandini hi bolti hai sirf\n",
      "20/08/21, 11:45 pm - Khushi Cse: Meko yaad he 😌\n",
      "20/08/21, 11:45 pm - Khushi Cse: Lmao\n",
      "20/08/21, 11:45 pm - Khushi Cse: 😂😂😂😂\n",
      "20/08/21, 11:45 pm - Khushi Cse: Nandini aaj bhadas nikalde\n",
      "20/08/21, 11:45 pm - Khushi Cse: Keh jab bolne ko kha\n",
      "20/08/21, 11:45 pm - Khushi Cse: Khud hi\n",
      "20/08/21, 11:45 pm - Khushi Cse: Ni bolte\n",
      "20/08/21, 11:45 pm - Khushi Cse: 😂😂\n",
      "20/08/21, 11:45 pm - Akanksha Cse: 😂😂😂\n",
      "20/08/21, 11:45 pm - Mamta Cse: 😂😂😂\n",
      "20/08/21, 11:45 pm - Nandini Cse: 😂😂😂😂\n",
      "20/08/21, 11:45 pm - Nandini Cse: bhai aise hi mujhe badnaam kiya hua hai\n",
      "20/08/21, 11:45 pm - Akanksha Cse: Bhai mtlb aise kon krta hai unka konsa muh pkda hua ya haath roke hue\n",
      "20/08/21, 11:45 pm - Akanksha Cse: Likhdo jo likhna\n",
      "20/08/21, 11:45 pm - Khushi Cse: Ahoo ++\n",
      "20/08/21, 11:45 pm - Nandini Cse: har koi aake bol deta hai\n",
      "20/08/21, 11:46 pm - Nandini Cse: exactly\n",
      "20/08/21, 11:46 pm - Khushi Cse: <Media omitted>\n",
      "20/08/21, 11:46 pm - Nandini Cse: maine kya bigada hai kisi ka\n",
      "20/08/21, 11:46 pm - Mamta Cse: I don't think tu unki care krti hogi 😂😂..\n",
      "20/08/21, 11:46 pm - Nandini Cse: main konsa kissi ke sahele ke saath bhaag gayi\n",
      "20/08/21, 11:46 pm - Mamta Cse: Aur koi kyu hi kre\n",
      "20/08/21, 11:46 pm - Mamta Cse: 🥴\n",
      "20/08/21, 11:46 pm - Khushi Cse: <Media omitted>\n",
      "20/08/21, 11:46 pm - Nandini Cse: han ye bhi hai\n",
      "20/08/21, 11:46 pm - Mamta Cse: 🤣🤣\n",
      "20/08/21, 11:46 pm - Nandini Cse: thanks mamta\n",
      "20/08/21, 11:47 pm - Mamta Cse: H b kya kisi k\n",
      "20/08/21, 11:47 pm - Mamta Cse: 🤔\n",
      "20/08/21, 11:47 pm - Akanksha Cse: <Media omitted>\n",
      "20/08/21, 11:47 pm - Khushi Cse: Nandini kisne dekha msg\n",
      "20/08/21, 11:47 pm - Khushi Cse: Air\n",
      "20/08/21, 11:47 pm - Khushi Cse: 😂😂\n",
      "20/08/21, 11:48 pm - Nandini Cse: rukk\n",
      "20/08/21, 11:49 pm - Nandini Cse: abhilasha\n",
      "20/08/21, 11:49 pm - Nandini Cse: moni\n",
      "20/08/21, 11:49 pm - Nandini Cse: parul\n",
      "20/08/21, 11:50 pm - Akanksha Cse: Diya bhi tha inhone?\n",
      "20/08/21, 11:50 pm - Nandini Cse: sabhi ne hi diya hona hai\n",
      "20/08/21, 11:53 pm - Khushi Cse: Ho skta na bhi diya ho\n",
      "20/08/21, 11:55 pm - Mamta Cse: Acha suno interview k liye sde sheet kr lena\n",
      "20/08/21, 11:55 pm - Nandini Cse: striver?\n",
      "20/08/21, 11:55 pm - Mamta Cse: Kafi help kregi\n",
      "20/08/21, 11:55 pm - Mamta Cse: Hn\n",
      "20/08/21, 11:55 pm - Nandini Cse: bahit badi hai\n",
      "20/08/21, 11:55 pm - Nandini Cse: ugh\n",
      "20/08/21, 11:56 pm - Nandini Cse: main topics bata de\n",
      "20/08/21, 11:56 pm - Mamta Cse: Trees , graph , backtracking aur thode previous year dekhlo\n",
      "20/08/21, 11:56 pm - Mamta Cse: Abhi maine jayada dekha nii ink bare\n",
      "20/08/21, 11:56 pm - Nandini Cse: achha\n",
      "20/08/21, 11:56 pm - Nandini Cse: okaayy\n",
      "20/08/21, 11:56 pm - Mamta Cse: Graph jayada depth me nii aayega\n",
      "20/08/21, 11:57 pm - Mamta Cse: Amazon  me basic aati h.. aur standard problems\n",
      "20/08/21, 11:57 pm - Akanksha Cse: <Media omitted>\n",
      "20/08/21, 11:58 pm - Nandini Cse: Mamta ne saara padh liya\n",
      "20/08/21, 11:58 pm - Nandini Cse: 🤝🏻🤝🏻\n",
      "20/08/21, 11:58 pm - Akanksha Cse: Acha h na\n",
      "20/08/21, 11:58 pm - Akanksha Cse: Apni help kregi\n",
      "20/08/21, 11:58 pm - Mamta Cse: Na bahi abhi start krungi\n",
      "20/08/21, 11:58 pm - Nandini Cse: I meant interview ke baare me\n",
      "20/08/21, 11:58 pm - Nandini Cse: God i should be more clear\n",
      "20/08/21, 11:58 pm - Nandini Cse: 🥲\n",
      "20/08/21, 11:58 pm - Mamta Cse: Han  1 bar riya se b puchte h group me bula kr 😂\n",
      "20/08/21, 11:58 pm - Mamta Cse: Usne 2 diye h interview\n",
      "20/08/21, 11:59 pm - Nandini Cse: Bula lo\n",
      "20/08/21, 11:59 pm - Nandini Cse: Kon se?\n",
      "20/08/21, 11:59 pm - Nandini Cse: Uska toh first me hi ho gya tha\n",
      "20/08/21, 11:59 pm - Akanksha Cse: Salesforce MS\n",
      "20/08/21, 11:59 pm - Mamta Cse: Salesforce\n",
      "20/08/21, 11:59 pm - Shikha Cse joined using this group's invite link\n",
      "20/08/21, 11:59 pm - Mamta Cse: Ms\n",
      "20/08/21, 11:59 pm - Nandini Cse: Achha\n",
      "20/08/21, 11:59 pm - Nandini Cse: Okay\n",
      "21/08/21, 12:04 am - Khushi Cse: Hn 🤭😌\n",
      "21/08/21, 8:59 am - Sheffy Cse joined using this group's invite link\n",
      "21/08/21, 9:05 am - Rushika Cse joined using this group's invite link\n",
      "21/08/21, 9:29 am - Khushi Cse: Welcome 🤝🥳\n",
      "21/08/21, 9:42 am - Rushika Cse: mujhe bola ya sbhi ko🌚\n",
      "21/08/21, 9:52 am - Khushi Cse: Aap aur sheffy hi aye abhi\n",
      "21/08/21, 9:53 am - Sheffy Cse: Ook😂\n",
      "21/08/21, 10:35 am - +91 75085 15845 joined using this group's invite link\n",
      "21/08/21, 4:14 pm - Khushi Cse: Mails agyi Goldman ki yha sabko?\n",
      "21/08/21, 4:15 pm - Akanksha Cse: Meko ni aayi\n",
      "21/08/21, 4:16 pm - Nandini Cse: meko bhi ni aayi\n",
      "21/08/21, 4:18 pm - +91 75085 15845: Meko b ni\n",
      "21/08/21, 4:19 pm - Nandini Cse: wait\n",
      "21/08/21, 4:19 pm - Nandini Cse: sayisha cse me??\n",
      "21/08/21, 4:25 pm - +91 75085 15845: I didn't know only cse girls were allowed\n",
      "21/08/21, 4:25 pm - +91 75085 15845: I joined coz i got the link\n",
      "21/08/21, 4:26 pm - Sheffy Cse: Nhi\n",
      "21/08/21, 4:26 pm - +91 75085 15845 left\n",
      "21/08/21, 4:26 pm - Khushi Cse: Koi na bro 😂😂 ye konsa official grp he\n",
      "21/08/21, 4:26 pm - Khushi Cse: Leave kr gyi\n",
      "21/08/21, 4:26 pm - Nandini Cse: lol\n",
      "21/08/21, 4:30 pm - Khushi Cse: Mails kyu ni ayi\n",
      "21/08/21, 4:30 pm - Nandini Cse: kyunki goldman gandi company hai\n",
      "21/08/21, 4:30 pm - Nandini Cse: god has better plans for us\n",
      "21/08/21, 4:30 pm - Khushi Cse: This is dhokha\n",
      "21/08/21, 4:30 pm - Nandini Cse: 🤡\n",
      "21/08/21, 4:30 pm - Khushi Cse: Pta he form me\n",
      "21/08/21, 4:31 pm - Khushi Cse: Inna bio data\n",
      "21/08/21, 4:31 pm - Khushi Cse: Bhar ke\n",
      "21/08/21, 4:31 pm - Khushi Cse: Time waste\n",
      "21/08/21, 4:31 pm - Khushi Cse: Kra tha\n",
      "21/08/21, 4:31 pm - Nandini Cse: haaann\n",
      "21/08/21, 4:31 pm - Khushi Cse: 😂😂\n",
      "21/08/21, 4:31 pm - Nandini Cse: exactly\n",
      "21/08/21, 4:31 pm - Khushi Cse: Innna toh shadi krane vale\n",
      "21/08/21, 4:31 pm - Khushi Cse: Nhi\n",
      "21/08/21, 4:31 pm - Khushi Cse: Puchte\n",
      "21/08/21, 4:31 pm - Nandini Cse: 😂😂😂\n",
      "21/08/21, 4:31 pm - Khushi Cse: Jina inhone biodata mang liya tha\n",
      "21/08/21, 4:31 pm - Nandini Cse: kya pata inhone apne employees byane ho to karke liya ho\n",
      "21/08/21, 4:32 pm - Akanksha Cse: Aagyi mail\n",
      "21/08/21, 4:32 pm - Khushi Cse: Meko ninayi\n",
      "21/08/21, 4:32 pm - Khushi Cse: 😂\n",
      "21/08/21, 4:32 pm - Sheffy Cse: Hn\n",
      "21/08/21, 4:32 pm - Khushi Cse: Tum dono ne form last submit\n",
      "21/08/21, 4:32 pm - Khushi Cse: Kab kra\n",
      "21/08/21, 4:33 pm - Akanksha Cse: Are time slots ka difference hai toh alag time pe aarhi\n",
      "21/08/21, 4:33 pm - Khushi Cse: Meko lagta piche se invitations bhej re sabse recent valo ko sabse pehle gya mail\n",
      "21/08/21, 4:33 pm - Nandini Cse: mujhe toh yaad bhi nhi ki submit kara bhi tha ki nahi\n",
      "21/08/21, 4:33 pm - Khushi Cse: Hn\n",
      "21/08/21, 4:33 pm - Khushi Cse: 😂😂😂\n",
      "21/08/21, 4:33 pm - Khushi Cse: Tu ajubaa he\n",
      "21/08/21, 4:33 pm - Akanksha Cse: Portal pe check krle 🌚\n",
      "21/08/21, 4:33 pm - Khushi Cse: +\n",
      "21/08/21, 4:33 pm - Nandini Cse: thanks\n",
      "21/08/21, 4:34 pm - Khushi Cse: Meko lagta ye bio data ka soch ri kinyaad nhi mene inna bhara bhi tha kuch\n",
      "21/08/21, 4:34 pm - Khushi Cse: 😂\n",
      "21/08/21, 4:35 pm - Nandini Cse: bhehen itne bhar rakhe hai\n",
      "21/08/21, 4:35 pm - Nandini Cse: yaad bhi nhi ab toh\n",
      "21/08/21, 4:36 pm - Khushi Cse: Are mails me ye vali mail dhundle\n",
      "21/08/21, 4:36 pm - Khushi Cse: <Media omitted>\n",
      "21/08/21, 4:36 pm - Nandini Cse: haan bhari hui hai\n",
      "21/08/21, 4:36 pm - Khushi Cse: 👍\n",
      "21/08/21, 4:37 pm - Khushi Cse: Ak and sheffy slot kya he tumhara\n",
      "21/08/21, 4:37 pm - Nandini Cse: kamaljeeet?\n",
      "21/08/21, 4:37 pm - Khushi Cse: Han usne bheja abhi meko ki mere pass bas ye he 😂\n",
      "21/08/21, 4:37 pm - Akanksha Cse: 4:45 - 5:15 window\n",
      "21/08/21, 4:37 pm - Khushi Cse: Ok pehle valo ki 4-4:30 he\n",
      "21/08/21, 4:44 pm - Sheffy Cse: Same\n",
      "21/08/21, 5:26 pm - Nandini Cse added +91 75085 15845\n",
      "21/08/21, 5:41 pm - Khushi Cse: oye agyi mail\n",
      "21/08/21, 5:41 pm - Nandini Cse: haan\n",
      "21/08/21, 5:41 pm - Nandini Cse: aagyi\n",
      "21/08/21, 5:41 pm - Nandini Cse: 7:30 - 8:00 ka slot hai mera\n",
      "21/08/21, 5:41 pm - Khushi Cse: 7:30 to 8:00\\\n",
      "21/08/21, 5:41 pm - Khushi Cse: same\n",
      "21/08/21, 5:41 pm - Nandini Cse: hehehe\n",
      "21/08/21, 5:41 pm - Khushi Cse: ab jinka pehle he vo\n",
      "21/08/21, 5:41 pm - Khushi Cse: review dena\n",
      "21/08/21, 5:41 pm - Khushi Cse: 😂😂👍\n",
      "21/08/21, 5:42 pm - Nandini Cse: haan\n",
      "21/08/21, 6:31 pm - Shikha Cse: This message was deleted\n",
      "22/08/21, 2:33 pm - Khushi Cse: Yarr mazon wow kal se hena\n",
      "22/08/21, 2:33 pm - Khushi Cse: Mails ayi??\n",
      "22/08/21, 2:38 pm - Mamta Cse: Hn\n",
      "22/08/21, 2:39 pm - Khushi Cse: .\n",
      "22/08/21, 2:39 pm - Sheffy Cse: Na\n",
      "22/08/21, 2:40 pm - Khushi Cse: Te mamta tera 4 bje he aaj\n",
      "22/08/21, 2:40 pm - Khushi Cse: ?\n",
      "22/08/21, 2:41 pm - Mamta Cse: 🥲kisne kha 😂\n",
      "22/08/21, 2:42 pm - Khushi Cse: Kab he\n",
      "22/08/21, 2:42 pm - Khushi Cse: 🙄😂\n",
      "22/08/21, 2:42 pm - Mamta Cse: 7:30\n",
      "22/08/21, 2:42 pm - Khushi Cse: Oye hote 🤝\n",
      "22/08/21, 2:42 pm - Mamta Cse: 🤝\n",
      "23/08/21, 9:42 am - Khushi Cse: Mail ayi kisiko amazon alai?\n",
      "23/08/21, 9:42 am - Khushi Cse: And adobe fill krliya tha kal?\n",
      "23/08/21, 9:42 am - Khushi Cse: 🥲🥲\n",
      "23/08/21, 9:42 am - Khushi Cse: Mera last ques reh gya \n",
      "Ki faida hua LOR ke liye papad belne ka😂🥲\n",
      "23/08/21, 9:44 am - Sheffy Cse: Na\n",
      "23/08/21, 10:06 am - Mamta Cse: Yarr rh gya 😂\n",
      "23/08/21, 10:07 am - Mamta Cse: Aree merko lga kl rat 12 bje tk h 😂.. phir pta lga 5 bje tk tha\n",
      "23/08/21, 11:08 am - Khushi Cse: Same 😅🥲🥲\n",
      "23/08/21, 2:12 pm - Khushi Cse: mails agyi\n",
      "23/08/21, 2:12 pm - Khushi Cse: chk krlo\n",
      "23/08/21, 2:12 pm - Khushi Cse: sare\n",
      "23/08/21, 2:13 pm - Akanksha Cse: Haan yaar\n",
      "23/08/21, 2:13 pm - Akanksha Cse: Itna lamba test hai😐\n",
      "23/08/21, 2:15 pm - Nandini Cse: 145 minutes\n",
      "23/08/21, 2:15 pm - Nandini Cse: brooooo\n",
      "23/08/21, 2:15 pm - Nandini Cse: 2.4 hrs\n",
      "23/08/21, 2:15 pm - Akanksha Cse: Haaan😐\n",
      "23/08/21, 2:18 pm - Khushi Cse: click krte hi start\n",
      "23/08/21, 2:18 pm - Khushi Cse: hojega?\n",
      "23/08/21, 2:19 pm - Nandini Cse: Karke dekh\n",
      "23/08/21, 2:19 pm - Nandini Cse: <Media omitted>\n",
      "23/08/21, 2:19 pm - Akanksha Cse: 😂\n",
      "23/08/21, 2:19 pm - Khushi Cse: 😂😂😂😂\n",
      "23/08/21, 2:19 pm - Khushi Cse: time aur date\n",
      "23/08/21, 2:19 pm - Khushi Cse: nhi par aaj ya kal ka hi he na\n",
      "23/08/21, 2:19 pm - Nandini Cse: Haan\n",
      "23/08/21, 2:19 pm - Nandini Cse: Bhai mujhedarr lag rha\n",
      "23/08/21, 2:19 pm - Rushika Cse: mujhe nhi barbaad krna 2.5hrs\n",
      "23/08/21, 2:19 pm - Nandini Cse: 😂😂😂😂\n",
      "23/08/21, 2:19 pm - Khushi Cse: 🥴🥴\n",
      "23/08/21, 2:20 pm - Nandini Cse: Itne.evanda movie hi dekh le koi\n",
      "23/08/21, 2:20 pm - Nandini Cse: Dosto se baat karne ko topic mil jata hai\n",
      "23/08/21, 2:20 pm - Nandini Cse: Iss se achha*\n",
      "23/08/21, 2:23 pm - Rushika Cse: gllti se first test clear krliya\n",
      "23/08/21, 2:23 pm - Nandini Cse: koi baat nhi rushika\n",
      "23/08/21, 2:24 pm - Nandini Cse: dene waalo ke liye competrtion kam kar rhi hai\n",
      "23/08/21, 2:25 pm - Khushi Cse: The online assessment has been sent to you. The test will be valid from 2 PM today until 11:55 PM on August 25, 2021. Please ensure to complete the test within the stipulated time.\n",
      "23/08/21, 2:27 pm - Mamta Cse: 🔥 badiya h khusi phle tera ppar krwayenge 😂\n",
      "23/08/21, 2:27 pm - Akanksha Cse: 25th hogyi?\n",
      "23/08/21, 2:28 pm - Khushi Cse: dont be siyannii\n",
      "23/08/21, 2:28 pm - Khushi Cse: teri deal ho\n",
      "23/08/21, 2:28 pm - Khushi Cse: rakhi he\n",
      "23/08/21, 2:28 pm - Khushi Cse: mamta\n",
      "23/08/21, 2:29 pm - Khushi Cse: ki pehle 2nd round\n",
      "23/08/21, 2:29 pm - Khushi Cse: tu kregi\n",
      "23/08/21, 2:29 pm - Khushi Cse: 😂😂😂😂\n",
      "23/08/21, 2:29 pm - Khushi Cse: teko system testing ke\n",
      "23/08/21, 2:29 pm - Khushi Cse: formulae bhi ate he\n",
      "23/08/21, 2:29 pm - Khushi Cse: 🌚🌚\n",
      "23/08/21, 2:29 pm - Khushi Cse: tu kyu dr ri he\n",
      "23/08/21, 2:29 pm - Akanksha Cse: Wo kya hota 🌚\n",
      "23/08/21, 2:29 pm - Khushi Cse: 7-8 section tha ni bdde bdde ques the\n",
      "23/08/21, 2:29 pm - Khushi Cse: jisme\n",
      "23/08/21, 2:30 pm - Akanksha Cse: Haaannn woooo\n",
      "23/08/21, 2:30 pm - Khushi Cse: aahooo\n",
      "23/08/21, 2:30 pm - Akanksha Cse: Hn mamta tune krvana hai\n",
      "23/08/21, 2:30 pm - Akanksha Cse: 😂\n",
      "23/08/21, 2:30 pm - Khushi Cse: mere ta mon tues labs hi bhut he\n",
      "23/08/21, 2:30 pm - Khushi Cse: me 25 ko dungi\n",
      "23/08/21, 2:30 pm - Khushi Cse: 😂😂\n",
      "23/08/21, 2:30 pm - Akanksha Cse: Yaar 25 ka hogya na pakka\n",
      "23/08/21, 2:31 pm - Akanksha Cse: Pehle toh 24 tk tha\n",
      "23/08/21, 2:31 pm - Khushi Cse: hn abhi mettle pe bhi 25 ara\n",
      "23/08/21, 2:32 pm - Akanksha Cse: Pher sahi hai\n",
      "23/08/21, 2:32 pm - Akanksha Cse: Tune click krke dekha link pe?\n",
      "23/08/21, 2:32 pm - Khushi Cse: nah\n",
      "23/08/21, 2:57 pm - Mamta Cse: Smae\n",
      "23/08/21, 2:58 pm - Mamta Cse: 🤣🤣🤣🤣😂😂usne konsa marna h 😂click krk\n",
      "23/08/21, 3:02 pm - Akanksha Cse: 😂\n",
      "23/08/21, 3:02 pm - Khushi Cse: 🌚abe Tu mere hi grp me he😂\n",
      "23/08/21, 3:02 pm - Nandini Cse: labs ki tension le rahe\n",
      "23/08/21, 3:03 pm - Nandini Cse: amazon ke saamne lab kya hai\n",
      "23/08/21, 3:03 pm - Khushi Cse: 😂😂😂😂labs ki nhi\n",
      "23/08/21, 3:03 pm - Khushi Cse: Assessment ki\n",
      "23/08/21, 3:03 pm - Khushi Cse: 🌚🌚\n",
      "24/08/21, 12:22 pm - Khushi Cse: Exam kab dere ho Sare?\n",
      "24/08/21, 2:57 pm - Nandini Cse: Ok new question\n",
      "24/08/21, 2:57 pm - Nandini Cse: Exams dere ho na sare?\n",
      "24/08/21, 3:00 pm - Khushi Cse: Hn\n",
      "24/08/21, 3:14 pm - Mamta Cse: 😂😂\n",
      "24/08/21, 3:15 pm - Mamta Cse: Kisi ne dia ho toh paper bta dena\n",
      "24/08/21, 3:16 pm - Akanksha Cse: Sbhi kisi ke paper dene ka wait kr rhe pr se koi ni rha💀\n",
      "24/08/21, 3:17 pm - Rushika Cse: <Media omitted>\n",
      "24/08/21, 3:47 pm - Mamta Cse: This message was deleted\n",
      "24/08/21, 7:43 pm - Khushi Cse: 😂dedo koi\n",
      "24/08/21, 10:29 pm - Khushi Cse: Diya kisine??\n",
      "24/08/21, 10:30 pm - Khushi Cse: Yrr innna hi bta do mettl par hi he?? I mean camera aur screen ka kya chakkar he?\n",
      "24/08/21, 10:30 pm - Khushi Cse: 😂😂\n",
      "24/08/21, 10:30 pm - Rushika Cse: mene toh nhi diya'\n",
      "24/08/21, 10:30 pm - Khushi Cse: Kab dena he teko?\n",
      "24/08/21, 10:30 pm - Nandini Cse: maine bhi nhi diya\n",
      "24/08/21, 10:30 pm - Rushika Cse: kal\n",
      "24/08/21, 10:30 pm - Nandini Cse: himmat hi nhi hori\n",
      "24/08/21, 10:30 pm - Khushi Cse: Tu kab degi?\n",
      "24/08/21, 10:31 pm - Khushi Cse: Test***\n",
      "24/08/21, 10:31 pm - Khushi Cse: 😂\n",
      "24/08/21, 10:31 pm - Nandini Cse: 😂😂😂😂\n",
      "24/08/21, 10:31 pm - Nandini Cse: main point out karne hi waali thi\n",
      "24/08/21, 10:31 pm - Khushi Cse: Himmat kro bhai\n",
      "24/08/21, 10:31 pm - Khushi Cse: Hn menu pta c tera\n",
      "24/08/21, 10:31 pm - Khushi Cse: 😂\n",
      "24/08/21, 10:31 pm - Nandini Cse: khushi ne bahut kab degi kab degi lagaya hua hai\n",
      "24/08/21, 10:32 pm - Khushi Cse: 🌚🌚dedo gir\n",
      "24/08/21, 10:32 pm - Khushi Cse: Fir\n",
      "24/08/21, 10:32 pm - Rushika Cse: kyuki isko dena h\n",
      "24/08/21, 10:32 pm - Nandini Cse: dar lagra hai, first time hai naa\n",
      "24/08/21, 10:32 pm - Nandini Cse: dena toh ek na ek din sabko hai\n",
      "24/08/21, 10:32 pm - Khushi Cse: 🌚🌚🌚🌚🌚pehle kisne diya tha apke behalf pe\n",
      "24/08/21, 10:32 pm - Nandini Cse: 🌚\n",
      "24/08/21, 10:32 pm - Khushi Cse: Ye lo epic 🌚😂\n",
      "24/08/21, 10:33 pm - Khushi Cse: Sheffy tune test diya ?\n",
      "24/08/21, 10:33 pm - Sheffy Cse: Nhi\n",
      "24/08/21, 10:34 pm - Khushi Cse: Toh  kab ka plan he?\n",
      "24/08/21, 10:34 pm - Nandini Cse: mujhe nhi lagta kissi ne diya hoga\n",
      "24/08/21, 10:34 pm - Akanksha Cse: Sabhi kal hi denge\n",
      "24/08/21, 10:34 pm - Sheffy Cse: Jab koi aur de dega😬\n",
      "24/08/21, 10:34 pm - Akanksha Cse: 😂\n",
      "24/08/21, 10:34 pm - Khushi Cse: Koi ek toh delo\n",
      "24/08/21, 10:35 pm - Rushika Cse: 😂😂\n",
      "24/08/21, 10:35 pm - Khushi Cse: Camera vgera pta krlo\n",
      "24/08/21, 10:35 pm - Khushi Cse: 🌚🌚\n",
      "24/08/21, 10:35 pm - Akanksha Cse: Camera on krke matt dena\n",
      "24/08/21, 10:35 pm - Khushi Cse: Mamta ko chadate he suli pe\n",
      "24/08/21, 10:35 pm - Nandini Cse: camere ke saamne performance pressure hota hai\n",
      "24/08/21, 10:35 pm - Akanksha Cse: 😂😂\n",
      "24/08/21, 10:35 pm - Khushi Cse: Isko vese bhi sab ata he yoh tension ki baat nhi he\n",
      "24/08/21, 10:35 pm - Khushi Cse: Jese hmare hath me he 🌚\n",
      "24/08/21, 10:36 pm - Nandini Cse: ek din aa jayga\n",
      "24/08/21, 10:36 pm - Shikha Cse: Camera on nhi h\n",
      "24/08/21, 10:36 pm - Khushi Cse: Pkka?\n",
      "24/08/21, 10:36 pm - Khushi Cse: Tu deta\n",
      "24/08/21, 10:36 pm - Khushi Cse: ?\n",
      "24/08/21, 10:36 pm - Shikha Cse: Amazon ka apna platform h mettle pe nhi h\n",
      "24/08/21, 10:36 pm - Khushi Cse: Acha aur screen?\n",
      "24/08/21, 10:36 pm - Nandini Cse: 🌚🌚🌚\n",
      "24/08/21, 10:36 pm - Shikha Cse: Nhi Meri ek dost me Diya....mne usse puchha\n",
      "24/08/21, 10:37 pm - Khushi Cse: 🌚😂😂bro jese aap kehte meko lagta apke hath me aa chuka sab\n",
      "24/08/21, 10:37 pm - Shikha Cse: Copy paste not allowed\n",
      "24/08/21, 10:37 pm - Nandini Cse: kaisa tha?\n",
      "24/08/21, 10:37 pm - Nandini Cse: naah yaar\n",
      "24/08/21, 10:37 pm - Shikha Cse: Kah rhi thi easy tha\n",
      "24/08/21, 10:37 pm - Shikha Cse: Usko aata h\n",
      "24/08/21, 10:37 pm - Khushi Cse: Aur record kr re he screen ko tab change vgera??\n",
      "24/08/21, 10:37 pm - Shikha Cse: Mere liye toh hard hi hoga😔\n",
      "24/08/21, 10:37 pm - Nandini Cse: @918427796214\n",
      "24/08/21, 10:37 pm - Shikha Cse: Ye nhi puchha\n",
      "24/08/21, 10:37 pm - Nandini Cse: 🌚🌚🌚\n",
      "24/08/21, 10:37 pm - Khushi Cse: Code bhi easy tha?\n",
      "24/08/21, 10:37 pm - Shikha Cse: Hn\n",
      "24/08/21, 10:37 pm - Khushi Cse: 🌚😂haw\n",
      "24/08/21, 10:37 pm - Shikha Cse: Wo kah rhi thi aisa\n",
      "24/08/21, 10:38 pm - Khushi Cse: Acha acha\n",
      "24/08/21, 10:38 pm - Nandini Cse: bhai mushkil hoga\n",
      "24/08/21, 10:38 pm - Nandini Cse: amazon hai\n",
      "24/08/21, 10:38 pm - Nandini Cse: halwa nhi\n",
      "24/08/21, 10:38 pm - Khushi Cse: Kal labs he kiisiki?\n",
      "24/08/21, 10:38 pm - Shikha Cse: Wo 22 batch ki h\n",
      "24/08/21, 10:38 pm - Khushi Cse: Acha\n",
      "24/08/21, 10:38 pm - Nandini Cse: meri se ki hai\n",
      "24/08/21, 10:38 pm - Akanksha Cse: Meri iss ki\n",
      "24/08/21, 10:38 pm - Khushi Cse: 3:30 vehle sare\n",
      "24/08/21, 10:38 pm - Khushi Cse: ?\n",
      "24/08/21, 10:38 pm - Nandini Cse: group me dena hai??\n",
      "24/08/21, 10:39 pm - Akanksha Cse: Tut hai uske baad\n",
      "24/08/21, 10:39 pm - Shikha Cse: Question alag hote h sabke\n",
      "24/08/21, 10:39 pm - Akanksha Cse: Same hoga kya ?\n",
      "24/08/21, 10:39 pm - Mamta Cse: Halwa hi h bhai ... Google thodi j 😂\n",
      "24/08/21, 10:39 pm - Shikha Cse: Naah\n",
      "24/08/21, 10:39 pm - Nandini Cse: bunk kar le\n",
      "24/08/21, 10:39 pm - Nandini Cse: aagi mamta\n",
      "24/08/21, 10:39 pm - Khushi Cse: 🔥🔥\n",
      "24/08/21, 10:39 pm - Akanksha Cse: Aaj tk ek ni lgaya 😂\n",
      "24/08/21, 10:39 pm - Mamta Cse: Kuch questions same ho jate h\n",
      "24/08/21, 10:39 pm - Khushi Cse: Milgya bali ka bakra\n",
      "24/08/21, 10:39 pm - Khushi Cse: 😂😂🌚🌚\n",
      "24/08/21, 10:39 pm - Mamta Cse: Sab krk muje apne q bhej dena\n",
      "24/08/21, 10:39 pm - Khushi Cse: Sabse pehle\n",
      "24/08/21, 10:39 pm - Mamta Cse: 🥲\n",
      "24/08/21, 10:39 pm - Khushi Cse: Ye degi\n",
      "24/08/21, 10:39 pm - Khushi Cse: Halwa\n",
      "24/08/21, 10:39 pm - Khushi Cse: 🌚🌚😂\n",
      "24/08/21, 10:39 pm - Nandini Cse: haan\n",
      "24/08/21, 10:39 pm - Mamta Cse: Nah bhai muje halwa nii pasand\n",
      "24/08/21, 10:39 pm - Khushi Cse: No Tu krke bhejio\n",
      "24/08/21, 10:39 pm - Nandini Cse: chant mamta mamta\n",
      "24/08/21, 10:40 pm - Khushi Cse: Last time kuch ques repeat hue the mettle vale mcqs\n",
      "24/08/21, 10:40 pm - Nandini Cse: expereince share kariyo kaise kaise hota hai sab\n",
      "24/08/21, 10:40 pm - Mamta Cse: 🤣🤣bhai kitta hi chada lo apun lockdown me ekdam cool ho gya re 😂😂...\n",
      "24/08/21, 10:40 pm - Mamta Cse: Han\n",
      "24/08/21, 10:40 pm - Mamta Cse: Hue tfe\n",
      "24/08/21, 10:40 pm - Mamta Cse: The\n",
      "24/08/21, 10:40 pm - Nandini Cse: tu pehle se hi cool thi\n",
      "24/08/21, 10:41 pm - Mamta Cse: 3-4 q same hi the\n",
      "24/08/21, 10:41 pm - Shikha Cse: Last time Wala test mje mje me nikal gya yrr.....koi ummid nhi thi\n",
      "24/08/21, 10:41 pm - Khushi Cse: 10-12\n",
      "24/08/21, 10:41 pm - Khushi Cse: 😂\n",
      "24/08/21, 10:41 pm - Nandini Cse: hume woh qualify kiya hai ya aise hi sabko pass kar diya\n",
      "24/08/21, 10:41 pm - Nandini Cse: ??\n",
      "24/08/21, 10:41 pm - Khushi Cse: Qualified he bro\n",
      "24/08/21, 10:41 pm - Khushi Cse: Sabko ni aya vo mail\n",
      "24/08/21, 10:41 pm - Mamta Cse: Qualify kia h bro\n",
      "24/08/21, 10:41 pm - Khushi Cse: +\n",
      "24/08/21, 10:41 pm - Shikha Cse: Qualified h\n",
      "24/08/21, 10:41 pm - Mamta Cse: Kafiyo ka nii b hua 😂\n",
      "24/08/21, 10:42 pm - Shikha Cse: Hn\n",
      "24/08/21, 10:42 pm - Nandini Cse: nahi yaar baat aisi hai ki mujhe khud pe bharosa nahi hai\n",
      "24/08/21, 10:42 pm - Mamta Cse: 😂😂🔥\n",
      "24/08/21, 10:42 pm - Nandini Cse: kon reh gya??\n",
      "24/08/21, 10:42 pm - Shikha Cse: 🤝\n",
      "24/08/21, 10:42 pm - Khushi Cse: 🌚😂 \n",
      "Tera toh kal first time he sab shi hoga 🌚😂\n",
      "24/08/21, 10:43 pm - Khushi Cse: Sejal i guess\n",
      "24/08/21, 10:43 pm - Shikha Cse: Ritika\n",
      "24/08/21, 10:43 pm - Rushika Cse: 😂😂😂😂yrrr\n",
      "24/08/21, 10:43 pm - Mamta Cse: Bhai koi register wagister toh\n",
      "24/08/21, 10:43 pm - Mamta Cse: Nii Krna na\n",
      "24/08/21, 10:43 pm - Mamta Cse: 🤔\n",
      "24/08/21, 10:43 pm - Khushi Cse: Nah nah sidha link me click krte\n",
      "24/08/21, 10:43 pm - Khushi Cse: Test open\n",
      "24/08/21, 10:43 pm - Khushi Cse: Ho jayega\n",
      "24/08/21, 10:44 pm - Mamta Cse: Krk dekh le phir 1 bar phir bta dio 😂\n",
      "24/08/21, 10:44 pm - Nandini Cse: amen\n",
      "24/08/21, 10:44 pm - Khushi Cse: Acc. To instructiona\n",
      "24/08/21, 10:44 pm - Khushi Cse: 🌚🌚Tu kyu meri bali chadwana chahti he\n",
      "24/08/21, 10:46 pm - Nandini Cse: maine 12 baje ke baad de dena hai\n",
      "24/08/21, 10:46 pm - Nandini Cse: idgaf\n",
      "24/08/21, 10:48 pm - Mamta Cse: Kl 🤔😂😂\n",
      "24/08/21, 10:49 pm - Nandini Cse: 12:noon\n",
      "24/08/21, 10:49 pm - Mamta Cse: Ohh okk\n",
      "24/08/21, 10:52 pm - Khushi Cse: Share the experience and details afterwards 😁\n",
      "24/08/21, 10:52 pm - Nandini Cse: haan sure\n",
      "25/08/21, 2:03 pm - Mamta Cse: Kaisa hua sabka paperx 😂\n",
      "25/08/21, 2:04 pm - Khushi Cse: tu deta?\n",
      "25/08/21, 2:04 pm - Khushi Cse: 😂😂\n",
      "25/08/21, 2:04 pm - Mamta Cse: 😂😂\n",
      "25/08/21, 2:04 pm - Khushi Cse: siyaniii billii\n",
      "25/08/21, 2:04 pm - Mamta Cse: Dekh yarr ye puch puch kr boardho gye ki\n",
      "25/08/21, 2:04 pm - Mamta Cse: Boar\n",
      "25/08/21, 2:04 pm - Mamta Cse: Dia ya nii dia\n",
      "25/08/21, 2:04 pm - Mamta Cse: 😂\n",
      "25/08/21, 2:05 pm - Mamta Cse: New trick 🤪\n",
      "25/08/21, 3:42 pm - Sheffy Cse: diya kisi ne test?\n",
      "25/08/21, 4:07 pm - Rushika Cse: Hn\n",
      "25/08/21, 4:07 pm - Rushika Cse: Asaan hi h\n",
      "25/08/21, 4:07 pm - Rushika Cse: Apart from coding\n",
      "25/08/21, 4:07 pm - Khushi Cse: 🌚🌚\n",
      "25/08/21, 4:08 pm - Khushi Cse: Aur kya kya tha\n",
      "25/08/21, 4:08 pm - Khushi Cse: ?\n",
      "25/08/21, 4:08 pm - Rushika Cse: Debugging tha aptitude aur vo standard chartered jesa behaviour test\n",
      "25/08/21, 4:09 pm - Rushika Cse: Coding toh h hi\n",
      "25/08/21, 4:09 pm - Khushi Cse: Acha acha\n",
      "25/08/21, 4:10 pm - Sheffy Cse: Ook\n",
      "02/09/21, 3:34 pm - Khushi Cse: Mail aya kisiko\n",
      "02/09/21, 3:34 pm - Khushi Cse: Amazon wow ka?\n",
      "02/09/21, 3:35 pm - Rushika Cse: nhi\n",
      "02/09/21, 3:35 pm - +91 75085 15845: Abhi tak toh nahi\n",
      "02/09/21, 3:35 pm - Nandini Cse: nhi\n",
      "02/09/21, 3:39 pm - Khushi Cse: Hn baki colleges me kuch girls ko rejection mails aye toh pucha\n",
      "02/09/21, 3:39 pm - Khushi Cse: Abhi hum safe he\n",
      "02/09/21, 3:39 pm - Akanksha Cse: Kb aayi hai?\n",
      "02/09/21, 7:35 pm - Khushi Cse: Aaj\n",
      "06/09/21, 11:04 am - Akanksha Cse: Shuru kra kisi ne?😂\n",
      "06/09/21, 11:04 am - Sheffy Cse: 😂😂\n",
      "06/09/21, 11:16 am - Khushi Cse: Nahi\n",
      "06/09/21, 11:16 am - Khushi Cse: Yrr coding he ya aptitude\n",
      "06/09/21, 11:16 am - Khushi Cse: 😂\n",
      "06/09/21, 11:16 am - Akanksha Cse: Aptitude\n",
      "06/09/21, 11:16 am - Khushi Cse: Lol\n",
      "06/09/21, 11:16 am - Khushi Cse: 😂\n",
      "06/09/21, 11:16 am - Nandini Cse: trend to yeh hai ki ek coding hoga pher apti\n",
      "06/09/21, 11:17 am - Nandini Cse: coding nahi hai???\n",
      "06/09/21, 11:17 am - Akanksha Cse: Saare aptitude hai ig\n",
      "06/09/21, 11:17 am - Nandini Cse: ek bhi nahi???\n",
      "06/09/21, 11:17 am - Akanksha Cse: Abhi tk toh ni pta chla\n",
      "06/09/21, 11:17 am - Khushi Cse: Hm\n",
      "06/09/21, 11:18 am - Nandini Cse: ruko zra main poochu kissi se\n",
      "06/09/21, 11:18 am - Khushi Cse: Hn\n",
      "06/09/21, 11:18 am - Nandini Cse: iss group me sab cse ki girls add kar lete hai\n",
      "06/09/21, 11:18 am - Nandini Cse: paper ke baad\n",
      "06/09/21, 11:19 am - Akanksha Cse: Hn\n",
      "06/09/21, 11:19 am - Khushi Cse: Hnji\n",
      "06/09/21, 11:20 am - Nandini Cse: kariye start fer??\n",
      "06/09/21, 11:20 am - Khushi Cse: Hn krte he koi extension bhi krni hena ig\n",
      "06/09/21, 11:21 am - Sheffy Cse: hn\n",
      "06/09/21, 11:21 am - Akanksha Cse: Kuch ni bs ek link kholke add krni\n",
      "06/09/21, 11:21 am - Nandini Cse: aaho\n",
      "06/09/21, 11:21 am - Nandini Cse: screen share\n",
      "06/09/21, 11:42 am - Khushi Cse: Id card\n",
      "06/09/21, 11:42 am - Khushi Cse: Ka kese kiya\n",
      "06/09/21, 11:42 am - Khushi Cse: ?\n",
      "06/09/21, 11:45 am - Khushi Cse: ..\n",
      "06/09/21, 11:45 am - Mamta Cse: Yarr maine awe hi lga diye\n",
      "06/09/21, 11:45 am - Mamta Cse: 30mi. Me papaer khtm\n",
      "06/09/21, 11:45 am - Mamta Cse: 1hr waste lag rha h\n",
      "06/09/21, 11:45 am - Mamta Cse: 😂\n",
      "06/09/21, 11:46 am - Khushi Cse: Tu id card ka toh bta\n",
      "06/09/21, 11:46 am - Khushi Cse: Kya kra\n",
      "06/09/21, 11:47 am - Mamta Cse: Aadhar card show krde\n",
      "06/09/21, 11:47 am - Sheffy Cse: Konsa I'd card\n",
      "06/09/21, 11:47 am - Sheffy Cse: ?\n",
      "06/09/21, 11:47 am - Sheffy Cse: College vala ya kuch bhi?\n",
      "06/09/21, 11:47 am - Mamta Cse: Cam k samne krwayenge\n",
      "06/09/21, 11:47 am - Mamta Cse: Kuch b\n",
      "06/09/21, 11:47 am - Mamta Cse: Bas khud ki ho 😂\n",
      "06/09/21, 11:47 am - Sheffy Cse: 😂\n",
      "06/09/21, 11:47 am - Khushi Cse: <Media omitted>\n",
      "06/09/21, 11:47 am - Khushi Cse: Esi blurrr\n",
      "06/09/21, 11:47 am - Khushi Cse: Aari he\n",
      "06/09/21, 11:47 am - Khushi Cse: Chalegi?\n",
      "06/09/21, 11:48 am - Mamta Cse: Han\n",
      "06/09/21, 11:48 am - Mamta Cse: Thoda cam k pas leja\n",
      "06/09/21, 1:12 pm - Khushi Cse: Kini ayi\n",
      "06/09/21, 1:12 pm - Khushi Cse: Percentile and marks\n",
      "06/09/21, 1:12 pm - Khushi Cse: 😂😂😂\n",
      "06/09/21, 1:13 pm - Khushi Cse: @919780903640 😬 @919888515930  @917521859704 @918824293314\n",
      "06/09/21, 1:13 pm - Khushi Cse: @917526961911\n",
      "06/09/21, 1:46 pm - Mamta Cse: Kha per aaya h result 🥴\n",
      "06/09/21, 1:46 pm - Khushi Cse: End me\n",
      "06/09/21, 1:46 pm - Khushi Cse: Test khatam hoke\n",
      "06/09/21, 4:13 pm - Nandini Cse: Batane layak nahi\n",
      "06/09/21, 4:14 pm - Khushi Cse: Mere apne 26 ne\n",
      "06/09/21, 4:14 pm - Khushi Cse: 😬\n",
      "06/09/21, 4:48 pm - Mamta Cse: Maine dekhe hi nii waise hi band kr dia tha\n",
      "06/09/21, 4:48 pm - Mamta Cse: 😂\n",
      "06/09/21, 4:51 pm - Nandini Cse: Khushi baaki girls add kar de\n",
      "06/09/21, 4:52 pm - Khushi Cse: Ohk\n",
      "06/09/21, 4:52 pm - Nandini Cse changed the subject from \"Amazon wow\" to \"Cse girl gang 💆‍♀️\"\n",
      "06/09/21, 4:52 pm - Nandini Cse changed the subject from \"Cse girl gang 💆‍♀️\" to \"CSE girl gang 💆‍♀️\"\n",
      "06/09/21, 4:53 pm - You added Akriti Cse, Aman Cse, Harshita Cse, Ishita Cse, Kumud Cse, Mandeep Cse, Moni Cse, Neetu Cse Nit, Parul Cse, Priyanka Cse, Ritika Cse and Sejal Cse\n",
      "06/09/21, 4:53 pm - Khushi Cse: Lo mere pass jinke contact the mene kr diye add\n",
      "06/09/21, 4:54 pm - Khushi Cse: Abhilasha \n",
      "Muskaan\n",
      "Shruti\n",
      "06/09/21, 4:54 pm - Khushi Cse: Ye krlo\n",
      "06/09/21, 4:54 pm - Khushi Cse: Akriti ka no. Change hua toh pta ni\n",
      "06/09/21, 4:54 pm - You added Unnisha Cse\n",
      "06/09/21, 4:55 pm - You added Riyanshi Cse\n",
      "06/09/21, 4:56 pm - Sheffy Cse: Sbko admin bnado\n",
      "06/09/21, 4:56 pm - Khushi Cse: 🌚🌚pehle btao add kisko krna he 🌚🌚\n",
      "06/09/21, 4:56 pm - Khushi Cse: Hehehhe\n",
      "06/09/21, 4:56 pm - Khushi Cse: 😂😂\n",
      "06/09/21, 4:56 pm - Sheffy Cse: 😂😂😂\n",
      "06/09/21, 4:56 pm - Sheffy Cse: Shruti ko hi krne lgi thi\n",
      "06/09/21, 4:56 pm - Nandini Cse changed this group's icon\n",
      "06/09/21, 4:56 pm - Sheffy Cse: Pr option hi ni mila\n",
      "06/09/21, 4:56 pm - Khushi Cse: Lo\n",
      "06/09/21, 4:56 pm - Khushi Cse: Bnata\n",
      "06/09/21, 4:57 pm - Khushi Cse: Ab krle sabko add\n",
      "06/09/21, 4:57 pm - Khushi Cse: Aur sabko admin bna dio\n",
      "06/09/21, 4:57 pm - Sheffy Cse added +91 88104 75823\n",
      "06/09/21, 4:57 pm - You changed the group description\n",
      "06/09/21, 4:57 pm - Ishita Cse added +91 81785 10488\n",
      "06/09/21, 4:57 pm - Khushi Cse: description 🤭\n",
      "06/09/21, 4:57 pm - Nandini Cse: Nice khushi\n",
      "06/09/21, 4:58 pm - Nandini Cse: Yaha hum main group me ladko ko jwab dene ke plan banyege\n",
      "06/09/21, 4:58 pm - Nandini Cse: Ab hum diversity hiring ke taane nahi sunege\n",
      "06/09/21, 4:58 pm - Aman Cse: Akriti 2 Cse.vcf (file attached)\n",
      "06/09/21, 4:58 pm - Aman Cse: Akriti ka number\n",
      "06/09/21, 4:58 pm - Ishita Cse: 😂\n",
      "06/09/21, 4:59 pm - Nandini Cse: Akrutu hai doosra hai\n",
      "06/09/21, 4:59 pm - Aman Cse: 😂😂\n",
      "06/09/21, 4:59 pm - Ishita Cse: Woh walo opportunities issi group mein bhej diya karo\n",
      "06/09/21, 4:59 pm - Ishita Cse: Wali*\n",
      "06/09/21, 4:59 pm - Nandini Cse: Haan best\n",
      "06/09/21, 4:59 pm - Khushi Cse: Yeaaa\n",
      "06/09/21, 4:59 pm - Nandini Cse: Ab hum ladko ke julm nahi sahege\n",
      "06/09/21, 4:59 pm - Khushi Cse: Yeh bhi shi he 😂😂 #girlpower\n",
      "06/09/21, 4:59 pm - Khushi Cse: 🔥😂😂 nadini jindabad\n",
      "06/09/21, 5:00 pm - Aman Cse: Are uska voh number shayad band hae\n",
      "06/09/21, 5:00 pm - Khushi Cse: Khud hi add krde\n",
      "06/09/21, 5:00 pm - Aman Cse: Jo yum logon ne grp mein add kra\n",
      "06/09/21, 5:00 pm - Aman Cse: Tum*\n",
      "06/09/21, 5:00 pm - Aman Cse: Hn 😂\n",
      "06/09/21, 5:00 pm - Aman Cse added +91 75280 12541\n",
      "06/09/21, 5:00 pm - Khushi Cse: Tum log kya hota he \n",
      "My name is khushi 🌚\n",
      "06/09/21, 5:00 pm - Aman Cse: Okay 🌚\n",
      "06/09/21, 5:01 pm - Khushi Cse: Aur yha ka ek hi rule he no silence 😂\n",
      "06/09/21, 5:01 pm - Khushi Cse: Ab koi esa \"confession ni ana chahiye\" Ki ladkiya bolti nhi he\n",
      "06/09/21, 5:01 pm - Ishita Cse: Aisa kuch hua tha?\n",
      "06/09/21, 5:02 pm - Khushi Cse: Aho\n",
      "06/09/21, 5:09 pm - Nandini Cse: Haan aur ek chup nahi karti\n",
      "06/09/21, 5:10 pm - Ishita Cse: 😂😂\n",
      "06/09/21, 5:11 pm - Nandini Cse: Aagi sab ladkiya??\n",
      "06/09/21, 5:11 pm - Aman Cse added +91 78889 72864\n",
      "06/09/21, 5:13 pm - Aman Cse: Hn shayad\n",
      "06/09/21, 5:13 pm - Rushika Cse: Sakshi h🌚\n",
      "06/09/21, 5:14 pm - Rushika Cse: ?\n",
      "06/09/21, 5:14 pm - Sheffy Cse added Sakshi Cse\n",
      "06/09/21, 5:14 pm - Nandini Cse: Main group me daal doon?\n",
      "06/09/21, 5:14 pm - Nandini Cse: Ki saari aajo\n",
      "06/09/21, 5:14 pm - Rushika Cse: Nah aagye sab\n",
      "06/09/21, 5:14 pm - Aman Cse: Aagi shayad sari\n",
      "06/09/21, 5:14 pm - Rushika Cse: I think\n",
      "06/09/21, 5:15 pm - Rushika Cse: Sab dekhlo apne apne sare frnds h na cse ki\n",
      "06/09/21, 5:18 pm - Nandini Cse: Akanksha,  ishita muskan khushi, riyanshi, priyanka sejal akriti\n",
      "06/09/21, 5:18 pm - Nandini Cse: Haan meri friends hai\n",
      "06/09/21, 5:18 pm - Nandini Cse: 🌚🌚\n",
      "06/09/21, 5:18 pm - Ishita Cse: I haven't saved this number\n",
      "Who is this?\n",
      "06/09/21, 5:21 pm - Riyanshi Cse: Nandini\n",
      "06/09/21, 5:22 pm - Riyanshi Cse: Other than cse bi hai.\n",
      " Isme??\n",
      "06/09/21, 5:22 pm - Ishita Cse: Arey I am jk\n",
      "06/09/21, 5:22 pm - +91 81785 10488: 😆\n",
      "06/09/21, 5:22 pm - +91 81785 10488: Heylo girls\n",
      "06/09/21, 5:22 pm - +91 81785 10488: Sab kushal mangal?\n",
      "06/09/21, 5:23 pm - Aman Cse: Yupp 😂\n",
      "06/09/21, 5:32 pm - Khushi Cse: Yeaaa\n",
      "06/09/21, 5:32 pm - Khushi Cse: Wbu?\n",
      "06/09/21, 5:38 pm - +91 81785 10488: Theek hai mere kushal aur mangal\n",
      "06/09/21, 5:40 pm - Khushi Cse: 😂😂😂\n",
      "06/09/21, 5:40 pm - Khushi Cse: And baki ladkio attendance dedo apni apni\n",
      "06/09/21, 5:42 pm - Akanksha Cse: Oh wooww so good to see the girls talking😂🤝🏻\n",
      "06/09/21, 5:43 pm - Khushi Cse: 🥳😎\n",
      "06/09/21, 5:44 pm - Khushi Cse: Abhi bhi sab ni bole\n",
      "06/09/21, 5:52 pm - Unnisha Cse: Or bhai tech girls ki haal chal\n",
      "06/09/21, 5:56 pm - Khushi Cse: <Media omitted>\n",
      "06/09/21, 5:58 pm - Sheffy Cse added Sheetal Cse\n",
      "06/09/21, 6:01 pm - Nandini Cse: Do rakh liye 😡😡\n",
      "06/09/21, 6:02 pm - Riyanshi Cse: 😂😂\n",
      "06/09/21, 6:02 pm - +91 81785 10488: bada aukha hai yaar🥴\n",
      "06/09/21, 6:09 pm - Aman Cse: 😂😂\n",
      "06/09/21, 6:31 pm - +91 75085 15845 left\n",
      "06/09/21, 6:49 pm - +91 75280 12541: 😂\n",
      "06/09/21, 6:50 pm - Khushi Cse: Chalo deviyo\n",
      "06/09/21, 6:50 pm - Khushi Cse: Ab pure cse he\n",
      "06/09/21, 6:50 pm - Khushi Cse: 😂😂😬😬😂😂\n",
      "06/09/21, 6:50 pm - Khushi Cse: Gand dal lo jina daalna he yha pe\n",
      "06/09/21, 6:59 pm - Nandini Cse: Hww khushi\n",
      "06/09/21, 6:59 pm - Nandini Cse: 😂😂😂\n",
      "06/09/21, 7:00 pm - Khushi Cse: 😳😳😬😬eee no galat matlab\n",
      "06/09/21, 7:00 pm - Nandini Cse: Par baat kya karein ab??\n",
      "06/09/21, 7:00 pm - Nandini Cse: 🤔🤔\n",
      "06/09/21, 7:01 pm - Khushi Cse: 😂😂😂Internship talk session rakhlete he\n",
      "06/09/21, 7:01 pm - Khushi Cse: chef guest @918847529970 @918824715152\n",
      "06/09/21, 7:01 pm - Nandini Cse: Ew no yaar\n",
      "06/09/21, 7:01 pm - Khushi Cse: what say\n",
      "06/09/21, 7:01 pm - Khushi Cse: 😂😂\n",
      "06/09/21, 7:01 pm - Nandini Cse: Haan sahi hai\n",
      "06/09/21, 7:02 pm - Sejal Cse: Chef?\n",
      "06/09/21, 7:02 pm - Nandini Cse: <Media omitted>\n",
      "06/09/21, 7:02 pm - +91 81785 10488: whats cooking peeps?\n",
      "06/09/21, 7:02 pm - Nandini Cse: Idk Riyanshi and aman are the chef\n",
      "06/09/21, 7:02 pm - Sejal Cse: 😂\n",
      "06/09/21, 7:03 pm - Aman Cse: 😂\n",
      "06/09/21, 7:03 pm - +91 81785 10488: please non veg bhi rakhna\n",
      "06/09/21, 7:03 pm - Aman Cse: Oh nhi yaar\n",
      "06/09/21, 7:03 pm - Aman Cse: Yha padhne ki baatein ni 😂\n",
      "06/09/21, 7:03 pm - Aman Cse: 🌚😂\n",
      "06/09/21, 7:03 pm - Khushi Cse: 😂😂😂aman dont be serious just snacks bnalena\n",
      "06/09/21, 7:03 pm - Aman Cse: 🌚\n",
      "06/09/21, 7:04 pm - +91 81785 10488: ooh that we've got plenty of\n",
      "06/09/21, 7:04 pm - Nandini Cse: Aman ko rest karne do\n",
      "06/09/21, 7:04 pm - Nandini Cse: Non veg as in dish?\n",
      "06/09/21, 7:04 pm - Aman Cse: 🫂\n",
      "06/09/21, 7:04 pm - +91 81785 10488: all my girls are a snacc😙👌🏻\n",
      "06/09/21, 7:04 pm - +91 81785 10488: aaho\n",
      "06/09/21, 7:21 pm - +91 88104 75823: 🥺🥺\n",
      "06/09/21, 7:21 pm - +91 88104 75823: 🥂\n",
      "06/09/21, 7:51 pm - Riyanshi Cse: Ohhh nhii yrrr🥲\n",
      "06/09/21, 7:51 pm - Khushi Cse: Hehehe be cool girls\n",
      "Joke ko joke rehn do\n",
      "06/09/21, 7:51 pm - Khushi Cse: 😂😂\n",
      "06/09/21, 7:51 pm - Riyanshi Cse: <Media omitted>\n",
      "06/09/21, 7:51 pm - Khushi Cse: Vese inna darr kyu\n",
      "06/09/21, 7:52 pm - Khushi Cse: PM ki speech thodi likhvani he\n",
      "06/09/21, 7:52 pm - Khushi Cse: Jisme logo pe acha acha assar hona hi chahiye 😂\n",
      "06/09/21, 7:52 pm - Riyanshi Cse: Bcoz other branch walo ne dimag kha rka hai 🥲\n",
      "06/09/21, 7:52 pm - Riyanshi Cse: Puchte hai yrr mera test hai web aayegi krva dena\n",
      "06/09/21, 7:52 pm - Riyanshi Cse: 🥲\n",
      "06/09/21, 7:52 pm - Riyanshi Cse: Dsa krna compulsory hai kya 🥲\n",
      "06/09/21, 7:53 pm - Riyanshi Cse: C++ bhut nhi😂\n",
      "06/09/21, 7:53 pm - Khushi Cse: 😂😂😬😬toh other branch vale hmse jyada important ho gye\n",
      "06/09/21, 7:53 pm - Khushi Cse: Sun rhe ho dosto\n",
      "06/09/21, 7:53 pm - Khushi Cse: !!\n",
      "06/09/21, 7:53 pm - Khushi Cse: @everyone 🌚\n",
      "06/09/21, 7:54 pm - Nandini Cse: yeh kon mahaan wyakti hai\n",
      "06/09/21, 7:54 pm - Riyanshi Cse: Of course not\n",
      "06/09/21, 7:54 pm - Riyanshi Cse: Mech ke bche, 😂😂\n",
      "06/09/21, 7:54 pm - Nandini Cse: unko kehna out of your range\n",
      "06/09/21, 7:54 pm - Nandini Cse: 😎\n",
      "06/09/21, 7:55 pm - Riyanshi Cse: Vaisee tum sb krlo ✨\n",
      "Topper ho sb🤭\n",
      "06/09/21, 7:55 pm - Khushi Cse: 🌚🌚apse kaam\n",
      "06/09/21, 7:55 pm - Riyanshi Cse: <Media omitted>\n",
      "06/09/21, 7:55 pm - Nandini Cse: sure\n",
      "06/09/21, 7:55 pm - Riyanshi Cse: Aman hai voh mai nhi😂\n",
      "06/09/21, 7:55 pm - Khushi Cse: 🌚😂 dono ho\n",
      "06/09/21, 7:56 pm - Riyanshi Cse: <Media omitted>\n",
      "06/09/21, 7:56 pm - Khushi Cse: Starred\n",
      "06/09/21, 7:57 pm - Nandini Cse: waise sahi me riya aur aman ne mehnat ki hai unhe fall mila\n",
      "06/09/21, 7:57 pm - Nandini Cse: congratulations you both 〽️🥳\n",
      "06/09/21, 7:58 pm - Riyanshi Cse: Mehnat to sb kr rhe hai🤭 \n",
      "Soon Or later sbko companies mil janiii🤭✨\n",
      "06/09/21, 7:58 pm - Nandini Cse: wo toh pata hi hai\n",
      "06/09/21, 8:07 pm - Aman Cse: Thank you🤗\n",
      "06/09/21, 8:07 pm - Aman Cse: 😂😂😂\n",
      "06/09/21, 8:08 pm - Aman Cse: Ye acha tha 😂\n",
      "06/09/21, 9:39 pm - Sejal Cse: Saare tips idhar bhi ludkao ....gharwalo ka bhi kucj bhala karo\n",
      "06/09/21, 9:40 pm - Sejal Cse: Kuch*\n",
      "06/09/21, 9:53 pm - Riyanshi Cse: Yrr tips to kyaa bss dsa ache se practice krni haiii some points jo dhyan rk skte hooo \n",
      "1 array, string, 2 pointers, backtracking, (sometimes tree) greedy, dp mostly ques inme aateeee\n",
      "2. Try to cover wide range of ques not doing same type of ques \n",
      "Wide range cover krne ke liye  450 love babbar sheet and interview bit acha hai (i preferred that) \n",
      "\n",
      "Hr ques me seedha best soln aaye not necessary basic se start krte chlo best prr dheere dheere pauch jao \n",
      "\n",
      "Sb khte hai project kro, cs fundamental kro  yeh kro vo kro prrr yehh sb itna matter nhi krta jitna dsa jb interview aane lge tb 2 din lagakr sb hojataa\n",
      "06/09/21, 9:53 pm - Riyanshi Cse: Bakiii ek chiz kai br ques nhi hota to bss may be uska concept nya ho vo learn krna imp haii\n",
      "06/09/21, 9:55 pm - Nandini Cse: 😮😮😮\n",
      "06/09/21, 9:55 pm - Nandini Cse: Achhaaa\n",
      "06/09/21, 9:55 pm - Nandini Cse: Thankkss\n",
      "06/09/21, 9:55 pm - Aman Cse: Bas interview mein chup ni hona hota 😂\n",
      "06/09/21, 9:55 pm - Sejal Cse: Gawwd🙇🏻‍♀️\n",
      "06/09/21, 9:55 pm - Aman Cse: Chahe nhi aata to bhi usse baate karte rho ki yeh case include karna voh karna\n",
      "06/09/21, 9:55 pm - Aman Cse: Ese ese 😂\n",
      "06/09/21, 9:55 pm - Nandini Cse: Galat falat bol sakte hai?\n",
      "06/09/21, 9:56 pm - Aman Cse: Nhi tukke ni marne\n",
      "06/09/21, 9:56 pm - Riyanshi Cse: This message was deleted\n",
      "06/09/21, 9:56 pm - Riyanshi Cse: Mai aman ek sample interview kr lenge\n",
      "06/09/21, 9:56 pm - Riyanshi Cse: Chhao to meet rk lo\n",
      "06/09/21, 9:56 pm - Aman Cse: I mean usse samjne ki koshish karo\n",
      "06/09/21, 9:56 pm - Riyanshi Cse: Jb aap log kho\n",
      "06/09/21, 9:56 pm - Sejal Cse: Is saturday rkh lete hai ekmeet\n",
      "06/09/21, 9:57 pm - Aman Cse: Kai bar interviewer acha ho to voh hint de deta hae\n",
      "06/09/21, 9:57 pm - Riyanshi Cse: Haa agr aap shi direction me ja rhee hoo toh idea dedete hai\n",
      "06/09/21, 9:58 pm - Nandini Cse: Achhaa\n",
      "06/09/21, 9:59 pm - Nandini Cse: Riyanshi yeh tune ek message frame karke rakha hua hai na?\n",
      "06/09/21, 9:59 pm - Riyanshi Cse: Agr kisi ke pass koi bhut jada acha project haii mtlb deployed Or something vo case alg hai project ko bhut importance milegi wrnaa project se itna puchte ki aapako aata jada matter nhi krta fir\n",
      "06/09/21, 9:59 pm - Riyanshi Cse: Nhii 🥲\n",
      "Ese kisi ko type krke btaya nhi🥲\n",
      "06/09/21, 9:59 pm - Nandini Cse: Awww 🫂\n",
      "06/09/21, 10:00 pm - Akanksha Cse: Special treatment for fam🤗\n",
      "06/09/21, 10:00 pm - Akanksha Cse: <Media omitted>\n",
      "06/09/21, 10:00 pm - Riyanshi Cse: <Media omitted>\n",
      "06/09/21, 10:00 pm - Nandini Cse: Projects matter nhi karte mtlb??\n",
      "06/09/21, 10:00 pm - Nandini Cse: Agar achhe nahi hai toh?\n",
      "06/09/21, 10:01 pm - Aman Cse: Ms mein to nhi tha par standard chartered ne sirf project hi dekhe hae\n",
      "06/09/21, 10:01 pm - Nandini Cse: Competitive coding karne ki jaroorat hai??\n",
      "06/09/21, 10:01 pm - Aman Cse: Baki voh hamse jyada hi fi project is level pe expect ni karte\n",
      "06/09/21, 10:01 pm - Aman Cse: Tu chlta hae\n",
      "06/09/21, 10:01 pm - Nandini Cse: Achhaaaaaaa\n",
      "06/09/21, 10:01 pm - Riyanshi Cse: Mtlb yehh ki project se puchhenge ki kaise bnaya tech stack \n",
      "Prblm faced kuch fixed ques hotee\n",
      "Prr kisi ka project blkl diff ho jo interviewer ka dhyan lele tb bhut deeply puchte wrna normally ques se ktm krte\n",
      "06/09/21, 10:02 pm - Nandini Cse: Achhhaaa\n",
      "06/09/21, 10:02 pm - Nandini Cse: Okayyy\n",
      "06/09/21, 10:02 pm - Riyanshi Cse: Nhiii\n",
      "Jo ques vha mile vo solve krna imp haii baki cp wagera jada matter nhi krta\n",
      "06/09/21, 10:02 pm - Riyanshi Cse: Cp se bs ek chiz hoti jo maine notice ki aapse tough ques puchte check krne ke liye\n",
      "06/09/21, 10:02 pm - Nandini Cse: Waha kahan??\n",
      "06/09/21, 10:02 pm - Riyanshi Cse: Sch likha ya resume me yuhi daal diya\n",
      "06/09/21, 10:03 pm - Riyanshi Cse: Interview me\n",
      "06/09/21, 10:03 pm - Nandini Cse: <Media omitted>\n",
      "06/09/21, 10:03 pm - Aman Cse: Voh resume dekh dekh ke puchte\n",
      "06/09/21, 10:03 pm - Aman Cse: Ques\n",
      "06/09/21, 10:03 pm - Nandini Cse: Achhaaaaaa\n",
      "06/09/21, 10:03 pm - Nandini Cse: Bhaiiiii\n",
      "06/09/21, 10:03 pm - Nandini Cse: Fir toh sahi sahi likhna chahiye\n",
      "06/09/21, 10:03 pm - Aman Cse: Hn\n",
      "06/09/21, 10:04 pm - Riyanshi Cse: Haaa jo likha usse kuch bi puch lete\n",
      "06/09/21, 10:04 pm - Riyanshi Cse: Mujhe ek interview me bola javascript me code kro dsa kaa\n",
      "06/09/21, 10:04 pm - Nandini Cse: Project konsa poochte hai\n",
      "06/09/21, 10:04 pm - Riyanshi Cse: Not in c++\n",
      "06/09/21, 10:04 pm - Nandini Cse: Like agar jyada projects daale ho\n",
      "06/09/21, 10:04 pm - Aman Cse: Jo resume mein hae\n",
      "06/09/21, 10:04 pm - Nandini Cse: Agar do teen hai toh??\n",
      "06/09/21, 10:04 pm - Riyanshi Cse: Depends\n",
      "06/09/21, 10:04 pm - Nandini Cse: Ohh bhaii\n",
      "06/09/21, 10:05 pm - Nandini Cse: On what??\n",
      "06/09/21, 10:05 pm - Riyanshi Cse: Like agr koi interesting dika voh else apni mrzi se koi bi explain krdo\n",
      "06/09/21, 10:05 pm - Nandini Cse: Achhaa\n",
      "06/09/21, 10:05 pm - Riyanshi Cse: Ya teeno ka over view ki hai kya project\n",
      "06/09/21, 10:05 pm - Nandini Cse: Phir toh achha hai\n",
      "06/09/21, 10:06 pm - Nandini Cse: Deep me toh nahi naa poochte\n",
      "06/09/21, 10:06 pm - Harshita Cse: Theory dbms, CN, oops poochhte h?\n",
      "06/09/21, 10:06 pm - Nandini Cse: Yeh toh iguess placement me hote hai\n",
      "06/09/21, 10:06 pm - Riyanshi Cse: Resume me mention hai toh puch sktee\n",
      "06/09/21, 10:06 pm - Aman Cse: Yeh to 2 din mein ho jaya\n",
      "06/09/21, 10:06 pm - Parul Cse: Mere se poocha tha ki aj tak coding mein kya ki toh kya bolna chahiye.\n",
      "06/09/21, 10:06 pm - Aman Cse: Jata\n",
      "06/09/21, 10:06 pm - Riyanshi Cse: Prr usme concept clear hai toh no issuee\n",
      "06/09/21, 10:06 pm - Aman Cse: Jyada ni puchte\n",
      "06/09/21, 10:07 pm - Nandini Cse: Coding me mtlb??\n",
      "06/09/21, 10:07 pm - Riyanshi Cse: Technology kya seeki\n",
      "06/09/21, 10:07 pm - Nandini Cse: Achhaa\n",
      "06/09/21, 10:07 pm - Riyanshi Cse: Same mujse pucha tha\n",
      "06/09/21, 10:07 pm - Parul Cse: I said I made projects and stuff but the interviewer was not satisfied\n",
      "06/09/21, 10:07 pm - Nandini Cse: Riya tune kya bola??\n",
      "06/09/21, 10:07 pm - Parul Cse: Voh south indian?\n",
      "06/09/21, 10:09 pm - Riyanshi Cse: I answered \n",
      "I love to explore new things most important these teck stackss\n",
      "Without guidance I started learning c++ firstly from yt \n",
      "Then I came to about problem solving that was quite interesting \n",
      "And I have explored web development practically love to work on backend made project audspire which is deployed \n",
      "Another one is social service app\n",
      "\n",
      "Ese 3-4 lines aur bol di\n",
      "06/09/21, 10:09 pm - Riyanshi Cse: Ha vhiii\n",
      "06/09/21, 10:10 pm - Riyanshi Cse: He was impressed at that time bcoz my interview started from this point only\n",
      "06/09/21, 10:10 pm - Parul Cse: Ohh wow\n",
      "06/09/21, 10:11 pm - Nandini Cse: Mtlb oratory skills matter\n",
      "06/09/21, 10:11 pm - Riyanshi Cse: Ps companies nhi differnce krti kai br ldka ya ldki \n",
      "Jo ques boys se puche the same Aman aur mujse bi puche the\n",
      "06/09/21, 10:11 pm - Parul Cse: And your sense of alertness. Spontaneous answers\n",
      "06/09/21, 10:12 pm - Riyanshi Cse: Bhuttt\n",
      "06/09/21, 10:12 pm - Aman Cse: Aho yrr\n",
      "06/09/21, 10:13 pm - Nandini Cse: Yeh baat ladko ko bolna zra\n",
      "06/09/21, 10:13 pm - Nandini Cse: Jab se season start hua hai\n",
      "06/09/21, 10:13 pm - Nandini Cse: Dukhi karke rakha hai\n",
      "06/09/21, 10:13 pm - Aman Cse: Unhe to rone ki adat hae 🌚😬\n",
      "06/09/21, 10:13 pm - Nandini Cse: Tum toh ladki ho, tum toh ladki ho\n",
      "06/09/21, 10:13 pm - Nandini Cse: +++\n",
      "06/09/21, 10:14 pm - Nandini Cse: Wo kabhi respect nahi kar sakte\n",
      "06/09/21, 10:14 pm - Aman Cse: 🥲\n",
      "06/09/21, 10:14 pm - Riyanshi Cse: Ignore them vo hote hi ignore krne ke liye\n",
      "06/09/21, 10:14 pm - Aman Cse: 🔥🔥😂\n",
      "06/09/21, 10:14 pm - Nandini Cse: <Media omitted>\n",
      "06/09/21, 10:16 pm - +91 75280 12541: +1\n",
      "06/09/21, 10:39 pm - Khushi Cse: u giuys had fun i g ?\n",
      "06/09/21, 10:39 pm - Khushi Cse: who was the party host?\n",
      "06/09/21, 10:40 pm - Nandini Cse: host main thi\n",
      "06/09/21, 10:40 pm - Nandini Cse: guest riya and aman\n",
      "06/09/21, 10:40 pm - Khushi Cse: where was my invitation?\n",
      "06/09/21, 10:40 pm - Khushi Cse: 😂😂\n",
      "06/09/21, 10:40 pm - Nandini Cse: apno ko konsa invitation\n",
      "07/09/21, 9:45 am - Ishita Cse: Kisi ko DESIS Ascend Educare ki mail aayi test ki?\n",
      "07/09/21, 9:45 am - Moni Cse: Yup\n",
      "07/09/21, 9:45 am - Sheffy Cse: hn\n",
      "07/09/21, 9:48 am - Neetu Cse Nit: Hnn\n",
      "07/09/21, 9:49 am - Ritika Cse: Yes\n",
      "07/09/21, 9:49 am - Parul Cse: Nah\n",
      "07/09/21, 9:49 am - +91 88104 75823: ++\n",
      "07/09/21, 9:49 am - Parul Cse: Kab ayi hai tum logo ko??\n",
      "07/09/21, 9:50 am - Ishita Cse: 8:22 am aaj\n",
      "07/09/21, 9:50 am - Sheffy Cse: Aj subah\n",
      "07/09/21, 9:50 am - Ritika Cse: 12:32 am\n",
      "07/09/21, 9:50 am - Parul Cse: Shyd ari ho. Abhi toh nhi ayi\n",
      "07/09/21, 9:50 am - Ritika Cse: Hn raaste me hogi\n",
      "07/09/21, 10:02 am - Khushi Cse: Oye optum girls ka toh kal hi hogya tha na\n",
      "07/09/21, 10:02 am - Khushi Cse: Koi rehta toh ni\n",
      "07/09/21, 10:02 am - Khushi Cse: ??\n",
      "07/09/21, 10:03 am - Harshita Cse: h shyd\n",
      "07/09/21, 10:03 am - Harshita Cse: parul ka pda h\n",
      "07/09/21, 10:04 am - Khushi Cse: Ohh k uska pwd ka alag tha na\n",
      "07/09/21, 10:04 am - Khushi Cse: Anyone else?\n",
      "07/09/21, 10:04 am - Parul Cse: Me\n",
      "07/09/21, 10:04 am - Parul Cse: Oops sorry\n",
      "07/09/21, 10:04 am - Parul Cse: 🤦🏻‍♀️🤦🏻‍♀️\n",
      "07/09/21, 10:04 am - Khushi Cse: 😂😅\n",
      "07/09/21, 10:06 am - Khushi Cse: Goldman Sachs ke results ni aye na\n",
      "07/09/21, 10:06 am - Khushi Cse: 😂\n",
      "07/09/21, 10:06 am - Khushi Cse: Nahi amazon wow ke\n",
      "07/09/21, 10:06 am - Khushi Cse: 😂😂\n",
      "07/09/21, 10:37 am - Nandini Cse: Mujhe lagata hai yeh nashe karke baithe hai\n",
      "07/09/21, 10:38 am - +91 88104 75823: Woh apna dukh chupa rhi hai humari tarah 🥲🥲\n",
      "08/09/21, 7:19 pm - Nandini Cse: Yeh nvidia waali aayi hai mail kisiko?\n",
      "08/09/21, 7:19 pm - Moni Cse: Nahi\n",
      "08/09/21, 7:19 pm - Harshita Cse: Na\n",
      "08/09/21, 7:20 pm - Sejal Cse: Nope\n",
      "08/09/21, 7:20 pm - +91 88104 75823: nope\n",
      "08/09/21, 7:22 pm - Nandini Cse: toh bol dete hai ki hume nahi aayi\n",
      "08/09/21, 7:23 pm - Sejal Cse: Yeah\n",
      "08/09/21, 7:23 pm - Nandini Cse: usne delete kar diya\n",
      "08/09/21, 7:23 pm - Akanksha Cse: Maine bol diya nhi aayi\n",
      "08/09/21, 7:25 pm - Unnisha Cse: Nhi aya\n",
      "08/09/21, 7:26 pm - Kumud Cse: Nahi\n",
      "08/09/21, 7:27 pm - Khushi Cse: Kisi ko ni aya dont pani \n",
      "We will collect data girls \n",
      "Cheers!\n",
      "08/09/21, 7:31 pm - +91 88104 75823: 🥂🥂\n",
      "08/09/21, 7:35 pm - Khushi Cse: Yha bheju form 😶 ya internship grp\n",
      "08/09/21, 7:35 pm - Khushi Cse: Only for girls he\n",
      "08/09/21, 7:35 pm - Khushi Cse: 😂\n",
      "08/09/21, 7:35 pm - Khushi Cse: 😬\n",
      "08/09/21, 7:35 pm - Khushi Cse: *Cgpa 8+*\n",
      "08/09/21, 7:36 pm - Nandini Cse: yahi bhej de\n",
      "08/09/21, 7:37 pm - Nandini Cse: nahi nhi khushi\n",
      "08/09/21, 7:37 pm - Nandini Cse: wahi bhej\n",
      "08/09/21, 7:37 pm - Nandini Cse: likh bhi dayi cgpa 8+\n",
      "08/09/21, 7:40 pm - Khushi Cse: Hn\n",
      "08/09/21, 7:40 pm - Khushi Cse: 🌚\n",
      "08/09/21, 7:49 pm - Moni Cse: Yaar ye on campus hai ya off campus ?\n",
      "08/09/21, 7:49 pm - Khushi Cse: On campus he\n",
      "08/09/21, 7:49 pm - Khushi Cse: Bro\n",
      "08/09/21, 7:49 pm - Moni Cse: Ookok\n",
      "08/09/21, 7:49 pm - Khushi Cse: *Aur resume links update krlo*\n",
      "08/09/21, 7:50 pm - Khushi Cse: Link dalne he\n",
      "08/09/21, 7:51 pm - Riyanshi Cse: https://youtu.be/qz3dADlDwmU\n",
      "\n",
      "Ek br resume dek lena\n",
      "08/09/21, 7:51 pm - Riyanshi Cse: *Is video se idea le skte ho*\n",
      "08/09/21, 7:51 pm - Riyanshi Cse: And review krva lena kisi se\n",
      "08/09/21, 7:53 pm - Khushi Cse: Bro if u can send ur resume\n",
      "08/09/21, 7:53 pm - Khushi Cse: To girsl\n",
      "08/09/21, 7:53 pm - Khushi Cse: They can have idea\n",
      "08/09/21, 7:54 pm - Khushi Cse: *If u can*\n",
      "08/09/21, 7:54 pm - Nandini Cse: yes would be helpful\n",
      "08/09/21, 7:54 pm - Nandini Cse: if youre okay\n",
      "08/09/21, 7:54 pm - Riyanshi Cse: Okayy maii jakr share krti\n",
      "08/09/21, 7:55 pm - Riyanshi Cse: Ghr*\n",
      "08/09/21, 7:55 pm - Riyanshi Cse: But there is a thing koi bhr share to nhi krega🥲\n",
      "08/09/21, 7:56 pm - Khushi Cse: Hn girls make sure that you don't share her resume \n",
      "*if she is willing to share*\n",
      "*We do have responsibility not to leak*\n",
      "08/09/21, 7:57 pm - Moni Cse: Sure 👍🏻\n",
      "08/09/21, 8:04 pm - +91 88104 75823: 👍\n",
      "08/09/21, 8:04 pm - Khushi Cse: *NVIDIA #FindingHopper - Summer Internship Hiring for B.Tech and Dual Degree graduating in 2023*\n",
      ".\n",
      ".\n",
      "Please find the internship details and JD sent to your institute mail ID.\n",
      "\n",
      "(Only for female candidates and CGPA 8.0 or Above)\n",
      "\n",
      "Interested students must fill this form by 12 AM today i.e. 8 September 2021.\n",
      "\n",
      "https://docs.google.com/forms/d/e/1FAIpQLSdXHRSP_4p1XX6sgCiuGZvZIzEje_e_RkxhHYiKPDkkb8KTeA/viewform?usp=sf_link\n",
      "08/09/21, 8:04 pm - Khushi Cse: Same he\n",
      "08/09/21, 8:04 pm - Khushi Cse: Ye bhi\n",
      "08/09/21, 8:04 pm - Khushi Cse: Bhardo\n",
      "08/09/21, 8:04 pm - Khushi Cse: Cheti cheri Sare bhardo\n",
      "08/09/21, 8:05 pm - Khushi Cse: Jiska seen ni hoga usko\n",
      "08/09/21, 8:05 pm - Khushi Cse: Call\n",
      "08/09/21, 8:05 pm - Khushi Cse: Krdenge\n",
      "08/09/21, 8:05 pm - Khushi Cse: 😬😬\n",
      "08/09/21, 9:47 pm - Riyanshi Cse: <Media omitted>\n",
      "08/09/21, 9:47 pm - Riyanshi Cse: This message was deleted\n",
      "08/09/21, 9:47 pm - Riyanshi Cse: Yrrr rows add krne ka tareeka differ kr skta hai \n",
      "mai chhati thi interviewer is order me deke \n",
      "so sbka order differ krta\n",
      "08/09/21, 9:48 pm - Riyanshi Cse: video dekna voo yhi pta lagaega\n",
      "08/09/21, 10:05 pm - Nandini Cse: Bahut pyara, subtle and minimal sa resume hai\n",
      "08/09/21, 10:07 pm - Riyanshi Cse: <Media omitted>\n",
      "11/09/21, 9:07 am - Khushi Cse: Hey girls jinka de shaw exam he btana ek bar\n",
      "11/09/21, 9:08 am - Khushi Cse: Desis ascend vala\n",
      "11/09/21, 9:08 am - Neetu Cse Nit: 🙋‍♀️\n",
      "11/09/21, 9:09 am - Khushi Cse: Slot time aur link agyi na\n",
      "11/09/21, 9:09 am - Khushi Cse: 10-11\n",
      "11/09/21, 9:09 am - Khushi Cse: Me login krna he\n",
      "11/09/21, 9:09 am - Neetu Cse Nit: Haa\n",
      "11/09/21, 2:25 pm - Mamta Cse: Questions sabk same the\n",
      "11/09/21, 2:25 pm - Mamta Cse: <Media omitted>\n",
      "11/09/21, 2:28 pm - Khushi Cse: Hmm\n",
      "11/09/21, 2:28 pm - Khushi Cse: Par time. Bhi same tha\n",
      "11/09/21, 2:28 pm - Khushi Cse: So doesn't matter\n",
      "11/09/21, 2:28 pm - Khushi Cse: <Media omitted>\n",
      "11/09/21, 2:28 pm - Khushi Cse: Tera kesa hua\n",
      "11/09/21, 2:29 pm - Mamta Cse: Han wo 20 min me 6 q the wo nii hue\n",
      "11/09/21, 2:29 pm - Mamta Cse: I mean unme surity nii h\n",
      "11/09/21, 2:29 pm - Mamta Cse: Baki 2dp +1 pq tha wo ho gye\n",
      "11/09/21, 2:43 pm - Khushi Cse: Arre ye vala\n",
      "11/09/21, 2:43 pm - Khushi Cse: Jo tha last 3rd coding problem uska kya bna\n",
      "11/09/21, 2:43 pm - Khushi Cse: ?\n",
      "11/09/21, 2:43 pm - Khushi Cse: 😆😆me padhke hi hill gyi inna baddal problem statement\n",
      "13/09/21, 8:00 am - Sejal Cse: Aaj koi quiz hai?\n",
      "13/09/21, 8:04 am - Priyanka Cse: Shyd ISS ka\n",
      "13/09/21, 8:04 am - Sejal Cse: Hainnnn!!!!\n",
      "13/09/21, 8:04 am - Sejal Cse: Ye kab hua\n",
      "13/09/21, 8:07 am - Priyanka Cse: Not sure maine v kisise suna hi hai\n",
      "13/09/21, 8:07 am - Priyanka Cse: Wo v 📷 on krke\n",
      "13/09/21, 8:09 am - Sejal Cse: 🥲\n",
      "13/09/21, 8:28 am - Khushi Cse: Hn kehte he iss ka test he\n",
      "13/09/21, 8:30 am - +91 88104 75823: Yaar shubh shubh test band karo aankhe khuli hoti hai nhi test kaha se doon main\n",
      "13/09/21, 8:32 am - Sheetal Cse: 😂😂\n",
      "13/09/21, 8:33 am - Khushi Cse: 😂😂😂laptop se\n",
      "13/09/21, 8:33 am - Sejal Cse: Btaya to nhi sir ne\n",
      "13/09/21, 8:33 am - Khushi Cse: Class chal ri?\n",
      "13/09/21, 8:34 am - Sheetal Cse: Bol hi nhi rha koi kuch\n",
      "13/09/21, 8:35 am - +91 88104 75823: ++\n",
      "13/09/21, 8:35 am - +91 88104 75823: Sir khud soo rhe hai\n",
      "13/09/21, 8:36 am - Mamta Cse: 🥱\n",
      "13/09/21, 8:39 am - Sejal Cse: Guys pls aaj girls ki unity dikhana or help krdena , god will bless you\n",
      "13/09/21, 8:40 am - Sheetal Cse: ++\n",
      "13/09/21, 9:02 am - Harshita Cse: Timings aa gyi?\n",
      "13/09/21, 9:02 am - Priyanka Cse: Are pgl wo iss ka bol rhi\n",
      "13/09/21, 9:02 am - Moni Cse: Haina mujhe bhi confuse krdi Harshita\n",
      "13/09/21, 9:02 am - Moni Cse: 😂\n",
      "13/09/21, 9:02 am - Harshita Cse: Ohh😅😅\n",
      "13/09/21, 9:02 am - Priyanka Cse: This message was deleted\n",
      "13/09/21, 9:02 am - Priyanka Cse: This message was deleted\n",
      "13/09/21, 9:06 am - Khushi Cse: 😂😂😂\n",
      "13/09/21, 3:16 pm - Akanksha Cse: Girls nvidia ki koi mail aayi hai\n",
      "13/09/21, 3:16 pm - Rushika Cse: nope\n",
      "13/09/21, 3:16 pm - Harshita Cse: No\n",
      "15/09/21, 1:01 pm - Khushi Cse: *Girls I have a very big opportunity for you*\n",
      "15/09/21, 1:01 pm - Khushi Cse: 😂😂😂🤗🤗🤗🤗\n",
      "15/09/21, 1:01 pm - Khushi Cse: Bheju?\n",
      "15/09/21, 1:01 pm - Sejal Cse: Bhej bhai\n",
      "15/09/21, 1:01 pm - Khushi Cse: How to get into FAANG 101\n",
      "Step1: Sign up on this website\n",
      "Step2: Marry the person\n",
      "Step3: Get referral and Get in\n",
      "15/09/21, 1:01 pm - Khushi Cse: https://faangshaadi.com/#about\n",
      "15/09/21, 1:01 pm - Khushi Cse: Direct *Faang*\n",
      "15/09/21, 1:01 pm - Khushi Cse: 😂😂🤗🤗🤗\n",
      "15/09/21, 1:01 pm - Parul Cse: 🥲\n",
      "15/09/21, 1:01 pm - +91 88104 75823: kuch galat si vibe kyu aa rhi hai\n",
      "15/09/21, 1:02 pm - Khushi Cse: 😂😂nhi sab legal he bas u can't marry again\n",
      "15/09/21, 1:02 pm - Khushi Cse: 😂😂\n",
      "15/09/21, 1:02 pm - Akanksha Cse: Ye tune bnai h na 🌚😂\n",
      "15/09/21, 1:02 pm - Sejal Cse: <Media omitted>\n",
      "15/09/21, 1:03 pm - Khushi Cse: Teko me inni uch vicharo vali dikhti nah meko web d ati 😂😂\n",
      "15/09/21, 1:03 pm - Khushi Cse: 😂\n",
      "15/09/21, 1:04 pm - Aman Cse: <Media omitted>\n",
      "15/09/21, 1:05 pm - Akanksha Cse: <Media omitted>\n",
      "15/09/21, 1:05 pm - Khushi Cse: Tera naam bhi add krdete he isme ab kya pta kisi ko MS vali wife chahiye ho 😂\n",
      "15/09/21, 1:05 pm - Rushika Cse: 😂😂😂😂\n",
      "15/09/21, 1:05 pm - Aman Cse: <Media omitted>\n",
      "15/09/21, 1:06 pm - Rushika Cse: nice stickers aman\n",
      "15/09/21, 1:06 pm - Rushika Cse: aur bhejo\n",
      "15/09/21, 1:06 pm - Aman Cse: 😂\n",
      "15/09/21, 1:06 pm - Aman Cse: <Media omitted>\n",
      "15/09/21, 1:06 pm - Aman Cse: <Media omitted>\n",
      "15/09/21, 1:06 pm - Aman Cse: <Media omitted>\n",
      "15/09/21, 1:06 pm - Aman Cse: <Media omitted>\n",
      "15/09/21, 1:06 pm - Aman Cse: <Media omitted>\n",
      "15/09/21, 1:06 pm - Khushi Cse: <Media omitted>\n",
      "15/09/21, 1:06 pm - Khushi Cse: Ye ese sticker mat bhej bhen 🤧🤧🤧\n",
      "15/09/21, 1:07 pm - Aman Cse: 😂\n",
      "15/09/21, 1:07 pm - Rushika Cse: 😂😂😂😂\n",
      "15/09/21, 1:07 pm - Aman Cse: Mere pass ode the 😂\n",
      "15/09/21, 1:07 pm - Khushi Cse: Ab sapne  me  bhi dsa hi ata he\n",
      "15/09/21, 1:07 pm - Aman Cse: Pde*\n",
      "15/09/21, 1:07 pm - Sheffy Cse: 😂😂\n",
      "15/09/21, 1:07 pm - Akanksha Cse: <Media omitted>\n",
      "15/09/21, 1:07 pm - Khushi Cse: +1\n",
      "15/09/21, 1:07 pm - Khushi Cse: 😂\n",
      "15/09/21, 1:07 pm - Khushi Cse: Aur bhejo mera collection acha hota\n",
      "15/09/21, 1:07 pm - Khushi Cse: <Media omitted>\n",
      "15/09/21, 1:07 pm - Aman Cse: <Media omitted>\n",
      "15/09/21, 1:08 pm - Akanksha Cse: <Media omitted>\n",
      "15/09/21, 1:09 pm - Aman Cse: <Media omitted>\n",
      "15/09/21, 1:09 pm - Khushi Cse: <Media omitted>\n",
      "15/09/21, 1:09 pm - Khushi Cse: Aman ke sticker dekh ke lagda inne lockdown me kaffi kuch sikhliya he\n",
      "15/09/21, 1:09 pm - Khushi Cse: <Media omitted>\n",
      "15/09/21, 1:09 pm - Sejal Cse: +1\n",
      "15/09/21, 1:09 pm - Aman Cse: <Media omitted>\n",
      "15/09/21, 1:09 pm - Nandini Cse: yehi hai na website?\n",
      "15/09/21, 1:09 pm - Khushi Cse: Hn\n",
      "15/09/21, 1:10 pm - Nandini Cse: ok girls\n",
      "15/09/21, 1:10 pm - Khushi Cse: Krlo signup\n",
      "15/09/21, 1:10 pm - Nandini Cse: it was nice being with you\n",
      "15/09/21, 1:10 pm - Khushi Cse: <Media omitted>\n",
      "15/09/21, 1:10 pm - Nandini Cse: paneer de pakode khaan ajiyo saare\n",
      "15/09/21, 1:10 pm - Aman Cse: Done 😂\n",
      "15/09/21, 1:10 pm - Akanksha Cse: <Media omitted>\n",
      "15/09/21, 1:10 pm - Khushi Cse: Ahoo invitation cards mail krdio\n",
      "15/09/21, 1:10 pm - Khushi Cse: Print krna di lod nhi\n",
      "15/09/21, 1:10 pm - Khushi Cse: <Media omitted>\n",
      "15/09/21, 1:10 pm - Sejal Cse: Aman tu toh goals hai\n",
      "15/09/21, 1:11 pm - Khushi Cse: <Media omitted>\n",
      "15/09/21, 1:11 pm - Aman Cse: <Media omitted>\n",
      "15/09/21, 1:11 pm - Khushi Cse: Bro @917526961911 viah ta theek he lekin asi shagan dene nhi lene ayenge after all jija ji faang me he\n",
      "15/09/21, 1:11 pm - Sejal Cse: Can't believe Aman its you\n",
      "15/09/21, 1:11 pm - Khushi Cse: <Media omitted>\n",
      "15/09/21, 1:11 pm - Nandini Cse: <Media omitted>\n",
      "15/09/21, 1:12 pm - Nandini Cse: aaho jije de welcome layi saaliya vi honi chahidiya ne\n",
      "15/09/21, 1:12 pm - Khushi Cse: Ahoo\n",
      "15/09/21, 1:12 pm - Akanksha Cse: <Media omitted>\n",
      "15/09/21, 1:12 pm - Nandini Cse: chalo fer tyaari kichh ke rakho\n",
      "15/09/21, 1:12 pm - Khushi Cse: Bhai me kehri hu best match milega @everyone try krlo😂\n",
      "15/09/21, 1:13 pm - Nandini Cse: saath tum log bhi dost fasa lena\n",
      "15/09/21, 1:13 pm - Akanksha Cse: <Media omitted>\n",
      "15/09/21, 1:13 pm - Aman Cse: 😂😂\n",
      "15/09/21, 1:13 pm - Khushi Cse: Nahi apna toh set he Tu refrel legi uske baad hum terese lelenge\n",
      "15/09/21, 1:13 pm - Khushi Cse: Bas tere viah ch aajange\n",
      "15/09/21, 1:13 pm - Khushi Cse: 😂😂\n",
      "15/09/21, 1:13 pm - Khushi Cse: 🤗🤗\n",
      "15/09/21, 1:13 pm - Aman Cse: 😂😂😂\n",
      "15/09/21, 1:14 pm - Nandini Cse: sugar daddy 👅\n",
      "15/09/21, 1:33 pm - Riyanshi Cse: <Media omitted>\n",
      "15/09/21, 2:59 pm - +91 75280 12541: 🤣🤣🤣🤣\n",
      "15/09/21, 3:11 pm - Mamta Cse: khushi 🤣🤣🤣 🔥🔥. But abhi  shadi ki umer nii h ye 🥱\n",
      "15/09/21, 8:42 pm - Khushi Cse: https://youtube.com/shorts/lOP7lCxxa18?feature=share\n",
      "16/09/21, 8:29 am - Khushi Cse: Kis kis ka exam he aaj\n",
      "16/09/21, 8:29 am - Khushi Cse: ?\n",
      "16/09/21, 8:29 am - Khushi Cse: Atlassian vala\n",
      "16/09/21, 8:29 am - Khushi Cse: Uske hisab se bunk na plan krle?\n",
      "16/09/21, 8:29 am - Khushi Cse: Toh boldo\n",
      "16/09/21, 8:30 am - Moni Cse: 🙋🏻‍♀️\n",
      "16/09/21, 8:31 am - Khushi Cse: +2\n",
      "16/09/21, 8:31 am - Parul Cse: +3\n",
      "16/09/21, 8:31 am - Mamta Cse: +4\n",
      "16/09/21, 8:33 am - Akanksha Cse: +5\n",
      "16/09/21, 8:35 am - Sejal Cse: Ye konsa hai bhai\n",
      "16/09/21, 8:36 am - +91 78889 72864: +6\n",
      "16/09/21, 8:37 am - Khushi Cse: Girlscriot vala\n",
      "16/09/21, 8:37 am - Khushi Cse: August me dala tha grp me\n",
      "16/09/21, 8:42 am - Neetu Cse Nit: +7\n",
      "16/09/21, 8:47 am - Rushika Cse: +8\n",
      "16/09/21, 8:59 am - Shikha Cse: +9\n",
      "16/09/21, 9:05 am - Nandini Cse: Off campus hai na yeh\n",
      "16/09/21, 9:05 am - Rushika Cse: hn\n",
      "16/09/21, 9:06 am - Khushi Cse: Hn\n",
      "17/09/21, 9:24 am - Khushi Cse: De shaw ke desis vale exam ki mails aayi?\n",
      "17/09/21, 9:24 am - Moni Cse: rejection\n",
      "17/09/21, 9:24 am - Moni Cse: 🥲\n",
      "17/09/21, 9:24 am - Khushi Cse: Kis kid ka hua clear\n",
      "17/09/21, 9:24 am - Khushi Cse: Kine kre c?\n",
      "17/09/21, 9:25 am - Moni Cse: kuch bhi nahi\n",
      "17/09/21, 9:25 am - Moni Cse: mcq bas\n",
      "17/09/21, 9:25 am - Parul Cse: Hm 🥲\n",
      "17/09/21, 9:25 am - Khushi Cse: Ohh\n",
      "17/09/21, 9:25 am - Khushi Cse: Baki btao jara 🥲\n",
      "17/09/21, 9:25 am - Parul Cse: 1 hua tha shyd mera\n",
      "17/09/21, 9:26 am - Khushi Cse: Mene 2 kre the 🥲\n",
      "17/09/21, 9:26 am - Khushi Cse: Toh bhi reject mar gye\n",
      "17/09/21, 9:26 am - Nandini Cse: maine fill hi ni kara tha yeh bhi\n",
      "17/09/21, 9:26 am - Parul Cse: 🥲🥲 bro sare walo ko bulaya hoga\n",
      "17/09/21, 9:26 am - Nandini Cse: <Media omitted>\n",
      "17/09/21, 9:26 am - Parul Cse: Nycc\n",
      "17/09/21, 9:26 am - Shikha Cse: ++😔\n",
      "17/09/21, 9:26 am - Sejal Cse: Same here😎\n",
      "17/09/21, 9:26 am - Khushi Cse: 🥲🥲🥲🥲Toh adobe ka aya koi??\n",
      "17/09/21, 9:26 am - Nandini Cse: <Media omitted>\n",
      "17/09/21, 9:27 am - Khushi Cse: No mail nothing?\n",
      "17/09/21, 9:27 am - Moni Cse: <Media omitted>\n",
      "17/09/21, 9:27 am - Khushi Cse: *NVIDIA* ki tyari krlo fir hun 17 sept ko he ye toh apna hi he ladkio ka bss\n",
      "17/09/21, 9:27 am - Nandini Cse: <Media omitted>\n",
      "17/09/21, 9:27 am - Nandini Cse: aaj 17 hai\n",
      "17/09/21, 9:27 am - Sejal Cse: Aaj hi\n",
      "17/09/21, 9:28 am - Moni Cse: Oh bhai\n",
      "17/09/21, 9:28 am - Moni Cse: 🥲🥲🥲\n",
      "17/09/21, 9:28 am - Moni Cse: Mai Sochi kal\n",
      "17/09/21, 9:28 am - Sejal Cse: Kitni jaldi mail aa gyi\n",
      "17/09/21, 9:28 am - Sejal Cse: Great\n",
      "17/09/21, 9:28 am - Khushi Cse: Ohhh shitttt\n",
      "17/09/21, 9:28 am - Nandini Cse: de are just like jaldi jaldi khatam karo\n",
      "17/09/21, 9:29 am - Khushi Cse: 😂😂😂😂😂\n",
      "17/09/21, 9:29 am - Khushi Cse: 🙄🙄🥲🥲ye tpo marvayega\n",
      "17/09/21, 9:29 am - Khushi Cse: Kisidin\n",
      "17/09/21, 9:29 am - Khushi Cse: Ek baar 10:35 pe msg aya\n",
      "17/09/21, 9:29 am - Sejal Cse: I hope placement ke time ye na ho\n",
      "17/09/21, 9:29 am - Khushi Cse: Kehta 10:35\n",
      "17/09/21, 9:29 am - Khushi Cse: Tak\n",
      "17/09/21, 9:29 am - Khushi Cse: Form khula\n",
      "17/09/21, 9:29 am - Khushi Cse: 😂😂\n",
      "17/09/21, 9:29 am - Sejal Cse: Ya we remember😂\n",
      "17/09/21, 9:29 am - Nandini Cse: cool jehe bande haan fool na samjhi\n",
      "17/09/21, 9:29 am - Khushi Cse: 😂😂😂hehehe Tu smj ri he\n",
      "17/09/21, 9:30 am - Khushi Cse: Foll je he  bnde hi ne\n",
      "17/09/21, 9:30 am - Nandini Cse: <Media omitted>\n",
      "17/09/21, 9:30 am - Harshita Cse: <Media omitted>\n",
      "17/09/21, 9:30 am - Khushi Cse: Nhi placement me touch wood is se bettervhi he scenario\n",
      "17/09/21, 9:30 am - Khushi Cse: Hardware vale\n",
      "17/09/21, 9:30 am - Khushi Cse: The\n",
      "17/09/21, 9:31 am - Khushi Cse: Hum software\n",
      "17/09/21, 9:31 am - Khushi Cse: Vale he\n",
      "17/09/21, 9:31 am - Harshita Cse: acha\n",
      "17/09/21, 9:33 am - Khushi Cse: 😂😂😂jin jin ko heart attack agya sorry 😅😅🥲🥲\n",
      "17/09/21, 9:33 am - Khushi Cse: Galti se mistake\n",
      "17/09/21, 9:33 am - Khushi Cse: Hogyi\n",
      "17/09/21, 9:34 am - Sejal Cse: 🥲\n",
      "17/09/21, 9:37 am - Nandini Cse: madam nhi hai class me\n",
      "17/09/21, 2:40 pm - Khushi Cse: *NVIDIA* ke test link agye mails chk krllena\n",
      "17/09/21, 2:41 pm - Akanksha Cse: Yup\n",
      "17/09/21, 4:47 pm - Akanksha Cse: Girls sbko mail aagyi na ek baar confirm krdo\n",
      "17/09/21, 4:48 pm - Sheffy Cse: Hn👍🏻\n",
      "17/09/21, 4:48 pm - Harshita Cse: Yess👍\n",
      "17/09/21, 4:53 pm - Khushi Cse: <Media omitted>\n",
      "17/09/21, 4:54 pm - Khushi Cse: Dekhna inmein sabko aya\n",
      "17/09/21, 4:54 pm - Khushi Cse: Jise ni aya 5 bje se pehle btado\n",
      "17/09/21, 4:54 pm - Khushi Cse: @919888515930 internship grp me dalna he?? Baad me PR na bole ki hmare samne ni inform kra😬\n",
      "17/09/21, 4:55 pm - Akanksha Cse: Virdi ne daal hi diya 😬\n",
      "17/09/21, 4:57 pm - Khushi Cse: Hn\n",
      "17/09/21, 4:57 pm - Khushi Cse: 😂😂\n",
      "17/09/21, 5:04 pm - Khushi Cse: Moni aur sejal tum dono ko bhi agyi hena\n",
      "17/09/21, 5:05 pm - Ritika Cse: Yes👍\n",
      "17/09/21, 5:34 pm - Moni Cse: ✌🏻\n",
      "17/09/21, 5:56 pm - Moni Cse: kisiko GS ka mail aaya ?\n",
      "17/09/21, 5:57 pm - Ishita Cse: Yes\n",
      "17/09/21, 6:38 pm - Sejal Cse: Yes\n",
      "17/09/21, 11:09 pm - Mamta Cse: Koi jag rha h ??🤔\n",
      "17/09/21, 11:23 pm - Khushi Cse: 😂😂abhi abhi ctp\n",
      "17/09/21, 11:23 pm - Khushi Cse: Ko mail krke\n",
      "17/09/21, 11:23 pm - Khushi Cse: Hati\n",
      "17/09/21, 11:23 pm - Khushi Cse: Aur dinner\n",
      "17/09/21, 11:23 pm - Khushi Cse: Kr ri\n",
      "17/09/21, 11:23 pm - Khushi Cse: Thi\n",
      "17/09/21, 11:23 pm - Khushi Cse: Bolo\n",
      "17/09/21, 11:23 pm - Khushi Cse: 😂😂\n",
      "17/09/21, 11:30 pm - Khushi Cse: <Media omitted>\n",
      "17/09/21, 11:30 pm - Khushi Cse: Tum sab kya kr re bhai\n",
      "17/09/21, 11:30 pm - Khushi Cse: 😂😂😂🌚🌚🌚\n",
      "17/09/21, 11:36 pm - Aman Cse: Assignments complete 🥴🥴\n",
      "17/09/21, 11:36 pm - Aman Cse: Kar rhe\n",
      "17/09/21, 11:40 pm - Nandini Cse: Humara ek aur group hai tere bina, waha pe baatein kar rhe the\n",
      "17/09/21, 11:59 pm - Mamta Cse: +1\n",
      "18/09/21, 7:25 am - Khushi Cse: 🌚 waah me inni important mere liye ek alag grp bnana pda\n",
      "Ty ty 🤭\n",
      "18/09/21, 4:37 pm - Khushi Cse: 😂😂aur bheno kya haal chal he\n",
      "18/09/21, 4:37 pm - Khushi Cse: Grp pe halla chal ra\n",
      "18/09/21, 4:37 pm - Khushi Cse: 😂😂kesi lagi breaking news\n",
      "18/09/21, 4:43 pm - Aman Cse: Bdia\n",
      "18/09/21, 4:44 pm - Nandini Cse: Chala nhi hai chalaya hai\n",
      "18/09/21, 4:44 pm - Khushi Cse: 🌚yeh random tha yaa moke ki tallash thi?\n",
      "18/09/21, 4:44 pm - Khushi Cse: 😂\n",
      "18/09/21, 4:45 pm - Nandini Cse: Pata ni\n",
      "18/09/21, 4:46 pm - Nandini Cse: 👀\n",
      "18/09/21, 9:12 pm - Khushi Cse: Bny mellon\n",
      "18/09/21, 9:12 pm - Khushi Cse: Dera koi?\n",
      "18/09/21, 9:12 pm - Khushi Cse: 🥲🥲\n",
      "19/09/21, 7:51 pm - Sejal Cse: Kal koi quiz hai kya????\n",
      "19/09/21, 7:53 pm - +91 88104 75823: shayd nhi\n",
      "19/09/21, 7:54 pm - +91 88104 75823: PDTA ka main sure nhi baaki subjects ki toh kuch din pehle hi hui thi\n",
      "19/09/21, 8:10 pm - Sejal Cse: Ok\n",
      "19/09/21, 8:32 pm - Ishita Cse: SE: 21st September\n",
      "OS: 24th September\n",
      "19/09/21, 8:32 pm - Ishita Cse: Yeh hain quizzes ki dates\n",
      "19/09/21, 8:32 pm - +91 75280 12541: SE kaa syllabus kya hai\n",
      "19/09/21, 8:33 pm - Ishita Cse: No idea\n",
      "19/09/21, 8:33 pm - Nandini Cse: Who cares\n",
      "19/09/21, 8:34 pm - +91 75280 12541: 😂😂😂woh written leta hai thoda bohtt pta toh hona chaiye  tbhi ppt aur book sey dhoondhenge\n",
      "19/09/21, 8:35 pm - Ishita Cse: Haa and shayad plagiarism bhi check karta 🥲\n",
      "19/09/21, 8:35 pm - Aman Cse: 🥲\n",
      "19/09/21, 8:35 pm - +91 75280 12541: Yes🥲\n",
      "20/09/21, 8:48 pm - Sejal Cse: Aaj jin girls ki ISS lab thi , koi viva ya evaluation vgerh kuch hua tha kya?\n",
      "20/09/21, 8:48 pm - Sejal Cse: Ya implementation hi krni thi aage?\n",
      "20/09/21, 8:50 pm - Mandeep Cse: Viva Hoya tha\n",
      "20/09/21, 8:50 pm - Sejal Cse: Kya kya poocha\n",
      "20/09/21, 8:50 pm - Mandeep Cse: Monoalphabetic/polyalphabetic\n",
      "20/09/21, 8:50 pm - Mandeep Cse: Mai difference\n",
      "20/09/21, 8:51 pm - Mandeep Cse: Diffusion/confusion\n",
      "20/09/21, 8:51 pm - Mandeep Cse: Sbox Ka size\n",
      "20/09/21, 8:51 pm - Mandeep Cse: Diffusion confusion DES Mai Kaha occur Hoti hai\n",
      "20/09/21, 8:51 pm - Mandeep Cse: Playfair, additive cipher vegra sab palena\n",
      "20/09/21, 8:51 pm - Mandeep Cse: Aur bhi kafi kucch tha\n",
      "20/09/21, 8:51 pm - Sejal Cse: Ohk🥲\n",
      "20/09/21, 8:51 pm - Sejal Cse: Basically sab kuch\n",
      "20/09/21, 8:52 pm - Mandeep Cse: Hn yrr\n",
      "20/09/21, 8:52 pm - Sejal Cse: Agla implement kiya tha ya nhi\n",
      "20/09/21, 8:52 pm - Mandeep Cse: Nhi vo nhi kiya\n",
      "20/09/21, 8:53 pm - Sejal Cse: Ohk ohk tnx @918196931877\n",
      "20/09/21, 8:53 pm - Mandeep Cse: Ok👍\n",
      "20/09/21, 9:00 pm - Mamta Cse: Kisi ko se ka syllabus pta h ?\n",
      "20/09/21, 9:01 pm - Mamta Cse: @919390173349 @918427796214 @\n",
      "20/09/21, 9:01 pm - Mamta Cse: @all\n",
      "20/09/21, 9:01 pm - Mamta Cse: Kl quiz m dono module h ya sirf 1\n",
      "20/09/21, 9:03 pm - Nandini Cse: Abey yeh bgi hai iss week fuck\n",
      "20/09/21, 9:06 pm - Khushi Cse: 🥲🥲🥲🥲bro aaj dono labs me jalil hui hu buri tarah uss se pta ni laga ki kuch aata pata nhi he duniya ka 🥲\n",
      "20/09/21, 9:06 pm - Khushi Cse: They ask fucking questions too\n",
      "20/09/21, 9:07 pm - Khushi Cse: Ek hota ta pta na hona aur ek hota he pehli baar sun na\n",
      "20/09/21, 9:07 pm - Khushi Cse: 🥲\n",
      "20/09/21, 9:07 pm - Mamta Cse: 🤣khusi se toh bahut hi naye naye sawal puxhe sir ne\n",
      "20/09/21, 9:07 pm - Khushi Cse: 🥲🥲🥲meri izaaat la faluda kiya in short\n",
      "20/09/21, 9:07 pm - Nandini Cse: Jo labs practical hai wo padh le toh hojega??\n",
      "20/09/21, 9:07 pm - Mamta Cse: Des and aes ko mt bhulna\n",
      "20/09/21, 9:07 pm - Mamta Cse: Han almost\n",
      "20/09/21, 9:07 pm - Khushi Cse: <Media omitted>\n",
      "20/09/21, 9:07 pm - Khushi Cse: 🥲😂\n",
      "20/09/21, 9:07 pm - Mamta Cse: Sara kuch likh lena\n",
      "20/09/21, 9:08 pm - Mamta Cse: + os ki lab me khusi\n",
      "20/09/21, 9:08 pm - Mamta Cse: Omg 🤫\n",
      "20/09/21, 9:08 pm - Khushi Cse: Chop kr ja besti\n",
      "20/09/21, 9:08 pm - Khushi Cse: Maat\n",
      "20/09/21, 9:08 pm - Khushi Cse: Krr\n",
      "20/09/21, 9:08 pm - Khushi Cse: 🥲🤧\n",
      "20/09/21, 9:08 pm - Nandini Cse: Kya hua???\n",
      "20/09/21, 9:08 pm - Khushi Cse: 🤫\n",
      "20/09/21, 9:08 pm - Khushi Cse: Kuch ni\n",
      "20/09/21, 9:08 pm - Nandini Cse: Bezati kya\n",
      "20/09/21, 9:08 pm - Nandini Cse: Mereko toh bahut aata hai jaise\n",
      "20/09/21, 9:09 pm - Khushi Cse: Almost there but maam ne bola no kuch\n",
      "20/09/21, 9:09 pm - Khushi Cse: Me khud hi smj gyi bacho ne hi grp me krdi besti\n",
      "20/09/21, 9:09 pm - Khushi Cse: 🥲😂\n",
      "20/09/21, 9:09 pm - Nandini Cse: Yehi baatein toh yaad aygi baad me\n",
      "20/09/21, 9:10 pm - Mamta Cse: Nah nah your speed was not more than 4x I won't tell that 😂😂... Even YouTube is not able to addthis feature to their application 😂... Khusi you should train Avatar sir ...\n",
      "20/09/21, 9:10 pm - Khushi Cse: 🤧🤧🤧🤧\n",
      "20/09/21, 9:10 pm - Mamta Cse: Ek toh waise hi jaldi jaldi bolti h\n",
      "20/09/21, 9:10 pm - Nandini Cse: Aaaaaaaaaaa\n",
      "20/09/21, 9:10 pm - Mamta Cse: Upr se mam ne kha 😂 merko 4:30 meet leni h jaldi jalid khtm kro\n",
      "20/09/21, 9:10 pm - Khushi Cse: Maam ne kha tha yrrr i was just helping her\n",
      "20/09/21, 9:10 pm - Khushi Cse: Hahaha🥲😂\n",
      "20/09/21, 9:11 pm - Mamta Cse: Khusi lo bhai 10 min ka kam 3 min me\n",
      "20/09/21, 9:11 pm - Mamta Cse: Khtm\n",
      "20/09/21, 9:11 pm - Khushi Cse: Yaar meko aata jata nhi tha vo bhi\n",
      "20/09/21, 9:11 pm - Mamta Cse: Mam khti ranje rukjao\n",
      "20/09/21, 9:11 pm - Mamta Cse: 🤣\n",
      "20/09/21, 9:11 pm - Khushi Cse: Usne bola speed me krdo\n",
      "20/09/21, 9:11 pm - Khushi Cse: Mene moka dekhte hue\n",
      "20/09/21, 9:11 pm - Khushi Cse: Dsa\n",
      "20/09/21, 9:11 pm - Khushi Cse: Suna\n",
      "20/09/21, 9:11 pm - Khushi Cse: Di\n",
      "20/09/21, 9:11 pm - Khushi Cse: Os\n",
      "20/09/21, 9:11 pm - Khushi Cse: Ki jagah\n",
      "20/09/21, 9:11 pm - Khushi Cse: 🥲🥲😂😂\n",
      "20/09/21, 9:11 pm - Mamta Cse: Hame khud smj nii lga tune kya kya smjha dia\n",
      "20/09/21, 9:11 pm - Mamta Cse: But han\n",
      "20/09/21, 9:11 pm - Khushi Cse: Hahaha\n",
      "20/09/21, 9:12 pm - Mamta Cse: Mam ne last me Terese question pucha toh lga mam tuje sincerely sun rhi thi\n",
      "20/09/21, 9:12 pm - Khushi Cse: Hn sun ri thi i also thought that mene uska and bhi pta ni kya dsa me dediya she got confusef\n",
      "20/09/21, 9:13 pm - Khushi Cse: 😵\n",
      "20/09/21, 9:13 pm - Khushi Cse: After all I helped her 😂\n",
      "20/09/21, 9:13 pm - Mamta Cse: 😂🤣okk okk ranje ho gya aapka 🤭\n",
      "20/09/21, 9:13 pm - Mamta Cse: Next\n",
      "20/09/21, 9:14 pm - Khushi Cse: 😂ab number hi btayenge\n",
      "20/09/21, 9:14 pm - Khushi Cse: Iss ka toh damn 0 he 😶\n",
      "20/09/21, 9:14 pm - Aman Cse: Chill karo yr 1 credit ki lab hae\n",
      "20/09/21, 9:14 pm - Khushi Cse: Says who 🌚\n",
      "20/09/21, 9:14 pm - Nandini Cse: Aaho\n",
      "20/09/21, 9:14 pm - Aman Cse: <Media omitted>\n",
      "20/09/21, 9:14 pm - Nandini Cse: Fuck it\n",
      "20/09/21, 9:14 pm - Khushi Cse: Sabse jyada panic krti he tu\n",
      "20/09/21, 9:14 pm - Khushi Cse: 😂😂\n",
      "20/09/21, 9:14 pm - Nandini Cse: Main laani hi haini\n",
      "20/09/21, 9:15 pm - Khushi Cse: 😂😂😂😂\n",
      "20/09/21, 9:15 pm - Khushi Cse: Aarey OS me hmare sath double kalol\n",
      "20/09/21, 9:15 pm - Khushi Cse: Hui\n",
      "20/09/21, 9:15 pm - Khushi Cse: Pehle ppt deke aaye\n",
      "20/09/21, 9:15 pm - Khushi Cse: Aur fir dusri meet me kehte\n",
      "20/09/21, 9:15 pm - Khushi Cse: Lab 7 tak show\n",
      "20/09/21, 9:15 pm - Khushi Cse: Kro\n",
      "20/09/21, 9:15 pm - Khushi Cse: Sara kam\n",
      "20/09/21, 9:15 pm - Aman Cse: Kal se ka hae 🤕\n",
      "20/09/21, 9:15 pm - Khushi Cse: Mondays are very bad for G2\n",
      "20/09/21, 9:15 pm - Aman Cse: Voh plag lagata\n",
      "20/09/21, 9:16 pm - Khushi Cse: Sare ans ke link bhej dena\n",
      "20/09/21, 9:16 pm - Khushi Cse: Aur apni language\n",
      "20/09/21, 9:16 pm - Khushi Cse: Me jo smj\n",
      "20/09/21, 9:16 pm - Khushi Cse: Aye\n",
      "20/09/21, 9:16 pm - Aman Cse: Last time discrete mwin end sem mein kisi ke 36 aaye the out of 40\n",
      "20/09/21, 9:16 pm - Khushi Cse: Chap dena\n",
      "20/09/21, 9:16 pm - Aman Cse: Par uska grade aaya c\n",
      "20/09/21, 9:16 pm - Aman Cse: Pta kyu\n",
      "20/09/21, 9:16 pm - Khushi Cse: ?\n",
      "20/09/21, 9:16 pm - Khushi Cse: Kiske\n",
      "20/09/21, 9:16 pm - Aman Cse: Kionki sir ne usse har quiz mein 1 number diya tha\n",
      "20/09/21, 9:16 pm - Aman Cse: Plag lga ke\n",
      "20/09/21, 9:16 pm - Aman Cse: 🤕\n",
      "20/09/21, 9:17 pm - Khushi Cse: Kon c oh\n",
      "20/09/21, 9:18 pm - Khushi Cse: Tu?\n",
      "20/09/21, 9:18 pm - Khushi Cse: 😂\n",
      "20/09/21, 9:18 pm - Aman Cse: Nhi 😂\n",
      "20/09/21, 9:18 pm - Khushi Cse: Fer\n",
      "20/09/21, 9:18 pm - Aman Cse: Name thodi dasna hunda yr🤷\n",
      "20/09/21, 9:18 pm - Aman Cse: 🌚\n",
      "21/09/21, 11:42 am - Mamta Cse: nice question @918427796214\n",
      "21/09/21, 11:42 am - Mamta Cse: 😂\n",
      "21/09/21, 11:42 am - Khushi Cse: 😂😂😂i thought\n",
      "21/09/21, 11:42 am - Khushi Cse: He is a terrorost\n",
      "21/09/21, 11:42 am - Khushi Cse: 😂😂\n",
      "21/09/21, 11:42 am - Khushi Cse: 😬\n",
      "21/09/21, 11:43 am - +91 88104 75823: @918427796214 bete zyaada majje na le pta chala kal sir humaare majje le rhe hai\n",
      "21/09/21, 11:44 am - Nandini Cse: jab sir kahani sunane lagege toh bta dena\n",
      "21/09/21, 11:49 am - Khushi Cse: Suna re he\n",
      "21/09/21, 11:49 am - Mamta Cse: @918427796214 sir kahani suna rhe h\n",
      "22/09/21, 8:37 am - Mamta Cse: Batao\n",
      "22/09/21, 8:37 am - Mamta Cse: @917508567088\n",
      "22/09/21, 8:37 am - Khushi Cse: Kya karaya\n",
      "22/09/21, 8:37 am - Khushi Cse: Tha\n",
      "22/09/21, 8:37 am - Khushi Cse: Any idea\n",
      "22/09/21, 8:37 am - Mamta Cse: 😂mam ab nii puchegu\n",
      "22/09/21, 8:37 am - Parul Cse: +1\n",
      "22/09/21, 8:37 am - Aman Cse: peterson's solution, synchronization hardware ,test and set, compare and swap\n",
      "22/09/21, 8:37 am - Khushi Cse: 😅😅\n",
      "22/09/21, 8:37 am - Parul Cse: This message was deleted\n",
      "22/09/21, 8:38 am - Khushi Cse: 😅🥲\n",
      "22/09/21, 8:38 am - Parul Cse: 🥲 jldi bta diya\n",
      "22/09/21, 8:38 am - Mamta Cse: 😂😂\n",
      "22/09/21, 8:38 am - Mamta Cse: Koi nii\n",
      "22/09/21, 8:38 am - Mamta Cse: Mam ko b samj nii aa rha\n",
      "22/09/21, 8:38 am - Mamta Cse: 🤣🤣\n",
      "22/09/21, 8:39 am - Aman Cse: Mujhe to khud abhi pta chla 🌚\n",
      "22/09/21, 8:39 am - Parul Cse: 😂\n",
      "22/09/21, 8:44 am - +91 88104 75823: Yeh experiment bhi hum pe karna tha\n",
      "22/09/21, 8:44 am - +91 88104 75823: 🙂\n",
      "22/09/21, 8:50 am - Nandini Cse: Yaar iss me batado kaise kaise questions poochte\n",
      "22/09/21, 8:51 am - +91 88104 75823: Gande\n",
      "22/09/21, 8:51 am - +91 88104 75823: Sab padhke jaao\n",
      "22/09/21, 8:51 am - +91 88104 75823: Aur DES ache se padhna\n",
      "22/09/21, 8:51 am - Nandini Cse: Btao toh sahi fir bhi\n",
      "22/09/21, 8:51 am - Nandini Cse: Tum se kaise kaise pooche\n",
      "22/09/21, 8:51 am - +91 88104 75823: Bas yeh mat keh dena 6 input hai 4 output s box ka\n",
      "22/09/21, 8:52 am - Akanksha Cse: Ye hi ni hota tha 🌚\n",
      "22/09/21, 8:52 am - +91 88104 75823: DES mein sab hi pooch lenge sir\n",
      "22/09/21, 8:52 am - Aman Cse: Ques btao yr\n",
      "22/09/21, 8:52 am - Nandini Cse: ++\n",
      "22/09/21, 8:52 am - Aman Cse: Samayveer sir kete viva ya ta?\n",
      "22/09/21, 8:52 am - Aman Cse: Lete*\n",
      "22/09/21, 8:52 am - Sheffy Cse: Ta\n",
      "22/09/21, 8:52 am - +91 88104 75823: Humaara Tyagi ne liya tha\n",
      "22/09/21, 8:52 am - Aman Cse: Acha\n",
      "22/09/21, 8:52 am - Aman Cse: 🌚\n",
      "22/09/21, 8:53 am - Aman Cse: Hmara bhi vhi hae\n",
      "22/09/21, 8:53 am - +91 75280 12541: +1\n",
      "22/09/21, 8:53 am - +91 88104 75823: Usme bhi tyagi why ya how daal dega\n",
      "22/09/21, 8:54 am - +91 88104 75823: Tum logo ne jo bhi bolna hai next question uska why ya how hi hoga\n",
      "22/09/21, 8:54 am - Akanksha Cse: Why kya jb hai hi or toh kuch padhaya ni\n",
      "22/09/21, 8:54 am - Akanksha Cse: Ye padhate hai ni kuch\n",
      "22/09/21, 8:54 am - Akanksha Cse: Puch itna lete\n",
      "22/09/21, 8:54 am - Akanksha Cse: 🥺\n",
      "22/09/21, 8:54 am - +91 75280 12541: Seriously pdhaate 2 kaudi kaa nii hai\n",
      "22/09/21, 8:56 am - +91 88104 75823: Rajneesh ko boli\n",
      "22/09/21, 8:56 am - +91 88104 75823: Aaj Rajneesh form mein hai\n",
      "22/09/21, 8:56 am - +91 75280 12541: <Media omitted>\n",
      "22/09/21, 8:56 am - Parul Cse: Rone ke\n",
      "22/09/21, 8:56 am - +91 88104 75823: Ghar pe ladai ki hai lagta hai\n",
      "22/09/21, 8:56 am - +91 88104 75823: 🙂\n",
      "22/09/21, 8:56 am - +91 75280 12541: 😂😂\n",
      "22/09/21, 8:56 am - Moni Cse: 😂\n",
      "22/09/21, 8:57 am - +91 75280 12541: Dil todd diaa hai ma'am.kaa kisinae\n",
      "22/09/21, 8:57 am - Unnisha Cse: 😂😂😂😂\n",
      "22/09/21, 8:57 am - +91 75280 12541: Ma'am emotional hai aaj\n",
      "22/09/21, 8:57 am - Khushi Cse: 😅🤧🥺🥲\n",
      "22/09/21, 8:58 am - +91 88104 75823: Mujhe dar hai kahi depression mein na chali jaaye itna dukh\n",
      "22/09/21, 8:59 am - Khushi Cse: Aho yrr pucha kyu isne\n",
      "22/09/21, 8:59 am - Khushi Cse: Khud hi start krdeti he\n",
      "22/09/21, 8:59 am - Khushi Cse: Ki kya karaya\n",
      "22/09/21, 8:59 am - Khushi Cse: Jab pta hi he\n",
      "22/09/21, 8:59 am - Khushi Cse: Koi ni sunta\n",
      "22/09/21, 8:59 am - +91 75280 12541: Sahii mein humari toh koi suggestion maani bhi nii😂\n",
      "22/09/21, 9:00 am - +91 75280 12541: Humein hee galay btadiaa\n",
      "22/09/21, 9:00 am - +91 75280 12541: *galat\n",
      "22/09/21, 10:29 am - Sejal Cse: Yrr ISS ki class bunk krvayo yrr\n",
      "23/09/21, 1:44 pm - Khushi Cse: Kis kisko BNY melon ka mail ayya aaj \n",
      "Acknowledge krna\n",
      "23/09/21, 1:57 pm - Shikha Cse: 👍\n",
      "23/09/21, 10:12 pm - Neetu Cse Nit: @IRs ..mere laptop me AMD ka processor hai to hme koi prblm hogi kya test dene me..??\n",
      "23/09/21, 10:13 pm - Neetu Cse Nit: Accenture ka\n",
      "23/09/21, 10:32 pm - Khushi Cse: <Media omitted>\n",
      "23/09/21, 10:34 pm - Neetu Cse Nit: Okkk\n",
      "24/09/21, 10:51 am - Nandini Cse: <Media omitted>\n",
      "24/09/21, 10:51 am - Nandini Cse: <Media omitted>\n",
      "24/09/21, 10:52 am - Khushi Cse: 😐😐🤧🤧\n",
      "24/09/21, 10:52 am - Khushi Cse: bss\n",
      "24/09/21, 10:52 am - Khushi Cse: hun izaat te gal\n",
      "24/09/21, 10:52 am - Khushi Cse: ayi pyi aa\n",
      "24/09/21, 10:52 am - Moni Cse: <Media omitted>\n",
      "24/09/21, 10:52 am - Khushi Cse: 🙂🙂\n",
      "24/09/21, 10:52 am - Nandini Cse: bhai kal se pata ni kitne taane sune hai\n",
      "24/09/21, 10:52 am - Khushi Cse: ++\n",
      "24/09/21, 10:52 am - Khushi Cse: nale kehn lag ge ki cs inni aukhi ni\n",
      "24/09/21, 10:52 am - Khushi Cse: bnde ta clubbing krke\n",
      "24/09/21, 10:52 am - Khushi Cse: bina padhe\n",
      "24/09/21, 10:52 am - Khushi Cse: le gye\n",
      "24/09/21, 10:52 am - Khushi Cse: ehje\n",
      "24/09/21, 10:52 am - Khushi Cse: tane\n",
      "24/09/21, 10:53 am - Khushi Cse: 😬😬\n",
      "24/09/21, 10:53 am - Nandini Cse: exaclty\n",
      "24/09/21, 10:53 am - Nandini Cse: ehdi pkka amazon wich intern laggi hai ke kissi program wichh enroll kitta\n",
      "24/09/21, 10:53 am - Nandini Cse: ?\n",
      "24/09/21, 10:54 am - Khushi Cse: menu ta aap smj ni ayi par amazon hi he\n",
      "24/09/21, 10:54 am - Khushi Cse: refrel vgera\n",
      "24/09/21, 10:54 am - Khushi Cse: houga\n",
      "24/09/21, 10:54 am - Khushi Cse: ki pta\n",
      "24/09/21, 10:54 am - Riyanshi Cse: amazon wow\n",
      "24/09/21, 10:54 am - Khushi Cse: hn\n",
      "24/09/21, 10:54 am - Khushi Cse: hmara bhi he\n",
      "24/09/21, 10:54 am - Riyanshi Cse: 2 coding round the\n",
      "24/09/21, 10:54 am - Khushi Cse: par\n",
      "24/09/21, 10:54 am - Riyanshi Cse: 1 interview\n",
      "24/09/21, 10:54 am - Khushi Cse: hn sada interview hoya ni hle\n",
      "24/09/21, 10:54 am - Riyanshi Cse: jisme log bol rhe ki sirf intro pucha usse\n",
      "24/09/21, 10:54 am - Nandini Cse: assi aiwe ikk dooje di paa dene haan congo khushi #facebook interned\n",
      "24/09/21, 10:54 am - Khushi Cse: nhi intro nhi aur bhi tha\n",
      "24/09/21, 10:54 am - Riyanshi Cse: nice idea\n",
      "24/09/21, 10:55 am - Khushi Cse: lmao\n",
      "24/09/21, 10:55 am - Khushi Cse: dalio\n",
      "24/09/21, 10:55 am - Khushi Cse: jara\n",
      "24/09/21, 10:55 am - Riyanshi Cse: mujhe log bol rhe thee\n",
      "24/09/21, 10:55 am - Khushi Cse: 😂😂😂🔥🔥🔥\n",
      "24/09/21, 10:55 am - Khushi Cse: thoda feel hi lelete\n",
      "24/09/21, 10:55 am - Khushi Cse: intern ta milni ni\n",
      "24/09/21, 10:55 am - Nandini Cse: haan\n",
      "24/09/21, 10:55 am - Nandini Cse: mera google paiyo\n",
      "24/09/21, 10:55 am - Rushika Cse: 1hr me sirf intro liya\n",
      "24/09/21, 10:55 am - Khushi Cse: ahoo ok\n",
      "24/09/21, 10:55 am - Khushi Cse: deal\n",
      "24/09/21, 10:55 am - Khushi Cse: rushika -> flipkart\n",
      "24/09/21, 10:55 am - Khushi Cse: khushi _> fb\n",
      "24/09/21, 10:56 am - Khushi Cse: nj -> google\n",
      "24/09/21, 10:56 am - Nandini Cse: yaar pata kya jab kissi ki lag jaati hai na toh log aise hi baatein banate hai\n",
      "24/09/21, 10:56 am - Khushi Cse: 😂😂🔥🔥\n",
      "24/09/21, 10:56 am - Khushi Cse: ahoo\n",
      "24/09/21, 10:56 am - Nandini Cse: amazon is not a chhoti motti cheez\n",
      "24/09/21, 10:56 am - Nandini Cse: faang\n",
      "24/09/21, 10:56 am - Khushi Cse: ++\n",
      "24/09/21, 10:56 am - Nandini Cse: hai\n",
      "24/09/21, 10:56 am - +91 75280 12541: Inko kyaa dikat hai\n",
      "24/09/21, 10:56 am - Khushi Cse: par ques sokhe c\n",
      "24/09/21, 10:56 am - Khushi Cse: bhut\n",
      "24/09/21, 10:56 am - Khushi Cse: eh v sacgh he\n",
      "24/09/21, 10:56 am - Khushi Cse: meri personally\n",
      "24/09/21, 10:56 am - Khushi Cse: gal hoyi\n",
      "24/09/21, 10:56 am - Khushi Cse: c\n",
      "24/09/21, 10:57 am - Nandini Cse: inko dukh hora inki ladkiyo ke liye\n",
      "24/09/21, 10:57 am - +91 75280 12541: 🥲\n",
      "24/09/21, 10:57 am - Khushi Cse: hn yrr appa nu v kuch krna chahida apni branch ka naam gir ra\n",
      "24/09/21, 10:57 am - Khushi Cse: 😂😬\n",
      "24/09/21, 10:58 am - Rushika Cse: chlo ab kiski interview nhi hui\n",
      "24/09/21, 10:58 am - Nandini Cse: haan\n",
      "24/09/21, 10:58 am - Khushi Cse: De shaw vali girls , GS vai girls and attlassian vali girls and wow wali girls *Go show the fire*\n",
      "24/09/21, 10:58 am - +91 75280 12541: Hnn\n",
      "24/09/21, 10:58 am - Rushika Cse: kisiiki lg gyi toh sbke sab status daaldo\n",
      "24/09/21, 10:58 am - Nandini Cse: sirf 2/25 placed\n",
      "24/09/21, 10:58 am - +91 75280 12541: Hnn\n",
      "24/09/21, 10:59 am - Khushi Cse: daldu congo rushika #flipkart intern\n",
      "24/09/21, 10:59 am - Khushi Cse: 😂😂\n",
      "24/09/21, 10:59 am - Nandini Cse: <Media omitted>\n",
      "24/09/21, 10:59 am - Rushika Cse: nah agar sach h toh daaldo\n",
      "24/09/21, 10:59 am - +91 75280 12541: Jab placement hogii tab inke mooh band honge\n",
      "24/09/21, 11:00 am - Khushi Cse: chalo bhai ladkio kisiki koi bhi intern lage yha btadena hum apko famous krenge aur hmari cs ko bhi\n",
      "24/09/21, 11:00 am - +91 75280 12541: 🤝🏻\n",
      "24/09/21, 11:00 am - Nandini Cse: wo hume kuchh bura thodhe bol rhe\n",
      "24/09/21, 11:00 am - Khushi Cse: hn\n",
      "24/09/21, 11:01 am - +91 75280 12541: Yrr mene bhi boht sunaa hai😂yeh baatein kis direction mein jaati hai i know that very well\n",
      "24/09/21, 11:01 am - +91 75280 12541: Isne nii kaha hai\n",
      "24/09/21, 11:01 am - Nandini Cse: tum toh ladki ho fir bhi nhi lag rhi 🤡\n",
      "24/09/21, 11:01 am - +91 75280 12541: Exactly\n",
      "24/09/21, 11:02 am - Khushi Cse: 🥲hmm\n",
      "24/09/21, 11:02 am - +91 75280 12541: Cse mein ho bohtt opportunities hai tumhare paas phir bhi nii\n",
      "24/09/21, 11:02 am - Nandini Cse: haan\n",
      "24/09/21, 11:02 am - Nandini Cse: offcampus karo\n",
      "24/09/21, 11:02 am - Nandini Cse: waise tumne ek hisaab lgaya\n",
      "24/09/21, 11:02 am - +91 75280 12541: Hum hotey toh cse walon ko tough competition dete\n",
      "24/09/21, 11:02 am - Nandini Cse: cse waali ladkiyo ko bahut dikkat hai\n",
      "24/09/21, 11:02 am - Khushi Cse: Aho tumhe toh vese hi priority milti he tab bhi baki le gye 😬\n",
      "24/09/21, 11:02 am - Aman Cse: Unho bolo le lete cse tab\n",
      "24/09/21, 11:03 am - Khushi Cse: Kese\n",
      "24/09/21, 11:03 am - +91 75280 12541: Yaa\n",
      "24/09/21, 11:03 am - Nandini Cse: like doosrii branch waalo ke taane ki cse hai bahut opportunities hongi, plus apni class ke ladko ke taane ki ladkya ho\n",
      "24/09/21, 11:03 am - Nandini Cse: cse girls problems>>>>\n",
      "24/09/21, 11:03 am - Riyanshi Cse: ++\n",
      "24/09/21, 11:03 am - +91 75280 12541: Companies kae naam ginwane lagg gyee yeh aayi humara kyaa mene seedha boldiaa karle tuu bhi off campus😂\n",
      "24/09/21, 11:03 am - Khushi Cse: Baki branch ke ladke support bdda krte he\n",
      "24/09/21, 11:03 am - Khushi Cse: Hmare vvale 😂😂 tanne marte he\n",
      "24/09/21, 11:03 am - +91 75280 12541: Truee yrr\n",
      "24/09/21, 11:04 am - Nandini Cse: haan\n",
      "24/09/21, 11:04 am - Nandini Cse: yeh group me daal doon?\n",
      "24/09/21, 11:04 am - +91 75280 12541: <Media omitted>\n",
      "24/09/21, 11:04 am - Khushi Cse: Naah\n",
      "24/09/21, 11:04 am - Khushi Cse: 😂\n",
      "24/09/21, 11:04 am - Nandini Cse: mtlb specifically GIRLS ki\n",
      "24/09/21, 11:04 am - Aman Cse: Bhej de 😂\n",
      "24/09/21, 11:04 am - +91 75280 12541: Kya hogaa 2 baatein aur bol denge😂😂\n",
      "24/09/21, 11:04 am - Nandini Cse: tera naam ni aayga\n",
      "24/09/21, 11:04 am - Khushi Cse: Kuttii\n",
      "24/09/21, 11:04 am - Khushi Cse: 😬\n",
      "24/09/21, 11:04 am - Nandini Cse: forward karna hai\n",
      "24/09/21, 11:04 am - Khushi Cse: Mere se vese hi chidte he\n",
      "24/09/21, 11:04 am - Khushi Cse: 😬\n",
      "24/09/21, 11:04 am - Aman Cse: <Media omitted>\n",
      "24/09/21, 11:05 am - Khushi Cse: 😑\n",
      "24/09/21, 11:05 am - Riyanshi Cse: nhiiiii\n",
      "24/09/21, 11:05 am - Nandini Cse: hain?\n",
      "24/09/21, 11:05 am - +91 75280 12541: Btana kiyun hai kisne kyaa bolaa hai 😂\n",
      "24/09/21, 11:05 am - Ishita Cse: I think intimidate hote hain\n",
      "And that's their problem \n",
      "Tu mast hai\n",
      "24/09/21, 11:05 am - Khushi Cse: Hn\n",
      "24/09/21, 11:05 am - +91 75280 12541: +1\n",
      "24/09/21, 11:05 am - Khushi Cse: 😂ty\n",
      "24/09/21, 11:05 am - Khushi Cse: Ty\n",
      "24/09/21, 11:05 am - Nandini Cse: wohi toh bola\n",
      "24/09/21, 11:05 am - Khushi Cse: Ok dalde\n",
      "24/09/21, 11:05 am - Nandini Cse: ++ karna\n",
      "24/09/21, 11:06 am - Khushi Cse: Aho pehle riyanshi\n",
      "24/09/21, 11:06 am - Khushi Cse: Fir me\n",
      "24/09/21, 11:06 am - Khushi Cse: 😂\n",
      "24/09/21, 11:06 am - +91 75280 12541: 😂\n",
      "24/09/21, 11:06 am - Nandini Cse: Done\n",
      "24/09/21, 11:06 am - Nandini Cse: <Media omitted>\n",
      "24/09/21, 11:06 am - Khushi Cse: Krri ++\n",
      "24/09/21, 11:06 am - Khushi Cse: Fir me krungi\n",
      "24/09/21, 11:06 am - Riyanshi Cse: mai seemant ka murder krdu\n",
      "24/09/21, 11:06 am - +91 75280 12541: Oka\n",
      "24/09/21, 11:07 am - Khushi Cse: ++\n",
      "24/09/21, 11:07 am - Nandini Cse: Bhai\n",
      "24/09/21, 11:07 am - Nandini Cse: Sapot kro\n",
      "24/09/21, 11:07 am - Mamta Cse: go pls\n",
      "24/09/21, 11:07 am - Mamta Cse: krde\n",
      "24/09/21, 11:07 am - Mamta Cse: quiz\n",
      "24/09/21, 11:07 am - Nandini Cse: Wo haavi ho rhe\n",
      "24/09/21, 11:07 am - +91 75280 12541: Isse bolo apni sachai apne paas rakhe\n",
      "24/09/21, 11:07 am - +91 75280 12541: Emotionless insan hai yeh\n",
      "24/09/21, 11:07 am - Khushi Cse: Aho\n",
      "24/09/21, 11:08 am - Khushi Cse: Krdo koi dupport\n",
      "24/09/21, 11:08 am - Khushi Cse: 😬\n",
      "24/09/21, 11:08 am - +91 75280 12541: Pehle test dele\n",
      "24/09/21, 11:08 am - Mamta Cse: https://docs.google.com/forms/d/e/1FAIpQLScDR_0r923GJ1icf91r_JSzmt2vnXh6KIagiJoXArlIP9Ohug/viewform?hr_submission=ChkI9sCtpPYBEhAIrLTkqNwLEgcI6fugs-kKEAE\n",
      "24/09/21, 11:21 am - Nandini Cse: Chale group me??\n",
      "24/09/21, 11:21 am - Khushi Cse: Ab support kro\n",
      "24/09/21, 11:21 am - Khushi Cse: Girls\n",
      "24/09/21, 11:21 am - Khushi Cse: Aho\n",
      "24/09/21, 11:22 am - Khushi Cse: Aman riyanshi\n",
      "24/09/21, 11:22 am - Khushi Cse: Kro\n",
      "24/09/21, 11:22 am - Khushi Cse: Yrr\n",
      "24/09/21, 11:22 am - Khushi Cse: Hun bol v\n",
      "24/09/21, 11:22 am - Akanksha Cse: <Media omitted>\n",
      "24/09/21, 11:22 am - Mamta Cse: Chlo\n",
      "24/09/21, 11:22 am - Khushi Cse: Tu bhi\n",
      "24/09/21, 11:22 am - Khushi Cse: 😂\n",
      "24/09/21, 11:22 am - Khushi Cse: Bol\n",
      "24/09/21, 11:22 am - Akanksha Cse: <Media omitted>\n",
      "24/09/21, 11:22 am - Akanksha Cse: Ye bhejdo bs 😂\n",
      "24/09/21, 11:22 am - Khushi Cse: <Media omitted>\n",
      "24/09/21, 11:22 am - Khushi Cse: Tu bhejiiii\n",
      "24/09/21, 11:22 am - Sejal Cse: you know what the best way to shut them up is that ki hmm intern jaldi lgwa le\n",
      "24/09/21, 11:22 am - Akanksha Cse: Lol agr itni himmat hoti toh kya baat 😂😂😂\n",
      "24/09/21, 11:22 am - Nandini Cse: Bhai aaj baat taalni ni hai\n",
      "24/09/21, 11:23 am - Khushi Cse: Vo usme bhi khenge ki girls ho\n",
      "24/09/21, 11:23 am - Khushi Cse: Isliye\n",
      "24/09/21, 11:23 am - Khushi Cse: Lag gyi\n",
      "24/09/21, 11:23 am - Nandini Cse: Kaafi time ho gya\n",
      "24/09/21, 11:23 am - Khushi Cse: <Media omitted>\n",
      "24/09/21, 11:23 am - Nandini Cse: Sunte huye\n",
      "24/09/21, 11:23 am - Nandini Cse: +++\n",
      "24/09/21, 11:23 am - Khushi Cse: Yrr kro gallh inko chup krana jaruri je\n",
      "24/09/21, 11:23 am - Akanksha Cse: Haan yaar ye zyada hi superior smjhte khud ko\n",
      "24/09/21, 11:23 am - Nandini Cse: Sirf seemant\n",
      "24/09/21, 11:24 am - Akanksha Cse: Sbhi uski chaat te phir\n",
      "24/09/21, 11:24 am - Nandini Cse: Itni bezzati karti hoon iski main fir bhi\n",
      "24/09/21, 11:24 am - Khushi Cse: Yrr dekho baat hum toh chedenge pehle sab agree kro ki support kroge\n",
      "24/09/21, 11:24 am - Khushi Cse: I m in 1\n",
      "24/09/21, 11:24 am - Nandini Cse: Khushi java java me yaad hai\n",
      "24/09/21, 11:24 am - Nandini Cse: White, tall, brunette\n",
      "24/09/21, 11:24 am - Khushi Cse: Objects\n",
      "24/09/21, 11:24 am - Mamta Cse: Yarr sabse mst tareeka ye h ki usko bolne hi na do 😂\n",
      "24/09/21, 11:25 am - Nandini Cse: Chalo phir\n",
      "24/09/21, 11:25 am - Nandini Cse: Group me\n",
      "24/09/21, 11:25 am - Mamta Cse: I m there\n",
      "24/09/21, 11:25 am - Mamta Cse: +2\n",
      "24/09/21, 11:25 am - Nandini Cse: Bolo kuchh\n",
      "24/09/21, 11:25 am - Khushi Cse: Girlsssss\n",
      "24/09/21, 11:25 am - Mamta Cse: <Media omitted>\n",
      "24/09/21, 11:25 am - +91 75280 12541: Sachii\n",
      "24/09/21, 11:25 am - Khushi Cse: 3 higye\n",
      "24/09/21, 11:25 am - Nandini Cse: Seemnat sir se jyada toh sayad hi koi samjhdar hoga\n",
      "24/09/21, 11:25 am - Khushi Cse: Aur bolo\n",
      "24/09/21, 11:25 am - Khushi Cse: 😂\n",
      "24/09/21, 11:26 am - Nandini Cse: Iss waale message pe likhdo avg seemant ka chamcha\n",
      "24/09/21, 11:26 am - +91 75280 12541: Chutiya\n",
      "24/09/21, 11:26 am - Nandini Cse: Aage se hum aate hai\n",
      "24/09/21, 11:26 am - Khushi Cse: Yaar seemant and sir koi do do galiya ek sath kese de skta he\n",
      "24/09/21, 11:26 am - +91 75280 12541: Ek likho hum support krdenge\n",
      "24/09/21, 11:26 am - Khushi Cse: 😬😬\n",
      "24/09/21, 11:26 am - +91 75280 12541: <Media omitted>\n",
      "24/09/21, 11:28 am - Nandini Cse: Ruko main chaar paanch ladke karti hoon apni taraf\n",
      "24/09/21, 11:29 am - Khushi Cse: Aho😂\n",
      "24/09/21, 11:34 am - Mamta Cse: 🔥🔥\n",
      "24/09/21, 11:35 am - Mamta Cse: Ye kya ho gya 😂\n",
      "24/09/21, 11:35 am - Khushi Cse: Hahahah\n",
      "24/09/21, 11:35 am - Khushi Cse: Ye harshiy\n",
      "24/09/21, 11:35 am - Khushi Cse: Aur\n",
      "24/09/21, 11:35 am - Khushi Cse: Seemant\n",
      "24/09/21, 11:35 am - Khushi Cse: Ne\n",
      "24/09/21, 11:35 am - Khushi Cse: Apne\n",
      "24/09/21, 11:35 am - Khushi Cse: Aap\n",
      "24/09/21, 11:35 am - Khushi Cse: Ko\n",
      "24/09/21, 11:36 am - Khushi Cse: Supreme\n",
      "24/09/21, 11:36 am - Khushi Cse: Samj\n",
      "24/09/21, 11:36 am - Khushi Cse: Rakha he\n",
      "24/09/21, 11:36 am - Mamta Cse: 😂😂\n",
      "24/09/21, 11:36 am - Nandini Cse: Suno girls\n",
      "24/09/21, 11:36 am - Sejal Cse: isme bhi ek boy cr ka decision dominate krgaya group shant krne ka\n",
      "24/09/21, 11:36 am - Khushi Cse: Well hume toh bolne ki liberty tak nhi he\n",
      "24/09/21, 11:36 am - Khushi Cse: Ab\n",
      "24/09/21, 11:36 am - Nandini Cse: Seemant hai haryana ka\n",
      "24/09/21, 11:36 am - Nandini Cse: Usne ladkiya ni dekhi\n",
      "24/09/21, 11:36 am - Khushi Cse: Aho\n",
      "24/09/21, 11:36 am - Nandini Cse: Uspne baat karte hai\n",
      "24/09/21, 11:36 am - Khushi Cse: Haryana ki hi he girls\n",
      "24/09/21, 11:36 am - Mamta Cse: 🤣🤣\n",
      "24/09/21, 11:36 am - Khushi Cse: Making india Proud\n",
      "24/09/21, 11:37 am - Nandini Cse: Bas ek stereotypical soch hai uske basis pe chali jaa reha\n",
      "24/09/21, 11:37 am - Nandini Cse: Btw yeh abhilasha wgara kaha hai?\n",
      "24/09/21, 11:39 am - Khushi Cse: I dk she could have joined us in this well\n",
      "24/09/21, 11:39 am - +91 78889 72864: yhi hu\n",
      "24/09/21, 11:39 am - +91 78889 72864: i dont think seemant ko kuch bolne se usse kuch fark pdega\n",
      "24/09/21, 11:40 am - Mamta Cse: Dheet h\n",
      "24/09/21, 11:40 am - Akanksha Cse: ++ it's like banging our own heads against the wall\n",
      "24/09/21, 11:40 am - +91 78889 72864: it's like \"bhains k aage been bajana\".\n",
      "24/09/21, 11:41 am - Nandini Cse: Its like wo jo bol rha hai sunte jana\n",
      "24/09/21, 11:43 am - Nandini Cse: Yaar what is with the term kuchh milega\n",
      "24/09/21, 11:43 am - Nandini Cse: Wo sochta hai kuchh milega\n",
      "24/09/21, 11:44 am - Khushi Cse: Aho kabhi kabhi jyada hone pe bta dena chahiye ki chup hone ka matlab ye nhi hota ki kuch bhi bolo aur sunte rhe hum\n",
      "24/09/21, 11:44 am - Khushi Cse: Hn he just objectified girls\n",
      "24/09/21, 11:45 am - Sejal Cse: I guess vo vaise bhi aaj ladkiyon ka josh dekh ke chup hi tha until and unless kuch group ke maindak ( frog) jo tamasha dekhne aaye the vo prompt nhi krte\n",
      "24/09/21, 11:45 am - Sejal Cse: I don't think he is gutsy enough ki vo aag me haath dede\n",
      "24/09/21, 11:45 am - Khushi Cse: bro yeh wohi hena jo end me khegi \"you dont know how to respect girls\"\n",
      "24/09/21, 11:45 am - Khushi Cse: Ah dekhlo\n",
      "24/09/21, 11:45 am - Khushi Cse: Kive bolan lagge ne\n",
      "24/09/21, 11:46 am - Nandini Cse: Kon hai yeh lamba waala?\n",
      "24/09/21, 11:46 am - Khushi Cse: Aho\n",
      "24/09/21, 11:46 am - Khushi Cse: Hahaha dar gya\n",
      "24/09/21, 11:46 am - Aman Cse: Are phir shuru hone vala\n",
      "24/09/21, 11:46 am - Ishita Cse: is this a feminist protest\n",
      "24/09/21, 11:46 am - Akanksha Cse: ++ kro saareee\n",
      "24/09/21, 11:46 am - Akanksha Cse: 😂😂\n",
      "24/09/21, 11:46 am - Ishita Cse: Yeh log ko feminist pata kya hota?\n",
      "24/09/21, 11:46 am - +91 75280 12541: Mein yhii krr rhii thii😂\n",
      "24/09/21, 11:47 am - Khushi Cse: Aho\n",
      "24/09/21, 11:47 am - Akanksha Cse: Abhi kroo\n",
      "24/09/21, 11:47 am - Khushi Cse: 😂\n",
      "24/09/21, 11:50 am - Khushi Cse: Aaj swaad\n",
      "24/09/21, 11:50 am - Khushi Cse: Ayega\n",
      "24/09/21, 11:50 am - Khushi Cse: 😂😂😂🔥🔥\n",
      "24/09/21, 11:50 am - Nandini Cse: 🤩🤩🤩🤩\n",
      "24/09/21, 11:50 am - Mamta Cse: 😂😂\n",
      "24/09/21, 11:50 am - Akanksha Cse: <Media omitted>\n",
      "24/09/21, 11:51 am - Nandini Cse: Cutie\n",
      "24/09/21, 11:51 am - Sejal Cse: Btw first ever computer program was written by a female\n",
      "24/09/21, 11:52 am - Nandini Cse: Yeh mat likh dena\n",
      "24/09/21, 11:52 am - Nandini Cse: 😂😂😂\n",
      "24/09/21, 11:52 am - Khushi Cse: 😂\n",
      "24/09/21, 11:52 am - Akanksha Cse: 😂\n",
      "24/09/21, 11:52 am - Mamta Cse: Likh de for your kind info seemant\n",
      "24/09/21, 11:52 am - Mamta Cse: 😂🤣\n",
      "24/09/21, 11:52 am - Nandini Cse: Nhi nhi\n",
      "24/09/21, 11:52 am - Khushi Cse: Rehn do firse gender bias\n",
      "24/09/21, 11:52 am - Khushi Cse: Honega\n",
      "24/09/21, 11:52 am - Mamta Cse: Seemant shadi nii krega ??\n",
      "24/09/21, 11:52 am - Mamta Cse: 🤔\n",
      "24/09/21, 11:52 am - Khushi Cse: Appa feminist nhi he\n",
      "24/09/21, 11:52 am - Khushi Cse: Bass anti feminist bhi nhi\n",
      "24/09/21, 11:52 am - Nandini Cse: ++\n",
      "24/09/21, 11:52 am - Mamta Cse: Seemant k kabhi koi gf nii thi\n",
      "24/09/21, 11:53 am - Khushi Cse: He\n",
      "24/09/21, 11:53 am - Mamta Cse: ??\n",
      "24/09/21, 11:53 am - Mamta Cse: 🤔\n",
      "24/09/21, 11:53 am - Sejal Cse: Usse koi nhi krega\n",
      "24/09/21, 11:53 am - Nandini Cse: Tabhi toh aisa ha8\n",
      "24/09/21, 11:53 am - Mamta Cse: Ohh he is virgin ??\n",
      "24/09/21, 11:53 am - Khushi Cse: Tune soch bhi kese liya\n",
      "24/09/21, 11:53 am - Mamta Cse: 😂😂\n",
      "24/09/21, 11:53 am - Khushi Cse: 😂😂\n",
      "24/09/21, 11:53 am - Mamta Cse: Lol\n",
      "24/09/21, 11:53 am - Mamta Cse: Lifetime lock lga rakha h 😳ohhh\n",
      "24/09/21, 11:53 am - Rushika Cse: Ohh i feel so bad for her if exists\n",
      "24/09/21, 11:53 am - +91 75280 12541: 😂😂\n",
      "24/09/21, 11:53 am - Nandini Cse: Suno suno\n",
      "24/09/21, 11:53 am - Mamta Cse: 🤣🤣\n",
      "24/09/21, 11:53 am - Rushika Cse: Lock😂😂😂😂\n",
      "24/09/21, 11:53 am - +91 75280 12541: Dukh hogaa bechare ko😂😂😂\n",
      "24/09/21, 11:54 am - Nandini Cse: Next time yeh ek doosro ko support karege na toh bol dena, tujhe bhi seemant se kuchh chahiye?\n",
      "24/09/21, 11:54 am - Sejal Cse: 😳expression to tune aisa daala hai jaise tune khud ne loose krdi ho Mamta\n",
      "24/09/21, 11:54 am - Mamta Cse: 🤣🤣🤣\n",
      "24/09/21, 11:54 am - Riyanshi Cse: 😂😂\n",
      "24/09/21, 11:54 am - Mamta Cse: Han might b he is bisexual\n",
      "24/09/21, 11:54 am - Mamta Cse: Or might b kuch or hi\n",
      "24/09/21, 11:54 am - Nandini Cse: Haan itna keh dena\n",
      "24/09/21, 11:54 am - Moni Cse: 🤣🤣\n",
      "24/09/21, 11:54 am - Khushi Cse: Ek bhi ladka bola ni\n",
      "24/09/21, 11:55 am - Khushi Cse: Apne grp me darke\n",
      "24/09/21, 11:55 am - Khushi Cse: Bethe he\n",
      "24/09/21, 11:55 am - Khushi Cse: 😂\n",
      "24/09/21, 11:55 am - Mamta Cse: 😂😂\n",
      "24/09/21, 11:55 am - +91 75280 12541: 😂😂😂\n",
      "24/09/21, 11:55 am - Akanksha Cse: 😂😂😂\n",
      "24/09/21, 11:55 am - Mamta Cse: Unko pta h ye gang war h\n",
      "24/09/21, 11:55 am - Khushi Cse: Ahooo\n",
      "24/09/21, 11:55 am - +91 75280 12541: Unka guru nii aaya naa bechare chele aakar bhi kyaa karenge\n",
      "24/09/21, 11:55 am - +91 75280 12541: Jab woh aayega uske kandhe oar bandook rakh kae chalayenge\n",
      "24/09/21, 11:55 am - +91 75280 12541: 😂😂\n",
      "24/09/21, 11:55 am - Riyanshi Cse: Ab next time kbhi kuch bolne lgee firr tbhi reply kree tb yeh chup honge\n",
      "24/09/21, 11:56 am - Nandini Cse: Haan\n",
      "24/09/21, 11:56 am - Unnisha Cse: 😂😂😂\n",
      "24/09/21, 11:56 am - Khushi Cse: Ahoo wo bichara khud hi shocked hoga ye ladkia bolti bhi he\n",
      "24/09/21, 11:56 am - +91 75280 12541: Hnn 2 saal hogyee inki.yeh bakwas sunte\n",
      "24/09/21, 11:56 am - Khushi Cse: 😬😬😂😂\n",
      "24/09/21, 11:56 am - Nandini Cse: +++\n",
      "24/09/21, 11:56 am - Aman Cse: Are g4 ka tut chal rha\n",
      "24/09/21, 11:56 am - Aman Cse: Uske bad aayenge yeh ladne\n",
      "24/09/21, 11:57 am - +91 75280 12541: usne humein underestimate karliaa\n",
      "24/09/21, 11:57 am - Unnisha Cse: Hn n tvi seemant chup h\n",
      "24/09/21, 11:57 am - Aman Cse: Ready regna 😂\n",
      "24/09/21, 11:57 am - Aman Cse: Rehna*\n",
      "24/09/21, 11:57 am - Mamta Cse: Okk kisi din Sunday ko pelte h 😂\n",
      "24/09/21, 11:57 am - Khushi Cse: Ohhh\n",
      "24/09/21, 11:57 am - Khushi Cse: 😂😂\n",
      "24/09/21, 11:57 am - +91 75280 12541: Acha\n",
      "24/09/21, 11:57 am - Kumud Cse: 😅😅\n",
      "24/09/21, 11:57 am - Khushi Cse: Ok girls army fir kisi ek pe attack hoga toh sabhi support krna\n",
      "24/09/21, 11:57 am - Sejal Cse: Dangal dangal\n",
      "24/09/21, 11:57 am - Khushi Cse: 🔥🔥\n",
      "24/09/21, 11:57 am - Nandini Cse: Suno\n",
      "24/09/21, 11:57 am - +91 75280 12541: Sure🤝🏻\n",
      "24/09/21, 11:58 am - Aman Cse: Sunao\n",
      "24/09/21, 11:58 am - Nandini Cse: Koi bhi feminist baat nahi karega\n",
      "24/09/21, 11:58 am - Sejal Cse: ++\n",
      "24/09/21, 11:58 am - Nandini Cse: Wo e weak point hai\n",
      "24/09/21, 11:58 am - Nandini Cse: Wo wahi pakdege\n",
      "24/09/21, 11:58 am - Khushi Cse: Hn apna mudda ladki ladki ka nhi he baad unity ka he ki koi khud ko supreme na smje\n",
      "24/09/21, 11:58 am - Akanksha Cse: <Media omitted>\n",
      "24/09/21, 11:58 am - Khushi Cse: Hm\n",
      "24/09/21, 11:58 am - Nandini Cse: Haan\n",
      "24/09/21, 11:59 am - +91 75280 12541: Yaa\n",
      "24/09/21, 11:59 am - Nandini Cse: Chalo samjh lo supreme, main khud smajhti hoon\n",
      "24/09/21, 11:59 am - Nandini Cse: Pas doosro ko inferior naa bolo\n",
      "24/09/21, 11:59 am - Aman Cse: Yess\n",
      "24/09/21, 11:59 am - +91 75280 12541: Wahii\n",
      "24/09/21, 11:59 am - +91 81785 10488: Kya hai mudda? Exactly?\n",
      "24/09/21, 11:59 am - Khushi Cse: Ahoo vhi samjna alag he aur show krna alag\n",
      "24/09/21, 11:59 am - Nandini Cse: Naa hi yeh bolo ki agar koi ladka humse baat kar rha toh wo sirf *SEX* ke liye\n",
      "24/09/21, 12:00 pm - Nandini Cse: Wtf is kuchh milega\n",
      "24/09/21, 12:00 pm - Akanksha Cse: <Media omitted>\n",
      "24/09/21, 12:00 pm - Khushi Cse: Ki seemant and boisss have factualised the thing ki ladkiaa weak he aur inferior he aur hume support krne valo ko humse kuch chahiye\n",
      "24/09/21, 12:00 pm - Nandini Cse: Yeh bhej di Akanksha\n",
      "24/09/21, 12:00 pm - +91 75280 12541: <Media omitted>\n",
      "24/09/21, 12:00 pm - Nandini Cse: Ngl\n",
      "24/09/21, 12:00 pm - Khushi Cse: .... This is the issue\n",
      "24/09/21, 12:01 pm - Sheetal Cse: 🤣🤣\n",
      "24/09/21, 12:01 pm - Moni Cse: 🤣🤣🤣\n",
      "24/09/21, 12:01 pm - Ishita Cse: The boys said that we are weak and Inferior???\n",
      "24/09/21, 12:02 pm - +91 88104 75823: Noice\n",
      "24/09/21, 12:02 pm - Mamta Cse: 🔥\n",
      "24/09/21, 12:02 pm - Khushi Cse: Actually all the way they say u r and they taunt us ki agar hum kuch achieve krte he toh woh hmari ability ke karan nhi gender ke karan he cause we r girls\n",
      "24/09/21, 12:03 pm - Nandini Cse: Not aĺl boys\n",
      "24/09/21, 12:03 pm - Nandini Cse: Seemant\n",
      "24/09/21, 12:03 pm - Khushi Cse: Seemant and boissss\n",
      "24/09/21, 12:03 pm - Khushi Cse: ..\n",
      "24/09/21, 12:03 pm - Ishita Cse: Yes that seemant does\n",
      "Ussko diversity hiring and reserved seats se problem hai\n",
      "24/09/21, 12:03 pm - Khushi Cse: Aur uske kuch gine hue chamcho ko bhi\n",
      "24/09/21, 12:04 pm - Nandini Cse: Boiss bhi sirf Harshit, tarun , vasu hai\n",
      "24/09/21, 12:05 pm - Khushi Cse: Shouldnt we be praised for the achievement rather than factualising ki acha acha milni hi thi ladki hena\n",
      "24/09/21, 12:06 pm - Nandini Cse: Wo log bol rahe hai ki meme banao\n",
      "24/09/21, 12:06 pm - Khushi Cse: Hum kya interviewr ko *kuch chahiye* krke atte he as per seemant sir\n",
      "24/09/21, 12:06 pm - Ishita Cse: Yes this is wrong I agree\n",
      "But group mein usski virginity ya usski love life ya woh kahan se hai uss par attack mat karna\n",
      "Cause woh phir galat lagega \n",
      "Ki aur koi valid points nahi toh yahan aa gaye\n",
      "24/09/21, 12:06 pm - Nandini Cse: Aur stickers\n",
      "24/09/21, 12:06 pm - Nandini Cse: Ladkio pe\n",
      "24/09/21, 12:06 pm - Khushi Cse: Hn we arent\n",
      "24/09/21, 12:06 pm - Khushi Cse: Hm ni bnare\n",
      "24/09/21, 12:06 pm - Khushi Cse: 😂😂\n",
      "24/09/21, 12:06 pm - Nandini Cse: Arey\n",
      "24/09/21, 12:06 pm - Nandini Cse: Boys bol rhe ki girls pe banao\n",
      "24/09/21, 12:07 pm - Mamta Cse: Nah bro nii krte wo toh bas idhr hi maze lene ki liye bola 😂\n",
      "24/09/21, 12:07 pm - Mamta Cse: You mean stickers ??\n",
      "24/09/21, 12:07 pm - Mamta Cse: Shubham ko apni side lelo 😂 seemant ka kam khtm\n",
      "24/09/21, 12:07 pm - Khushi Cse: Hum par🙄 baas iske sivaye aur kuch mila ni hoga na krne ko\n",
      "24/09/21, 12:07 pm - Khushi Cse: Bichare\n",
      "24/09/21, 12:07 pm - Nandini Cse: 😂😂😂\n",
      "24/09/21, 12:08 pm - Khushi Cse: Vipul\n",
      "24/09/21, 12:08 pm - Mamta Cse: 😂😂\n",
      "24/09/21, 12:08 pm - Khushi Cse: 🔥\n",
      "24/09/21, 12:08 pm - Khushi Cse: 😂😂😂😂vo seemant ke khilaaf protest dekh ke\n",
      "24/09/21, 12:08 pm - Khushi Cse: Vese hi\n",
      "24/09/21, 12:08 pm - Khushi Cse: Khush\n",
      "24/09/21, 12:08 pm - Khushi Cse: Hogya\n",
      "24/09/21, 12:08 pm - Khushi Cse: 😂😂\n",
      "24/09/21, 12:08 pm - Mamta Cse: 😂😂\n",
      "24/09/21, 12:08 pm - Nandini Cse: 😂😂😂😂😂\n",
      "24/09/21, 12:09 pm - Akanksha Cse: 😂😂😂\n",
      "24/09/21, 12:10 pm - Nandini Cse: Class khtam hon waali h\n",
      "24/09/21, 12:11 pm - Nandini Cse: Aan do uhna nu\n",
      "24/09/21, 12:11 pm - Akanksha Cse: Dekh toh 20 min pehle hi liya\n",
      "24/09/21, 12:11 pm - Nandini Cse: Kyaa?\n",
      "24/09/21, 12:11 pm - Akanksha Cse: Group ke msgs\n",
      "24/09/21, 12:13 pm - Nandini Cse: Seemant ne ni ekhe\n",
      "24/09/21, 12:14 pm - Akanksha Cse: Dekhliya\n",
      "24/09/21, 12:15 pm - Khushi Cse: 😂😂fir introsepection\n",
      "24/09/21, 12:15 pm - Khushi Cse: Kr ra hoga\n",
      "24/09/21, 12:15 pm - +91 75280 12541: 🤣🤣🤣🤣\n",
      "24/09/21, 12:15 pm - Khushi Cse: Ye kya hua\n",
      "24/09/21, 12:15 pm - Khushi Cse: Kese hua\n",
      "24/09/21, 12:15 pm - +91 75280 12541: 😂😂😂\n",
      "24/09/21, 12:16 pm - Nandini Cse: <Media omitted>\n",
      "24/09/21, 12:16 pm - Nandini Cse: <Media omitted>\n",
      "24/09/21, 12:17 pm - Khushi Cse: 😂😂😂\n",
      "24/09/21, 12:17 pm - Akanksha Cse: Yehi kr skte ye\n",
      "24/09/21, 12:17 pm - Mamta Cse: 🤣lol\n",
      "24/09/21, 12:17 pm - Khushi Cse: +1 bichare argument me kuch bolne ko na ho\n",
      "24/09/21, 12:17 pm - Khushi Cse: Toh yhi\n",
      "24/09/21, 12:17 pm - Khushi Cse: Krna padta he\n",
      "24/09/21, 12:17 pm - Khushi Cse: Sticker bnake\n",
      "24/09/21, 12:17 pm - Khushi Cse: Chup krana\n",
      "24/09/21, 12:17 pm - Mamta Cse: Boys kon h ?\n",
      "24/09/21, 12:18 pm - Nandini Cse: Apni class ke\n",
      "24/09/21, 12:18 pm - Khushi Cse: Aur sticket bnane ke liye kon bola vasu?\n",
      "24/09/21, 12:18 pm - Mamta Cse: 😂🤣🤣\n",
      "24/09/21, 12:18 pm - Nandini Cse: Maine saaf saaf bol diya ki mere kisse dost ne seemant ko suppart kiya dosti khatam\n",
      "24/09/21, 12:18 pm - Mamta Cse: 🔥\n",
      "24/09/21, 12:18 pm - Nandini Cse: Vasu ke toh boobs bhi hai, uski kya baat\n",
      "24/09/21, 12:19 pm - Akanksha Cse: <Media omitted>\n",
      "24/09/21, 12:19 pm - Mamta Cse: 🤭🤣🤣\n",
      "24/09/21, 12:19 pm - Khushi Cse: 😂😂😂😂😂😂😂😂😂\n",
      "Yrr seemant ko support krne ki baat nhi he \n",
      "Bas agar ye objectify krne se problem he aur uski support meko lagta bhi nhi ki koi krega yha ar\n",
      "24/09/21, 12:19 pm - Khushi Cse: Mast sticker he\n",
      "24/09/21, 12:19 pm - Khushi Cse: <Media omitted>\n",
      "24/09/21, 12:19 pm - Nandini Cse: <Media omitted>\n",
      "24/09/21, 12:20 pm - Khushi Cse: ?\n",
      "24/09/21, 12:20 pm - Nandini Cse: <Media omitted>\n",
      "24/09/21, 12:20 pm - Khushi Cse: Chala hi ni\n",
      "24/09/21, 12:20 pm - Khushi Cse: Hn ye toh bolenge agar sticker bnayenge\n",
      "24/09/21, 12:20 pm - Moni Cse: Yaar 😂😂\n",
      "24/09/21, 12:20 pm - Khushi Cse: Toh yhi kehna he\n",
      "24/09/21, 12:20 pm - Nandini Cse: Chal rha\n",
      "24/09/21, 12:20 pm - Khushi Cse: *kuch milta* he kya seemant se?\n",
      "24/09/21, 12:20 pm - Akanksha Cse: 😂😂😂💯💯\n",
      "24/09/21, 12:20 pm - Nandini Cse: <Media omitted>\n",
      "24/09/21, 12:20 pm - Nandini Cse: Nhiii\n",
      "24/09/21, 12:20 pm - Nandini Cse: Wo bolege tumnhe bhi chahiye\n",
      "24/09/21, 12:21 pm - Mamta Cse: aree khusi beta baat ko smjho\n",
      "24/09/21, 12:21 pm - Khushi Cse: Ahoo\n",
      "24/09/21, 12:21 pm - Khushi Cse: Smj ke hi bolri\n",
      "24/09/21, 12:21 pm - Nandini Cse: <Media omitted>\n",
      "24/09/21, 12:21 pm - Khushi Cse: 😂😂😂😂\n",
      "24/09/21, 12:22 pm - Nandini Cse: Bs chup ni karn\n",
      "24/09/21, 12:22 pm - Khushi Cse: Hn yaar\n",
      "24/09/21, 12:26 pm - Nandini Cse: Bhenao aagya wo waapis\n",
      "24/09/21, 12:26 pm - Nandini Cse: Kuchj bola nhi\n",
      "24/09/21, 12:27 pm - Khushi Cse: 😂😂😂\n",
      "24/09/21, 12:27 pm - Nandini Cse: Sticker bana rha hoga\n",
      "24/09/21, 12:28 pm - Khushi Cse: Chado fer aapa sunana c suna ta par agar kuch hua toh chup mat rehna sath me javab dedena\n",
      "24/09/21, 12:28 pm - Khushi Cse: Dekhi jayegi\n",
      "24/09/21, 12:28 pm - Nandini Cse: Haaannn\n",
      "24/09/21, 12:28 pm - Mamta Cse: okk\n",
      "24/09/21, 12:28 pm - Nandini Cse changed the group description\n",
      "24/09/21, 12:29 pm - Nandini Cse: eve hi baad ch apne te hi aajugi\n",
      "24/09/21, 12:29 pm - Nandini Cse: jaando yaar koi fayda nahi\n",
      "24/09/21, 12:29 pm - Nandini Cse: Seemant\n",
      "24/09/21, 12:29 pm - Khushi Cse: Dar gye\n",
      "24/09/21, 12:29 pm - Khushi Cse: 😂\n",
      "24/09/21, 12:29 pm - Nandini Cse: Exactly\n",
      "24/09/21, 12:30 pm - Nandini Cse: Plus ek aur cheez\n",
      "24/09/21, 12:30 pm - Nandini Cse: Humare college me koi dhang ki ladki nahi\n",
      "24/09/21, 12:30 pm - Nandini Cse: Wtf is this now\n",
      "24/09/21, 12:30 pm - Khushi Cse: Who said\n",
      "24/09/21, 12:30 pm - Khushi Cse: It?\n",
      "24/09/21, 12:30 pm - Khushi Cse: 🙄\n",
      "24/09/21, 12:30 pm - Nandini Cse: Unki khud ki shakal dekhi hai\n",
      "24/09/21, 12:30 pm - Nandini Cse: Sab ladke bolte hai\n",
      "24/09/21, 12:30 pm - Nandini Cse: Mujhe kitni baar bola\n",
      "24/09/21, 12:30 pm - Khushi Cse: Personally\n",
      "24/09/21, 12:31 pm - Khushi Cse: Tune v javab dedena tha\n",
      "24/09/21, 12:31 pm - Khushi Cse: <Media omitted>\n",
      "24/09/21, 12:31 pm - Khushi Cse: Ki buthi dhoop ke aa\n",
      "24/09/21, 12:31 pm - Khushi Cse: Apni\n",
      "24/09/21, 12:31 pm - Khushi Cse: 😂\n",
      "24/09/21, 12:31 pm - Khushi Cse: Dhoo*\n",
      "24/09/21, 12:31 pm - Rushika Cse: Toh kya sare hritik roshan bhare pde huye h class me\n",
      "24/09/21, 12:31 pm - Rushika Cse: 😏\n",
      "24/09/21, 12:31 pm - Khushi Cse: 😂🔥\n",
      "24/09/21, 12:31 pm - Akanksha Cse: 😂\n",
      "24/09/21, 12:31 pm - Nandini Cse: Bhai tumhe batati hoon kal ka\n",
      "24/09/21, 12:31 pm - Khushi Cse: Hn bolo\n",
      "24/09/21, 12:32 pm - Nandini Cse: <Media omitted>\n",
      "24/09/21, 12:33 pm - Nandini Cse: <Media omitted>\n",
      "24/09/21, 12:33 pm - Rushika Cse: 😂😂😂😂\n",
      "24/09/21, 12:33 pm - Khushi Cse: Objectification hi he aur kya\n",
      "24/09/21, 12:33 pm - Nandini Cse: Maine kaha, \"seemant tu aap keho jeha hai?\" And yeh photo bhej di\n",
      "24/09/21, 12:33 pm - Nandini Cse: Saare hassan lag pe\n",
      "24/09/21, 12:33 pm - Nandini Cse: Pher ni bolya kuchh\n",
      "24/09/21, 12:34 pm - Khushi Cse: 😂\n",
      "24/09/21, 12:34 pm - Khushi Cse: Chalo oh v thike personally hum kisi ki soch change krne se rahe par hume inferior kehna aur show krna aur *sexualise* krna galat he\n",
      "24/09/21, 12:35 pm - Nandini Cse: Aage aage\n",
      "24/09/21, 12:35 pm - Mamta Cse: aaagya\n",
      "24/09/21, 12:35 pm - Khushi Cse: Hnnn  aaho\n",
      "24/09/21, 12:36 pm - Nandini Cse: <Media omitted>\n",
      "24/09/21, 12:36 pm - Nandini Cse: Yeh likh do koi\n",
      "24/09/21, 12:36 pm - Mamta Cse: Me.likhti hu\n",
      "24/09/21, 12:36 pm - Nandini Cse: Akanksha, dekhiyo kinni der laaga ke soch ke likha hai yeh\n",
      "24/09/21, 12:36 pm - Nandini Cse: @919888515930\n",
      "24/09/21, 12:36 pm - Nandini Cse: Aaja oye\n",
      "24/09/21, 12:36 pm - Akanksha Cse: Likho yaar 😂\n",
      "24/09/21, 12:36 pm - Nandini Cse: Iske baad\n",
      "24/09/21, 12:36 pm - Nandini Cse: Main aur khusi time guess karge\n",
      "24/09/21, 12:37 pm - Mamta Cse: Kro kro\n",
      "24/09/21, 12:37 pm - Nandini Cse: Phir ak sahi time batana\n",
      "24/09/21, 12:37 pm - Akanksha Cse: Sahi time kya hai 😂\n",
      "24/09/21, 12:37 pm - Nandini Cse: Dekh naa seen kab kiya tha\n",
      "24/09/21, 12:38 pm - Mamta Cse: 30 min phle\n",
      "24/09/21, 12:38 pm - Nandini Cse: Bol diya maine\n",
      "24/09/21, 12:38 pm - Nandini Cse: Aage hass pado\n",
      "24/09/21, 12:39 pm - Nandini Cse: Rushika\n",
      "24/09/21, 12:42 pm - Nandini Cse: Aajo yaar baaki bhi\n",
      "24/09/21, 12:42 pm - Nandini Cse: Support hi nahi hai\n",
      "24/09/21, 12:42 pm - Nandini Cse: 2-3 ladkiya laggi hai\n",
      "24/09/21, 12:42 pm - Mamta Cse: @abhilasha\n",
      "24/09/21, 12:42 pm - Mamta Cse: @916393288575\n",
      "24/09/21, 12:42 pm - Mamta Cse: @918178510488\n",
      "24/09/21, 12:43 pm - Mamta Cse: @917528012541\n",
      "24/09/21, 12:43 pm - Nandini Cse: Yaar cmon girls\n",
      "24/09/21, 12:43 pm - Nandini Cse: Tabhi toh wo humme kuchh bol paa rhe hai\n",
      "24/09/21, 12:48 pm - Nandini Cse: @918427796214\n",
      "24/09/21, 12:48 pm - Nandini Cse: Ehna ne aana ke nhi?\n",
      "24/09/21, 12:48 pm - Nandini Cse: Boys vs girls naa kro\n",
      "24/09/21, 12:49 pm - Khushi Cse: Kya pta\n",
      "24/09/21, 12:49 pm - Khushi Cse: 😂😂\n",
      "24/09/21, 12:49 pm - Khushi Cse: Ahha\n",
      "24/09/21, 12:49 pm - Nandini Cse: BOYS  VS GIRLS NAA KRO\n",
      "24/09/21, 12:49 pm - Mamta Cse: +1\n",
      "24/09/21, 12:49 pm - Nandini Cse: Vipul ko mat sunao\n",
      "24/09/21, 12:49 pm - Mamta Cse: Improved to judgemental\n",
      "24/09/21, 12:49 pm - Nandini Cse: Wo theek hai\n",
      "24/09/21, 12:49 pm - Mamta Cse: Or seemant vs\n",
      "24/09/21, 12:52 pm - Khushi Cse: Humne kisiko prsonal tag toh kra ni jo kehte ek bnda ek bnda\n",
      "24/09/21, 12:53 pm - Khushi Cse: Jisko problem thi\n",
      "24/09/21, 12:53 pm - Khushi Cse: Vo bolta\n",
      "24/09/21, 12:53 pm - Khushi Cse: He\n",
      "24/09/21, 12:53 pm - Khushi Cse: Toh hum bhi\n",
      "24/09/21, 12:53 pm - Khushi Cse: Usiko\n",
      "24/09/21, 12:53 pm - Khushi Cse: Reply\n",
      "24/09/21, 12:53 pm - Khushi Cse: Krte he\n",
      "24/09/21, 12:53 pm - Khushi Cse: That's all\n",
      "24/09/21, 12:53 pm - Khushi Cse: Ab blames krne ke trike he inke\n",
      "24/09/21, 12:55 pm - Nandini Cse: Bhai wo judgemental waala\n",
      "24/09/21, 12:55 pm - Nandini Cse: Rushika\n",
      "24/09/21, 12:55 pm - Nandini Cse: 😂😂😂😂\n",
      "24/09/21, 12:56 pm - Nandini Cse: Mazzaaa gyaa\n",
      "24/09/21, 12:56 pm - Khushi Cse: Shi boli\n",
      "24/09/21, 12:56 pm - Akanksha Cse: Yaar hum konsa shirt kholke interview dete jo ye deservedness ki bakwaas krne lga hua\n",
      "24/09/21, 12:56 pm - Khushi Cse: Bilkul\n",
      "24/09/21, 12:56 pm - Khushi Cse: Aho\n",
      "24/09/21, 12:56 pm - Akanksha Cse: Hnn 😂\n",
      "24/09/21, 12:56 pm - Sejal Cse: Nandini bakshde ab inko i think we are done\n",
      "24/09/21, 12:56 pm - Sejal Cse: Ab koi bhi bolne se pehle sochega\n",
      "24/09/21, 12:57 pm - Khushi Cse: 😂😂hn\n",
      "24/09/21, 12:57 pm - Sejal Cse: Everybody \"speaking\" , calm down guys\n",
      "24/09/21, 12:58 pm - Nandini Cse: Wo mard waala dekha\n",
      "24/09/21, 1:01 pm - Khushi Cse: Mstt\n",
      "24/09/21, 1:01 pm - +91 75280 12541: Abb bss shaant hojaao\n",
      "24/09/21, 1:01 pm - Mamta Cse: Aaj ka kota khtm ??\n",
      "24/09/21, 1:01 pm - Mamta Cse: 🤔\n",
      "24/09/21, 1:02 pm - Mamta Cse: Chlo next time krte h\n",
      "24/09/21, 1:03 pm - Khushi Cse: Aho\n",
      "24/09/21, 1:04 pm - Khushi Cse: Darrr rhe h ki dean pe complaint kr degi\n",
      "24/09/21, 1:04 pm - Khushi Cse: 😂😂😂\n",
      "24/09/21, 1:04 pm - Khushi Cse: Bichare\n",
      "24/09/21, 1:04 pm - Khushi Cse: Darpok\n",
      "24/09/21, 1:04 pm - Khushi Cse: 😂😂\n",
      "24/09/21, 1:04 pm - Akanksha Cse: 😂😂😂\n",
      "24/09/21, 1:04 pm - Akanksha Cse: Ye group pe forward krdo\n",
      "24/09/21, 1:04 pm - Khushi Cse: Na na\n",
      "24/09/21, 1:04 pm - Riyanshi Cse: Yeh harshit ko kya prblm hai\n",
      "24/09/21, 1:05 pm - Mamta Cse: 🤣🤣🤣\n",
      "24/09/21, 1:05 pm - Riyanshi Cse: Bich me aakr kyu bol rha hai\n",
      "24/09/21, 1:05 pm - Mamta Cse: i also can't understand\n",
      "24/09/21, 1:05 pm - Nandini Cse: Riyanshi tu kyu ji boli kuchh\n",
      "24/09/21, 1:05 pm - Riyanshi Cse: Kuch mtlb nhi befaltu me pange lene hai\n",
      "24/09/21, 1:05 pm - Nandini Cse: Ab yaha bol rhi\n",
      "24/09/21, 1:05 pm - Riyanshi Cse: Bcoz mai meet thi\n",
      "24/09/21, 1:05 pm - Riyanshi Cse: Amritpal sir\n",
      "24/09/21, 1:05 pm - Riyanshi Cse: Minor project ki meet\n",
      "24/09/21, 1:06 pm - Riyanshi Cse: Maine ab msg pde🥲\n",
      "24/09/21, 1:07 pm - Khushi Cse: Girls agar me ne yha ek msg bheja toh usko minto me forward krke kya show kr re ho 🙄\n",
      "I just told ki vo msg kyu ni kr re baki\n",
      "24/09/21, 1:07 pm - Riyanshi Cse: Kya forward kiya\n",
      "24/09/21, 1:08 pm - Mamta Cse: kisne kia\n",
      "24/09/21, 1:08 pm - Mamta Cse: konsa msg\n",
      "24/09/21, 1:08 pm - Mamta Cse: ??\n",
      "24/09/21, 1:08 pm - Nandini Cse: Yeh kya hai\n",
      "24/09/21, 1:08 pm - Mamta Cse: Imposters h kya idhr b\n",
      "24/09/21, 1:08 pm - Mamta Cse: 🤔\n",
      "24/09/21, 1:09 pm - Nandini Cse: Khushi\n",
      "24/09/21, 1:09 pm - Nandini Cse: What is this\n",
      "24/09/21, 1:09 pm - Khushi Cse: .. Ye vala vapis unke pass pahuncha diya\n",
      "24/09/21, 1:09 pm - Nandini Cse: Wtf\n",
      "24/09/21, 1:09 pm - Riyanshi Cse: Whattt\n",
      "24/09/21, 1:09 pm - Nandini Cse: Kisne kiya??\n",
      "24/09/21, 1:09 pm - Khushi Cse: Ki pta\n",
      "24/09/21, 1:10 pm - Riyanshi Cse: Seriously yeh boya discuss bi kyu kr rhe ho\n",
      "24/09/21, 1:10 pm - Riyanshi Cse: And msg forward 🥲\n",
      "24/09/21, 1:10 pm - Nandini Cse: Lakh rupay di lanant hai\n",
      "24/09/21, 1:10 pm - Nandini Cse: Dubb ke marr jo jihne eh kitta\n",
      "24/09/21, 1:10 pm - Mamta Cse: 💔💔\n",
      "24/09/21, 1:10 pm - Mamta Cse: Broken my heart 💔😭\n",
      "24/09/21, 1:11 pm - Khushi Cse: 😬ahoooo\n",
      "24/09/21, 1:11 pm - Riyanshi Cse: Mtlb yha pr bi hm trust krke msg nhi kr sktee\n",
      "24/09/21, 1:11 pm - Riyanshi Cse: Wth\n",
      "24/09/21, 1:11 pm - Mamta Cse: +1\n",
      "24/09/21, 1:11 pm - Nandini Cse: Kar diye naa wohi auntiyo waale kaam\n",
      "24/09/21, 1:11 pm - Mamta Cse: 🤣🤣\n",
      "24/09/21, 1:11 pm - Nandini Cse: Jiske liye ladke humne aage hi taunt karte hai\n",
      "24/09/21, 1:11 pm - Khushi Cse: 😂\n",
      "24/09/21, 1:12 pm - Nandini Cse: Yeh @917668837391 kon hai?\n",
      "24/09/21, 1:12 pm - Mamta Cse: 🤔\n",
      "24/09/21, 1:12 pm - Khushi Cse: Ki pta😂\n",
      "24/09/21, 1:12 pm - Nandini Cse: 25 ladkiya hai apni class me\n",
      "24/09/21, 1:12 pm - Nandini Cse: Yeh 27 kaise hai\n",
      "24/09/21, 1:12 pm - Nandini Cse: Sabko admin kyu banaya hai\n",
      "24/09/21, 1:13 pm - Moni Cse: Apne class ki hi hai\n",
      "24/09/21, 1:13 pm - Sheetal Cse: It's sheetal\n",
      "24/09/21, 1:13 pm - Mamta Cse: Akirti k 2 nom h\n",
      "24/09/21, 1:13 pm - Mamta Cse: 26\n",
      "24/09/21, 1:14 pm - Nandini Cse removed Sheetal Cse\n",
      "24/09/21, 1:15 pm - Khushi Cse: Remove\n",
      "24/09/21, 1:15 pm - Khushi Cse: Kinu\n",
      "24/09/21, 1:15 pm - Khushi Cse: Kita\n",
      "24/09/21, 1:15 pm - Khushi Cse: Ohi save ni c bakiyo ka pta he\n",
      "24/09/21, 1:15 pm - Nandini Cse: Sj nu\n",
      "24/09/21, 1:15 pm - Khushi Cse: Sheetal\n",
      "24/09/21, 1:15 pm - Khushi Cse: He\n",
      "24/09/21, 1:15 pm - Khushi Cse: Pagal\n",
      "24/09/21, 1:15 pm - Khushi Cse: .\n",
      "24/09/21, 1:15 pm - Nandini Cse: 🙂\n",
      "24/09/21, 1:15 pm - Khushi Cse: 😬😬\n",
      "24/09/21, 1:15 pm - Nandini Cse: Pher 27 kiwe hoge\n",
      "24/09/21, 1:16 pm - Aman Cse: akriti ke 2 number hae\n",
      "24/09/21, 1:16 pm - Aman Cse: is grp mein\n",
      "24/09/21, 1:16 pm - You're no longer an admin\n",
      "24/09/21, 1:16 pm - Nandini Cse: Main remove karta sab nu as an admin\n",
      "24/09/21, 1:16 pm - Khushi Cse: Oho sabke no. Save he\n",
      "24/09/21, 1:16 pm - Khushi Cse: Dont worry\n",
      "24/09/21, 1:16 pm - Nandini Cse: Main ni ho sakdi i made the group\n",
      "24/09/21, 1:16 pm - Nandini Cse: Hun koi kisse nu add ni kar sakda\n",
      "24/09/21, 1:17 pm - You're now an admin\n",
      "24/09/21, 1:17 pm - Nandini Cse: Khushi add karde\n",
      "24/09/21, 1:17 pm - Khushi Cse: Acha\n",
      "24/09/21, 1:17 pm - Nandini Cse reset this group's invite link\n",
      "24/09/21, 1:18 pm - Nandini Cse: Humari class me 27 ladkiya hai\n",
      "24/09/21, 1:18 pm - You added Sheetal Cse\n",
      "24/09/21, 1:18 pm - Nandini Cse: ??\n",
      "24/09/21, 1:18 pm - Khushi Cse: Sorry for inconvenience sheetal 😬\n",
      "24/09/21, 1:18 pm - Khushi Cse: 26+ 1 akriti\n",
      "24/09/21, 1:18 pm - Aman Cse: are 26 hi hae\n",
      "24/09/21, 1:19 pm - Nandini Cse: Siddhant nu main sunaiya\n",
      "24/09/21, 1:19 pm - Nandini Cse: Naa\n",
      "24/09/21, 1:19 pm - Aman Cse: akriti ke 2 contacts hae is grp mein\n",
      "24/09/21, 1:19 pm - Nandini Cse: Hun dekho\n",
      "24/09/21, 1:19 pm - Mamta Cse: Mst bola h sid ne 🔥😂\n",
      "24/09/21, 1:20 pm - Khushi Cse: Aho\n",
      "24/09/21, 1:20 pm - Nandini Cse: Achha\n",
      "24/09/21, 1:21 pm - +91 75280 12541: 8427 wala remove krdoo\n",
      "24/09/21, 1:22 pm - Nandini Cse: Ok\n",
      "24/09/21, 1:22 pm - Nandini Cse removed Akriti Cse\n",
      "24/09/21, 1:24 pm - Nandini Cse: Ab hume support mil rhi hai\n",
      "24/09/21, 1:24 pm - Nandini Cse: Seemant ko suna rahe hai sab\n",
      "24/09/21, 1:24 pm - Nandini Cse: Ki he should watch out\n",
      "24/09/21, 1:24 pm - Khushi Cse: aur kon bola?\n",
      "24/09/21, 1:24 pm - Nandini Cse: Nahi nahi\n",
      "24/09/21, 1:24 pm - Nandini Cse: Mundeya de group wich\n",
      "24/09/21, 1:25 pm - Nandini Cse: Ikk vaari seemant ne mainu chick bolya si\n",
      "24/09/21, 1:25 pm - Nandini Cse: Fer main ohnu keha ki please dont refer to me as a chick\n",
      "24/09/21, 1:31 pm - Mamta Cse: Girls most of boys seemant se bat nii krte h 😂 60%\n",
      "24/09/21, 1:31 pm - Nandini Cse: Yeh harshit,  tarun hi hai\n",
      "24/09/21, 1:32 pm - Nandini Cse: Hun chaliye apna kamm kariye\n",
      "24/09/21, 1:34 pm - Khushi Cse: aho\n",
      "28/09/21, 8:31 pm - Khushi Cse: Bhai sari ladkiya form bhardena\n",
      "28/09/21, 8:31 pm - Khushi Cse: 10 PM se pehle\n",
      "28/09/21, 8:31 pm - Khushi Cse: 🚩🚩\n",
      "28/09/21, 8:32 pm - Khushi Cse: Grp call hi krdu\n",
      "28/09/21, 8:32 pm - Khushi Cse: Jisne nhi uthaya matlab uske freinds ko bol denge\n",
      "28/09/21, 8:32 pm - Khushi Cse: Btao\n",
      "28/09/21, 8:33 pm - Khushi Cse: Bol leya kro apke liye hi bolri hu\n",
      "28/09/21, 8:33 pm - Khushi Cse: <Media omitted>\n",
      "28/09/21, 8:39 pm - Neetu Cse Nit: Okk khushi 😊\n",
      "28/09/21, 8:40 pm - Ritika Cse: Done ✅\n",
      "28/09/21, 8:41 pm - +91 88104 75823: 👍👍\n",
      "28/09/21, 8:46 pm - Khushi Cse: 9 PM\n",
      "28/09/21, 9:23 pm - Nandini Cse: Behan kardeti\n",
      "28/09/21, 9:23 pm - Nandini Cse: Maine 55 pe dekha message\n",
      "28/09/21, 9:23 pm - Nandini Cse: 🥲🥲\n",
      "28/09/21, 10:06 pm - Khushi Cse: 🤧🤧sorry bro koi javab tak nhi deta yha grp pr\n",
      "28/09/21, 10:06 pm - Khushi Cse: Hua ni fill?\n",
      "28/09/21, 10:07 pm - Nandini Cse: nahi kar toh diya\n",
      "28/09/21, 10:07 pm - Nandini Cse: 4 min me\n",
      "28/09/21, 10:07 pm - Khushi Cse: Hn bss\n",
      "28/09/21, 10:07 pm - Khushi Cse: Shukar he\n",
      "28/09/21, 10:07 pm - Khushi Cse: <Media omitted>\n",
      "28/09/21, 10:08 pm - Nandini Cse: <Media omitted>\n",
      "04/10/21, 7:24 am - Sejal Cse: Aaj ISS ka quiz hai?\n",
      "04/10/21, 7:44 am - Kumud Cse: Kal hai shayad\n",
      "04/10/21, 8:25 am - Sejal Cse: Ok tnx Kumud\n",
      "04/10/21, 8:31 am - Kumud Cse: 😇\n",
      "06/10/21, 3:37 pm - Nandini Cse: Yaar leave karna hai test ki dena hai full\n",
      "06/10/21, 3:49 pm - Akanksha Cse: Leave hi krdete hai yaar\n",
      "06/10/21, 3:49 pm - Akanksha Cse: Not worth it\n",
      "06/10/21, 3:53 pm - Shikha Cse: ++\n",
      "06/10/21, 9:02 pm - Nandini Cse: Sab ke ho gye??\n",
      "06/10/21, 9:02 pm - Nandini Cse: Behano\n",
      "06/10/21, 9:03 pm - Rushika Cse: Test toh hogya par question nhi hua\n",
      "06/10/21, 9:08 pm - +91 88104 75823: ++\n",
      "06/10/21, 9:09 pm - Nandini Cse: Kitne huye?\n",
      "06/10/21, 9:09 pm - Rushika Cse: Ek bi nhi😐\n",
      "06/10/21, 9:09 pm - Rushika Cse: Proper\n",
      "07/10/21, 10:36 am - Khushi Cse: Guys ab apni cs ka naam roshan kro\n",
      "07/10/21, 10:36 am - Khushi Cse: #shikha_amazon_intern🔥\n",
      "07/10/21, 10:37 am - Rushika Cse: congratulations shikha\n",
      "07/10/21, 10:37 am - Aman Cse: Congratulations shikha🔥🔥\n",
      "07/10/21, 10:37 am - Khushi Cse: Oye\n",
      "07/10/21, 10:37 am - Rushika Cse: ab pic bejdo bhut din hogye story lgake\n",
      "07/10/21, 10:37 am - Khushi Cse: Cs fam\n",
      "07/10/21, 10:37 am - Khushi Cse: Me kro\n",
      "07/10/21, 10:37 am - Khushi Cse: 😂\n",
      "07/10/21, 10:38 am - Aman Cse: 😂\n",
      "07/10/21, 10:38 am - Aman Cse: Shuru karo\n",
      "07/10/21, 10:38 am - Kumud Cse: Congratulations 🎉🎉 shikha\n",
      "07/10/21, 10:38 am - Ritika Cse: Congratulations @917521859704 🥳🎉\n",
      "07/10/21, 10:39 am - Shikha Cse: Thanks yrrr.... thank you everyone❤️❤️\n",
      "07/10/21, 10:39 am - Neetu Cse Nit: Congratulations @917521859704 🥳🥳🥳\n",
      "07/10/21, 10:40 am - Priyanka Cse: Congo @917521859704\n",
      "07/10/21, 10:40 am - Harshita Cse: congrats @917521859704 🥳🥳\n",
      "07/10/21, 10:40 am - Priyanka Cse: 🤩🤩\n",
      "07/10/21, 10:41 am - Aman Cse: Congo @919780903640\n",
      "07/10/21, 10:41 am - Khushi Cse: Eh dekho dsdi v heni\n",
      "07/10/21, 10:41 am - Khushi Cse: 🔥🔥bro party ta asi lvange\n",
      "07/10/21, 10:41 am - Khushi Cse: Hi\n",
      "07/10/21, 10:42 am - Nandini Cse: Sheffy di kitthe hoyi??\n",
      "07/10/21, 10:42 am - Aman Cse: Amazon\n",
      "07/10/21, 10:42 am - Nandini Cse: Ohhhoo\n",
      "07/10/21, 10:42 am - Shikha Cse: Congratulations sheffy\n",
      "07/10/21, 10:43 am - Rushika Cse: congo sheffy too\n",
      "07/10/21, 10:43 am - Rushika Cse: wow\n",
      "07/10/21, 10:43 am - Kumud Cse: Congratulations 🎉👏 sheffy\n",
      "07/10/21, 10:43 am - Neetu Cse Nit: Congratulations @919780903640 🥳🥳\n",
      "07/10/21, 10:43 am - +91 78889 72864: congratulations girls.\n",
      "07/10/21, 10:43 am - Moni Cse: Congrats Sheffy shikha 🔥🔥🎉🎉\n",
      "07/10/21, 10:44 am - Khushi Cse: Wow for wow\n",
      "07/10/21, 10:44 am - Khushi Cse: 🔥😂\n",
      "07/10/21, 10:44 am - Parul Cse: Congratulations @919780903640 @917521859704  🎉\n",
      "07/10/21, 10:44 am - Neetu Cse Nit: +++\n",
      "07/10/21, 10:44 am - Harshita Cse: congratulations @919780903640 🥳🥳🥳\n",
      "07/10/21, 10:44 am - +91 88104 75823: Congratulations @919780903640 and @917521859704 🥳🥳\n",
      "07/10/21, 10:45 am - Mamta Cse: Congratulations @917521859704 @919780903640 🎉🎉🥳🥳\n",
      "07/10/21, 10:46 am - Riyanshi Cse: Congratulations girls✨🥳\n",
      "07/10/21, 10:46 am - Unnisha Cse: Congrats @919780903640 @917521859704 🥳🥳\n",
      "07/10/21, 10:49 am - Sheffy Cse: Thanku\n",
      "07/10/21, 10:49 am - Sheffy Cse: 😁😁😁\n",
      "07/10/21, 10:49 am - Sheffy Cse: Congo @917521859704\n",
      "07/10/21, 10:49 am - Sheffy Cse: 🥳\n",
      "07/10/21, 10:49 am - Shikha Cse: Thank you guys❤️❤️\n",
      "07/10/21, 10:53 am - Sejal Cse: Congo @919780903640 and @917521859704 🎊🎊🎊🎊🎂🥳\n",
      "Please referral dedena😂\n",
      "07/10/21, 11:00 am - Mandeep Cse: Congratulations Sheffy and shikha🥳🥳🥳🥳\n",
      "07/10/21, 11:02 am - Sheffy Cse: Thanku❤️\n",
      "07/10/21, 11:03 am - Sheetal Cse: Congrats @919780903640 n @917521859704 🥳🥳\n",
      "07/10/21, 11:18 am - +91 75280 12541: Congratulations to Sheffy and Shikha🥳🥳🥳\n",
      "07/10/21, 11:19 am - Ritika Cse: Congratulations @919780903640 🤩🥳🎉\n",
      "07/10/21, 11:21 am - Sheffy Cse: Thanku😁\n",
      "08/10/21, 10:15 pm - Harshita Cse: Sabko a gyi kya communication wali mail ?\n",
      "08/10/21, 10:15 pm - Nandini Cse: konsi?\n",
      "08/10/21, 10:15 pm - Rushika Cse: meko aagyi\n",
      "08/10/21, 10:16 pm - Parul Cse: +1\n",
      "08/10/21, 10:16 pm - Parul Cse: Kab ayi?\n",
      "08/10/21, 10:16 pm - Harshita Cse: accenture\n",
      "08/10/21, 10:16 pm - Nandini Cse: achha\n",
      "08/10/21, 10:17 pm - Rushika Cse: afternoon\n",
      "08/10/21, 10:18 pm - Parul Cse: Ohk, sabko a gyi kya?\n",
      "08/10/21, 10:27 pm - Akanksha Cse: Nope\n",
      "08/10/21, 10:28 pm - Khushi Cse: Nyc\n",
      "08/10/21, 10:28 pm - Parul Cse: Hash koi toh hai 🥲\n",
      "08/10/21, 10:30 pm - Khushi Cse: Meko bhi ni ayi\n",
      "08/10/21, 10:30 pm - Khushi Cse: 😂\n",
      "08/10/21, 10:44 pm - +91 88104 75823: ++\n",
      "09/10/21, 6:52 pm - Nandini Cse: Meri priy behano\n",
      "09/10/21, 6:52 pm - Nandini Cse: Texas ka exam kal hai?\n",
      "09/10/21, 6:54 pm - +91 88104 75823: bula toh yhi hai but koi mail nhi aaya hai iske regarding\n",
      "15/10/21, 1:52 pm - Aman Cse: <Media omitted>\n",
      "15/10/21, 1:52 pm - Aman Cse: 🌚\n",
      "15/10/21, 1:53 pm - Mamta Cse: ye lo Nandini ko nii milega mega\n",
      "15/10/21, 1:57 pm - +91 75280 12541: Chutiyapa karr rahe hai CSE and IT sey ptaa nii kyaa hee dushmani hai inki baki sab mega mein humein alag kardiaa\n",
      "15/10/21, 1:57 pm - +91 75280 12541: 🥲\n",
      "15/10/21, 1:58 pm - +91 88104 75823: Yeh first come first serve ka kya faida\n",
      "15/10/21, 1:58 pm - Aman Cse: Are hum ni lenge gh2\n",
      "15/10/21, 1:58 pm - Aman Cse: 😐\n",
      "15/10/21, 1:58 pm - Sheffy Cse: Hn😐\n",
      "15/10/21, 1:58 pm - +91 88104 75823: Upar se 3 ya 4 tier ke rooms honge\n",
      "15/10/21, 1:59 pm - Aman Cse: 😑\n",
      "15/10/21, 1:59 pm - +91 88104 75823: Kya pta usse zayaad bhi daal de\n",
      "15/10/21, 2:00 pm - Aman Cse: You mean 5?😐\n",
      "15/10/21, 2:00 pm - +91 88104 75823: Woh knows\n",
      "15/10/21, 2:00 pm - Aman Cse: Vha 2nd year bhi hoga\n",
      "15/10/21, 2:00 pm - +91 88104 75823: But yeh Proposed hai\n",
      "15/10/21, 2:00 pm - Aman Cse: To esa kuch bi karenge\n",
      "15/10/21, 2:00 pm - Aman Cse: Hi\n",
      "15/10/21, 2:09 pm - +91 88104 75823: Dekho abhi koi official statement nhi boli hai na hi website pe hai yeh\n",
      "15/10/21, 2:10 pm - +91 88104 75823: Toh joh bhi ladkiyan jaa rhi hai Mega hi bolna\n",
      "15/10/21, 2:10 pm - +91 75280 12541: Yups\n",
      "15/10/21, 2:10 pm - +91 88104 75823: First come first serve ke hisaab se yhi baat banti hai\n",
      "15/10/21, 2:11 pm - +91 75280 12541: Hmm\n",
      "15/10/21, 2:11 pm - Nandini Cse: :(\n",
      "15/10/21, 2:14 pm - Aman Cse: This message was deleted\n",
      "15/10/21, 2:15 pm - +91 88104 75823: 2 seater nhi the mega ke??\n",
      "15/10/21, 2:16 pm - Aman Cse: Are sorry gh2 mein most probably\n",
      "15/10/21, 2:16 pm - Aman Cse: Senior bol rhe the\n",
      "15/10/21, 2:17 pm - Aman Cse: Baki kisi aur ko pta to btao\n",
      "15/10/21, 2:18 pm - Nandini Cse: aaj hostel gya kya koi??\n",
      "15/10/21, 2:19 pm - Khushi Cse: Kha secayq he ye?\n",
      "15/10/21, 2:19 pm - Khushi Cse: Site\n",
      "15/10/21, 2:19 pm - Khushi Cse: ?\n",
      "15/10/21, 2:19 pm - Aman Cse: Cs family\n",
      "15/10/21, 2:19 pm - Nandini Cse: ispe nitj ki stamp kaha hai\n",
      "15/10/21, 2:20 pm - Khushi Cse: Yrr ohh chado hun aa dsso fir  jake koi faida ni vha pehle milna toh gh2 he\n",
      "15/10/21, 2:20 pm - Khushi Cse: 😵‍💫\n",
      "15/10/21, 2:20 pm - Khushi Cse: Gh2 me kitne seater he\n",
      "15/10/21, 2:20 pm - Khushi Cse: 2 h??\n",
      "15/10/21, 2:20 pm - Rushika Cse: Yr kitne seater ka rooms honge\n",
      "15/10/21, 2:21 pm - Moni Cse: 4\n",
      "15/10/21, 2:21 pm - Rushika Cse: 😤\n",
      "15/10/21, 2:21 pm - Khushi Cse: Minimum????\n",
      "15/10/21, 2:21 pm - Khushi Cse: Means 2-3 ka hehi nhi\n",
      "15/10/21, 2:21 pm - Khushi Cse: ?\n",
      "15/10/21, 2:21 pm - Nandini Cse: 3 and 5 suna hai maine\n",
      "15/10/21, 2:22 pm - Khushi Cse: Yrr galat galh he humne konse paap kre he\n",
      "15/10/21, 2:22 pm - Moni Cse: Hai but hame hi milega probably\n",
      "15/10/21, 2:22 pm - Aman Cse: Isse pehle to 3rd 4th yr mega mein hota tha\n",
      "15/10/21, 2:22 pm - Moni Cse: 5 nahi tha pehle\n",
      "15/10/21, 2:22 pm - Khushi Cse: Hume 3 mil skta?\n",
      "15/10/21, 2:22 pm - Aman Cse: Par mtech msc gh2 ke 2 seater mein rja\n",
      "15/10/21, 2:22 pm - Moni Cse: Alag room bache toh\n",
      "15/10/21, 2:22 pm - Aman Cse: Tha\n",
      "15/10/21, 2:22 pm - Nandini Cse: tu toh aage hi aman sheffy ke saath rehti thi, tujhe kya\n",
      "15/10/21, 2:23 pm - Moni Cse: Matlab bacche kam room zyada\n",
      "15/10/21, 2:23 pm - Khushi Cse: Nhi 3rd kuch girls gh2 me bhi thi par vo first cone first serve hi c\n",
      "15/10/21, 2:23 pm - Khushi Cse: Me 5 seater me thi\n",
      "15/10/21, 2:23 pm - Khushi Cse: 😂😂bro Tu bhi ak ke sath hi he tera ki he😂\n",
      "15/10/21, 2:24 pm - Nandini Cse: han 2 seater toh theek hai but 5 me 3 bande kaha se laaungi?\n",
      "15/10/21, 2:24 pm - Khushi Cse: Are 5 ho toh bhi megha chahiye sanu ni pta\n",
      "15/10/21, 2:24 pm - Khushi Cse: 😂\n",
      "15/10/21, 2:25 pm - Moni Cse: 😂😂\n",
      "15/10/21, 2:25 pm - Nandini Cse: koi jaa rha hai kya college aay dino me?\n",
      "15/10/21, 2:26 pm - Mamta Cse: 22\n",
      "15/10/21, 4:43 pm - Nandini Cse: yaar koi kissi ko jaanta hai jisko roommate na mila ho?\n",
      "15/10/21, 4:56 pm - Khushi Cse: Harman\n",
      "15/10/21, 4:56 pm - Khushi Cse: Civil alai\n",
      "15/10/21, 4:56 pm - Khushi Cse: Cute c he jo\n",
      "15/10/21, 4:56 pm - Nandini Cse: ohde layi hi puchh rhi haan\n",
      "15/10/21, 4:56 pm - Khushi Cse: 😂😂😬\n",
      "15/10/21, 4:56 pm - Nandini Cse: <Media omitted>\n",
      "15/10/21, 7:31 pm - Parul Cse: Number dena Harman ka\n",
      "15/10/21, 7:34 pm - Akanksha Cse: Harman.vcf (file attached)\n",
      "15/10/21, 7:35 pm - Parul Cse: Thanku✌🏻\n",
      "21/10/21, 12:45 pm - Rushika Cse: @918427796214 congo on Amazon internship\n",
      "21/10/21, 12:45 pm - +91 75280 12541: congratulations Khushi🥳\n",
      "21/10/21, 12:45 pm - Sejal Cse: Congo Khushi😎😎😎😎🥳🥳🥳🔥🔥🎊🎊🎊\n",
      "21/10/21, 12:45 pm - Sheffy Cse: Congratulations @918427796214 🥳🥳\n",
      "21/10/21, 12:46 pm - Parul Cse: Congratulations 🎉🎉🎉\n",
      "21/10/21, 12:46 pm - Riyanshi Cse: Congratulations @918427796214 🥳🥳\n",
      "21/10/21, 12:46 pm - +91 88104 75823: Congratulations @918427796214 🥳🥳🥳\n",
      "21/10/21, 12:46 pm - Neetu Cse Nit: Congratulations  @918427796214 🥳🥳🥳🥳\n",
      "21/10/21, 12:46 pm - Ritika Cse: Congratulations @918427796214 🤩🥳🥳🎊🎉🎉\n",
      "21/10/21, 12:46 pm - Aman Cse: Congratulations @918427796214\n",
      "21/10/21, 12:46 pm - Moni Cse: Congrats @918427796214 🤩🤩🥳🥳\n",
      "21/10/21, 12:47 pm - Harshita Cse: Congrats @918427796214 🥳🥳🥳\n",
      "21/10/21, 12:48 pm - Kumud Cse: Congratulations 🎉🎉 khushi\n",
      "21/10/21, 12:48 pm - Mamta Cse: congo @918427796214 🥳🥳\n",
      "21/10/21, 12:49 pm - Khushi Cse: Hhayyee tysm ❤️🔥🔥\n",
      "10 din ki saans ruki hui aaj mili he 🤧🤧\n",
      "Love u girls\n",
      "21/10/21, 12:49 pm - Mamta Cse: abhi aa gyi sas 😂\n",
      "21/10/21, 12:49 pm - +91 75280 12541: 😂😂😂\n",
      "21/10/21, 12:50 pm - +91 81785 10488: Congratulations @918427796214\n",
      "21/10/21, 12:50 pm - Nandini Cse: congratulationnnnsss kushhiii\n",
      "21/10/21, 12:50 pm - Khushi Cse: Aho\n",
      "21/10/21, 12:51 pm - Khushi Cse: Ty ❤️\n",
      "21/10/21, 12:52 pm - Shikha Cse: Congratulations khushiii✨✨✨✨\n",
      "21/10/21, 12:52 pm - Akanksha Cse: <Media omitted>\n",
      "21/10/21, 12:54 pm - Mandeep Cse: Congratulations khushi🥳🥳🥳\n",
      "21/10/21, 12:55 pm - Priyanka Cse: Congratulations @918427796214\n",
      "21/10/21, 12:59 pm - Khushi Cse: Ty ji 🤗🤗\n",
      "24/10/21, 7:56 pm - Shikha Cse: Kisi ke pas toc wale ma'am ka number h?\n",
      "24/10/21, 7:56 pm - Rushika Cse: No\n",
      "24/10/21, 8:26 pm - Kumud Cse: Aruna Mam:\n",
      "8699937336；\n",
      "26/10/21, 6:21 pm - Unnisha Cse: Koi hai jo aj n kl clg m hoga??\n",
      "26/10/21, 6:44 pm - Mamta Cse: NCC wale bachhe baki toh sayad south wale\n",
      "26/10/21, 7:00 pm - Unnisha Cse: Achaa\n",
      "26/10/21, 7:14 pm - Khushi Cse: Simran yadav\n",
      "26/10/21, 7:15 pm - Khushi Cse: He\n",
      "27/10/21, 4:34 pm - Khushi Cse: oye mada jeha ans bhejdio\n",
      "27/10/21, 4:34 pm - Khushi Cse: 😂😂\n",
      "27/10/21, 4:34 pm - Khushi Cse: pilliisss\n",
      "14/11/21, 5:26 pm - Nandini Cse: Yaar\n",
      "14/11/21, 5:26 pm - Nandini Cse: Ptda me marks kinne kinne aaye hai\n",
      "14/11/21, 5:26 pm - Nandini Cse: 🥲🥲🥲\n",
      "25/11/21, 11:31 am - Nandini Cse: This message was deleted\n",
      "25/11/21, 11:31 am - Nandini Cse: <Media omitted>\n",
      "25/11/21, 11:54 am - Khushi Cse: 😃😃😃hehehe\n",
      "25/11/21, 11:54 am - Khushi Cse: Ab beta bachao\n",
      "25/11/21, 11:54 am - Khushi Cse: Andolan\n",
      "25/11/21, 11:54 am - Khushi Cse: Ayega\n",
      "25/11/21, 11:54 am - Khushi Cse: 😂😃\n",
      "25/11/21, 12:02 pm - Nandini Cse: 😂😂😂\n",
      "25/11/21, 1:19 pm - +91 88104 75823: 😂😂\n",
      "25/11/21, 1:19 pm - +91 88104 75823: Bete bachao bete padhao\n",
      "25/11/21, 1:56 pm - +91 75280 12541: 😂😂\n",
      "25/11/21, 2:58 pm - Mamta Cse: 😂😂\n",
      "02/12/21, 8:15 pm - Nandini Cse: Heyyy girlsssssss\n",
      "02/12/21, 8:15 pm - Nandini Cse: Class trip ka plan kar rhe hai hum\n",
      "02/12/21, 8:15 pm - Nandini Cse: Kaha jana hai kon jayga kab jayge\n",
      "02/12/21, 8:16 pm - Nandini Cse: Sab decide karna hai\n",
      "02/12/21, 8:16 pm - Nandini Cse: Toh jo jo trip me interested hai wo yeh group join kar lo\n",
      "02/12/21, 8:16 pm - Nandini Cse: This message was deleted\n",
      "02/12/21, 8:19 pm - Nandini Cse: https://chat.whatsapp.com/DkZTyY4CmBc9nLdHXwscjH\n",
      "02/12/21, 8:21 pm - +91 81785 10488: Noice\n",
      "\n"
     ]
    }
   ],
   "source": [
    "data = file.read()\n",
    "print(data)"
   ]
  },
  {
   "cell_type": "code",
   "execution_count": 147,
   "id": "108f0056",
   "metadata": {},
   "outputs": [
    {
     "data": {
      "text/plain": [
       "2533"
      ]
     },
     "execution_count": 147,
     "metadata": {},
     "output_type": "execute_result"
    }
   ],
   "source": [
    "\"\"\"\n",
    "pattern = '\\d{1,2}/\\d{1,2}/\\d{2,4},\\s\\d{1,2}:\\d{2}\\W{0,1}\\w{0,2}\\s-\\s'\n",
    "m1='12/25/19, 11:19 PM - Aman: Hm'\n",
    "m2='12/25/19, 18:19 - Aman: Hm'\n",
    "m3='12/25/19, 6:19 - Aman: Hm'\n",
    "re.split(pattern,m1)[1:]\n",
    "\"\"\"\n",
    "\n",
    "pattern = '\\d{1,2}/\\d{1,2}/\\d{2,4},\\s\\d{1,2}:\\d{2}\\W{0,1}\\w{0,2}\\s-\\s'\n",
    "messages = re.split(pattern,data)[1:]\n",
    "len(messages)"
   ]
  },
  {
   "cell_type": "code",
   "execution_count": 148,
   "id": "f43d9bfd",
   "metadata": {},
   "outputs": [
    {
     "data": {
      "text/html": [
       "<div>\n",
       "<style scoped>\n",
       "    .dataframe tbody tr th:only-of-type {\n",
       "        vertical-align: middle;\n",
       "    }\n",
       "\n",
       "    .dataframe tbody tr th {\n",
       "        vertical-align: top;\n",
       "    }\n",
       "\n",
       "    .dataframe thead th {\n",
       "        text-align: right;\n",
       "    }\n",
       "</style>\n",
       "<table border=\"1\" class=\"dataframe\">\n",
       "  <thead>\n",
       "    <tr style=\"text-align: right;\">\n",
       "      <th></th>\n",
       "      <th>Date</th>\n",
       "      <th>Messages</th>\n",
       "    </tr>\n",
       "  </thead>\n",
       "  <tbody>\n",
       "    <tr>\n",
       "      <th>0</th>\n",
       "      <td>20/08/21, 11:12 pm</td>\n",
       "      <td>Messages and calls are end-to-end encrypted. N...</td>\n",
       "    </tr>\n",
       "    <tr>\n",
       "      <th>1</th>\n",
       "      <td>20/08/21, 11:12 pm</td>\n",
       "      <td>Nandini Cse created group \"Amazon wow\"\\n</td>\n",
       "    </tr>\n",
       "    <tr>\n",
       "      <th>2</th>\n",
       "      <td>20/08/21, 11:12 pm</td>\n",
       "      <td>Nandini Cse added you\\n</td>\n",
       "    </tr>\n",
       "    <tr>\n",
       "      <th>3</th>\n",
       "      <td>20/08/21, 11:12 pm</td>\n",
       "      <td>You're now an admin\\n</td>\n",
       "    </tr>\n",
       "    <tr>\n",
       "      <th>4</th>\n",
       "      <td>20/08/21, 11:21 pm</td>\n",
       "      <td>Akanksha Cse: Even if we girls were too busy t...</td>\n",
       "    </tr>\n",
       "  </tbody>\n",
       "</table>\n",
       "</div>"
      ],
      "text/plain": [
       "                  Date                                           Messages\n",
       "0  20/08/21, 11:12 pm   Messages and calls are end-to-end encrypted. N...\n",
       "1  20/08/21, 11:12 pm            Nandini Cse created group \"Amazon wow\"\\n\n",
       "2  20/08/21, 11:12 pm                             Nandini Cse added you\\n\n",
       "3  20/08/21, 11:12 pm                               You're now an admin\\n\n",
       "4  20/08/21, 11:21 pm   Akanksha Cse: Even if we girls were too busy t..."
      ]
     },
     "execution_count": 148,
     "metadata": {},
     "output_type": "execute_result"
    }
   ],
   "source": [
    "dates=re.findall(pattern[:-3],data)\n",
    "df=pd.DataFrame({'Date':dates,'Messages':messages})\n",
    "df.head()"
   ]
  },
  {
   "cell_type": "code",
   "execution_count": 149,
   "id": "6ee306c3",
   "metadata": {},
   "outputs": [
    {
     "data": {
      "text/html": [
       "<div>\n",
       "<style scoped>\n",
       "    .dataframe tbody tr th:only-of-type {\n",
       "        vertical-align: middle;\n",
       "    }\n",
       "\n",
       "    .dataframe tbody tr th {\n",
       "        vertical-align: top;\n",
       "    }\n",
       "\n",
       "    .dataframe thead th {\n",
       "        text-align: right;\n",
       "    }\n",
       "</style>\n",
       "<table border=\"1\" class=\"dataframe\">\n",
       "  <thead>\n",
       "    <tr style=\"text-align: right;\">\n",
       "      <th></th>\n",
       "      <th>Date</th>\n",
       "      <th>Messages</th>\n",
       "      <th>Datetime</th>\n",
       "    </tr>\n",
       "  </thead>\n",
       "  <tbody>\n",
       "    <tr>\n",
       "      <th>0</th>\n",
       "      <td>20/08/21</td>\n",
       "      <td>Messages and calls are end-to-end encrypted. N...</td>\n",
       "      <td>2021-08-20 23:12:00</td>\n",
       "    </tr>\n",
       "    <tr>\n",
       "      <th>1</th>\n",
       "      <td>20/08/21</td>\n",
       "      <td>Nandini Cse created group \"Amazon wow\"\\n</td>\n",
       "      <td>2021-08-20 23:12:00</td>\n",
       "    </tr>\n",
       "    <tr>\n",
       "      <th>2</th>\n",
       "      <td>20/08/21</td>\n",
       "      <td>Nandini Cse added you\\n</td>\n",
       "      <td>2021-08-20 23:12:00</td>\n",
       "    </tr>\n",
       "    <tr>\n",
       "      <th>3</th>\n",
       "      <td>20/08/21</td>\n",
       "      <td>You're now an admin\\n</td>\n",
       "      <td>2021-08-20 23:12:00</td>\n",
       "    </tr>\n",
       "    <tr>\n",
       "      <th>4</th>\n",
       "      <td>20/08/21</td>\n",
       "      <td>Akanksha Cse: Even if we girls were too busy t...</td>\n",
       "      <td>2021-08-20 23:21:00</td>\n",
       "    </tr>\n",
       "  </tbody>\n",
       "</table>\n",
       "</div>"
      ],
      "text/plain": [
       "       Date                                           Messages  \\\n",
       "0  20/08/21  Messages and calls are end-to-end encrypted. N...   \n",
       "1  20/08/21           Nandini Cse created group \"Amazon wow\"\\n   \n",
       "2  20/08/21                            Nandini Cse added you\\n   \n",
       "3  20/08/21                              You're now an admin\\n   \n",
       "4  20/08/21  Akanksha Cse: Even if we girls were too busy t...   \n",
       "\n",
       "             Datetime  \n",
       "0 2021-08-20 23:12:00  \n",
       "1 2021-08-20 23:12:00  \n",
       "2 2021-08-20 23:12:00  \n",
       "3 2021-08-20 23:12:00  \n",
       "4 2021-08-20 23:21:00  "
      ]
     },
     "execution_count": 149,
     "metadata": {},
     "output_type": "execute_result"
    }
   ],
   "source": [
    "# df['Time']=df['Date'].apply(lambda x: x.split(', ')[1])\n",
    "# df['Time']=pd.to_datetime(df['Time']).dt.time\n",
    "df['Datetime']=pd.to_datetime(df['Date'])\n",
    "df['Date']=df['Date'].apply(lambda x: x.split(', ')[0])\n",
    "df.head()"
   ]
  },
  {
   "cell_type": "code",
   "execution_count": 150,
   "id": "457cd17b",
   "metadata": {},
   "outputs": [
    {
     "name": "stdout",
     "output_type": "stream",
     "text": [
      "1   0\n"
     ]
    }
   ],
   "source": [
    "mfirst=0\n",
    "dfirst=0\n",
    "for d in dates:\n",
    "    x=d.split('/',2)[0:2]\n",
    "    if(int(x[0])>12):\n",
    "        dfirst=1\n",
    "        break\n",
    "    if(int(x[1])>12):\n",
    "        mfirst=1\n",
    "        break\n",
    "print(dfirst,\" \",mfirst)"
   ]
  },
  {
   "cell_type": "code",
   "execution_count": 151,
   "id": "042eae56",
   "metadata": {
    "scrolled": false
   },
   "outputs": [
    {
     "data": {
      "text/html": [
       "<div>\n",
       "<style scoped>\n",
       "    .dataframe tbody tr th:only-of-type {\n",
       "        vertical-align: middle;\n",
       "    }\n",
       "\n",
       "    .dataframe tbody tr th {\n",
       "        vertical-align: top;\n",
       "    }\n",
       "\n",
       "    .dataframe thead th {\n",
       "        text-align: right;\n",
       "    }\n",
       "</style>\n",
       "<table border=\"1\" class=\"dataframe\">\n",
       "  <thead>\n",
       "    <tr style=\"text-align: right;\">\n",
       "      <th></th>\n",
       "      <th>Date</th>\n",
       "      <th>Messages</th>\n",
       "      <th>Datetime</th>\n",
       "    </tr>\n",
       "  </thead>\n",
       "  <tbody>\n",
       "    <tr>\n",
       "      <th>0</th>\n",
       "      <td>2021-08-20</td>\n",
       "      <td>Messages and calls are end-to-end encrypted. N...</td>\n",
       "      <td>2021-08-20 23:12:00</td>\n",
       "    </tr>\n",
       "    <tr>\n",
       "      <th>1</th>\n",
       "      <td>2021-08-20</td>\n",
       "      <td>Nandini Cse created group \"Amazon wow\"\\n</td>\n",
       "      <td>2021-08-20 23:12:00</td>\n",
       "    </tr>\n",
       "    <tr>\n",
       "      <th>2</th>\n",
       "      <td>2021-08-20</td>\n",
       "      <td>Nandini Cse added you\\n</td>\n",
       "      <td>2021-08-20 23:12:00</td>\n",
       "    </tr>\n",
       "    <tr>\n",
       "      <th>3</th>\n",
       "      <td>2021-08-20</td>\n",
       "      <td>You're now an admin\\n</td>\n",
       "      <td>2021-08-20 23:12:00</td>\n",
       "    </tr>\n",
       "    <tr>\n",
       "      <th>4</th>\n",
       "      <td>2021-08-20</td>\n",
       "      <td>Akanksha Cse: Even if we girls were too busy t...</td>\n",
       "      <td>2021-08-20 23:21:00</td>\n",
       "    </tr>\n",
       "  </tbody>\n",
       "</table>\n",
       "</div>"
      ],
      "text/plain": [
       "        Date                                           Messages  \\\n",
       "0 2021-08-20  Messages and calls are end-to-end encrypted. N...   \n",
       "1 2021-08-20           Nandini Cse created group \"Amazon wow\"\\n   \n",
       "2 2021-08-20                            Nandini Cse added you\\n   \n",
       "3 2021-08-20                              You're now an admin\\n   \n",
       "4 2021-08-20  Akanksha Cse: Even if we girls were too busy t...   \n",
       "\n",
       "             Datetime  \n",
       "0 2021-08-20 23:12:00  \n",
       "1 2021-08-20 23:12:00  \n",
       "2 2021-08-20 23:12:00  \n",
       "3 2021-08-20 23:12:00  \n",
       "4 2021-08-20 23:21:00  "
      ]
     },
     "execution_count": 151,
     "metadata": {},
     "output_type": "execute_result"
    }
   ],
   "source": [
    "if(dfirst):\n",
    "    df['Date']=pd.to_datetime(df['Date'],format='%d/%m/%y')\n",
    "else:\n",
    "    df['Date']=pd.to_datetime(df['Date'],format='%m/%d/%y')\n",
    "# df['Date']=pd.to_datetime(df['Date'],format='%d/%m/%y, %H:%M %p ')\n",
    "df.head()"
   ]
  },
  {
   "cell_type": "code",
   "execution_count": 152,
   "id": "92128331",
   "metadata": {},
   "outputs": [
    {
     "data": {
      "text/html": [
       "<div>\n",
       "<style scoped>\n",
       "    .dataframe tbody tr th:only-of-type {\n",
       "        vertical-align: middle;\n",
       "    }\n",
       "\n",
       "    .dataframe tbody tr th {\n",
       "        vertical-align: top;\n",
       "    }\n",
       "\n",
       "    .dataframe thead th {\n",
       "        text-align: right;\n",
       "    }\n",
       "</style>\n",
       "<table border=\"1\" class=\"dataframe\">\n",
       "  <thead>\n",
       "    <tr style=\"text-align: right;\">\n",
       "      <th></th>\n",
       "      <th>Date</th>\n",
       "      <th>Messages</th>\n",
       "      <th>Datetime</th>\n",
       "      <th>User</th>\n",
       "    </tr>\n",
       "  </thead>\n",
       "  <tbody>\n",
       "    <tr>\n",
       "      <th>0</th>\n",
       "      <td>2021-08-20</td>\n",
       "      <td>Messages and calls are end-to-end encrypted. N...</td>\n",
       "      <td>2021-08-20 23:12:00</td>\n",
       "      <td>group notification</td>\n",
       "    </tr>\n",
       "    <tr>\n",
       "      <th>1</th>\n",
       "      <td>2021-08-20</td>\n",
       "      <td>Nandini Cse created group \"Amazon wow\"</td>\n",
       "      <td>2021-08-20 23:12:00</td>\n",
       "      <td>group notification</td>\n",
       "    </tr>\n",
       "    <tr>\n",
       "      <th>2</th>\n",
       "      <td>2021-08-20</td>\n",
       "      <td>Nandini Cse added you</td>\n",
       "      <td>2021-08-20 23:12:00</td>\n",
       "      <td>group notification</td>\n",
       "    </tr>\n",
       "    <tr>\n",
       "      <th>3</th>\n",
       "      <td>2021-08-20</td>\n",
       "      <td>You're now an admin</td>\n",
       "      <td>2021-08-20 23:12:00</td>\n",
       "      <td>group notification</td>\n",
       "    </tr>\n",
       "    <tr>\n",
       "      <th>4</th>\n",
       "      <td>2021-08-20</td>\n",
       "      <td>Even if we girls were too busy to respond to a...</td>\n",
       "      <td>2021-08-20 23:21:00</td>\n",
       "      <td>Akanksha Cse</td>\n",
       "    </tr>\n",
       "  </tbody>\n",
       "</table>\n",
       "</div>"
      ],
      "text/plain": [
       "        Date                                           Messages  \\\n",
       "0 2021-08-20  Messages and calls are end-to-end encrypted. N...   \n",
       "1 2021-08-20             Nandini Cse created group \"Amazon wow\"   \n",
       "2 2021-08-20                              Nandini Cse added you   \n",
       "3 2021-08-20                                You're now an admin   \n",
       "4 2021-08-20  Even if we girls were too busy to respond to a...   \n",
       "\n",
       "             Datetime                User  \n",
       "0 2021-08-20 23:12:00  group notification  \n",
       "1 2021-08-20 23:12:00  group notification  \n",
       "2 2021-08-20 23:12:00  group notification  \n",
       "3 2021-08-20 23:12:00  group notification  \n",
       "4 2021-08-20 23:21:00        Akanksha Cse  "
      ]
     },
     "execution_count": 152,
     "metadata": {},
     "output_type": "execute_result"
    }
   ],
   "source": [
    "def split_user(x):\n",
    "    x=x.split(': ',1)\n",
    "    if x[1:]:\n",
    "        return x\n",
    "    else:\n",
    "        return(['group notification',x[0]])\n",
    "\n",
    "df['User']=df['Messages'].apply(lambda x: split_user(x)[0])\n",
    "df['Messages']= df['Messages'].apply(lambda x: split_user(x)[1][:-1])\n",
    "df.head()"
   ]
  },
  {
   "cell_type": "code",
   "execution_count": 153,
   "id": "6c5f6229",
   "metadata": {},
   "outputs": [],
   "source": [
    "pat = '\\+\\d{2}\\s\\d{5}\\s\\d{5}'\n",
    "def Reset_User(x):\n",
    "    if(re.fullmatch(pat,x)):\n",
    "        return x[4:]\n",
    "    else:\n",
    "        return x\n",
    "df['User']=df['User'].apply(lambda x: Reset_User(x))"
   ]
  },
  {
   "cell_type": "code",
   "execution_count": 154,
   "id": "a1b936f6",
   "metadata": {},
   "outputs": [
    {
     "data": {
      "text/plain": [
       "0   2021-08-20\n",
       "1   2021-08-20\n",
       "2   2021-08-20\n",
       "3   2021-08-20\n",
       "4   2021-08-20\n",
       "Name: Date, dtype: datetime64[ns]"
      ]
     },
     "execution_count": 154,
     "metadata": {},
     "output_type": "execute_result"
    }
   ],
   "source": [
    "df['Date']=pd.to_datetime(df['Date'])\n",
    "df['Date'].head()"
   ]
  },
  {
   "cell_type": "code",
   "execution_count": 155,
   "id": "7cbacf75",
   "metadata": {},
   "outputs": [
    {
     "data": {
      "text/html": [
       "<div>\n",
       "<style scoped>\n",
       "    .dataframe tbody tr th:only-of-type {\n",
       "        vertical-align: middle;\n",
       "    }\n",
       "\n",
       "    .dataframe tbody tr th {\n",
       "        vertical-align: top;\n",
       "    }\n",
       "\n",
       "    .dataframe thead th {\n",
       "        text-align: right;\n",
       "    }\n",
       "</style>\n",
       "<table border=\"1\" class=\"dataframe\">\n",
       "  <thead>\n",
       "    <tr style=\"text-align: right;\">\n",
       "      <th></th>\n",
       "      <th>Date</th>\n",
       "      <th>Messages</th>\n",
       "      <th>Datetime</th>\n",
       "      <th>User</th>\n",
       "      <th>Day</th>\n",
       "      <th>Month</th>\n",
       "      <th>Year</th>\n",
       "      <th>Month_num</th>\n",
       "      <th>Week</th>\n",
       "      <th>Day_name</th>\n",
       "      <th>Time</th>\n",
       "      <th>Hour</th>\n",
       "      <th>Minute</th>\n",
       "    </tr>\n",
       "  </thead>\n",
       "  <tbody>\n",
       "    <tr>\n",
       "      <th>0</th>\n",
       "      <td>2021-08-20</td>\n",
       "      <td>Messages and calls are end-to-end encrypted. N...</td>\n",
       "      <td>2021-08-20 23:12:00</td>\n",
       "      <td>group notification</td>\n",
       "      <td>20</td>\n",
       "      <td>August</td>\n",
       "      <td>2021</td>\n",
       "      <td>8</td>\n",
       "      <td>33</td>\n",
       "      <td>Friday</td>\n",
       "      <td>23:12:00</td>\n",
       "      <td>23</td>\n",
       "      <td>12</td>\n",
       "    </tr>\n",
       "    <tr>\n",
       "      <th>1</th>\n",
       "      <td>2021-08-20</td>\n",
       "      <td>Nandini Cse created group \"Amazon wow\"</td>\n",
       "      <td>2021-08-20 23:12:00</td>\n",
       "      <td>group notification</td>\n",
       "      <td>20</td>\n",
       "      <td>August</td>\n",
       "      <td>2021</td>\n",
       "      <td>8</td>\n",
       "      <td>33</td>\n",
       "      <td>Friday</td>\n",
       "      <td>23:12:00</td>\n",
       "      <td>23</td>\n",
       "      <td>12</td>\n",
       "    </tr>\n",
       "    <tr>\n",
       "      <th>2</th>\n",
       "      <td>2021-08-20</td>\n",
       "      <td>Nandini Cse added you</td>\n",
       "      <td>2021-08-20 23:12:00</td>\n",
       "      <td>group notification</td>\n",
       "      <td>20</td>\n",
       "      <td>August</td>\n",
       "      <td>2021</td>\n",
       "      <td>8</td>\n",
       "      <td>33</td>\n",
       "      <td>Friday</td>\n",
       "      <td>23:12:00</td>\n",
       "      <td>23</td>\n",
       "      <td>12</td>\n",
       "    </tr>\n",
       "    <tr>\n",
       "      <th>3</th>\n",
       "      <td>2021-08-20</td>\n",
       "      <td>You're now an admin</td>\n",
       "      <td>2021-08-20 23:12:00</td>\n",
       "      <td>group notification</td>\n",
       "      <td>20</td>\n",
       "      <td>August</td>\n",
       "      <td>2021</td>\n",
       "      <td>8</td>\n",
       "      <td>33</td>\n",
       "      <td>Friday</td>\n",
       "      <td>23:12:00</td>\n",
       "      <td>23</td>\n",
       "      <td>12</td>\n",
       "    </tr>\n",
       "    <tr>\n",
       "      <th>4</th>\n",
       "      <td>2021-08-20</td>\n",
       "      <td>Even if we girls were too busy to respond to a...</td>\n",
       "      <td>2021-08-20 23:21:00</td>\n",
       "      <td>Akanksha Cse</td>\n",
       "      <td>20</td>\n",
       "      <td>August</td>\n",
       "      <td>2021</td>\n",
       "      <td>8</td>\n",
       "      <td>33</td>\n",
       "      <td>Friday</td>\n",
       "      <td>23:21:00</td>\n",
       "      <td>23</td>\n",
       "      <td>21</td>\n",
       "    </tr>\n",
       "  </tbody>\n",
       "</table>\n",
       "</div>"
      ],
      "text/plain": [
       "        Date                                           Messages  \\\n",
       "0 2021-08-20  Messages and calls are end-to-end encrypted. N...   \n",
       "1 2021-08-20             Nandini Cse created group \"Amazon wow\"   \n",
       "2 2021-08-20                              Nandini Cse added you   \n",
       "3 2021-08-20                                You're now an admin   \n",
       "4 2021-08-20  Even if we girls were too busy to respond to a...   \n",
       "\n",
       "             Datetime                User  Day   Month  Year  Month_num  Week  \\\n",
       "0 2021-08-20 23:12:00  group notification   20  August  2021          8    33   \n",
       "1 2021-08-20 23:12:00  group notification   20  August  2021          8    33   \n",
       "2 2021-08-20 23:12:00  group notification   20  August  2021          8    33   \n",
       "3 2021-08-20 23:12:00  group notification   20  August  2021          8    33   \n",
       "4 2021-08-20 23:21:00        Akanksha Cse   20  August  2021          8    33   \n",
       "\n",
       "  Day_name      Time  Hour  Minute  \n",
       "0   Friday  23:12:00    23      12  \n",
       "1   Friday  23:12:00    23      12  \n",
       "2   Friday  23:12:00    23      12  \n",
       "3   Friday  23:12:00    23      12  \n",
       "4   Friday  23:21:00    23      21  "
      ]
     },
     "execution_count": 155,
     "metadata": {},
     "output_type": "execute_result"
    }
   ],
   "source": [
    "#df['Date'].loc[1].month_name()\n",
    "df['Day']=df['Date'].dt.day\n",
    "df['Month']=df['Date'].dt.month_name()\n",
    "df['Year']=df['Date'].dt.year\n",
    "df['Month_num'] = df['Date'].dt.month\n",
    "df['Week']=df['Date'].dt.isocalendar().week\n",
    "df['Day_name'] = df['Date'].dt.day_name()\n",
    "df['Time']=df['Datetime'].dt.time\n",
    "df['Hour'] = df['Datetime'].dt.hour\n",
    "df['Minute'] = df['Datetime'].dt.minute\n",
    "\n",
    "# # df['Date'] = df['Date'].dt.date\n",
    "df.head()"
   ]
  },
  {
   "cell_type": "code",
   "execution_count": 156,
   "id": "f0fddf18",
   "metadata": {},
   "outputs": [
    {
     "data": {
      "text/html": [
       "<div>\n",
       "<style scoped>\n",
       "    .dataframe tbody tr th:only-of-type {\n",
       "        vertical-align: middle;\n",
       "    }\n",
       "\n",
       "    .dataframe tbody tr th {\n",
       "        vertical-align: top;\n",
       "    }\n",
       "\n",
       "    .dataframe thead th {\n",
       "        text-align: right;\n",
       "    }\n",
       "</style>\n",
       "<table border=\"1\" class=\"dataframe\">\n",
       "  <thead>\n",
       "    <tr style=\"text-align: right;\">\n",
       "      <th></th>\n",
       "      <th>Date</th>\n",
       "      <th>Messages</th>\n",
       "      <th>User</th>\n",
       "      <th>Day</th>\n",
       "      <th>Month</th>\n",
       "      <th>Year</th>\n",
       "      <th>Month_num</th>\n",
       "      <th>Week</th>\n",
       "      <th>Day_name</th>\n",
       "      <th>Time</th>\n",
       "      <th>Hour</th>\n",
       "      <th>Minute</th>\n",
       "    </tr>\n",
       "  </thead>\n",
       "  <tbody>\n",
       "    <tr>\n",
       "      <th>0</th>\n",
       "      <td>2021-08-20</td>\n",
       "      <td>Messages and calls are end-to-end encrypted. N...</td>\n",
       "      <td>group notification</td>\n",
       "      <td>20</td>\n",
       "      <td>August</td>\n",
       "      <td>2021</td>\n",
       "      <td>8</td>\n",
       "      <td>33</td>\n",
       "      <td>Friday</td>\n",
       "      <td>23:12:00</td>\n",
       "      <td>23</td>\n",
       "      <td>12</td>\n",
       "    </tr>\n",
       "    <tr>\n",
       "      <th>1</th>\n",
       "      <td>2021-08-20</td>\n",
       "      <td>Nandini Cse created group \"Amazon wow\"</td>\n",
       "      <td>group notification</td>\n",
       "      <td>20</td>\n",
       "      <td>August</td>\n",
       "      <td>2021</td>\n",
       "      <td>8</td>\n",
       "      <td>33</td>\n",
       "      <td>Friday</td>\n",
       "      <td>23:12:00</td>\n",
       "      <td>23</td>\n",
       "      <td>12</td>\n",
       "    </tr>\n",
       "    <tr>\n",
       "      <th>2</th>\n",
       "      <td>2021-08-20</td>\n",
       "      <td>Nandini Cse added you</td>\n",
       "      <td>group notification</td>\n",
       "      <td>20</td>\n",
       "      <td>August</td>\n",
       "      <td>2021</td>\n",
       "      <td>8</td>\n",
       "      <td>33</td>\n",
       "      <td>Friday</td>\n",
       "      <td>23:12:00</td>\n",
       "      <td>23</td>\n",
       "      <td>12</td>\n",
       "    </tr>\n",
       "    <tr>\n",
       "      <th>3</th>\n",
       "      <td>2021-08-20</td>\n",
       "      <td>You're now an admin</td>\n",
       "      <td>group notification</td>\n",
       "      <td>20</td>\n",
       "      <td>August</td>\n",
       "      <td>2021</td>\n",
       "      <td>8</td>\n",
       "      <td>33</td>\n",
       "      <td>Friday</td>\n",
       "      <td>23:12:00</td>\n",
       "      <td>23</td>\n",
       "      <td>12</td>\n",
       "    </tr>\n",
       "    <tr>\n",
       "      <th>4</th>\n",
       "      <td>2021-08-20</td>\n",
       "      <td>Even if we girls were too busy to respond to a...</td>\n",
       "      <td>Akanksha Cse</td>\n",
       "      <td>20</td>\n",
       "      <td>August</td>\n",
       "      <td>2021</td>\n",
       "      <td>8</td>\n",
       "      <td>33</td>\n",
       "      <td>Friday</td>\n",
       "      <td>23:21:00</td>\n",
       "      <td>23</td>\n",
       "      <td>21</td>\n",
       "    </tr>\n",
       "    <tr>\n",
       "      <th>...</th>\n",
       "      <td>...</td>\n",
       "      <td>...</td>\n",
       "      <td>...</td>\n",
       "      <td>...</td>\n",
       "      <td>...</td>\n",
       "      <td>...</td>\n",
       "      <td>...</td>\n",
       "      <td>...</td>\n",
       "      <td>...</td>\n",
       "      <td>...</td>\n",
       "      <td>...</td>\n",
       "      <td>...</td>\n",
       "    </tr>\n",
       "    <tr>\n",
       "      <th>2528</th>\n",
       "      <td>2021-12-02</td>\n",
       "      <td>Sab decide karna hai</td>\n",
       "      <td>Nandini Cse</td>\n",
       "      <td>2</td>\n",
       "      <td>December</td>\n",
       "      <td>2021</td>\n",
       "      <td>12</td>\n",
       "      <td>48</td>\n",
       "      <td>Thursday</td>\n",
       "      <td>20:16:00</td>\n",
       "      <td>20</td>\n",
       "      <td>16</td>\n",
       "    </tr>\n",
       "    <tr>\n",
       "      <th>2529</th>\n",
       "      <td>2021-12-02</td>\n",
       "      <td>Toh jo jo trip me interested hai wo yeh group ...</td>\n",
       "      <td>Nandini Cse</td>\n",
       "      <td>2</td>\n",
       "      <td>December</td>\n",
       "      <td>2021</td>\n",
       "      <td>12</td>\n",
       "      <td>48</td>\n",
       "      <td>Thursday</td>\n",
       "      <td>20:16:00</td>\n",
       "      <td>20</td>\n",
       "      <td>16</td>\n",
       "    </tr>\n",
       "    <tr>\n",
       "      <th>2530</th>\n",
       "      <td>2021-12-02</td>\n",
       "      <td>This message was deleted</td>\n",
       "      <td>Nandini Cse</td>\n",
       "      <td>2</td>\n",
       "      <td>December</td>\n",
       "      <td>2021</td>\n",
       "      <td>12</td>\n",
       "      <td>48</td>\n",
       "      <td>Thursday</td>\n",
       "      <td>20:16:00</td>\n",
       "      <td>20</td>\n",
       "      <td>16</td>\n",
       "    </tr>\n",
       "    <tr>\n",
       "      <th>2531</th>\n",
       "      <td>2021-12-02</td>\n",
       "      <td>https://chat.whatsapp.com/DkZTyY4CmBc9nLdHXwscjH</td>\n",
       "      <td>Nandini Cse</td>\n",
       "      <td>2</td>\n",
       "      <td>December</td>\n",
       "      <td>2021</td>\n",
       "      <td>12</td>\n",
       "      <td>48</td>\n",
       "      <td>Thursday</td>\n",
       "      <td>20:19:00</td>\n",
       "      <td>20</td>\n",
       "      <td>19</td>\n",
       "    </tr>\n",
       "    <tr>\n",
       "      <th>2532</th>\n",
       "      <td>2021-12-02</td>\n",
       "      <td>Noice</td>\n",
       "      <td>81785 10488</td>\n",
       "      <td>2</td>\n",
       "      <td>December</td>\n",
       "      <td>2021</td>\n",
       "      <td>12</td>\n",
       "      <td>48</td>\n",
       "      <td>Thursday</td>\n",
       "      <td>20:21:00</td>\n",
       "      <td>20</td>\n",
       "      <td>21</td>\n",
       "    </tr>\n",
       "  </tbody>\n",
       "</table>\n",
       "<p>2533 rows × 12 columns</p>\n",
       "</div>"
      ],
      "text/plain": [
       "           Date                                           Messages  \\\n",
       "0    2021-08-20  Messages and calls are end-to-end encrypted. N...   \n",
       "1    2021-08-20             Nandini Cse created group \"Amazon wow\"   \n",
       "2    2021-08-20                              Nandini Cse added you   \n",
       "3    2021-08-20                                You're now an admin   \n",
       "4    2021-08-20  Even if we girls were too busy to respond to a...   \n",
       "...         ...                                                ...   \n",
       "2528 2021-12-02                               Sab decide karna hai   \n",
       "2529 2021-12-02  Toh jo jo trip me interested hai wo yeh group ...   \n",
       "2530 2021-12-02                           This message was deleted   \n",
       "2531 2021-12-02   https://chat.whatsapp.com/DkZTyY4CmBc9nLdHXwscjH   \n",
       "2532 2021-12-02                                              Noice   \n",
       "\n",
       "                    User  Day     Month  Year  Month_num  Week  Day_name  \\\n",
       "0     group notification   20    August  2021          8    33    Friday   \n",
       "1     group notification   20    August  2021          8    33    Friday   \n",
       "2     group notification   20    August  2021          8    33    Friday   \n",
       "3     group notification   20    August  2021          8    33    Friday   \n",
       "4           Akanksha Cse   20    August  2021          8    33    Friday   \n",
       "...                  ...  ...       ...   ...        ...   ...       ...   \n",
       "2528         Nandini Cse    2  December  2021         12    48  Thursday   \n",
       "2529         Nandini Cse    2  December  2021         12    48  Thursday   \n",
       "2530         Nandini Cse    2  December  2021         12    48  Thursday   \n",
       "2531         Nandini Cse    2  December  2021         12    48  Thursday   \n",
       "2532         81785 10488    2  December  2021         12    48  Thursday   \n",
       "\n",
       "          Time  Hour  Minute  \n",
       "0     23:12:00    23      12  \n",
       "1     23:12:00    23      12  \n",
       "2     23:12:00    23      12  \n",
       "3     23:12:00    23      12  \n",
       "4     23:21:00    23      21  \n",
       "...        ...   ...     ...  \n",
       "2528  20:16:00    20      16  \n",
       "2529  20:16:00    20      16  \n",
       "2530  20:16:00    20      16  \n",
       "2531  20:19:00    20      19  \n",
       "2532  20:21:00    20      21  \n",
       "\n",
       "[2533 rows x 12 columns]"
      ]
     },
     "execution_count": 156,
     "metadata": {},
     "output_type": "execute_result"
    }
   ],
   "source": [
    "df.drop('Datetime',axis='columns')"
   ]
  },
  {
   "cell_type": "code",
   "execution_count": 157,
   "id": "d38c6b76",
   "metadata": {},
   "outputs": [
    {
     "data": {
      "text/html": [
       "<div>\n",
       "<style scoped>\n",
       "    .dataframe tbody tr th:only-of-type {\n",
       "        vertical-align: middle;\n",
       "    }\n",
       "\n",
       "    .dataframe tbody tr th {\n",
       "        vertical-align: top;\n",
       "    }\n",
       "\n",
       "    .dataframe thead th {\n",
       "        text-align: right;\n",
       "    }\n",
       "</style>\n",
       "<table border=\"1\" class=\"dataframe\">\n",
       "  <thead>\n",
       "    <tr style=\"text-align: right;\">\n",
       "      <th></th>\n",
       "      <th>Date</th>\n",
       "      <th>Messages</th>\n",
       "      <th>Datetime</th>\n",
       "      <th>User</th>\n",
       "      <th>Day</th>\n",
       "      <th>Month</th>\n",
       "      <th>Year</th>\n",
       "      <th>Month_num</th>\n",
       "      <th>Week</th>\n",
       "      <th>Day_name</th>\n",
       "      <th>Time</th>\n",
       "      <th>Hour</th>\n",
       "      <th>Minute</th>\n",
       "    </tr>\n",
       "  </thead>\n",
       "  <tbody>\n",
       "  </tbody>\n",
       "</table>\n",
       "</div>"
      ],
      "text/plain": [
       "Empty DataFrame\n",
       "Columns: [Date, Messages, Datetime, User, Day, Month, Year, Month_num, Week, Day_name, Time, Hour, Minute]\n",
       "Index: []"
      ]
     },
     "execution_count": 157,
     "metadata": {},
     "output_type": "execute_result"
    }
   ],
   "source": [
    "df[df['Month']=='February']"
   ]
  },
  {
   "cell_type": "code",
   "execution_count": 158,
   "id": "d38873fc",
   "metadata": {},
   "outputs": [
    {
     "data": {
      "text/plain": [
       "['Overall Analysis',\n",
       " '75085 15845',\n",
       " '75280 12541',\n",
       " '78889 72864',\n",
       " '81785 10488',\n",
       " '88104 75823',\n",
       " 'Akanksha Cse',\n",
       " 'Aman Cse',\n",
       " 'Harshita Cse',\n",
       " 'Ishita Cse',\n",
       " 'Khushi Cse',\n",
       " 'Kumud Cse',\n",
       " 'Mamta Cse',\n",
       " 'Mandeep Cse',\n",
       " 'Moni Cse',\n",
       " 'Nandini Cse',\n",
       " 'Neetu Cse Nit',\n",
       " 'Parul Cse',\n",
       " 'Priyanka Cse',\n",
       " 'Ritika Cse',\n",
       " 'Riyanshi Cse',\n",
       " 'Rushika Cse',\n",
       " 'Sejal Cse',\n",
       " 'Sheetal Cse',\n",
       " 'Sheffy Cse',\n",
       " 'Shikha Cse',\n",
       " 'Unnisha Cse']"
      ]
     },
     "execution_count": 158,
     "metadata": {},
     "output_type": "execute_result"
    }
   ],
   "source": [
    "listusers = df['User'].unique()\n",
    "listusers=listusers.tolist()\n",
    "listusers.remove('group notification')\n",
    "listusers.sort()\n",
    "listusers.insert(0,'Overall Analysis')\n",
    "listusers"
   ]
  },
  {
   "cell_type": "code",
   "execution_count": 159,
   "id": "ed857461",
   "metadata": {},
   "outputs": [
    {
     "data": {
      "text/plain": [
       "897"
      ]
     },
     "execution_count": 159,
     "metadata": {},
     "output_type": "execute_result"
    }
   ],
   "source": [
    "df[df['User']=='Khushi Cse'].shape[0]"
   ]
  },
  {
   "cell_type": "code",
   "execution_count": 160,
   "id": "a4e01c0e",
   "metadata": {},
   "outputs": [
    {
     "data": {
      "text/plain": [
       "6                                    😂😂😂😂\n",
       "7     vese girls bhi bdda ignore kr ri he\n",
       "9             Ik msg krne me kya jara tha\n",
       "12                                    😂😂🌚\n",
       "24                                     😂😂\n",
       "Name: Messages, dtype: object"
      ]
     },
     "execution_count": 160,
     "metadata": {},
     "output_type": "execute_result"
    }
   ],
   "source": [
    "user_message= df[df['User']=='Khushi Cse']['Messages']\n",
    "user_message.head()"
   ]
  },
  {
   "cell_type": "code",
   "execution_count": 161,
   "id": "49055a4f",
   "metadata": {},
   "outputs": [
    {
     "data": {
      "text/plain": [
       "['😂😂😂😂', 'vese', 'girls', 'bhi', 'bdda', 'ignore', 'kr', 'ri', 'he', 'Ik']"
      ]
     },
     "execution_count": 161,
     "metadata": {},
     "output_type": "execute_result"
    }
   ],
   "source": [
    "user_words = []\n",
    "for message in user_message:\n",
    "    if(message!=\"<Media omitted>\"):\n",
    "        user_words.extend(message.split())\n",
    "user_words[:10]"
   ]
  },
  {
   "cell_type": "code",
   "execution_count": 162,
   "id": "5dc31c53",
   "metadata": {},
   "outputs": [
    {
     "data": {
      "text/plain": [
       "3380"
      ]
     },
     "execution_count": 162,
     "metadata": {},
     "output_type": "execute_result"
    }
   ],
   "source": [
    "len(user_words)"
   ]
  },
  {
   "cell_type": "code",
   "execution_count": 163,
   "id": "999da441",
   "metadata": {},
   "outputs": [
    {
     "data": {
      "text/plain": [
       "102"
      ]
     },
     "execution_count": 163,
     "metadata": {},
     "output_type": "execute_result"
    }
   ],
   "source": [
    "df[df['Messages']=='<Media omitted>'].shape[0]"
   ]
  },
  {
   "cell_type": "code",
   "execution_count": 164,
   "id": "db8e9c5a",
   "metadata": {},
   "outputs": [
    {
     "data": {
      "text/plain": [
       "8"
      ]
     },
     "execution_count": 164,
     "metadata": {},
     "output_type": "execute_result"
    }
   ],
   "source": [
    "from urlextract import URLExtract\n",
    "extract = URLExtract()\n",
    "links = []\n",
    "for message in df['Messages']:\n",
    "        links.extend(extract.find_urls(message))\n",
    "len(links)"
   ]
  },
  {
   "cell_type": "code",
   "execution_count": 165,
   "id": "d0d13f84",
   "metadata": {},
   "outputs": [
    {
     "data": {
      "text/plain": [
       "Khushi Cse      897\n",
       "Nandini Cse     554\n",
       "Mamta Cse       237\n",
       "Akanksha Cse    144\n",
       "Aman Cse        121\n",
       "Name: User, dtype: int64"
      ]
     },
     "execution_count": 165,
     "metadata": {},
     "output_type": "execute_result"
    }
   ],
   "source": [
    "busy_users= df['User'].loc[df['User']!='group notification'].value_counts().head()\n",
    "busy_users"
   ]
  },
  {
   "cell_type": "code",
   "execution_count": 166,
   "id": "509c86f3",
   "metadata": {},
   "outputs": [
    {
     "data": {
      "text/plain": [
       "Ritika Cse     8\n",
       "Kumud Cse      8\n",
       "Sheetal Cse    6\n",
       "78889 72864    5\n",
       "75085 15845    4\n",
       "Name: User, dtype: int64"
      ]
     },
     "execution_count": 166,
     "metadata": {},
     "output_type": "execute_result"
    }
   ],
   "source": [
    "lazy_users=  df['User'].loc[df['User']!='group notification'].value_counts().tail()\n",
    "lazy_users"
   ]
  },
  {
   "cell_type": "code",
   "execution_count": 167,
   "id": "f7001758",
   "metadata": {},
   "outputs": [
    {
     "data": {
      "image/png": "[encoded data removed]",
      "text/plain": [
       "<Figure size 432x288 with 2 Axes>"
      ]
     },
     "metadata": {
      "needs_background": "light"
     },
     "output_type": "display_data"
    }
   ],
   "source": [
    "\n",
    "fig,axes= plt.subplots(nrows=1,ncols=2) #(1,2)\n",
    "axes[0].set_ylabel(\"No. of Messages\")\n",
    "\n",
    "axes[0].set_title('Most Responsive Users')\n",
    "axes[0].plot(busy_users,'orange')\n",
    "axes[0].bar(busy_users.index,busy_users.values,color= \"#52BD78\")\n",
    "axes[0].tick_params('x',labelrotation=45)\n",
    "\n",
    "axes[1].set_title('Least Responsive Users')\n",
    "axes[1].bar(lazy_users.index,lazy_users.values,color= \"#52BD78\")\n",
    "axes[1].plot(lazy_users,'orange')\n",
    "axes[1].tick_params('x',labelrotation=45)\n",
    "#st.pyplot(fig)"
   ]
  },
  {
   "cell_type": "code",
   "execution_count": 168,
   "id": "8f3abd34",
   "metadata": {},
   "outputs": [
    {
     "data": {
      "text/plain": [
       "10"
      ]
     },
     "execution_count": 168,
     "metadata": {},
     "output_type": "execute_result"
    }
   ],
   "source": [
    "display_users=min(10,int((len(listusers)-1)/2))\n",
    "display_users"
   ]
  },
  {
   "cell_type": "code",
   "execution_count": 169,
   "id": "b4d5c031",
   "metadata": {},
   "outputs": [
    {
     "data": {
      "text/plain": [
       "['Khushi Cse', 'Nandini Cse', 'Mamta Cse', 'Akanksha Cse', 'Aman Cse']"
      ]
     },
     "execution_count": 169,
     "metadata": {},
     "output_type": "execute_result"
    }
   ],
   "source": [
    "busy_users.index[0:display_users].tolist()"
   ]
  },
  {
   "cell_type": "code",
   "execution_count": 170,
   "id": "656d1e1e",
   "metadata": {},
   "outputs": [
    {
     "data": {
      "text/plain": [
       "['Overall Analysis',\n",
       " '75085 15845',\n",
       " '75280 12541',\n",
       " '78889 72864',\n",
       " '81785 10488',\n",
       " '88104 75823',\n",
       " 'Akanksha Cse',\n",
       " 'Aman Cse',\n",
       " 'Harshita Cse',\n",
       " 'Ishita Cse',\n",
       " 'Khushi Cse',\n",
       " 'Kumud Cse',\n",
       " 'Mamta Cse',\n",
       " 'Mandeep Cse',\n",
       " 'Moni Cse',\n",
       " 'Nandini Cse',\n",
       " 'Neetu Cse Nit',\n",
       " 'Parul Cse',\n",
       " 'Priyanka Cse',\n",
       " 'Ritika Cse',\n",
       " 'Riyanshi Cse',\n",
       " 'Rushika Cse',\n",
       " 'Sejal Cse',\n",
       " 'Sheetal Cse',\n",
       " 'Sheffy Cse',\n",
       " 'Shikha Cse',\n",
       " 'Unnisha Cse']"
      ]
     },
     "execution_count": 170,
     "metadata": {},
     "output_type": "execute_result"
    }
   ],
   "source": [
    "listusers"
   ]
  },
  {
   "cell_type": "code",
   "execution_count": 171,
   "id": "1dbe268d",
   "metadata": {},
   "outputs": [
    {
     "data": {
      "text/plain": [
       "Khushi Cse            0.354126\n",
       "Nandini Cse           0.218713\n",
       "Mamta Cse             0.093565\n",
       "Akanksha Cse          0.056850\n",
       "Aman Cse              0.047769\n",
       "Riyanshi Cse          0.033952\n",
       "75280 12541           0.026846\n",
       "Sejal Cse             0.021319\n",
       "Rushika Cse           0.019345\n",
       "88104 75823           0.018555\n",
       "Sheffy Cse            0.013028\n",
       "group notification    0.012633\n",
       "Moni Cse              0.012633\n",
       "Parul Cse             0.011844\n",
       "Shikha Cse            0.011054\n",
       "Ishita Cse            0.007896\n",
       "Harshita Cse          0.005922\n",
       "Mandeep Cse           0.005132\n",
       "81785 10488           0.005132\n",
       "Neetu Cse Nit         0.004737\n",
       "Priyanka Cse          0.003553\n",
       "Ritika Cse            0.003158\n",
       "Kumud Cse             0.003158\n",
       "Unnisha Cse           0.003158\n",
       "Sheetal Cse           0.002369\n",
       "78889 72864           0.001974\n",
       "75085 15845           0.001579\n",
       "Name: User, dtype: float64"
      ]
     },
     "execution_count": 171,
     "metadata": {},
     "output_type": "execute_result"
    }
   ],
   "source": [
    "df['User'].value_counts()/df.shape[0]"
   ]
  },
  {
   "cell_type": "code",
   "execution_count": 172,
   "id": "28d789f8",
   "metadata": {},
   "outputs": [
    {
     "data": {
      "text/html": [
       "<div>\n",
       "<style scoped>\n",
       "    .dataframe tbody tr th:only-of-type {\n",
       "        vertical-align: middle;\n",
       "    }\n",
       "\n",
       "    .dataframe tbody tr th {\n",
       "        vertical-align: top;\n",
       "    }\n",
       "\n",
       "    .dataframe thead th {\n",
       "        text-align: right;\n",
       "    }\n",
       "</style>\n",
       "<table border=\"1\" class=\"dataframe\">\n",
       "  <thead>\n",
       "    <tr style=\"text-align: right;\">\n",
       "      <th></th>\n",
       "      <th>Names</th>\n",
       "      <th>Messages</th>\n",
       "    </tr>\n",
       "  </thead>\n",
       "  <tbody>\n",
       "    <tr>\n",
       "      <th>0</th>\n",
       "      <td>Khushi Cse</td>\n",
       "      <td>897</td>\n",
       "    </tr>\n",
       "    <tr>\n",
       "      <th>1</th>\n",
       "      <td>Nandini Cse</td>\n",
       "      <td>554</td>\n",
       "    </tr>\n",
       "    <tr>\n",
       "      <th>2</th>\n",
       "      <td>Mamta Cse</td>\n",
       "      <td>237</td>\n",
       "    </tr>\n",
       "    <tr>\n",
       "      <th>3</th>\n",
       "      <td>Akanksha Cse</td>\n",
       "      <td>144</td>\n",
       "    </tr>\n",
       "    <tr>\n",
       "      <th>4</th>\n",
       "      <td>Aman Cse</td>\n",
       "      <td>121</td>\n",
       "    </tr>\n",
       "  </tbody>\n",
       "</table>\n",
       "</div>"
      ],
      "text/plain": [
       "          Names  Messages\n",
       "0    Khushi Cse       897\n",
       "1   Nandini Cse       554\n",
       "2     Mamta Cse       237\n",
       "3  Akanksha Cse       144\n",
       "4      Aman Cse       121"
      ]
     },
     "execution_count": 172,
     "metadata": {},
     "output_type": "execute_result"
    }
   ],
   "source": [
    "busy_users = busy_users.reset_index().rename(columns={'index':'Names','User':'Messages'})\n",
    "busy_users"
   ]
  },
  {
   "cell_type": "code",
   "execution_count": 173,
   "id": "a986a2fd",
   "metadata": {},
   "outputs": [
    {
     "data": {
      "text/html": [
       "<div>\n",
       "<style scoped>\n",
       "    .dataframe tbody tr th:only-of-type {\n",
       "        vertical-align: middle;\n",
       "    }\n",
       "\n",
       "    .dataframe tbody tr th {\n",
       "        vertical-align: top;\n",
       "    }\n",
       "\n",
       "    .dataframe thead th {\n",
       "        text-align: right;\n",
       "    }\n",
       "</style>\n",
       "<table border=\"1\" class=\"dataframe\">\n",
       "  <thead>\n",
       "    <tr style=\"text-align: right;\">\n",
       "      <th></th>\n",
       "      <th>Names</th>\n",
       "      <th>Message %</th>\n",
       "    </tr>\n",
       "  </thead>\n",
       "  <tbody>\n",
       "    <tr>\n",
       "      <th>0</th>\n",
       "      <td>Khushi Cse</td>\n",
       "      <td>35.41</td>\n",
       "    </tr>\n",
       "    <tr>\n",
       "      <th>1</th>\n",
       "      <td>Nandini Cse</td>\n",
       "      <td>21.87</td>\n",
       "    </tr>\n",
       "    <tr>\n",
       "      <th>2</th>\n",
       "      <td>Mamta Cse</td>\n",
       "      <td>9.36</td>\n",
       "    </tr>\n",
       "    <tr>\n",
       "      <th>3</th>\n",
       "      <td>Akanksha Cse</td>\n",
       "      <td>5.68</td>\n",
       "    </tr>\n",
       "    <tr>\n",
       "      <th>4</th>\n",
       "      <td>Aman Cse</td>\n",
       "      <td>4.78</td>\n",
       "    </tr>\n",
       "  </tbody>\n",
       "</table>\n",
       "</div>"
      ],
      "text/plain": [
       "          Names  Message %\n",
       "0    Khushi Cse      35.41\n",
       "1   Nandini Cse      21.87\n",
       "2     Mamta Cse       9.36\n",
       "3  Akanksha Cse       5.68\n",
       "4      Aman Cse       4.78"
      ]
     },
     "execution_count": 173,
     "metadata": {},
     "output_type": "execute_result"
    }
   ],
   "source": [
    "User_percentage =round(df['User'].value_counts()/df.shape[0]*100,2).reset_index().rename(columns={'index':'Names','User':'Message %'})\n",
    "User_percentage.head()"
   ]
  },
  {
   "cell_type": "code",
   "execution_count": 174,
   "id": "1c34d8c6",
   "metadata": {},
   "outputs": [
    {
     "data": {
      "application/vnd.plotly.v1+json": {
       "config": {
        "plotlyServerURL": "https://plot.ly"
       },
       "data": [
        {
         "domain": {
          "x": [
           0,
           1
          ],
          "y": [
           0,
           1
          ]
         },
         "hovertemplate": "Names=%{label}<br>Message %=%{value}<extra></extra>",
         "labels": [
          "Khushi Cse",
          "Nandini Cse",
          "Mamta Cse",
          "Akanksha Cse",
          "Aman Cse",
          "Riyanshi Cse",
          "75280 12541",
          "Sejal Cse",
          "Rushika Cse",
          "88104 75823",
          "Sheffy Cse",
          "group notification",
          "Moni Cse",
          "Parul Cse",
          "Shikha Cse",
          "Ishita Cse",
          "Harshita Cse",
          "Mandeep Cse",
          "81785 10488",
          "Neetu Cse Nit",
          "Priyanka Cse",
          "Ritika Cse",
          "Kumud Cse",
          "Unnisha Cse",
          "Sheetal Cse",
          "78889 72864",
          "75085 15845"
         ],
         "legendgroup": "",
         "name": "",
         "showlegend": true,
         "textinfo": "percent+label",
         "textposition": "inside",
         "type": "pie",
         "values": [
          35.41,
          21.87,
          9.36,
          5.68,
          4.78,
          3.4,
          2.68,
          2.13,
          1.93,
          1.86,
          1.3,
          1.26,
          1.26,
          1.18,
          1.11,
          0.79,
          0.59,
          0.51,
          0.51,
          0.47,
          0.36,
          0.32,
          0.32,
          0.32,
          0.24,
          0.2,
          0.16
         ]
        }
       ],
       "layout": {
        "height": 300,
        "legend": {
         "tracegroupgap": 0
        },
        "margin": {
         "b": 0,
         "l": 0.5,
         "r": 0.5,
         "t": 0
        },
        "showlegend": false,
        "template": {
         "data": {
          "bar": [
           {
            "error_x": {
             "color": "#2a3f5f"
            },
            "error_y": {
             "color": "#2a3f5f"
            },
            "marker": {
             "line": {
              "color": "#E5ECF6",
              "width": 0.5
             },
             "pattern": {
              "fillmode": "overlay",
              "size": 10,
              "solidity": 0.2
             }
            },
            "type": "bar"
           }
          ],
          "barpolar": [
           {
            "marker": {
             "line": {
              "color": "#E5ECF6",
              "width": 0.5
             },
             "pattern": {
              "fillmode": "overlay",
              "size": 10,
              "solidity": 0.2
             }
            },
            "type": "barpolar"
           }
          ],
          "carpet": [
           {
            "aaxis": {
             "endlinecolor": "#2a3f5f",
             "gridcolor": "white",
             "linecolor": "white",
             "minorgridcolor": "white",
             "startlinecolor": "#2a3f5f"
            },
            "baxis": {
             "endlinecolor": "#2a3f5f",
             "gridcolor": "white",
             "linecolor": "white",
             "minorgridcolor": "white",
             "startlinecolor": "#2a3f5f"
            },
            "type": "carpet"
           }
          ],
          "choropleth": [
           {
            "colorbar": {
             "outlinewidth": 0,
             "ticks": ""
            },
            "type": "choropleth"
           }
          ],
          "contour": [
           {
            "colorbar": {
             "outlinewidth": 0,
             "ticks": ""
            },
            "colorscale": [
             [
              0,
              "#0d0887"
             ],
             [
              0.1111111111111111,
              "#46039f"
             ],
             [
              0.2222222222222222,
              "#7201a8"
             ],
             [
              0.3333333333333333,
              "#9c179e"
             ],
             [
              0.4444444444444444,
              "#bd3786"
             ],
             [
              0.5555555555555556,
              "#d8576b"
             ],
             [
              0.6666666666666666,
              "#ed7953"
             ],
             [
              0.7777777777777778,
              "#fb9f3a"
             ],
             [
              0.8888888888888888,
              "#fdca26"
             ],
             [
              1,
              "#f0f921"
             ]
            ],
            "type": "contour"
           }
          ],
          "contourcarpet": [
           {
            "colorbar": {
             "outlinewidth": 0,
             "ticks": ""
            },
            "type": "contourcarpet"
           }
          ],
          "heatmap": [
           {
            "colorbar": {
             "outlinewidth": 0,
             "ticks": ""
            },
            "colorscale": [
             [
              0,
              "#0d0887"
             ],
             [
              0.1111111111111111,
              "#46039f"
             ],
             [
              0.2222222222222222,
              "#7201a8"
             ],
             [
              0.3333333333333333,
              "#9c179e"
             ],
             [
              0.4444444444444444,
              "#bd3786"
             ],
             [
              0.5555555555555556,
              "#d8576b"
             ],
             [
              0.6666666666666666,
              "#ed7953"
             ],
             [
              0.7777777777777778,
              "#fb9f3a"
             ],
             [
              0.8888888888888888,
              "#fdca26"
             ],
             [
              1,
              "#f0f921"
             ]
            ],
            "type": "heatmap"
           }
          ],
          "heatmapgl": [
           {
            "colorbar": {
             "outlinewidth": 0,
             "ticks": ""
            },
            "colorscale": [
             [
              0,
              "#0d0887"
             ],
             [
              0.1111111111111111,
              "#46039f"
             ],
             [
              0.2222222222222222,
              "#7201a8"
             ],
             [
              0.3333333333333333,
              "#9c179e"
             ],
             [
              0.4444444444444444,
              "#bd3786"
             ],
             [
              0.5555555555555556,
              "#d8576b"
             ],
             [
              0.6666666666666666,
              "#ed7953"
             ],
             [
              0.7777777777777778,
              "#fb9f3a"
             ],
             [
              0.8888888888888888,
              "#fdca26"
             ],
             [
              1,
              "#f0f921"
             ]
            ],
            "type": "heatmapgl"
           }
          ],
          "histogram": [
           {
            "marker": {
             "pattern": {
              "fillmode": "overlay",
              "size": 10,
              "solidity": 0.2
             }
            },
            "type": "histogram"
           }
          ],
          "histogram2d": [
           {
            "colorbar": {
             "outlinewidth": 0,
             "ticks": ""
            },
            "colorscale": [
             [
              0,
              "#0d0887"
             ],
             [
              0.1111111111111111,
              "#46039f"
             ],
             [
              0.2222222222222222,
              "#7201a8"
             ],
             [
              0.3333333333333333,
              "#9c179e"
             ],
             [
              0.4444444444444444,
              "#bd3786"
             ],
             [
              0.5555555555555556,
              "#d8576b"
             ],
             [
              0.6666666666666666,
              "#ed7953"
             ],
             [
              0.7777777777777778,
              "#fb9f3a"
             ],
             [
              0.8888888888888888,
              "#fdca26"
             ],
             [
              1,
              "#f0f921"
             ]
            ],
            "type": "histogram2d"
           }
          ],
          "histogram2dcontour": [
           {
            "colorbar": {
             "outlinewidth": 0,
             "ticks": ""
            },
            "colorscale": [
             [
              0,
              "#0d0887"
             ],
             [
              0.1111111111111111,
              "#46039f"
             ],
             [
              0.2222222222222222,
              "#7201a8"
             ],
             [
              0.3333333333333333,
              "#9c179e"
             ],
             [
              0.4444444444444444,
              "#bd3786"
             ],
             [
              0.5555555555555556,
              "#d8576b"
             ],
             [
              0.6666666666666666,
              "#ed7953"
             ],
             [
              0.7777777777777778,
              "#fb9f3a"
             ],
             [
              0.8888888888888888,
              "#fdca26"
             ],
             [
              1,
              "#f0f921"
             ]
            ],
            "type": "histogram2dcontour"
           }
          ],
          "mesh3d": [
           {
            "colorbar": {
             "outlinewidth": 0,
             "ticks": ""
            },
            "type": "mesh3d"
           }
          ],
          "parcoords": [
           {
            "line": {
             "colorbar": {
              "outlinewidth": 0,
              "ticks": ""
             }
            },
            "type": "parcoords"
           }
          ],
          "pie": [
           {
            "automargin": true,
            "type": "pie"
           }
          ],
          "scatter": [
           {
            "marker": {
             "colorbar": {
              "outlinewidth": 0,
              "ticks": ""
             }
            },
            "type": "scatter"
           }
          ],
          "scatter3d": [
           {
            "line": {
             "colorbar": {
              "outlinewidth": 0,
              "ticks": ""
             }
            },
            "marker": {
             "colorbar": {
              "outlinewidth": 0,
              "ticks": ""
             }
            },
            "type": "scatter3d"
           }
          ],
          "scattercarpet": [
           {
            "marker": {
             "colorbar": {
              "outlinewidth": 0,
              "ticks": ""
             }
            },
            "type": "scattercarpet"
           }
          ],
          "scattergeo": [
           {
            "marker": {
             "colorbar": {
              "outlinewidth": 0,
              "ticks": ""
             }
            },
            "type": "scattergeo"
           }
          ],
          "scattergl": [
           {
            "marker": {
             "colorbar": {
              "outlinewidth": 0,
              "ticks": ""
             }
            },
            "type": "scattergl"
           }
          ],
          "scattermapbox": [
           {
            "marker": {
             "colorbar": {
              "outlinewidth": 0,
              "ticks": ""
             }
            },
            "type": "scattermapbox"
           }
          ],
          "scatterpolar": [
           {
            "marker": {
             "colorbar": {
              "outlinewidth": 0,
              "ticks": ""
             }
            },
            "type": "scatterpolar"
           }
          ],
          "scatterpolargl": [
           {
            "marker": {
             "colorbar": {
              "outlinewidth": 0,
              "ticks": ""
             }
            },
            "type": "scatterpolargl"
           }
          ],
          "scatterternary": [
           {
            "marker": {
             "colorbar": {
              "outlinewidth": 0,
              "ticks": ""
             }
            },
            "type": "scatterternary"
           }
          ],
          "surface": [
           {
            "colorbar": {
             "outlinewidth": 0,
             "ticks": ""
            },
            "colorscale": [
             [
              0,
              "#0d0887"
             ],
             [
              0.1111111111111111,
              "#46039f"
             ],
             [
              0.2222222222222222,
              "#7201a8"
             ],
             [
              0.3333333333333333,
              "#9c179e"
             ],
             [
              0.4444444444444444,
              "#bd3786"
             ],
             [
              0.5555555555555556,
              "#d8576b"
             ],
             [
              0.6666666666666666,
              "#ed7953"
             ],
             [
              0.7777777777777778,
              "#fb9f3a"
             ],
             [
              0.8888888888888888,
              "#fdca26"
             ],
             [
              1,
              "#f0f921"
             ]
            ],
            "type": "surface"
           }
          ],
          "table": [
           {
            "cells": {
             "fill": {
              "color": "#EBF0F8"
             },
             "line": {
              "color": "white"
             }
            },
            "header": {
             "fill": {
              "color": "#C8D4E3"
             },
             "line": {
              "color": "white"
             }
            },
            "type": "table"
           }
          ]
         },
         "layout": {
          "annotationdefaults": {
           "arrowcolor": "#2a3f5f",
           "arrowhead": 0,
           "arrowwidth": 1
          },
          "autotypenumbers": "strict",
          "coloraxis": {
           "colorbar": {
            "outlinewidth": 0,
            "ticks": ""
           }
          },
          "colorscale": {
           "diverging": [
            [
             0,
             "#8e0152"
            ],
            [
             0.1,
             "#c51b7d"
            ],
            [
             0.2,
             "#de77ae"
            ],
            [
             0.3,
             "#f1b6da"
            ],
            [
             0.4,
             "#fde0ef"
            ],
            [
             0.5,
             "#f7f7f7"
            ],
            [
             0.6,
             "#e6f5d0"
            ],
            [
             0.7,
             "#b8e186"
            ],
            [
             0.8,
             "#7fbc41"
            ],
            [
             0.9,
             "#4d9221"
            ],
            [
             1,
             "#276419"
            ]
           ],
           "sequential": [
            [
             0,
             "#0d0887"
            ],
            [
             0.1111111111111111,
             "#46039f"
            ],
            [
             0.2222222222222222,
             "#7201a8"
            ],
            [
             0.3333333333333333,
             "#9c179e"
            ],
            [
             0.4444444444444444,
             "#bd3786"
            ],
            [
             0.5555555555555556,
             "#d8576b"
            ],
            [
             0.6666666666666666,
             "#ed7953"
            ],
            [
             0.7777777777777778,
             "#fb9f3a"
            ],
            [
             0.8888888888888888,
             "#fdca26"
            ],
            [
             1,
             "#f0f921"
            ]
           ],
           "sequentialminus": [
            [
             0,
             "#0d0887"
            ],
            [
             0.1111111111111111,
             "#46039f"
            ],
            [
             0.2222222222222222,
             "#7201a8"
            ],
            [
             0.3333333333333333,
             "#9c179e"
            ],
            [
             0.4444444444444444,
             "#bd3786"
            ],
            [
             0.5555555555555556,
             "#d8576b"
            ],
            [
             0.6666666666666666,
             "#ed7953"
            ],
            [
             0.7777777777777778,
             "#fb9f3a"
            ],
            [
             0.8888888888888888,
             "#fdca26"
            ],
            [
             1,
             "#f0f921"
            ]
           ]
          },
          "colorway": [
           "#636efa",
           "#EF553B",
           "#00cc96",
           "#ab63fa",
           "#FFA15A",
           "#19d3f3",
           "#FF6692",
           "#B6E880",
           "#FF97FF",
           "#FECB52"
          ],
          "font": {
           "color": "#2a3f5f"
          },
          "geo": {
           "bgcolor": "white",
           "lakecolor": "white",
           "landcolor": "#E5ECF6",
           "showlakes": true,
           "showland": true,
           "subunitcolor": "white"
          },
          "hoverlabel": {
           "align": "left"
          },
          "hovermode": "closest",
          "mapbox": {
           "style": "light"
          },
          "paper_bgcolor": "white",
          "plot_bgcolor": "#E5ECF6",
          "polar": {
           "angularaxis": {
            "gridcolor": "white",
            "linecolor": "white",
            "ticks": ""
           },
           "bgcolor": "#E5ECF6",
           "radialaxis": {
            "gridcolor": "white",
            "linecolor": "white",
            "ticks": ""
           }
          },
          "scene": {
           "xaxis": {
            "backgroundcolor": "#E5ECF6",
            "gridcolor": "white",
            "gridwidth": 2,
            "linecolor": "white",
            "showbackground": true,
            "ticks": "",
            "zerolinecolor": "white"
           },
           "yaxis": {
            "backgroundcolor": "#E5ECF6",
            "gridcolor": "white",
            "gridwidth": 2,
            "linecolor": "white",
            "showbackground": true,
            "ticks": "",
            "zerolinecolor": "white"
           },
           "zaxis": {
            "backgroundcolor": "#E5ECF6",
            "gridcolor": "white",
            "gridwidth": 2,
            "linecolor": "white",
            "showbackground": true,
            "ticks": "",
            "zerolinecolor": "white"
           }
          },
          "shapedefaults": {
           "line": {
            "color": "#2a3f5f"
           }
          },
          "ternary": {
           "aaxis": {
            "gridcolor": "white",
            "linecolor": "white",
            "ticks": ""
           },
           "baxis": {
            "gridcolor": "white",
            "linecolor": "white",
            "ticks": ""
           },
           "bgcolor": "#E5ECF6",
           "caxis": {
            "gridcolor": "white",
            "linecolor": "white",
            "ticks": ""
           }
          },
          "title": {
           "x": 0.05
          },
          "xaxis": {
           "automargin": true,
           "gridcolor": "white",
           "linecolor": "white",
           "ticks": "",
           "title": {
            "standoff": 15
           },
           "zerolinecolor": "white",
           "zerolinewidth": 2
          },
          "yaxis": {
           "automargin": true,
           "gridcolor": "white",
           "linecolor": "white",
           "ticks": "",
           "title": {
            "standoff": 15
           },
           "zerolinecolor": "white",
           "zerolinewidth": 2
          }
         }
        },
        "width": 300
       }
      },
      "text/html": [
       "<div>                            <div id=\"a660906e-9749-492b-8be6-efe6e004a032\" class=\"plotly-graph-div\" style=\"height:300px; width:300px;\"></div>            <script type=\"text/javascript\">                require([\"plotly\"], function(Plotly) {                    window.PLOTLYENV=window.PLOTLYENV || {};                                    if (document.getElementById(\"a660906e-9749-492b-8be6-efe6e004a032\")) {                    Plotly.newPlot(                        \"a660906e-9749-492b-8be6-efe6e004a032\",                        [{\"domain\":{\"x\":[0.0,1.0],\"y\":[0.0,1.0]},\"hovertemplate\":\"Names=%{label}<br>Message %=%{value}<extra></extra>\",\"labels\":[\"Khushi Cse\",\"Nandini Cse\",\"Mamta Cse\",\"Akanksha Cse\",\"Aman Cse\",\"Riyanshi Cse\",\"75280 12541\",\"Sejal Cse\",\"Rushika Cse\",\"88104 75823\",\"Sheffy Cse\",\"group notification\",\"Moni Cse\",\"Parul Cse\",\"Shikha Cse\",\"Ishita Cse\",\"Harshita Cse\",\"Mandeep Cse\",\"81785 10488\",\"Neetu Cse Nit\",\"Priyanka Cse\",\"Ritika Cse\",\"Kumud Cse\",\"Unnisha Cse\",\"Sheetal Cse\",\"78889 72864\",\"75085 15845\"],\"legendgroup\":\"\",\"name\":\"\",\"showlegend\":true,\"values\":[35.41,21.87,9.36,5.68,4.78,3.4,2.68,2.13,1.93,1.86,1.3,1.26,1.26,1.18,1.11,0.79,0.59,0.51,0.51,0.47,0.36,0.32,0.32,0.32,0.24,0.2,0.16],\"type\":\"pie\",\"textinfo\":\"percent+label\",\"textposition\":\"inside\"}],                        {\"template\":{\"data\":{\"bar\":[{\"error_x\":{\"color\":\"#2a3f5f\"},\"error_y\":{\"color\":\"#2a3f5f\"},\"marker\":{\"line\":{\"color\":\"#E5ECF6\",\"width\":0.5},\"pattern\":{\"fillmode\":\"overlay\",\"size\":10,\"solidity\":0.2}},\"type\":\"bar\"}],\"barpolar\":[{\"marker\":{\"line\":{\"color\":\"#E5ECF6\",\"width\":0.5},\"pattern\":{\"fillmode\":\"overlay\",\"size\":10,\"solidity\":0.2}},\"type\":\"barpolar\"}],\"carpet\":[{\"aaxis\":{\"endlinecolor\":\"#2a3f5f\",\"gridcolor\":\"white\",\"linecolor\":\"white\",\"minorgridcolor\":\"white\",\"startlinecolor\":\"#2a3f5f\"},\"baxis\":{\"endlinecolor\":\"#2a3f5f\",\"gridcolor\":\"white\",\"linecolor\":\"white\",\"minorgridcolor\":\"white\",\"startlinecolor\":\"#2a3f5f\"},\"type\":\"carpet\"}],\"choropleth\":[{\"colorbar\":{\"outlinewidth\":0,\"ticks\":\"\"},\"type\":\"choropleth\"}],\"contour\":[{\"colorbar\":{\"outlinewidth\":0,\"ticks\":\"\"},\"colorscale\":[[0.0,\"#0d0887\"],[0.1111111111111111,\"#46039f\"],[0.2222222222222222,\"#7201a8\"],[0.3333333333333333,\"#9c179e\"],[0.4444444444444444,\"#bd3786\"],[0.5555555555555556,\"#d8576b\"],[0.6666666666666666,\"#ed7953\"],[0.7777777777777778,\"#fb9f3a\"],[0.8888888888888888,\"#fdca26\"],[1.0,\"#f0f921\"]],\"type\":\"contour\"}],\"contourcarpet\":[{\"colorbar\":{\"outlinewidth\":0,\"ticks\":\"\"},\"type\":\"contourcarpet\"}],\"heatmap\":[{\"colorbar\":{\"outlinewidth\":0,\"ticks\":\"\"},\"colorscale\":[[0.0,\"#0d0887\"],[0.1111111111111111,\"#46039f\"],[0.2222222222222222,\"#7201a8\"],[0.3333333333333333,\"#9c179e\"],[0.4444444444444444,\"#bd3786\"],[0.5555555555555556,\"#d8576b\"],[0.6666666666666666,\"#ed7953\"],[0.7777777777777778,\"#fb9f3a\"],[0.8888888888888888,\"#fdca26\"],[1.0,\"#f0f921\"]],\"type\":\"heatmap\"}],\"heatmapgl\":[{\"colorbar\":{\"outlinewidth\":0,\"ticks\":\"\"},\"colorscale\":[[0.0,\"#0d0887\"],[0.1111111111111111,\"#46039f\"],[0.2222222222222222,\"#7201a8\"],[0.3333333333333333,\"#9c179e\"],[0.4444444444444444,\"#bd3786\"],[0.5555555555555556,\"#d8576b\"],[0.6666666666666666,\"#ed7953\"],[0.7777777777777778,\"#fb9f3a\"],[0.8888888888888888,\"#fdca26\"],[1.0,\"#f0f921\"]],\"type\":\"heatmapgl\"}],\"histogram\":[{\"marker\":{\"pattern\":{\"fillmode\":\"overlay\",\"size\":10,\"solidity\":0.2}},\"type\":\"histogram\"}],\"histogram2d\":[{\"colorbar\":{\"outlinewidth\":0,\"ticks\":\"\"},\"colorscale\":[[0.0,\"#0d0887\"],[0.1111111111111111,\"#46039f\"],[0.2222222222222222,\"#7201a8\"],[0.3333333333333333,\"#9c179e\"],[0.4444444444444444,\"#bd3786\"],[0.5555555555555556,\"#d8576b\"],[0.6666666666666666,\"#ed7953\"],[0.7777777777777778,\"#fb9f3a\"],[0.8888888888888888,\"#fdca26\"],[1.0,\"#f0f921\"]],\"type\":\"histogram2d\"}],\"histogram2dcontour\":[{\"colorbar\":{\"outlinewidth\":0,\"ticks\":\"\"},\"colorscale\":[[0.0,\"#0d0887\"],[0.1111111111111111,\"#46039f\"],[0.2222222222222222,\"#7201a8\"],[0.3333333333333333,\"#9c179e\"],[0.4444444444444444,\"#bd3786\"],[0.5555555555555556,\"#d8576b\"],[0.6666666666666666,\"#ed7953\"],[0.7777777777777778,\"#fb9f3a\"],[0.8888888888888888,\"#fdca26\"],[1.0,\"#f0f921\"]],\"type\":\"histogram2dcontour\"}],\"mesh3d\":[{\"colorbar\":{\"outlinewidth\":0,\"ticks\":\"\"},\"type\":\"mesh3d\"}],\"parcoords\":[{\"line\":{\"colorbar\":{\"outlinewidth\":0,\"ticks\":\"\"}},\"type\":\"parcoords\"}],\"pie\":[{\"automargin\":true,\"type\":\"pie\"}],\"scatter\":[{\"marker\":{\"colorbar\":{\"outlinewidth\":0,\"ticks\":\"\"}},\"type\":\"scatter\"}],\"scatter3d\":[{\"line\":{\"colorbar\":{\"outlinewidth\":0,\"ticks\":\"\"}},\"marker\":{\"colorbar\":{\"outlinewidth\":0,\"ticks\":\"\"}},\"type\":\"scatter3d\"}],\"scattercarpet\":[{\"marker\":{\"colorbar\":{\"outlinewidth\":0,\"ticks\":\"\"}},\"type\":\"scattercarpet\"}],\"scattergeo\":[{\"marker\":{\"colorbar\":{\"outlinewidth\":0,\"ticks\":\"\"}},\"type\":\"scattergeo\"}],\"scattergl\":[{\"marker\":{\"colorbar\":{\"outlinewidth\":0,\"ticks\":\"\"}},\"type\":\"scattergl\"}],\"scattermapbox\":[{\"marker\":{\"colorbar\":{\"outlinewidth\":0,\"ticks\":\"\"}},\"type\":\"scattermapbox\"}],\"scatterpolar\":[{\"marker\":{\"colorbar\":{\"outlinewidth\":0,\"ticks\":\"\"}},\"type\":\"scatterpolar\"}],\"scatterpolargl\":[{\"marker\":{\"colorbar\":{\"outlinewidth\":0,\"ticks\":\"\"}},\"type\":\"scatterpolargl\"}],\"scatterternary\":[{\"marker\":{\"colorbar\":{\"outlinewidth\":0,\"ticks\":\"\"}},\"type\":\"scatterternary\"}],\"surface\":[{\"colorbar\":{\"outlinewidth\":0,\"ticks\":\"\"},\"colorscale\":[[0.0,\"#0d0887\"],[0.1111111111111111,\"#46039f\"],[0.2222222222222222,\"#7201a8\"],[0.3333333333333333,\"#9c179e\"],[0.4444444444444444,\"#bd3786\"],[0.5555555555555556,\"#d8576b\"],[0.6666666666666666,\"#ed7953\"],[0.7777777777777778,\"#fb9f3a\"],[0.8888888888888888,\"#fdca26\"],[1.0,\"#f0f921\"]],\"type\":\"surface\"}],\"table\":[{\"cells\":{\"fill\":{\"color\":\"#EBF0F8\"},\"line\":{\"color\":\"white\"}},\"header\":{\"fill\":{\"color\":\"#C8D4E3\"},\"line\":{\"color\":\"white\"}},\"type\":\"table\"}]},\"layout\":{\"annotationdefaults\":{\"arrowcolor\":\"#2a3f5f\",\"arrowhead\":0,\"arrowwidth\":1},\"autotypenumbers\":\"strict\",\"coloraxis\":{\"colorbar\":{\"outlinewidth\":0,\"ticks\":\"\"}},\"colorscale\":{\"diverging\":[[0,\"#8e0152\"],[0.1,\"#c51b7d\"],[0.2,\"#de77ae\"],[0.3,\"#f1b6da\"],[0.4,\"#fde0ef\"],[0.5,\"#f7f7f7\"],[0.6,\"#e6f5d0\"],[0.7,\"#b8e186\"],[0.8,\"#7fbc41\"],[0.9,\"#4d9221\"],[1,\"#276419\"]],\"sequential\":[[0.0,\"#0d0887\"],[0.1111111111111111,\"#46039f\"],[0.2222222222222222,\"#7201a8\"],[0.3333333333333333,\"#9c179e\"],[0.4444444444444444,\"#bd3786\"],[0.5555555555555556,\"#d8576b\"],[0.6666666666666666,\"#ed7953\"],[0.7777777777777778,\"#fb9f3a\"],[0.8888888888888888,\"#fdca26\"],[1.0,\"#f0f921\"]],\"sequentialminus\":[[0.0,\"#0d0887\"],[0.1111111111111111,\"#46039f\"],[0.2222222222222222,\"#7201a8\"],[0.3333333333333333,\"#9c179e\"],[0.4444444444444444,\"#bd3786\"],[0.5555555555555556,\"#d8576b\"],[0.6666666666666666,\"#ed7953\"],[0.7777777777777778,\"#fb9f3a\"],[0.8888888888888888,\"#fdca26\"],[1.0,\"#f0f921\"]]},\"colorway\":[\"#636efa\",\"#EF553B\",\"#00cc96\",\"#ab63fa\",\"#FFA15A\",\"#19d3f3\",\"#FF6692\",\"#B6E880\",\"#FF97FF\",\"#FECB52\"],\"font\":{\"color\":\"#2a3f5f\"},\"geo\":{\"bgcolor\":\"white\",\"lakecolor\":\"white\",\"landcolor\":\"#E5ECF6\",\"showlakes\":true,\"showland\":true,\"subunitcolor\":\"white\"},\"hoverlabel\":{\"align\":\"left\"},\"hovermode\":\"closest\",\"mapbox\":{\"style\":\"light\"},\"paper_bgcolor\":\"white\",\"plot_bgcolor\":\"#E5ECF6\",\"polar\":{\"angularaxis\":{\"gridcolor\":\"white\",\"linecolor\":\"white\",\"ticks\":\"\"},\"bgcolor\":\"#E5ECF6\",\"radialaxis\":{\"gridcolor\":\"white\",\"linecolor\":\"white\",\"ticks\":\"\"}},\"scene\":{\"xaxis\":{\"backgroundcolor\":\"#E5ECF6\",\"gridcolor\":\"white\",\"gridwidth\":2,\"linecolor\":\"white\",\"showbackground\":true,\"ticks\":\"\",\"zerolinecolor\":\"white\"},\"yaxis\":{\"backgroundcolor\":\"#E5ECF6\",\"gridcolor\":\"white\",\"gridwidth\":2,\"linecolor\":\"white\",\"showbackground\":true,\"ticks\":\"\",\"zerolinecolor\":\"white\"},\"zaxis\":{\"backgroundcolor\":\"#E5ECF6\",\"gridcolor\":\"white\",\"gridwidth\":2,\"linecolor\":\"white\",\"showbackground\":true,\"ticks\":\"\",\"zerolinecolor\":\"white\"}},\"shapedefaults\":{\"line\":{\"color\":\"#2a3f5f\"}},\"ternary\":{\"aaxis\":{\"gridcolor\":\"white\",\"linecolor\":\"white\",\"ticks\":\"\"},\"baxis\":{\"gridcolor\":\"white\",\"linecolor\":\"white\",\"ticks\":\"\"},\"bgcolor\":\"#E5ECF6\",\"caxis\":{\"gridcolor\":\"white\",\"linecolor\":\"white\",\"ticks\":\"\"}},\"title\":{\"x\":0.05},\"xaxis\":{\"automargin\":true,\"gridcolor\":\"white\",\"linecolor\":\"white\",\"ticks\":\"\",\"title\":{\"standoff\":15},\"zerolinecolor\":\"white\",\"zerolinewidth\":2},\"yaxis\":{\"automargin\":true,\"gridcolor\":\"white\",\"linecolor\":\"white\",\"ticks\":\"\",\"title\":{\"standoff\":15},\"zerolinecolor\":\"white\",\"zerolinewidth\":2}}},\"legend\":{\"tracegroupgap\":0},\"margin\":{\"t\":0,\"l\":0.5,\"r\":0.5,\"b\":0},\"showlegend\":false,\"width\":300,\"height\":300},                        {\"responsive\": true}                    ).then(function(){\n",
       "                            \n",
       "var gd = document.getElementById('a660906e-9749-492b-8be6-efe6e004a032');\n",
       "var x = new MutationObserver(function (mutations, observer) {{\n",
       "        var display = window.getComputedStyle(gd).display;\n",
       "        if (!display || display === 'none') {{\n",
       "            console.log([gd, 'removed!']);\n",
       "            Plotly.purge(gd);\n",
       "            observer.disconnect();\n",
       "        }}\n",
       "}});\n",
       "\n",
       "// Listen for the removal of the full notebook cells\n",
       "var notebookContainer = gd.closest('#notebook-container');\n",
       "if (notebookContainer) {{\n",
       "    x.observe(notebookContainer, {childList: true});\n",
       "}}\n",
       "\n",
       "// Listen for the clearing of the current output cell\n",
       "var outputEl = gd.closest('.output');\n",
       "if (outputEl) {{\n",
       "    x.observe(outputEl, {childList: true});\n",
       "}}\n",
       "\n",
       "                        })                };                });            </script>        </div>"
      ]
     },
     "metadata": {},
     "output_type": "display_data"
    }
   ],
   "source": [
    "fig=px.pie(User_percentage,values='Message %',names = 'Names')\n",
    "fig.update_traces(textposition='inside', textinfo='percent+label')\n",
    "fig.update_layout(showlegend=False,width=300,height=300,margin={'l':0.5,'r':0.5,'t':0,'b':0})"
   ]
  },
  {
   "cell_type": "code",
   "execution_count": 175,
   "id": "c0564839",
   "metadata": {},
   "outputs": [
    {
     "data": {
      "text/plain": [
       "<matplotlib.image.AxesImage at 0x1be77593a00>"
      ]
     },
     "execution_count": 175,
     "metadata": {},
     "output_type": "execute_result"
    },
    {
     "data": {
      "image/png": "[encoded data removed]",
      "text/plain": [
       "<Figure size 432x288 with 1 Axes>"
      ]
     },
     "metadata": {
      "needs_background": "light"
     },
     "output_type": "display_data"
    }
   ],
   "source": [
    "wc = WordCloud(width=500,height=500,min_font_size=10,background_color=\"white\")\n",
    "df_wc = wc.generate(\"htlrs kjreg;s reyo5i4; tiyoe6y ryj;i64pyjd ti;ye5/lk5hb gkw;l/4nh yej/l3;yh, khm/es hdflb jbfk; j.g.kw r.sgnwa/ .kjagn.ne j.ragk.rah \")\n",
    "fig,ax=plt.subplots()\n",
    "plt.axis(\"off\")\n",
    "plt.tight_layout(pad = 0)\n",
    "ax.imshow(df_wc)"
   ]
  },
  {
   "cell_type": "code",
   "execution_count": 176,
   "id": "3d1b064d",
   "metadata": {},
   "outputs": [
    {
     "data": {
      "text/plain": [
       "['.', '..', '...', ',', ': ', '?', '??', '???', '!', '-']"
      ]
     },
     "execution_count": 176,
     "metadata": {},
     "output_type": "execute_result"
    }
   ],
   "source": [
    "f=open('StopWords.txt','r')\n",
    "stopWords= f.read().split(\"\\n\")\n",
    "stopWords[:10]"
   ]
  },
  {
   "cell_type": "code",
   "execution_count": 177,
   "id": "4426ce3b",
   "metadata": {},
   "outputs": [
    {
     "name": "stderr",
     "output_type": "stream",
     "text": [
      "C:\\Users\\bhamb\\AppData\\Local\\Temp/ipykernel_26764/2542384477.py:12: SettingWithCopyWarning:\n",
      "\n",
      "\n",
      "A value is trying to be set on a copy of a slice from a DataFrame.\n",
      "Try using .loc[row_indexer,col_indexer] = value instead\n",
      "\n",
      "See the caveats in the documentation: https://pandas.pydata.org/pandas-docs/stable/user_guide/indexing.html#returning-a-view-versus-a-copy\n",
      "\n"
     ]
    }
   ],
   "source": [
    "def remove_stop_words(x,links):\n",
    "    y = []\n",
    "    links=\" \".join(links)\n",
    "    if x!=\"This message was deleted\" and x!=\"<Media omitted>\" and x!='You deleted this message':\n",
    "        for word in x.split():\n",
    "            if word.lower() not in stopWords and word not in links:\n",
    "                y.append(word)\n",
    "    return \" \".join(y)\n",
    "\n",
    "user='Khushi Cse'\n",
    "user_data= df[df['User']==user]\n",
    "user_data['Messages'] = user_data['Messages'].apply(lambda x: remove_stop_words(x,links))\n",
    "user_data = user_data[user_data['Messages']!=\"\"]"
   ]
  },
  {
   "cell_type": "code",
   "execution_count": 178,
   "id": "2bb26ada",
   "metadata": {},
   "outputs": [
    {
     "data": {
      "text/plain": [
       "<matplotlib.image.AxesImage at 0x1be75ddd450>"
      ]
     },
     "execution_count": 178,
     "metadata": {},
     "output_type": "execute_result"
    },
    {
     "data": {
      "image/png": "[encoded data removed]",
      "text/plain": [
       "<Figure size 432x288 with 1 Axes>"
      ]
     },
     "metadata": {
      "needs_background": "light"
     },
     "output_type": "display_data"
    }
   ],
   "source": [
    "wc = WordCloud(width=500,height=500,min_font_size=10,background_color=\"white\")\n",
    "df_wc = wc.generate(user_data['Messages'].str.cat(sep=\" \"))\n",
    "fig,ax=plt.subplots()\n",
    "plt.axis(\"off\")\n",
    "plt.tight_layout(pad = 0)\n",
    "ax.imshow(df_wc)"
   ]
  },
  {
   "cell_type": "code",
   "execution_count": 179,
   "id": "10724999",
   "metadata": {},
   "outputs": [
    {
     "data": {
      "text/plain": [
       "['😂😂😂😂', 'vese', 'girls', 'bdda', 'ignore', 'kr', 'Ik', 'msg', 'jara', '😂😂🌚']"
      ]
     },
     "execution_count": 179,
     "metadata": {},
     "output_type": "execute_result"
    }
   ],
   "source": [
    "words= user_data[\"Messages\"].str.cat(sep=\" \").split(\" \")\n",
    "words[0:10]"
   ]
  },
  {
   "cell_type": "code",
   "execution_count": 180,
   "id": "427360f7",
   "metadata": {},
   "outputs": [
    {
     "data": {
      "text/html": [
       "<div>\n",
       "<style scoped>\n",
       "    .dataframe tbody tr th:only-of-type {\n",
       "        vertical-align: middle;\n",
       "    }\n",
       "\n",
       "    .dataframe tbody tr th {\n",
       "        vertical-align: top;\n",
       "    }\n",
       "\n",
       "    .dataframe thead th {\n",
       "        text-align: right;\n",
       "    }\n",
       "</style>\n",
       "<table border=\"1\" class=\"dataframe\">\n",
       "  <thead>\n",
       "    <tr style=\"text-align: right;\">\n",
       "      <th></th>\n",
       "      <th>Word</th>\n",
       "      <th>Usage</th>\n",
       "    </tr>\n",
       "  </thead>\n",
       "  <tbody>\n",
       "    <tr>\n",
       "      <th>0</th>\n",
       "      <td>😂</td>\n",
       "      <td>40</td>\n",
       "    </tr>\n",
       "    <tr>\n",
       "      <th>1</th>\n",
       "      <td>😂😂</td>\n",
       "      <td>33</td>\n",
       "    </tr>\n",
       "    <tr>\n",
       "      <th>2</th>\n",
       "      <td>girls</td>\n",
       "      <td>19</td>\n",
       "    </tr>\n",
       "    <tr>\n",
       "      <th>3</th>\n",
       "      <td>kuch</td>\n",
       "      <td>16</td>\n",
       "    </tr>\n",
       "    <tr>\n",
       "      <th>4</th>\n",
       "      <td>pta</td>\n",
       "      <td>15</td>\n",
       "    </tr>\n",
       "  </tbody>\n",
       "</table>\n",
       "</div>"
      ],
      "text/plain": [
       "    Word  Usage\n",
       "0      😂     40\n",
       "1     😂😂     33\n",
       "2  girls     19\n",
       "3   kuch     16\n",
       "4    pta     15"
      ]
     },
     "execution_count": 180,
     "metadata": {},
     "output_type": "execute_result"
    }
   ],
   "source": [
    "from collections import Counter\n",
    "mostCommonWords=pd.DataFrame(Counter(words).most_common(20),columns=['Word','Usage'])\n",
    "mostCommonWords.head()"
   ]
  },
  {
   "cell_type": "code",
   "execution_count": 181,
   "id": "adfb745a",
   "metadata": {},
   "outputs": [
    {
     "data": {
      "text/html": [
       "<div>\n",
       "<style scoped>\n",
       "    .dataframe tbody tr th:only-of-type {\n",
       "        vertical-align: middle;\n",
       "    }\n",
       "\n",
       "    .dataframe tbody tr th {\n",
       "        vertical-align: top;\n",
       "    }\n",
       "\n",
       "    .dataframe thead th {\n",
       "        text-align: right;\n",
       "    }\n",
       "</style>\n",
       "<table border=\"1\" class=\"dataframe\">\n",
       "  <thead>\n",
       "    <tr style=\"text-align: right;\">\n",
       "      <th></th>\n",
       "      <th>Emoji</th>\n",
       "      <th>Usage</th>\n",
       "    </tr>\n",
       "  </thead>\n",
       "  <tbody>\n",
       "    <tr>\n",
       "      <th>0</th>\n",
       "      <td>😂</td>\n",
       "      <td>276</td>\n",
       "    </tr>\n",
       "    <tr>\n",
       "      <th>1</th>\n",
       "      <td>🌚</td>\n",
       "      <td>51</td>\n",
       "    </tr>\n",
       "    <tr>\n",
       "      <th>2</th>\n",
       "      <td>🥲</td>\n",
       "      <td>36</td>\n",
       "    </tr>\n",
       "    <tr>\n",
       "      <th>3</th>\n",
       "      <td>😬</td>\n",
       "      <td>29</td>\n",
       "    </tr>\n",
       "    <tr>\n",
       "      <th>4</th>\n",
       "      <td>🔥</td>\n",
       "      <td>20</td>\n",
       "    </tr>\n",
       "  </tbody>\n",
       "</table>\n",
       "</div>"
      ],
      "text/plain": [
       "  Emoji  Usage\n",
       "0     😂    276\n",
       "1     🌚     51\n",
       "2     🥲     36\n",
       "3     😬     29\n",
       "4     🔥     20"
      ]
     },
     "execution_count": 181,
     "metadata": {},
     "output_type": "execute_result"
    }
   ],
   "source": [
    "emojis=[]\n",
    "for msg in user_data['Messages']:\n",
    "    for c in msg:\n",
    "        if c in emoji.UNICODE_EMOJI['en']:\n",
    "            emojis.append(c)\n",
    "emojis=pd.Series(emojis,name=\"usage\")\n",
    "emojis=pd.DataFrame({'Emoji':emojis.value_counts().index,'Usage':emojis.value_counts().values})\n",
    "emojis.head()"
   ]
  },
  {
   "cell_type": "code",
   "execution_count": 182,
   "id": "8c8ed73e",
   "metadata": {},
   "outputs": [
    {
     "name": "stdout",
     "output_type": "stream",
     "text": [
      "10024\n"
     ]
    }
   ],
   "source": [
    "#get unicode for an emoji\n",
    "print(ord(u\"✨\"))"
   ]
  },
  {
   "cell_type": "code",
   "execution_count": 183,
   "id": "2f57739f",
   "metadata": {},
   "outputs": [
    {
     "data": {
      "text/html": [
       "<div>\n",
       "<style scoped>\n",
       "    .dataframe tbody tr th:only-of-type {\n",
       "        vertical-align: middle;\n",
       "    }\n",
       "\n",
       "    .dataframe tbody tr th {\n",
       "        vertical-align: top;\n",
       "    }\n",
       "\n",
       "    .dataframe thead th {\n",
       "        text-align: right;\n",
       "    }\n",
       "</style>\n",
       "<table border=\"1\" class=\"dataframe\">\n",
       "  <thead>\n",
       "    <tr style=\"text-align: right;\">\n",
       "      <th></th>\n",
       "      <th>Emoji</th>\n",
       "      <th>Usage</th>\n",
       "    </tr>\n",
       "  </thead>\n",
       "  <tbody>\n",
       "    <tr>\n",
       "      <th>0</th>\n",
       "      <td>😂</td>\n",
       "      <td>276</td>\n",
       "    </tr>\n",
       "    <tr>\n",
       "      <th>1</th>\n",
       "      <td>🌚</td>\n",
       "      <td>51</td>\n",
       "    </tr>\n",
       "    <tr>\n",
       "      <th>2</th>\n",
       "      <td>🥲</td>\n",
       "      <td>36</td>\n",
       "    </tr>\n",
       "    <tr>\n",
       "      <th>3</th>\n",
       "      <td>😬</td>\n",
       "      <td>29</td>\n",
       "    </tr>\n",
       "    <tr>\n",
       "      <th>4</th>\n",
       "      <td>🔥</td>\n",
       "      <td>20</td>\n",
       "    </tr>\n",
       "  </tbody>\n",
       "</table>\n",
       "</div>"
      ],
      "text/plain": [
       "  Emoji  Usage\n",
       "0     😂    276\n",
       "1     🌚     51\n",
       "2     🥲     36\n",
       "3     😬     29\n",
       "4     🔥     20"
      ]
     },
     "execution_count": 183,
     "metadata": {},
     "output_type": "execute_result"
    }
   ],
   "source": [
    "mssgs=user_data['Messages']\n",
    "mssgs\n",
    "emojies={}\n",
    "for mssg in mssgs:\n",
    "    for c in mssg :\n",
    "        if c in emoji.UNICODE_EMOJI['en']:\n",
    "            if c not in emojis:\n",
    "                emojies[c]=0\n",
    "            emojies[c]+=1\n",
    "emojies=pd.DataFrame({\n",
    "    'emoji':emojies.keys(),\n",
    "    'usage':emojies.values()\n",
    "})\n",
    "emojies.sort_values(by='usage',inplace=True,ascending=False)\n",
    "emojies=emojis.reset_index()\n",
    "# emojies.drop(['index'],inplace=True,axis=1)\n",
    "del emojies['index']\n",
    "# emojies.drop(['index'])\n",
    "emojies.head()"
   ]
  },
  {
   "cell_type": "code",
   "execution_count": 184,
   "id": "98dd8472",
   "metadata": {},
   "outputs": [],
   "source": [
    "# emojies.loc[28].Usage"
   ]
  },
  {
   "cell_type": "code",
   "execution_count": 185,
   "id": "406ed614",
   "metadata": {},
   "outputs": [
    {
     "data": {
      "text/html": [
       "<div>\n",
       "<style scoped>\n",
       "    .dataframe tbody tr th:only-of-type {\n",
       "        vertical-align: middle;\n",
       "    }\n",
       "\n",
       "    .dataframe tbody tr th {\n",
       "        vertical-align: top;\n",
       "    }\n",
       "\n",
       "    .dataframe thead th {\n",
       "        text-align: right;\n",
       "    }\n",
       "</style>\n",
       "<table border=\"1\" class=\"dataframe\">\n",
       "  <thead>\n",
       "    <tr style=\"text-align: right;\">\n",
       "      <th></th>\n",
       "      <th>Emoji</th>\n",
       "      <th>Usage</th>\n",
       "    </tr>\n",
       "  </thead>\n",
       "  <tbody>\n",
       "    <tr>\n",
       "      <th>25</th>\n",
       "      <td>🤫</td>\n",
       "      <td>1</td>\n",
       "    </tr>\n",
       "    <tr>\n",
       "      <th>26</th>\n",
       "      <td>🥺</td>\n",
       "      <td>1</td>\n",
       "    </tr>\n",
       "    <tr>\n",
       "      <th>27</th>\n",
       "      <td>🤔</td>\n",
       "      <td>1</td>\n",
       "    </tr>\n",
       "    <tr>\n",
       "      <th>28</th>\n",
       "      <td>😑</td>\n",
       "      <td>1</td>\n",
       "    </tr>\n",
       "    <tr>\n",
       "      <th>29</th>\n",
       "      <td>Others</td>\n",
       "      <td>3</td>\n",
       "    </tr>\n",
       "  </tbody>\n",
       "</table>\n",
       "</div>"
      ],
      "text/plain": [
       "     Emoji  Usage\n",
       "25       🤫      1\n",
       "26       🥺      1\n",
       "27       🤔      1\n",
       "28       😑      1\n",
       "29  Others      3"
      ]
     },
     "execution_count": 185,
     "metadata": {},
     "output_type": "execute_result"
    }
   ],
   "source": [
    "PieTable= emojies.head(29)\n",
    "sum=0\n",
    "for i in range (0,emojies.shape[0]):\n",
    "    if i>28:\n",
    "        sum+=emojies.loc[i,'Usage']\n",
    "df2 = {'Emoji': 'Others', 'Usage': sum}\n",
    "PieTable = PieTable.append(df2, ignore_index = True)\n",
    "PieTable.tail()"
   ]
  },
  {
   "cell_type": "code",
   "execution_count": 186,
   "id": "467ae440",
   "metadata": {},
   "outputs": [
    {
     "data": {
      "text/plain": [
       "32"
      ]
     },
     "execution_count": 186,
     "metadata": {},
     "output_type": "execute_result"
    }
   ],
   "source": [
    "emojies.shape[0]"
   ]
  },
  {
   "cell_type": "code",
   "execution_count": 187,
   "id": "3476c29b",
   "metadata": {},
   "outputs": [
    {
     "name": "stdout",
     "output_type": "stream",
     "text": [
      "<class 'pandas.core.frame.DataFrame'>\n",
      "RangeIndex: 2533 entries, 0 to 2532\n",
      "Data columns (total 13 columns):\n",
      " #   Column     Non-Null Count  Dtype         \n",
      "---  ------     --------------  -----         \n",
      " 0   Date       2533 non-null   datetime64[ns]\n",
      " 1   Messages   2533 non-null   object        \n",
      " 2   Datetime   2533 non-null   datetime64[ns]\n",
      " 3   User       2533 non-null   object        \n",
      " 4   Day        2533 non-null   int64         \n",
      " 5   Month      2533 non-null   object        \n",
      " 6   Year       2533 non-null   int64         \n",
      " 7   Month_num  2533 non-null   int64         \n",
      " 8   Week       2533 non-null   UInt32        \n",
      " 9   Day_name   2533 non-null   object        \n",
      " 10  Time       2533 non-null   object        \n",
      " 11  Hour       2533 non-null   int64         \n",
      " 12  Minute     2533 non-null   int64         \n",
      "dtypes: UInt32(1), datetime64[ns](2), int64(5), object(5)\n",
      "memory usage: 250.0+ KB\n"
     ]
    }
   ],
   "source": [
    "df.info()"
   ]
  },
  {
   "cell_type": "code",
   "execution_count": 188,
   "id": "1b047716",
   "metadata": {},
   "outputs": [
    {
     "data": {
      "text/plain": [
       "pandas.core.series.Series"
      ]
     },
     "execution_count": 188,
     "metadata": {},
     "output_type": "execute_result"
    }
   ],
   "source": [
    "type(df.groupby(['Year','Month_num']).count().Messages)"
   ]
  },
  {
   "cell_type": "code",
   "execution_count": 189,
   "id": "09d480f2",
   "metadata": {},
   "outputs": [
    {
     "data": {
      "text/html": [
       "<div>\n",
       "<style scoped>\n",
       "    .dataframe tbody tr th:only-of-type {\n",
       "        vertical-align: middle;\n",
       "    }\n",
       "\n",
       "    .dataframe tbody tr th {\n",
       "        vertical-align: top;\n",
       "    }\n",
       "\n",
       "    .dataframe thead th {\n",
       "        text-align: right;\n",
       "    }\n",
       "</style>\n",
       "<table border=\"1\" class=\"dataframe\">\n",
       "  <thead>\n",
       "    <tr style=\"text-align: right;\">\n",
       "      <th></th>\n",
       "      <th>Year</th>\n",
       "      <th>Month_num</th>\n",
       "      <th>Month</th>\n",
       "      <th>Messages</th>\n",
       "    </tr>\n",
       "  </thead>\n",
       "  <tbody>\n",
       "    <tr>\n",
       "      <th>0</th>\n",
       "      <td>2021</td>\n",
       "      <td>8</td>\n",
       "      <td>August</td>\n",
       "      <td>667</td>\n",
       "    </tr>\n",
       "    <tr>\n",
       "      <th>1</th>\n",
       "      <td>2021</td>\n",
       "      <td>9</td>\n",
       "      <td>September</td>\n",
       "      <td>1645</td>\n",
       "    </tr>\n",
       "    <tr>\n",
       "      <th>2</th>\n",
       "      <td>2021</td>\n",
       "      <td>10</td>\n",
       "      <td>October</td>\n",
       "      <td>198</td>\n",
       "    </tr>\n",
       "    <tr>\n",
       "      <th>3</th>\n",
       "      <td>2021</td>\n",
       "      <td>11</td>\n",
       "      <td>November</td>\n",
       "      <td>15</td>\n",
       "    </tr>\n",
       "    <tr>\n",
       "      <th>4</th>\n",
       "      <td>2021</td>\n",
       "      <td>12</td>\n",
       "      <td>December</td>\n",
       "      <td>8</td>\n",
       "    </tr>\n",
       "  </tbody>\n",
       "</table>\n",
       "</div>"
      ],
      "text/plain": [
       "   Year  Month_num      Month  Messages\n",
       "0  2021          8     August       667\n",
       "1  2021          9  September      1645\n",
       "2  2021         10    October       198\n",
       "3  2021         11   November        15\n",
       "4  2021         12   December         8"
      ]
     },
     "execution_count": 189,
     "metadata": {},
     "output_type": "execute_result"
    }
   ],
   "source": [
    "month_timeline=df.groupby(['Year','Month_num','Month']).count().Messages.reset_index()\n",
    "month_timeline"
   ]
  },
  {
   "cell_type": "code",
   "execution_count": 190,
   "id": "a93944b6",
   "metadata": {},
   "outputs": [
    {
     "data": {
      "text/html": [
       "<div>\n",
       "<style scoped>\n",
       "    .dataframe tbody tr th:only-of-type {\n",
       "        vertical-align: middle;\n",
       "    }\n",
       "\n",
       "    .dataframe tbody tr th {\n",
       "        vertical-align: top;\n",
       "    }\n",
       "\n",
       "    .dataframe thead th {\n",
       "        text-align: right;\n",
       "    }\n",
       "</style>\n",
       "<table border=\"1\" class=\"dataframe\">\n",
       "  <thead>\n",
       "    <tr style=\"text-align: right;\">\n",
       "      <th></th>\n",
       "      <th>Year</th>\n",
       "      <th>Month_num</th>\n",
       "      <th>Month</th>\n",
       "      <th>Messages</th>\n",
       "      <th>Mon-Timeline</th>\n",
       "    </tr>\n",
       "  </thead>\n",
       "  <tbody>\n",
       "    <tr>\n",
       "      <th>0</th>\n",
       "      <td>2021</td>\n",
       "      <td>8</td>\n",
       "      <td>August</td>\n",
       "      <td>667</td>\n",
       "      <td>August-2021</td>\n",
       "    </tr>\n",
       "    <tr>\n",
       "      <th>1</th>\n",
       "      <td>2021</td>\n",
       "      <td>9</td>\n",
       "      <td>September</td>\n",
       "      <td>1645</td>\n",
       "      <td>September-2021</td>\n",
       "    </tr>\n",
       "    <tr>\n",
       "      <th>2</th>\n",
       "      <td>2021</td>\n",
       "      <td>10</td>\n",
       "      <td>October</td>\n",
       "      <td>198</td>\n",
       "      <td>October-2021</td>\n",
       "    </tr>\n",
       "    <tr>\n",
       "      <th>3</th>\n",
       "      <td>2021</td>\n",
       "      <td>11</td>\n",
       "      <td>November</td>\n",
       "      <td>15</td>\n",
       "      <td>November-2021</td>\n",
       "    </tr>\n",
       "    <tr>\n",
       "      <th>4</th>\n",
       "      <td>2021</td>\n",
       "      <td>12</td>\n",
       "      <td>December</td>\n",
       "      <td>8</td>\n",
       "      <td>December-2021</td>\n",
       "    </tr>\n",
       "  </tbody>\n",
       "</table>\n",
       "</div>"
      ],
      "text/plain": [
       "   Year  Month_num      Month  Messages    Mon-Timeline\n",
       "0  2021          8     August       667     August-2021\n",
       "1  2021          9  September      1645  September-2021\n",
       "2  2021         10    October       198    October-2021\n",
       "3  2021         11   November        15   November-2021\n",
       "4  2021         12   December         8   December-2021"
      ]
     },
     "execution_count": 190,
     "metadata": {},
     "output_type": "execute_result"
    }
   ],
   "source": [
    "monthTimeline=[]\n",
    "for i in range (len(month_timeline)):\n",
    "    monthTimeline.append(month_timeline['Month'][i]+\"-\"+str(month_timeline['Year'][i]))\n",
    "month_timeline['Mon-Timeline']=monthTimeline\n",
    "month_timeline"
   ]
  },
  {
   "cell_type": "code",
   "execution_count": 191,
   "id": "92049bf7",
   "metadata": {},
   "outputs": [
    {
     "data": {
      "text/plain": [
       "([0, 1, 2, 3, 4],\n",
       " [Text(0, 0, ''),\n",
       "  Text(0, 0, ''),\n",
       "  Text(0, 0, ''),\n",
       "  Text(0, 0, ''),\n",
       "  Text(0, 0, '')])"
      ]
     },
     "execution_count": 191,
     "metadata": {},
     "output_type": "execute_result"
    },
    {
     "data": {
      "image/png": "[encoded data removed]",
      "text/plain": [
       "<Figure size 432x288 with 1 Axes>"
      ]
     },
     "metadata": {
      "needs_background": "light"
     },
     "output_type": "display_data"
    }
   ],
   "source": [
    "fig,ax=plt.subplots()\n",
    "ax.plot(month_timeline['Mon-Timeline'],month_timeline['Messages'])\n",
    "plt.xticks(rotation='45')"
   ]
  },
  {
   "cell_type": "code",
   "execution_count": 192,
   "id": "3d92adc2",
   "metadata": {},
   "outputs": [
    {
     "data": {
      "application/vnd.plotly.v1+json": {
       "config": {
        "plotlyServerURL": "https://plot.ly"
       },
       "data": [
        {
         "hovertemplate": "Mon-Timeline=%{x}<br>Messages=%{y}<extra></extra>",
         "legendgroup": "",
         "line": {
          "color": "#636efa",
          "dash": "solid"
         },
         "marker": {
          "symbol": "circle"
         },
         "mode": "markers+lines",
         "name": "",
         "orientation": "v",
         "showlegend": false,
         "type": "scatter",
         "x": [
          "August-2021",
          "September-2021",
          "October-2021",
          "November-2021",
          "December-2021"
         ],
         "xaxis": "x",
         "y": [
          667,
          1645,
          198,
          15,
          8
         ],
         "yaxis": "y"
        }
       ],
       "layout": {
        "legend": {
         "tracegroupgap": 0
        },
        "margin": {
         "t": 60
        },
        "template": {
         "data": {
          "bar": [
           {
            "error_x": {
             "color": "#2a3f5f"
            },
            "error_y": {
             "color": "#2a3f5f"
            },
            "marker": {
             "line": {
              "color": "#E5ECF6",
              "width": 0.5
             },
             "pattern": {
              "fillmode": "overlay",
              "size": 10,
              "solidity": 0.2
             }
            },
            "type": "bar"
           }
          ],
          "barpolar": [
           {
            "marker": {
             "line": {
              "color": "#E5ECF6",
              "width": 0.5
             },
             "pattern": {
              "fillmode": "overlay",
              "size": 10,
              "solidity": 0.2
             }
            },
            "type": "barpolar"
           }
          ],
          "carpet": [
           {
            "aaxis": {
             "endlinecolor": "#2a3f5f",
             "gridcolor": "white",
             "linecolor": "white",
             "minorgridcolor": "white",
             "startlinecolor": "#2a3f5f"
            },
            "baxis": {
             "endlinecolor": "#2a3f5f",
             "gridcolor": "white",
             "linecolor": "white",
             "minorgridcolor": "white",
             "startlinecolor": "#2a3f5f"
            },
            "type": "carpet"
           }
          ],
          "choropleth": [
           {
            "colorbar": {
             "outlinewidth": 0,
             "ticks": ""
            },
            "type": "choropleth"
           }
          ],
          "contour": [
           {
            "colorbar": {
             "outlinewidth": 0,
             "ticks": ""
            },
            "colorscale": [
             [
              0,
              "#0d0887"
             ],
             [
              0.1111111111111111,
              "#46039f"
             ],
             [
              0.2222222222222222,
              "#7201a8"
             ],
             [
              0.3333333333333333,
              "#9c179e"
             ],
             [
              0.4444444444444444,
              "#bd3786"
             ],
             [
              0.5555555555555556,
              "#d8576b"
             ],
             [
              0.6666666666666666,
              "#ed7953"
             ],
             [
              0.7777777777777778,
              "#fb9f3a"
             ],
             [
              0.8888888888888888,
              "#fdca26"
             ],
             [
              1,
              "#f0f921"
             ]
            ],
            "type": "contour"
           }
          ],
          "contourcarpet": [
           {
            "colorbar": {
             "outlinewidth": 0,
             "ticks": ""
            },
            "type": "contourcarpet"
           }
          ],
          "heatmap": [
           {
            "colorbar": {
             "outlinewidth": 0,
             "ticks": ""
            },
            "colorscale": [
             [
              0,
              "#0d0887"
             ],
             [
              0.1111111111111111,
              "#46039f"
             ],
             [
              0.2222222222222222,
              "#7201a8"
             ],
             [
              0.3333333333333333,
              "#9c179e"
             ],
             [
              0.4444444444444444,
              "#bd3786"
             ],
             [
              0.5555555555555556,
              "#d8576b"
             ],
             [
              0.6666666666666666,
              "#ed7953"
             ],
             [
              0.7777777777777778,
              "#fb9f3a"
             ],
             [
              0.8888888888888888,
              "#fdca26"
             ],
             [
              1,
              "#f0f921"
             ]
            ],
            "type": "heatmap"
           }
          ],
          "heatmapgl": [
           {
            "colorbar": {
             "outlinewidth": 0,
             "ticks": ""
            },
            "colorscale": [
             [
              0,
              "#0d0887"
             ],
             [
              0.1111111111111111,
              "#46039f"
             ],
             [
              0.2222222222222222,
              "#7201a8"
             ],
             [
              0.3333333333333333,
              "#9c179e"
             ],
             [
              0.4444444444444444,
              "#bd3786"
             ],
             [
              0.5555555555555556,
              "#d8576b"
             ],
             [
              0.6666666666666666,
              "#ed7953"
             ],
             [
              0.7777777777777778,
              "#fb9f3a"
             ],
             [
              0.8888888888888888,
              "#fdca26"
             ],
             [
              1,
              "#f0f921"
             ]
            ],
            "type": "heatmapgl"
           }
          ],
          "histogram": [
           {
            "marker": {
             "pattern": {
              "fillmode": "overlay",
              "size": 10,
              "solidity": 0.2
             }
            },
            "type": "histogram"
           }
          ],
          "histogram2d": [
           {
            "colorbar": {
             "outlinewidth": 0,
             "ticks": ""
            },
            "colorscale": [
             [
              0,
              "#0d0887"
             ],
             [
              0.1111111111111111,
              "#46039f"
             ],
             [
              0.2222222222222222,
              "#7201a8"
             ],
             [
              0.3333333333333333,
              "#9c179e"
             ],
             [
              0.4444444444444444,
              "#bd3786"
             ],
             [
              0.5555555555555556,
              "#d8576b"
             ],
             [
              0.6666666666666666,
              "#ed7953"
             ],
             [
              0.7777777777777778,
              "#fb9f3a"
             ],
             [
              0.8888888888888888,
              "#fdca26"
             ],
             [
              1,
              "#f0f921"
             ]
            ],
            "type": "histogram2d"
           }
          ],
          "histogram2dcontour": [
           {
            "colorbar": {
             "outlinewidth": 0,
             "ticks": ""
            },
            "colorscale": [
             [
              0,
              "#0d0887"
             ],
             [
              0.1111111111111111,
              "#46039f"
             ],
             [
              0.2222222222222222,
              "#7201a8"
             ],
             [
              0.3333333333333333,
              "#9c179e"
             ],
             [
              0.4444444444444444,
              "#bd3786"
             ],
             [
              0.5555555555555556,
              "#d8576b"
             ],
             [
              0.6666666666666666,
              "#ed7953"
             ],
             [
              0.7777777777777778,
              "#fb9f3a"
             ],
             [
              0.8888888888888888,
              "#fdca26"
             ],
             [
              1,
              "#f0f921"
             ]
            ],
            "type": "histogram2dcontour"
           }
          ],
          "mesh3d": [
           {
            "colorbar": {
             "outlinewidth": 0,
             "ticks": ""
            },
            "type": "mesh3d"
           }
          ],
          "parcoords": [
           {
            "line": {
             "colorbar": {
              "outlinewidth": 0,
              "ticks": ""
             }
            },
            "type": "parcoords"
           }
          ],
          "pie": [
           {
            "automargin": true,
            "type": "pie"
           }
          ],
          "scatter": [
           {
            "marker": {
             "colorbar": {
              "outlinewidth": 0,
              "ticks": ""
             }
            },
            "type": "scatter"
           }
          ],
          "scatter3d": [
           {
            "line": {
             "colorbar": {
              "outlinewidth": 0,
              "ticks": ""
             }
            },
            "marker": {
             "colorbar": {
              "outlinewidth": 0,
              "ticks": ""
             }
            },
            "type": "scatter3d"
           }
          ],
          "scattercarpet": [
           {
            "marker": {
             "colorbar": {
              "outlinewidth": 0,
              "ticks": ""
             }
            },
            "type": "scattercarpet"
           }
          ],
          "scattergeo": [
           {
            "marker": {
             "colorbar": {
              "outlinewidth": 0,
              "ticks": ""
             }
            },
            "type": "scattergeo"
           }
          ],
          "scattergl": [
           {
            "marker": {
             "colorbar": {
              "outlinewidth": 0,
              "ticks": ""
             }
            },
            "type": "scattergl"
           }
          ],
          "scattermapbox": [
           {
            "marker": {
             "colorbar": {
              "outlinewidth": 0,
              "ticks": ""
             }
            },
            "type": "scattermapbox"
           }
          ],
          "scatterpolar": [
           {
            "marker": {
             "colorbar": {
              "outlinewidth": 0,
              "ticks": ""
             }
            },
            "type": "scatterpolar"
           }
          ],
          "scatterpolargl": [
           {
            "marker": {
             "colorbar": {
              "outlinewidth": 0,
              "ticks": ""
             }
            },
            "type": "scatterpolargl"
           }
          ],
          "scatterternary": [
           {
            "marker": {
             "colorbar": {
              "outlinewidth": 0,
              "ticks": ""
             }
            },
            "type": "scatterternary"
           }
          ],
          "surface": [
           {
            "colorbar": {
             "outlinewidth": 0,
             "ticks": ""
            },
            "colorscale": [
             [
              0,
              "#0d0887"
             ],
             [
              0.1111111111111111,
              "#46039f"
             ],
             [
              0.2222222222222222,
              "#7201a8"
             ],
             [
              0.3333333333333333,
              "#9c179e"
             ],
             [
              0.4444444444444444,
              "#bd3786"
             ],
             [
              0.5555555555555556,
              "#d8576b"
             ],
             [
              0.6666666666666666,
              "#ed7953"
             ],
             [
              0.7777777777777778,
              "#fb9f3a"
             ],
             [
              0.8888888888888888,
              "#fdca26"
             ],
             [
              1,
              "#f0f921"
             ]
            ],
            "type": "surface"
           }
          ],
          "table": [
           {
            "cells": {
             "fill": {
              "color": "#EBF0F8"
             },
             "line": {
              "color": "white"
             }
            },
            "header": {
             "fill": {
              "color": "#C8D4E3"
             },
             "line": {
              "color": "white"
             }
            },
            "type": "table"
           }
          ]
         },
         "layout": {
          "annotationdefaults": {
           "arrowcolor": "#2a3f5f",
           "arrowhead": 0,
           "arrowwidth": 1
          },
          "autotypenumbers": "strict",
          "coloraxis": {
           "colorbar": {
            "outlinewidth": 0,
            "ticks": ""
           }
          },
          "colorscale": {
           "diverging": [
            [
             0,
             "#8e0152"
            ],
            [
             0.1,
             "#c51b7d"
            ],
            [
             0.2,
             "#de77ae"
            ],
            [
             0.3,
             "#f1b6da"
            ],
            [
             0.4,
             "#fde0ef"
            ],
            [
             0.5,
             "#f7f7f7"
            ],
            [
             0.6,
             "#e6f5d0"
            ],
            [
             0.7,
             "#b8e186"
            ],
            [
             0.8,
             "#7fbc41"
            ],
            [
             0.9,
             "#4d9221"
            ],
            [
             1,
             "#276419"
            ]
           ],
           "sequential": [
            [
             0,
             "#0d0887"
            ],
            [
             0.1111111111111111,
             "#46039f"
            ],
            [
             0.2222222222222222,
             "#7201a8"
            ],
            [
             0.3333333333333333,
             "#9c179e"
            ],
            [
             0.4444444444444444,
             "#bd3786"
            ],
            [
             0.5555555555555556,
             "#d8576b"
            ],
            [
             0.6666666666666666,
             "#ed7953"
            ],
            [
             0.7777777777777778,
             "#fb9f3a"
            ],
            [
             0.8888888888888888,
             "#fdca26"
            ],
            [
             1,
             "#f0f921"
            ]
           ],
           "sequentialminus": [
            [
             0,
             "#0d0887"
            ],
            [
             0.1111111111111111,
             "#46039f"
            ],
            [
             0.2222222222222222,
             "#7201a8"
            ],
            [
             0.3333333333333333,
             "#9c179e"
            ],
            [
             0.4444444444444444,
             "#bd3786"
            ],
            [
             0.5555555555555556,
             "#d8576b"
            ],
            [
             0.6666666666666666,
             "#ed7953"
            ],
            [
             0.7777777777777778,
             "#fb9f3a"
            ],
            [
             0.8888888888888888,
             "#fdca26"
            ],
            [
             1,
             "#f0f921"
            ]
           ]
          },
          "colorway": [
           "#636efa",
           "#EF553B",
           "#00cc96",
           "#ab63fa",
           "#FFA15A",
           "#19d3f3",
           "#FF6692",
           "#B6E880",
           "#FF97FF",
           "#FECB52"
          ],
          "font": {
           "color": "#2a3f5f"
          },
          "geo": {
           "bgcolor": "white",
           "lakecolor": "white",
           "landcolor": "#E5ECF6",
           "showlakes": true,
           "showland": true,
           "subunitcolor": "white"
          },
          "hoverlabel": {
           "align": "left"
          },
          "hovermode": "closest",
          "mapbox": {
           "style": "light"
          },
          "paper_bgcolor": "white",
          "plot_bgcolor": "#E5ECF6",
          "polar": {
           "angularaxis": {
            "gridcolor": "white",
            "linecolor": "white",
            "ticks": ""
           },
           "bgcolor": "#E5ECF6",
           "radialaxis": {
            "gridcolor": "white",
            "linecolor": "white",
            "ticks": ""
           }
          },
          "scene": {
           "xaxis": {
            "backgroundcolor": "#E5ECF6",
            "gridcolor": "white",
            "gridwidth": 2,
            "linecolor": "white",
            "showbackground": true,
            "ticks": "",
            "zerolinecolor": "white"
           },
           "yaxis": {
            "backgroundcolor": "#E5ECF6",
            "gridcolor": "white",
            "gridwidth": 2,
            "linecolor": "white",
            "showbackground": true,
            "ticks": "",
            "zerolinecolor": "white"
           },
           "zaxis": {
            "backgroundcolor": "#E5ECF6",
            "gridcolor": "white",
            "gridwidth": 2,
            "linecolor": "white",
            "showbackground": true,
            "ticks": "",
            "zerolinecolor": "white"
           }
          },
          "shapedefaults": {
           "line": {
            "color": "#2a3f5f"
           }
          },
          "ternary": {
           "aaxis": {
            "gridcolor": "white",
            "linecolor": "white",
            "ticks": ""
           },
           "baxis": {
            "gridcolor": "white",
            "linecolor": "white",
            "ticks": ""
           },
           "bgcolor": "#E5ECF6",
           "caxis": {
            "gridcolor": "white",
            "linecolor": "white",
            "ticks": ""
           }
          },
          "title": {
           "x": 0.05
          },
          "xaxis": {
           "automargin": true,
           "gridcolor": "white",
           "linecolor": "white",
           "ticks": "",
           "title": {
            "standoff": 15
           },
           "zerolinecolor": "white",
           "zerolinewidth": 2
          },
          "yaxis": {
           "automargin": true,
           "gridcolor": "white",
           "linecolor": "white",
           "ticks": "",
           "title": {
            "standoff": 15
           },
           "zerolinecolor": "white",
           "zerolinewidth": 2
          }
         }
        },
        "xaxis": {
         "anchor": "y",
         "domain": [
          0,
          1
         ],
         "title": {
          "text": "Mon-Timeline"
         }
        },
        "yaxis": {
         "anchor": "x",
         "domain": [
          0,
          1
         ],
         "title": {
          "text": "Messages"
         }
        }
       }
      },
      "text/html": [
       "<div>                            <div id=\"4c3fde34-9b6c-401e-bafb-519e5fa82969\" class=\"plotly-graph-div\" style=\"height:525px; width:100%;\"></div>            <script type=\"text/javascript\">                require([\"plotly\"], function(Plotly) {                    window.PLOTLYENV=window.PLOTLYENV || {};                                    if (document.getElementById(\"4c3fde34-9b6c-401e-bafb-519e5fa82969\")) {                    Plotly.newPlot(                        \"4c3fde34-9b6c-401e-bafb-519e5fa82969\",                        [{\"hovertemplate\":\"Mon-Timeline=%{x}<br>Messages=%{y}<extra></extra>\",\"legendgroup\":\"\",\"line\":{\"color\":\"#636efa\",\"dash\":\"solid\"},\"marker\":{\"symbol\":\"circle\"},\"mode\":\"markers+lines\",\"name\":\"\",\"orientation\":\"v\",\"showlegend\":false,\"x\":[\"August-2021\",\"September-2021\",\"October-2021\",\"November-2021\",\"December-2021\"],\"xaxis\":\"x\",\"y\":[667,1645,198,15,8],\"yaxis\":\"y\",\"type\":\"scatter\"}],                        {\"template\":{\"data\":{\"bar\":[{\"error_x\":{\"color\":\"#2a3f5f\"},\"error_y\":{\"color\":\"#2a3f5f\"},\"marker\":{\"line\":{\"color\":\"#E5ECF6\",\"width\":0.5},\"pattern\":{\"fillmode\":\"overlay\",\"size\":10,\"solidity\":0.2}},\"type\":\"bar\"}],\"barpolar\":[{\"marker\":{\"line\":{\"color\":\"#E5ECF6\",\"width\":0.5},\"pattern\":{\"fillmode\":\"overlay\",\"size\":10,\"solidity\":0.2}},\"type\":\"barpolar\"}],\"carpet\":[{\"aaxis\":{\"endlinecolor\":\"#2a3f5f\",\"gridcolor\":\"white\",\"linecolor\":\"white\",\"minorgridcolor\":\"white\",\"startlinecolor\":\"#2a3f5f\"},\"baxis\":{\"endlinecolor\":\"#2a3f5f\",\"gridcolor\":\"white\",\"linecolor\":\"white\",\"minorgridcolor\":\"white\",\"startlinecolor\":\"#2a3f5f\"},\"type\":\"carpet\"}],\"choropleth\":[{\"colorbar\":{\"outlinewidth\":0,\"ticks\":\"\"},\"type\":\"choropleth\"}],\"contour\":[{\"colorbar\":{\"outlinewidth\":0,\"ticks\":\"\"},\"colorscale\":[[0.0,\"#0d0887\"],[0.1111111111111111,\"#46039f\"],[0.2222222222222222,\"#7201a8\"],[0.3333333333333333,\"#9c179e\"],[0.4444444444444444,\"#bd3786\"],[0.5555555555555556,\"#d8576b\"],[0.6666666666666666,\"#ed7953\"],[0.7777777777777778,\"#fb9f3a\"],[0.8888888888888888,\"#fdca26\"],[1.0,\"#f0f921\"]],\"type\":\"contour\"}],\"contourcarpet\":[{\"colorbar\":{\"outlinewidth\":0,\"ticks\":\"\"},\"type\":\"contourcarpet\"}],\"heatmap\":[{\"colorbar\":{\"outlinewidth\":0,\"ticks\":\"\"},\"colorscale\":[[0.0,\"#0d0887\"],[0.1111111111111111,\"#46039f\"],[0.2222222222222222,\"#7201a8\"],[0.3333333333333333,\"#9c179e\"],[0.4444444444444444,\"#bd3786\"],[0.5555555555555556,\"#d8576b\"],[0.6666666666666666,\"#ed7953\"],[0.7777777777777778,\"#fb9f3a\"],[0.8888888888888888,\"#fdca26\"],[1.0,\"#f0f921\"]],\"type\":\"heatmap\"}],\"heatmapgl\":[{\"colorbar\":{\"outlinewidth\":0,\"ticks\":\"\"},\"colorscale\":[[0.0,\"#0d0887\"],[0.1111111111111111,\"#46039f\"],[0.2222222222222222,\"#7201a8\"],[0.3333333333333333,\"#9c179e\"],[0.4444444444444444,\"#bd3786\"],[0.5555555555555556,\"#d8576b\"],[0.6666666666666666,\"#ed7953\"],[0.7777777777777778,\"#fb9f3a\"],[0.8888888888888888,\"#fdca26\"],[1.0,\"#f0f921\"]],\"type\":\"heatmapgl\"}],\"histogram\":[{\"marker\":{\"pattern\":{\"fillmode\":\"overlay\",\"size\":10,\"solidity\":0.2}},\"type\":\"histogram\"}],\"histogram2d\":[{\"colorbar\":{\"outlinewidth\":0,\"ticks\":\"\"},\"colorscale\":[[0.0,\"#0d0887\"],[0.1111111111111111,\"#46039f\"],[0.2222222222222222,\"#7201a8\"],[0.3333333333333333,\"#9c179e\"],[0.4444444444444444,\"#bd3786\"],[0.5555555555555556,\"#d8576b\"],[0.6666666666666666,\"#ed7953\"],[0.7777777777777778,\"#fb9f3a\"],[0.8888888888888888,\"#fdca26\"],[1.0,\"#f0f921\"]],\"type\":\"histogram2d\"}],\"histogram2dcontour\":[{\"colorbar\":{\"outlinewidth\":0,\"ticks\":\"\"},\"colorscale\":[[0.0,\"#0d0887\"],[0.1111111111111111,\"#46039f\"],[0.2222222222222222,\"#7201a8\"],[0.3333333333333333,\"#9c179e\"],[0.4444444444444444,\"#bd3786\"],[0.5555555555555556,\"#d8576b\"],[0.6666666666666666,\"#ed7953\"],[0.7777777777777778,\"#fb9f3a\"],[0.8888888888888888,\"#fdca26\"],[1.0,\"#f0f921\"]],\"type\":\"histogram2dcontour\"}],\"mesh3d\":[{\"colorbar\":{\"outlinewidth\":0,\"ticks\":\"\"},\"type\":\"mesh3d\"}],\"parcoords\":[{\"line\":{\"colorbar\":{\"outlinewidth\":0,\"ticks\":\"\"}},\"type\":\"parcoords\"}],\"pie\":[{\"automargin\":true,\"type\":\"pie\"}],\"scatter\":[{\"marker\":{\"colorbar\":{\"outlinewidth\":0,\"ticks\":\"\"}},\"type\":\"scatter\"}],\"scatter3d\":[{\"line\":{\"colorbar\":{\"outlinewidth\":0,\"ticks\":\"\"}},\"marker\":{\"colorbar\":{\"outlinewidth\":0,\"ticks\":\"\"}},\"type\":\"scatter3d\"}],\"scattercarpet\":[{\"marker\":{\"colorbar\":{\"outlinewidth\":0,\"ticks\":\"\"}},\"type\":\"scattercarpet\"}],\"scattergeo\":[{\"marker\":{\"colorbar\":{\"outlinewidth\":0,\"ticks\":\"\"}},\"type\":\"scattergeo\"}],\"scattergl\":[{\"marker\":{\"colorbar\":{\"outlinewidth\":0,\"ticks\":\"\"}},\"type\":\"scattergl\"}],\"scattermapbox\":[{\"marker\":{\"colorbar\":{\"outlinewidth\":0,\"ticks\":\"\"}},\"type\":\"scattermapbox\"}],\"scatterpolar\":[{\"marker\":{\"colorbar\":{\"outlinewidth\":0,\"ticks\":\"\"}},\"type\":\"scatterpolar\"}],\"scatterpolargl\":[{\"marker\":{\"colorbar\":{\"outlinewidth\":0,\"ticks\":\"\"}},\"type\":\"scatterpolargl\"}],\"scatterternary\":[{\"marker\":{\"colorbar\":{\"outlinewidth\":0,\"ticks\":\"\"}},\"type\":\"scatterternary\"}],\"surface\":[{\"colorbar\":{\"outlinewidth\":0,\"ticks\":\"\"},\"colorscale\":[[0.0,\"#0d0887\"],[0.1111111111111111,\"#46039f\"],[0.2222222222222222,\"#7201a8\"],[0.3333333333333333,\"#9c179e\"],[0.4444444444444444,\"#bd3786\"],[0.5555555555555556,\"#d8576b\"],[0.6666666666666666,\"#ed7953\"],[0.7777777777777778,\"#fb9f3a\"],[0.8888888888888888,\"#fdca26\"],[1.0,\"#f0f921\"]],\"type\":\"surface\"}],\"table\":[{\"cells\":{\"fill\":{\"color\":\"#EBF0F8\"},\"line\":{\"color\":\"white\"}},\"header\":{\"fill\":{\"color\":\"#C8D4E3\"},\"line\":{\"color\":\"white\"}},\"type\":\"table\"}]},\"layout\":{\"annotationdefaults\":{\"arrowcolor\":\"#2a3f5f\",\"arrowhead\":0,\"arrowwidth\":1},\"autotypenumbers\":\"strict\",\"coloraxis\":{\"colorbar\":{\"outlinewidth\":0,\"ticks\":\"\"}},\"colorscale\":{\"diverging\":[[0,\"#8e0152\"],[0.1,\"#c51b7d\"],[0.2,\"#de77ae\"],[0.3,\"#f1b6da\"],[0.4,\"#fde0ef\"],[0.5,\"#f7f7f7\"],[0.6,\"#e6f5d0\"],[0.7,\"#b8e186\"],[0.8,\"#7fbc41\"],[0.9,\"#4d9221\"],[1,\"#276419\"]],\"sequential\":[[0.0,\"#0d0887\"],[0.1111111111111111,\"#46039f\"],[0.2222222222222222,\"#7201a8\"],[0.3333333333333333,\"#9c179e\"],[0.4444444444444444,\"#bd3786\"],[0.5555555555555556,\"#d8576b\"],[0.6666666666666666,\"#ed7953\"],[0.7777777777777778,\"#fb9f3a\"],[0.8888888888888888,\"#fdca26\"],[1.0,\"#f0f921\"]],\"sequentialminus\":[[0.0,\"#0d0887\"],[0.1111111111111111,\"#46039f\"],[0.2222222222222222,\"#7201a8\"],[0.3333333333333333,\"#9c179e\"],[0.4444444444444444,\"#bd3786\"],[0.5555555555555556,\"#d8576b\"],[0.6666666666666666,\"#ed7953\"],[0.7777777777777778,\"#fb9f3a\"],[0.8888888888888888,\"#fdca26\"],[1.0,\"#f0f921\"]]},\"colorway\":[\"#636efa\",\"#EF553B\",\"#00cc96\",\"#ab63fa\",\"#FFA15A\",\"#19d3f3\",\"#FF6692\",\"#B6E880\",\"#FF97FF\",\"#FECB52\"],\"font\":{\"color\":\"#2a3f5f\"},\"geo\":{\"bgcolor\":\"white\",\"lakecolor\":\"white\",\"landcolor\":\"#E5ECF6\",\"showlakes\":true,\"showland\":true,\"subunitcolor\":\"white\"},\"hoverlabel\":{\"align\":\"left\"},\"hovermode\":\"closest\",\"mapbox\":{\"style\":\"light\"},\"paper_bgcolor\":\"white\",\"plot_bgcolor\":\"#E5ECF6\",\"polar\":{\"angularaxis\":{\"gridcolor\":\"white\",\"linecolor\":\"white\",\"ticks\":\"\"},\"bgcolor\":\"#E5ECF6\",\"radialaxis\":{\"gridcolor\":\"white\",\"linecolor\":\"white\",\"ticks\":\"\"}},\"scene\":{\"xaxis\":{\"backgroundcolor\":\"#E5ECF6\",\"gridcolor\":\"white\",\"gridwidth\":2,\"linecolor\":\"white\",\"showbackground\":true,\"ticks\":\"\",\"zerolinecolor\":\"white\"},\"yaxis\":{\"backgroundcolor\":\"#E5ECF6\",\"gridcolor\":\"white\",\"gridwidth\":2,\"linecolor\":\"white\",\"showbackground\":true,\"ticks\":\"\",\"zerolinecolor\":\"white\"},\"zaxis\":{\"backgroundcolor\":\"#E5ECF6\",\"gridcolor\":\"white\",\"gridwidth\":2,\"linecolor\":\"white\",\"showbackground\":true,\"ticks\":\"\",\"zerolinecolor\":\"white\"}},\"shapedefaults\":{\"line\":{\"color\":\"#2a3f5f\"}},\"ternary\":{\"aaxis\":{\"gridcolor\":\"white\",\"linecolor\":\"white\",\"ticks\":\"\"},\"baxis\":{\"gridcolor\":\"white\",\"linecolor\":\"white\",\"ticks\":\"\"},\"bgcolor\":\"#E5ECF6\",\"caxis\":{\"gridcolor\":\"white\",\"linecolor\":\"white\",\"ticks\":\"\"}},\"title\":{\"x\":0.05},\"xaxis\":{\"automargin\":true,\"gridcolor\":\"white\",\"linecolor\":\"white\",\"ticks\":\"\",\"title\":{\"standoff\":15},\"zerolinecolor\":\"white\",\"zerolinewidth\":2},\"yaxis\":{\"automargin\":true,\"gridcolor\":\"white\",\"linecolor\":\"white\",\"ticks\":\"\",\"title\":{\"standoff\":15},\"zerolinecolor\":\"white\",\"zerolinewidth\":2}}},\"xaxis\":{\"anchor\":\"y\",\"domain\":[0.0,1.0],\"title\":{\"text\":\"Mon-Timeline\"}},\"yaxis\":{\"anchor\":\"x\",\"domain\":[0.0,1.0],\"title\":{\"text\":\"Messages\"}},\"legend\":{\"tracegroupgap\":0},\"margin\":{\"t\":60}},                        {\"responsive\": true}                    ).then(function(){\n",
       "                            \n",
       "var gd = document.getElementById('4c3fde34-9b6c-401e-bafb-519e5fa82969');\n",
       "var x = new MutationObserver(function (mutations, observer) {{\n",
       "        var display = window.getComputedStyle(gd).display;\n",
       "        if (!display || display === 'none') {{\n",
       "            console.log([gd, 'removed!']);\n",
       "            Plotly.purge(gd);\n",
       "            observer.disconnect();\n",
       "        }}\n",
       "}});\n",
       "\n",
       "// Listen for the removal of the full notebook cells\n",
       "var notebookContainer = gd.closest('#notebook-container');\n",
       "if (notebookContainer) {{\n",
       "    x.observe(notebookContainer, {childList: true});\n",
       "}}\n",
       "\n",
       "// Listen for the clearing of the current output cell\n",
       "var outputEl = gd.closest('.output');\n",
       "if (outputEl) {{\n",
       "    x.observe(outputEl, {childList: true});\n",
       "}}\n",
       "\n",
       "                        })                };                });            </script>        </div>"
      ]
     },
     "metadata": {},
     "output_type": "display_data"
    }
   ],
   "source": [
    "fig = px.line(month_timeline, x='Mon-Timeline', y=\"Messages\",markers=True)\n",
    "fig.show()"
   ]
  },
  {
   "cell_type": "code",
   "execution_count": 193,
   "id": "5fbc45d4",
   "metadata": {},
   "outputs": [
    {
     "data": {
      "application/vnd.plotly.v1+json": {
       "config": {
        "plotlyServerURL": "https://plot.ly"
       },
       "data": [
        {
         "hovertemplate": "Date=%{x}<br>Messages=%{y}<extra></extra>",
         "legendgroup": "",
         "line": {
          "color": "#636efa",
          "dash": "solid"
         },
         "marker": {
          "symbol": "circle"
         },
         "mode": "markers+lines",
         "name": "",
         "orientation": "v",
         "showlegend": false,
         "type": "scatter",
         "x": [
          "2021-08-20T00:00:00",
          "2021-08-21T00:00:00",
          "2021-08-22T00:00:00",
          "2021-08-23T00:00:00",
          "2021-08-24T00:00:00",
          "2021-08-25T00:00:00",
          "2021-09-02T00:00:00",
          "2021-09-06T00:00:00",
          "2021-09-07T00:00:00",
          "2021-09-08T00:00:00",
          "2021-09-11T00:00:00",
          "2021-09-13T00:00:00",
          "2021-09-15T00:00:00",
          "2021-09-16T00:00:00",
          "2021-09-17T00:00:00",
          "2021-09-18T00:00:00",
          "2021-09-19T00:00:00",
          "2021-09-20T00:00:00",
          "2021-09-21T00:00:00",
          "2021-09-22T00:00:00",
          "2021-09-23T00:00:00",
          "2021-09-24T00:00:00",
          "2021-09-28T00:00:00",
          "2021-10-04T00:00:00",
          "2021-10-06T00:00:00",
          "2021-10-07T00:00:00",
          "2021-10-08T00:00:00",
          "2021-10-09T00:00:00",
          "2021-10-15T00:00:00",
          "2021-10-21T00:00:00",
          "2021-10-24T00:00:00",
          "2021-10-26T00:00:00",
          "2021-10-27T00:00:00",
          "2021-11-14T00:00:00",
          "2021-11-25T00:00:00",
          "2021-12-02T00:00:00"
         ],
         "xaxis": "x",
         "y": [
          321,
          82,
          13,
          75,
          155,
          21,
          9,
          339,
          30,
          60,
          21,
          30,
          87,
          20,
          94,
          13,
          13,
          120,
          10,
          68,
          6,
          702,
          23,
          4,
          11,
          53,
          15,
          3,
          75,
          26,
          3,
          5,
          3,
          3,
          12,
          8
         ],
         "yaxis": "y"
        }
       ],
       "layout": {
        "legend": {
         "tracegroupgap": 0
        },
        "margin": {
         "t": 60
        },
        "template": {
         "data": {
          "bar": [
           {
            "error_x": {
             "color": "#2a3f5f"
            },
            "error_y": {
             "color": "#2a3f5f"
            },
            "marker": {
             "line": {
              "color": "#E5ECF6",
              "width": 0.5
             },
             "pattern": {
              "fillmode": "overlay",
              "size": 10,
              "solidity": 0.2
             }
            },
            "type": "bar"
           }
          ],
          "barpolar": [
           {
            "marker": {
             "line": {
              "color": "#E5ECF6",
              "width": 0.5
             },
             "pattern": {
              "fillmode": "overlay",
              "size": 10,
              "solidity": 0.2
             }
            },
            "type": "barpolar"
           }
          ],
          "carpet": [
           {
            "aaxis": {
             "endlinecolor": "#2a3f5f",
             "gridcolor": "white",
             "linecolor": "white",
             "minorgridcolor": "white",
             "startlinecolor": "#2a3f5f"
            },
            "baxis": {
             "endlinecolor": "#2a3f5f",
             "gridcolor": "white",
             "linecolor": "white",
             "minorgridcolor": "white",
             "startlinecolor": "#2a3f5f"
            },
            "type": "carpet"
           }
          ],
          "choropleth": [
           {
            "colorbar": {
             "outlinewidth": 0,
             "ticks": ""
            },
            "type": "choropleth"
           }
          ],
          "contour": [
           {
            "colorbar": {
             "outlinewidth": 0,
             "ticks": ""
            },
            "colorscale": [
             [
              0,
              "#0d0887"
             ],
             [
              0.1111111111111111,
              "#46039f"
             ],
             [
              0.2222222222222222,
              "#7201a8"
             ],
             [
              0.3333333333333333,
              "#9c179e"
             ],
             [
              0.4444444444444444,
              "#bd3786"
             ],
             [
              0.5555555555555556,
              "#d8576b"
             ],
             [
              0.6666666666666666,
              "#ed7953"
             ],
             [
              0.7777777777777778,
              "#fb9f3a"
             ],
             [
              0.8888888888888888,
              "#fdca26"
             ],
             [
              1,
              "#f0f921"
             ]
            ],
            "type": "contour"
           }
          ],
          "contourcarpet": [
           {
            "colorbar": {
             "outlinewidth": 0,
             "ticks": ""
            },
            "type": "contourcarpet"
           }
          ],
          "heatmap": [
           {
            "colorbar": {
             "outlinewidth": 0,
             "ticks": ""
            },
            "colorscale": [
             [
              0,
              "#0d0887"
             ],
             [
              0.1111111111111111,
              "#46039f"
             ],
             [
              0.2222222222222222,
              "#7201a8"
             ],
             [
              0.3333333333333333,
              "#9c179e"
             ],
             [
              0.4444444444444444,
              "#bd3786"
             ],
             [
              0.5555555555555556,
              "#d8576b"
             ],
             [
              0.6666666666666666,
              "#ed7953"
             ],
             [
              0.7777777777777778,
              "#fb9f3a"
             ],
             [
              0.8888888888888888,
              "#fdca26"
             ],
             [
              1,
              "#f0f921"
             ]
            ],
            "type": "heatmap"
           }
          ],
          "heatmapgl": [
           {
            "colorbar": {
             "outlinewidth": 0,
             "ticks": ""
            },
            "colorscale": [
             [
              0,
              "#0d0887"
             ],
             [
              0.1111111111111111,
              "#46039f"
             ],
             [
              0.2222222222222222,
              "#7201a8"
             ],
             [
              0.3333333333333333,
              "#9c179e"
             ],
             [
              0.4444444444444444,
              "#bd3786"
             ],
             [
              0.5555555555555556,
              "#d8576b"
             ],
             [
              0.6666666666666666,
              "#ed7953"
             ],
             [
              0.7777777777777778,
              "#fb9f3a"
             ],
             [
              0.8888888888888888,
              "#fdca26"
             ],
             [
              1,
              "#f0f921"
             ]
            ],
            "type": "heatmapgl"
           }
          ],
          "histogram": [
           {
            "marker": {
             "pattern": {
              "fillmode": "overlay",
              "size": 10,
              "solidity": 0.2
             }
            },
            "type": "histogram"
           }
          ],
          "histogram2d": [
           {
            "colorbar": {
             "outlinewidth": 0,
             "ticks": ""
            },
            "colorscale": [
             [
              0,
              "#0d0887"
             ],
             [
              0.1111111111111111,
              "#46039f"
             ],
             [
              0.2222222222222222,
              "#7201a8"
             ],
             [
              0.3333333333333333,
              "#9c179e"
             ],
             [
              0.4444444444444444,
              "#bd3786"
             ],
             [
              0.5555555555555556,
              "#d8576b"
             ],
             [
              0.6666666666666666,
              "#ed7953"
             ],
             [
              0.7777777777777778,
              "#fb9f3a"
             ],
             [
              0.8888888888888888,
              "#fdca26"
             ],
             [
              1,
              "#f0f921"
             ]
            ],
            "type": "histogram2d"
           }
          ],
          "histogram2dcontour": [
           {
            "colorbar": {
             "outlinewidth": 0,
             "ticks": ""
            },
            "colorscale": [
             [
              0,
              "#0d0887"
             ],
             [
              0.1111111111111111,
              "#46039f"
             ],
             [
              0.2222222222222222,
              "#7201a8"
             ],
             [
              0.3333333333333333,
              "#9c179e"
             ],
             [
              0.4444444444444444,
              "#bd3786"
             ],
             [
              0.5555555555555556,
              "#d8576b"
             ],
             [
              0.6666666666666666,
              "#ed7953"
             ],
             [
              0.7777777777777778,
              "#fb9f3a"
             ],
             [
              0.8888888888888888,
              "#fdca26"
             ],
             [
              1,
              "#f0f921"
             ]
            ],
            "type": "histogram2dcontour"
           }
          ],
          "mesh3d": [
           {
            "colorbar": {
             "outlinewidth": 0,
             "ticks": ""
            },
            "type": "mesh3d"
           }
          ],
          "parcoords": [
           {
            "line": {
             "colorbar": {
              "outlinewidth": 0,
              "ticks": ""
             }
            },
            "type": "parcoords"
           }
          ],
          "pie": [
           {
            "automargin": true,
            "type": "pie"
           }
          ],
          "scatter": [
           {
            "marker": {
             "colorbar": {
              "outlinewidth": 0,
              "ticks": ""
             }
            },
            "type": "scatter"
           }
          ],
          "scatter3d": [
           {
            "line": {
             "colorbar": {
              "outlinewidth": 0,
              "ticks": ""
             }
            },
            "marker": {
             "colorbar": {
              "outlinewidth": 0,
              "ticks": ""
             }
            },
            "type": "scatter3d"
           }
          ],
          "scattercarpet": [
           {
            "marker": {
             "colorbar": {
              "outlinewidth": 0,
              "ticks": ""
             }
            },
            "type": "scattercarpet"
           }
          ],
          "scattergeo": [
           {
            "marker": {
             "colorbar": {
              "outlinewidth": 0,
              "ticks": ""
             }
            },
            "type": "scattergeo"
           }
          ],
          "scattergl": [
           {
            "marker": {
             "colorbar": {
              "outlinewidth": 0,
              "ticks": ""
             }
            },
            "type": "scattergl"
           }
          ],
          "scattermapbox": [
           {
            "marker": {
             "colorbar": {
              "outlinewidth": 0,
              "ticks": ""
             }
            },
            "type": "scattermapbox"
           }
          ],
          "scatterpolar": [
           {
            "marker": {
             "colorbar": {
              "outlinewidth": 0,
              "ticks": ""
             }
            },
            "type": "scatterpolar"
           }
          ],
          "scatterpolargl": [
           {
            "marker": {
             "colorbar": {
              "outlinewidth": 0,
              "ticks": ""
             }
            },
            "type": "scatterpolargl"
           }
          ],
          "scatterternary": [
           {
            "marker": {
             "colorbar": {
              "outlinewidth": 0,
              "ticks": ""
             }
            },
            "type": "scatterternary"
           }
          ],
          "surface": [
           {
            "colorbar": {
             "outlinewidth": 0,
             "ticks": ""
            },
            "colorscale": [
             [
              0,
              "#0d0887"
             ],
             [
              0.1111111111111111,
              "#46039f"
             ],
             [
              0.2222222222222222,
              "#7201a8"
             ],
             [
              0.3333333333333333,
              "#9c179e"
             ],
             [
              0.4444444444444444,
              "#bd3786"
             ],
             [
              0.5555555555555556,
              "#d8576b"
             ],
             [
              0.6666666666666666,
              "#ed7953"
             ],
             [
              0.7777777777777778,
              "#fb9f3a"
             ],
             [
              0.8888888888888888,
              "#fdca26"
             ],
             [
              1,
              "#f0f921"
             ]
            ],
            "type": "surface"
           }
          ],
          "table": [
           {
            "cells": {
             "fill": {
              "color": "#EBF0F8"
             },
             "line": {
              "color": "white"
             }
            },
            "header": {
             "fill": {
              "color": "#C8D4E3"
             },
             "line": {
              "color": "white"
             }
            },
            "type": "table"
           }
          ]
         },
         "layout": {
          "annotationdefaults": {
           "arrowcolor": "#2a3f5f",
           "arrowhead": 0,
           "arrowwidth": 1
          },
          "autotypenumbers": "strict",
          "coloraxis": {
           "colorbar": {
            "outlinewidth": 0,
            "ticks": ""
           }
          },
          "colorscale": {
           "diverging": [
            [
             0,
             "#8e0152"
            ],
            [
             0.1,
             "#c51b7d"
            ],
            [
             0.2,
             "#de77ae"
            ],
            [
             0.3,
             "#f1b6da"
            ],
            [
             0.4,
             "#fde0ef"
            ],
            [
             0.5,
             "#f7f7f7"
            ],
            [
             0.6,
             "#e6f5d0"
            ],
            [
             0.7,
             "#b8e186"
            ],
            [
             0.8,
             "#7fbc41"
            ],
            [
             0.9,
             "#4d9221"
            ],
            [
             1,
             "#276419"
            ]
           ],
           "sequential": [
            [
             0,
             "#0d0887"
            ],
            [
             0.1111111111111111,
             "#46039f"
            ],
            [
             0.2222222222222222,
             "#7201a8"
            ],
            [
             0.3333333333333333,
             "#9c179e"
            ],
            [
             0.4444444444444444,
             "#bd3786"
            ],
            [
             0.5555555555555556,
             "#d8576b"
            ],
            [
             0.6666666666666666,
             "#ed7953"
            ],
            [
             0.7777777777777778,
             "#fb9f3a"
            ],
            [
             0.8888888888888888,
             "#fdca26"
            ],
            [
             1,
             "#f0f921"
            ]
           ],
           "sequentialminus": [
            [
             0,
             "#0d0887"
            ],
            [
             0.1111111111111111,
             "#46039f"
            ],
            [
             0.2222222222222222,
             "#7201a8"
            ],
            [
             0.3333333333333333,
             "#9c179e"
            ],
            [
             0.4444444444444444,
             "#bd3786"
            ],
            [
             0.5555555555555556,
             "#d8576b"
            ],
            [
             0.6666666666666666,
             "#ed7953"
            ],
            [
             0.7777777777777778,
             "#fb9f3a"
            ],
            [
             0.8888888888888888,
             "#fdca26"
            ],
            [
             1,
             "#f0f921"
            ]
           ]
          },
          "colorway": [
           "#636efa",
           "#EF553B",
           "#00cc96",
           "#ab63fa",
           "#FFA15A",
           "#19d3f3",
           "#FF6692",
           "#B6E880",
           "#FF97FF",
           "#FECB52"
          ],
          "font": {
           "color": "#2a3f5f"
          },
          "geo": {
           "bgcolor": "white",
           "lakecolor": "white",
           "landcolor": "#E5ECF6",
           "showlakes": true,
           "showland": true,
           "subunitcolor": "white"
          },
          "hoverlabel": {
           "align": "left"
          },
          "hovermode": "closest",
          "mapbox": {
           "style": "light"
          },
          "paper_bgcolor": "white",
          "plot_bgcolor": "#E5ECF6",
          "polar": {
           "angularaxis": {
            "gridcolor": "white",
            "linecolor": "white",
            "ticks": ""
           },
           "bgcolor": "#E5ECF6",
           "radialaxis": {
            "gridcolor": "white",
            "linecolor": "white",
            "ticks": ""
           }
          },
          "scene": {
           "xaxis": {
            "backgroundcolor": "#E5ECF6",
            "gridcolor": "white",
            "gridwidth": 2,
            "linecolor": "white",
            "showbackground": true,
            "ticks": "",
            "zerolinecolor": "white"
           },
           "yaxis": {
            "backgroundcolor": "#E5ECF6",
            "gridcolor": "white",
            "gridwidth": 2,
            "linecolor": "white",
            "showbackground": true,
            "ticks": "",
            "zerolinecolor": "white"
           },
           "zaxis": {
            "backgroundcolor": "#E5ECF6",
            "gridcolor": "white",
            "gridwidth": 2,
            "linecolor": "white",
            "showbackground": true,
            "ticks": "",
            "zerolinecolor": "white"
           }
          },
          "shapedefaults": {
           "line": {
            "color": "#2a3f5f"
           }
          },
          "ternary": {
           "aaxis": {
            "gridcolor": "white",
            "linecolor": "white",
            "ticks": ""
           },
           "baxis": {
            "gridcolor": "white",
            "linecolor": "white",
            "ticks": ""
           },
           "bgcolor": "#E5ECF6",
           "caxis": {
            "gridcolor": "white",
            "linecolor": "white",
            "ticks": ""
           }
          },
          "title": {
           "x": 0.05
          },
          "xaxis": {
           "automargin": true,
           "gridcolor": "white",
           "linecolor": "white",
           "ticks": "",
           "title": {
            "standoff": 15
           },
           "zerolinecolor": "white",
           "zerolinewidth": 2
          },
          "yaxis": {
           "automargin": true,
           "gridcolor": "white",
           "linecolor": "white",
           "ticks": "",
           "title": {
            "standoff": 15
           },
           "zerolinecolor": "white",
           "zerolinewidth": 2
          }
         }
        },
        "xaxis": {
         "anchor": "y",
         "domain": [
          0,
          1
         ],
         "title": {
          "text": "Date"
         }
        },
        "yaxis": {
         "anchor": "x",
         "domain": [
          0,
          1
         ],
         "title": {
          "text": "Messages"
         }
        }
       }
      },
      "text/html": [
       "<div>                            <div id=\"545fc105-c368-4e78-902c-16124fe8dc00\" class=\"plotly-graph-div\" style=\"height:525px; width:100%;\"></div>            <script type=\"text/javascript\">                require([\"plotly\"], function(Plotly) {                    window.PLOTLYENV=window.PLOTLYENV || {};                                    if (document.getElementById(\"545fc105-c368-4e78-902c-16124fe8dc00\")) {                    Plotly.newPlot(                        \"545fc105-c368-4e78-902c-16124fe8dc00\",                        [{\"hovertemplate\":\"Date=%{x}<br>Messages=%{y}<extra></extra>\",\"legendgroup\":\"\",\"line\":{\"color\":\"#636efa\",\"dash\":\"solid\"},\"marker\":{\"symbol\":\"circle\"},\"mode\":\"markers+lines\",\"name\":\"\",\"orientation\":\"v\",\"showlegend\":false,\"x\":[\"2021-08-20T00:00:00\",\"2021-08-21T00:00:00\",\"2021-08-22T00:00:00\",\"2021-08-23T00:00:00\",\"2021-08-24T00:00:00\",\"2021-08-25T00:00:00\",\"2021-09-02T00:00:00\",\"2021-09-06T00:00:00\",\"2021-09-07T00:00:00\",\"2021-09-08T00:00:00\",\"2021-09-11T00:00:00\",\"2021-09-13T00:00:00\",\"2021-09-15T00:00:00\",\"2021-09-16T00:00:00\",\"2021-09-17T00:00:00\",\"2021-09-18T00:00:00\",\"2021-09-19T00:00:00\",\"2021-09-20T00:00:00\",\"2021-09-21T00:00:00\",\"2021-09-22T00:00:00\",\"2021-09-23T00:00:00\",\"2021-09-24T00:00:00\",\"2021-09-28T00:00:00\",\"2021-10-04T00:00:00\",\"2021-10-06T00:00:00\",\"2021-10-07T00:00:00\",\"2021-10-08T00:00:00\",\"2021-10-09T00:00:00\",\"2021-10-15T00:00:00\",\"2021-10-21T00:00:00\",\"2021-10-24T00:00:00\",\"2021-10-26T00:00:00\",\"2021-10-27T00:00:00\",\"2021-11-14T00:00:00\",\"2021-11-25T00:00:00\",\"2021-12-02T00:00:00\"],\"xaxis\":\"x\",\"y\":[321,82,13,75,155,21,9,339,30,60,21,30,87,20,94,13,13,120,10,68,6,702,23,4,11,53,15,3,75,26,3,5,3,3,12,8],\"yaxis\":\"y\",\"type\":\"scatter\"}],                        {\"template\":{\"data\":{\"bar\":[{\"error_x\":{\"color\":\"#2a3f5f\"},\"error_y\":{\"color\":\"#2a3f5f\"},\"marker\":{\"line\":{\"color\":\"#E5ECF6\",\"width\":0.5},\"pattern\":{\"fillmode\":\"overlay\",\"size\":10,\"solidity\":0.2}},\"type\":\"bar\"}],\"barpolar\":[{\"marker\":{\"line\":{\"color\":\"#E5ECF6\",\"width\":0.5},\"pattern\":{\"fillmode\":\"overlay\",\"size\":10,\"solidity\":0.2}},\"type\":\"barpolar\"}],\"carpet\":[{\"aaxis\":{\"endlinecolor\":\"#2a3f5f\",\"gridcolor\":\"white\",\"linecolor\":\"white\",\"minorgridcolor\":\"white\",\"startlinecolor\":\"#2a3f5f\"},\"baxis\":{\"endlinecolor\":\"#2a3f5f\",\"gridcolor\":\"white\",\"linecolor\":\"white\",\"minorgridcolor\":\"white\",\"startlinecolor\":\"#2a3f5f\"},\"type\":\"carpet\"}],\"choropleth\":[{\"colorbar\":{\"outlinewidth\":0,\"ticks\":\"\"},\"type\":\"choropleth\"}],\"contour\":[{\"colorbar\":{\"outlinewidth\":0,\"ticks\":\"\"},\"colorscale\":[[0.0,\"#0d0887\"],[0.1111111111111111,\"#46039f\"],[0.2222222222222222,\"#7201a8\"],[0.3333333333333333,\"#9c179e\"],[0.4444444444444444,\"#bd3786\"],[0.5555555555555556,\"#d8576b\"],[0.6666666666666666,\"#ed7953\"],[0.7777777777777778,\"#fb9f3a\"],[0.8888888888888888,\"#fdca26\"],[1.0,\"#f0f921\"]],\"type\":\"contour\"}],\"contourcarpet\":[{\"colorbar\":{\"outlinewidth\":0,\"ticks\":\"\"},\"type\":\"contourcarpet\"}],\"heatmap\":[{\"colorbar\":{\"outlinewidth\":0,\"ticks\":\"\"},\"colorscale\":[[0.0,\"#0d0887\"],[0.1111111111111111,\"#46039f\"],[0.2222222222222222,\"#7201a8\"],[0.3333333333333333,\"#9c179e\"],[0.4444444444444444,\"#bd3786\"],[0.5555555555555556,\"#d8576b\"],[0.6666666666666666,\"#ed7953\"],[0.7777777777777778,\"#fb9f3a\"],[0.8888888888888888,\"#fdca26\"],[1.0,\"#f0f921\"]],\"type\":\"heatmap\"}],\"heatmapgl\":[{\"colorbar\":{\"outlinewidth\":0,\"ticks\":\"\"},\"colorscale\":[[0.0,\"#0d0887\"],[0.1111111111111111,\"#46039f\"],[0.2222222222222222,\"#7201a8\"],[0.3333333333333333,\"#9c179e\"],[0.4444444444444444,\"#bd3786\"],[0.5555555555555556,\"#d8576b\"],[0.6666666666666666,\"#ed7953\"],[0.7777777777777778,\"#fb9f3a\"],[0.8888888888888888,\"#fdca26\"],[1.0,\"#f0f921\"]],\"type\":\"heatmapgl\"}],\"histogram\":[{\"marker\":{\"pattern\":{\"fillmode\":\"overlay\",\"size\":10,\"solidity\":0.2}},\"type\":\"histogram\"}],\"histogram2d\":[{\"colorbar\":{\"outlinewidth\":0,\"ticks\":\"\"},\"colorscale\":[[0.0,\"#0d0887\"],[0.1111111111111111,\"#46039f\"],[0.2222222222222222,\"#7201a8\"],[0.3333333333333333,\"#9c179e\"],[0.4444444444444444,\"#bd3786\"],[0.5555555555555556,\"#d8576b\"],[0.6666666666666666,\"#ed7953\"],[0.7777777777777778,\"#fb9f3a\"],[0.8888888888888888,\"#fdca26\"],[1.0,\"#f0f921\"]],\"type\":\"histogram2d\"}],\"histogram2dcontour\":[{\"colorbar\":{\"outlinewidth\":0,\"ticks\":\"\"},\"colorscale\":[[0.0,\"#0d0887\"],[0.1111111111111111,\"#46039f\"],[0.2222222222222222,\"#7201a8\"],[0.3333333333333333,\"#9c179e\"],[0.4444444444444444,\"#bd3786\"],[0.5555555555555556,\"#d8576b\"],[0.6666666666666666,\"#ed7953\"],[0.7777777777777778,\"#fb9f3a\"],[0.8888888888888888,\"#fdca26\"],[1.0,\"#f0f921\"]],\"type\":\"histogram2dcontour\"}],\"mesh3d\":[{\"colorbar\":{\"outlinewidth\":0,\"ticks\":\"\"},\"type\":\"mesh3d\"}],\"parcoords\":[{\"line\":{\"colorbar\":{\"outlinewidth\":0,\"ticks\":\"\"}},\"type\":\"parcoords\"}],\"pie\":[{\"automargin\":true,\"type\":\"pie\"}],\"scatter\":[{\"marker\":{\"colorbar\":{\"outlinewidth\":0,\"ticks\":\"\"}},\"type\":\"scatter\"}],\"scatter3d\":[{\"line\":{\"colorbar\":{\"outlinewidth\":0,\"ticks\":\"\"}},\"marker\":{\"colorbar\":{\"outlinewidth\":0,\"ticks\":\"\"}},\"type\":\"scatter3d\"}],\"scattercarpet\":[{\"marker\":{\"colorbar\":{\"outlinewidth\":0,\"ticks\":\"\"}},\"type\":\"scattercarpet\"}],\"scattergeo\":[{\"marker\":{\"colorbar\":{\"outlinewidth\":0,\"ticks\":\"\"}},\"type\":\"scattergeo\"}],\"scattergl\":[{\"marker\":{\"colorbar\":{\"outlinewidth\":0,\"ticks\":\"\"}},\"type\":\"scattergl\"}],\"scattermapbox\":[{\"marker\":{\"colorbar\":{\"outlinewidth\":0,\"ticks\":\"\"}},\"type\":\"scattermapbox\"}],\"scatterpolar\":[{\"marker\":{\"colorbar\":{\"outlinewidth\":0,\"ticks\":\"\"}},\"type\":\"scatterpolar\"}],\"scatterpolargl\":[{\"marker\":{\"colorbar\":{\"outlinewidth\":0,\"ticks\":\"\"}},\"type\":\"scatterpolargl\"}],\"scatterternary\":[{\"marker\":{\"colorbar\":{\"outlinewidth\":0,\"ticks\":\"\"}},\"type\":\"scatterternary\"}],\"surface\":[{\"colorbar\":{\"outlinewidth\":0,\"ticks\":\"\"},\"colorscale\":[[0.0,\"#0d0887\"],[0.1111111111111111,\"#46039f\"],[0.2222222222222222,\"#7201a8\"],[0.3333333333333333,\"#9c179e\"],[0.4444444444444444,\"#bd3786\"],[0.5555555555555556,\"#d8576b\"],[0.6666666666666666,\"#ed7953\"],[0.7777777777777778,\"#fb9f3a\"],[0.8888888888888888,\"#fdca26\"],[1.0,\"#f0f921\"]],\"type\":\"surface\"}],\"table\":[{\"cells\":{\"fill\":{\"color\":\"#EBF0F8\"},\"line\":{\"color\":\"white\"}},\"header\":{\"fill\":{\"color\":\"#C8D4E3\"},\"line\":{\"color\":\"white\"}},\"type\":\"table\"}]},\"layout\":{\"annotationdefaults\":{\"arrowcolor\":\"#2a3f5f\",\"arrowhead\":0,\"arrowwidth\":1},\"autotypenumbers\":\"strict\",\"coloraxis\":{\"colorbar\":{\"outlinewidth\":0,\"ticks\":\"\"}},\"colorscale\":{\"diverging\":[[0,\"#8e0152\"],[0.1,\"#c51b7d\"],[0.2,\"#de77ae\"],[0.3,\"#f1b6da\"],[0.4,\"#fde0ef\"],[0.5,\"#f7f7f7\"],[0.6,\"#e6f5d0\"],[0.7,\"#b8e186\"],[0.8,\"#7fbc41\"],[0.9,\"#4d9221\"],[1,\"#276419\"]],\"sequential\":[[0.0,\"#0d0887\"],[0.1111111111111111,\"#46039f\"],[0.2222222222222222,\"#7201a8\"],[0.3333333333333333,\"#9c179e\"],[0.4444444444444444,\"#bd3786\"],[0.5555555555555556,\"#d8576b\"],[0.6666666666666666,\"#ed7953\"],[0.7777777777777778,\"#fb9f3a\"],[0.8888888888888888,\"#fdca26\"],[1.0,\"#f0f921\"]],\"sequentialminus\":[[0.0,\"#0d0887\"],[0.1111111111111111,\"#46039f\"],[0.2222222222222222,\"#7201a8\"],[0.3333333333333333,\"#9c179e\"],[0.4444444444444444,\"#bd3786\"],[0.5555555555555556,\"#d8576b\"],[0.6666666666666666,\"#ed7953\"],[0.7777777777777778,\"#fb9f3a\"],[0.8888888888888888,\"#fdca26\"],[1.0,\"#f0f921\"]]},\"colorway\":[\"#636efa\",\"#EF553B\",\"#00cc96\",\"#ab63fa\",\"#FFA15A\",\"#19d3f3\",\"#FF6692\",\"#B6E880\",\"#FF97FF\",\"#FECB52\"],\"font\":{\"color\":\"#2a3f5f\"},\"geo\":{\"bgcolor\":\"white\",\"lakecolor\":\"white\",\"landcolor\":\"#E5ECF6\",\"showlakes\":true,\"showland\":true,\"subunitcolor\":\"white\"},\"hoverlabel\":{\"align\":\"left\"},\"hovermode\":\"closest\",\"mapbox\":{\"style\":\"light\"},\"paper_bgcolor\":\"white\",\"plot_bgcolor\":\"#E5ECF6\",\"polar\":{\"angularaxis\":{\"gridcolor\":\"white\",\"linecolor\":\"white\",\"ticks\":\"\"},\"bgcolor\":\"#E5ECF6\",\"radialaxis\":{\"gridcolor\":\"white\",\"linecolor\":\"white\",\"ticks\":\"\"}},\"scene\":{\"xaxis\":{\"backgroundcolor\":\"#E5ECF6\",\"gridcolor\":\"white\",\"gridwidth\":2,\"linecolor\":\"white\",\"showbackground\":true,\"ticks\":\"\",\"zerolinecolor\":\"white\"},\"yaxis\":{\"backgroundcolor\":\"#E5ECF6\",\"gridcolor\":\"white\",\"gridwidth\":2,\"linecolor\":\"white\",\"showbackground\":true,\"ticks\":\"\",\"zerolinecolor\":\"white\"},\"zaxis\":{\"backgroundcolor\":\"#E5ECF6\",\"gridcolor\":\"white\",\"gridwidth\":2,\"linecolor\":\"white\",\"showbackground\":true,\"ticks\":\"\",\"zerolinecolor\":\"white\"}},\"shapedefaults\":{\"line\":{\"color\":\"#2a3f5f\"}},\"ternary\":{\"aaxis\":{\"gridcolor\":\"white\",\"linecolor\":\"white\",\"ticks\":\"\"},\"baxis\":{\"gridcolor\":\"white\",\"linecolor\":\"white\",\"ticks\":\"\"},\"bgcolor\":\"#E5ECF6\",\"caxis\":{\"gridcolor\":\"white\",\"linecolor\":\"white\",\"ticks\":\"\"}},\"title\":{\"x\":0.05},\"xaxis\":{\"automargin\":true,\"gridcolor\":\"white\",\"linecolor\":\"white\",\"ticks\":\"\",\"title\":{\"standoff\":15},\"zerolinecolor\":\"white\",\"zerolinewidth\":2},\"yaxis\":{\"automargin\":true,\"gridcolor\":\"white\",\"linecolor\":\"white\",\"ticks\":\"\",\"title\":{\"standoff\":15},\"zerolinecolor\":\"white\",\"zerolinewidth\":2}}},\"xaxis\":{\"anchor\":\"y\",\"domain\":[0.0,1.0],\"title\":{\"text\":\"Date\"}},\"yaxis\":{\"anchor\":\"x\",\"domain\":[0.0,1.0],\"title\":{\"text\":\"Messages\"}},\"legend\":{\"tracegroupgap\":0},\"margin\":{\"t\":60}},                        {\"responsive\": true}                    ).then(function(){\n",
       "                            \n",
       "var gd = document.getElementById('545fc105-c368-4e78-902c-16124fe8dc00');\n",
       "var x = new MutationObserver(function (mutations, observer) {{\n",
       "        var display = window.getComputedStyle(gd).display;\n",
       "        if (!display || display === 'none') {{\n",
       "            console.log([gd, 'removed!']);\n",
       "            Plotly.purge(gd);\n",
       "            observer.disconnect();\n",
       "        }}\n",
       "}});\n",
       "\n",
       "// Listen for the removal of the full notebook cells\n",
       "var notebookContainer = gd.closest('#notebook-container');\n",
       "if (notebookContainer) {{\n",
       "    x.observe(notebookContainer, {childList: true});\n",
       "}}\n",
       "\n",
       "// Listen for the clearing of the current output cell\n",
       "var outputEl = gd.closest('.output');\n",
       "if (outputEl) {{\n",
       "    x.observe(outputEl, {childList: true});\n",
       "}}\n",
       "\n",
       "                        })                };                });            </script>        </div>"
      ]
     },
     "metadata": {},
     "output_type": "display_data"
    }
   ],
   "source": [
    "datetimeline=df.groupby(['Date']).count().Messages.reset_index()\n",
    "fig = px.line(datetimeline, x='Date', y=\"Messages\",markers=True)\n",
    "fig.show()"
   ]
  },
  {
   "cell_type": "code",
   "execution_count": 194,
   "id": "d2bdeb5d",
   "metadata": {},
   "outputs": [
    {
     "data": {
      "application/vnd.plotly.v1+json": {
       "config": {
        "plotlyServerURL": "https://plot.ly"
       },
       "data": [
        {
         "connectgaps": false,
         "type": "scatter",
         "x": [
          "2021-08-20T00:00:00",
          "2021-08-21T00:00:00",
          "2021-08-22T00:00:00",
          "2021-08-23T00:00:00",
          "2021-08-24T00:00:00",
          "2021-08-25T00:00:00",
          "2021-09-02T00:00:00",
          "2021-09-06T00:00:00",
          "2021-09-07T00:00:00",
          "2021-09-08T00:00:00",
          "2021-09-11T00:00:00",
          "2021-09-13T00:00:00",
          "2021-09-15T00:00:00",
          "2021-09-16T00:00:00",
          "2021-09-17T00:00:00",
          "2021-09-18T00:00:00",
          "2021-09-19T00:00:00",
          "2021-09-20T00:00:00",
          "2021-09-21T00:00:00",
          "2021-09-22T00:00:00",
          "2021-09-23T00:00:00",
          "2021-09-24T00:00:00",
          "2021-09-28T00:00:00",
          "2021-10-04T00:00:00",
          "2021-10-06T00:00:00",
          "2021-10-07T00:00:00",
          "2021-10-08T00:00:00",
          "2021-10-09T00:00:00",
          "2021-10-15T00:00:00",
          "2021-10-21T00:00:00",
          "2021-10-24T00:00:00",
          "2021-10-26T00:00:00",
          "2021-10-27T00:00:00",
          "2021-11-14T00:00:00",
          "2021-11-25T00:00:00",
          "2021-12-02T00:00:00"
         ],
         "y": [
          321,
          82,
          13,
          75,
          155,
          21,
          9,
          339,
          30,
          60,
          21,
          30,
          87,
          20,
          94,
          13,
          13,
          120,
          10,
          68,
          6,
          702,
          23,
          4,
          11,
          53,
          15,
          3,
          75,
          26,
          3,
          5,
          3,
          3,
          12,
          8
         ]
        }
       ],
       "layout": {
        "template": {
         "data": {
          "bar": [
           {
            "error_x": {
             "color": "#2a3f5f"
            },
            "error_y": {
             "color": "#2a3f5f"
            },
            "marker": {
             "line": {
              "color": "#E5ECF6",
              "width": 0.5
             },
             "pattern": {
              "fillmode": "overlay",
              "size": 10,
              "solidity": 0.2
             }
            },
            "type": "bar"
           }
          ],
          "barpolar": [
           {
            "marker": {
             "line": {
              "color": "#E5ECF6",
              "width": 0.5
             },
             "pattern": {
              "fillmode": "overlay",
              "size": 10,
              "solidity": 0.2
             }
            },
            "type": "barpolar"
           }
          ],
          "carpet": [
           {
            "aaxis": {
             "endlinecolor": "#2a3f5f",
             "gridcolor": "white",
             "linecolor": "white",
             "minorgridcolor": "white",
             "startlinecolor": "#2a3f5f"
            },
            "baxis": {
             "endlinecolor": "#2a3f5f",
             "gridcolor": "white",
             "linecolor": "white",
             "minorgridcolor": "white",
             "startlinecolor": "#2a3f5f"
            },
            "type": "carpet"
           }
          ],
          "choropleth": [
           {
            "colorbar": {
             "outlinewidth": 0,
             "ticks": ""
            },
            "type": "choropleth"
           }
          ],
          "contour": [
           {
            "colorbar": {
             "outlinewidth": 0,
             "ticks": ""
            },
            "colorscale": [
             [
              0,
              "#0d0887"
             ],
             [
              0.1111111111111111,
              "#46039f"
             ],
             [
              0.2222222222222222,
              "#7201a8"
             ],
             [
              0.3333333333333333,
              "#9c179e"
             ],
             [
              0.4444444444444444,
              "#bd3786"
             ],
             [
              0.5555555555555556,
              "#d8576b"
             ],
             [
              0.6666666666666666,
              "#ed7953"
             ],
             [
              0.7777777777777778,
              "#fb9f3a"
             ],
             [
              0.8888888888888888,
              "#fdca26"
             ],
             [
              1,
              "#f0f921"
             ]
            ],
            "type": "contour"
           }
          ],
          "contourcarpet": [
           {
            "colorbar": {
             "outlinewidth": 0,
             "ticks": ""
            },
            "type": "contourcarpet"
           }
          ],
          "heatmap": [
           {
            "colorbar": {
             "outlinewidth": 0,
             "ticks": ""
            },
            "colorscale": [
             [
              0,
              "#0d0887"
             ],
             [
              0.1111111111111111,
              "#46039f"
             ],
             [
              0.2222222222222222,
              "#7201a8"
             ],
             [
              0.3333333333333333,
              "#9c179e"
             ],
             [
              0.4444444444444444,
              "#bd3786"
             ],
             [
              0.5555555555555556,
              "#d8576b"
             ],
             [
              0.6666666666666666,
              "#ed7953"
             ],
             [
              0.7777777777777778,
              "#fb9f3a"
             ],
             [
              0.8888888888888888,
              "#fdca26"
             ],
             [
              1,
              "#f0f921"
             ]
            ],
            "type": "heatmap"
           }
          ],
          "heatmapgl": [
           {
            "colorbar": {
             "outlinewidth": 0,
             "ticks": ""
            },
            "colorscale": [
             [
              0,
              "#0d0887"
             ],
             [
              0.1111111111111111,
              "#46039f"
             ],
             [
              0.2222222222222222,
              "#7201a8"
             ],
             [
              0.3333333333333333,
              "#9c179e"
             ],
             [
              0.4444444444444444,
              "#bd3786"
             ],
             [
              0.5555555555555556,
              "#d8576b"
             ],
             [
              0.6666666666666666,
              "#ed7953"
             ],
             [
              0.7777777777777778,
              "#fb9f3a"
             ],
             [
              0.8888888888888888,
              "#fdca26"
             ],
             [
              1,
              "#f0f921"
             ]
            ],
            "type": "heatmapgl"
           }
          ],
          "histogram": [
           {
            "marker": {
             "pattern": {
              "fillmode": "overlay",
              "size": 10,
              "solidity": 0.2
             }
            },
            "type": "histogram"
           }
          ],
          "histogram2d": [
           {
            "colorbar": {
             "outlinewidth": 0,
             "ticks": ""
            },
            "colorscale": [
             [
              0,
              "#0d0887"
             ],
             [
              0.1111111111111111,
              "#46039f"
             ],
             [
              0.2222222222222222,
              "#7201a8"
             ],
             [
              0.3333333333333333,
              "#9c179e"
             ],
             [
              0.4444444444444444,
              "#bd3786"
             ],
             [
              0.5555555555555556,
              "#d8576b"
             ],
             [
              0.6666666666666666,
              "#ed7953"
             ],
             [
              0.7777777777777778,
              "#fb9f3a"
             ],
             [
              0.8888888888888888,
              "#fdca26"
             ],
             [
              1,
              "#f0f921"
             ]
            ],
            "type": "histogram2d"
           }
          ],
          "histogram2dcontour": [
           {
            "colorbar": {
             "outlinewidth": 0,
             "ticks": ""
            },
            "colorscale": [
             [
              0,
              "#0d0887"
             ],
             [
              0.1111111111111111,
              "#46039f"
             ],
             [
              0.2222222222222222,
              "#7201a8"
             ],
             [
              0.3333333333333333,
              "#9c179e"
             ],
             [
              0.4444444444444444,
              "#bd3786"
             ],
             [
              0.5555555555555556,
              "#d8576b"
             ],
             [
              0.6666666666666666,
              "#ed7953"
             ],
             [
              0.7777777777777778,
              "#fb9f3a"
             ],
             [
              0.8888888888888888,
              "#fdca26"
             ],
             [
              1,
              "#f0f921"
             ]
            ],
            "type": "histogram2dcontour"
           }
          ],
          "mesh3d": [
           {
            "colorbar": {
             "outlinewidth": 0,
             "ticks": ""
            },
            "type": "mesh3d"
           }
          ],
          "parcoords": [
           {
            "line": {
             "colorbar": {
              "outlinewidth": 0,
              "ticks": ""
             }
            },
            "type": "parcoords"
           }
          ],
          "pie": [
           {
            "automargin": true,
            "type": "pie"
           }
          ],
          "scatter": [
           {
            "marker": {
             "colorbar": {
              "outlinewidth": 0,
              "ticks": ""
             }
            },
            "type": "scatter"
           }
          ],
          "scatter3d": [
           {
            "line": {
             "colorbar": {
              "outlinewidth": 0,
              "ticks": ""
             }
            },
            "marker": {
             "colorbar": {
              "outlinewidth": 0,
              "ticks": ""
             }
            },
            "type": "scatter3d"
           }
          ],
          "scattercarpet": [
           {
            "marker": {
             "colorbar": {
              "outlinewidth": 0,
              "ticks": ""
             }
            },
            "type": "scattercarpet"
           }
          ],
          "scattergeo": [
           {
            "marker": {
             "colorbar": {
              "outlinewidth": 0,
              "ticks": ""
             }
            },
            "type": "scattergeo"
           }
          ],
          "scattergl": [
           {
            "marker": {
             "colorbar": {
              "outlinewidth": 0,
              "ticks": ""
             }
            },
            "type": "scattergl"
           }
          ],
          "scattermapbox": [
           {
            "marker": {
             "colorbar": {
              "outlinewidth": 0,
              "ticks": ""
             }
            },
            "type": "scattermapbox"
           }
          ],
          "scatterpolar": [
           {
            "marker": {
             "colorbar": {
              "outlinewidth": 0,
              "ticks": ""
             }
            },
            "type": "scatterpolar"
           }
          ],
          "scatterpolargl": [
           {
            "marker": {
             "colorbar": {
              "outlinewidth": 0,
              "ticks": ""
             }
            },
            "type": "scatterpolargl"
           }
          ],
          "scatterternary": [
           {
            "marker": {
             "colorbar": {
              "outlinewidth": 0,
              "ticks": ""
             }
            },
            "type": "scatterternary"
           }
          ],
          "surface": [
           {
            "colorbar": {
             "outlinewidth": 0,
             "ticks": ""
            },
            "colorscale": [
             [
              0,
              "#0d0887"
             ],
             [
              0.1111111111111111,
              "#46039f"
             ],
             [
              0.2222222222222222,
              "#7201a8"
             ],
             [
              0.3333333333333333,
              "#9c179e"
             ],
             [
              0.4444444444444444,
              "#bd3786"
             ],
             [
              0.5555555555555556,
              "#d8576b"
             ],
             [
              0.6666666666666666,
              "#ed7953"
             ],
             [
              0.7777777777777778,
              "#fb9f3a"
             ],
             [
              0.8888888888888888,
              "#fdca26"
             ],
             [
              1,
              "#f0f921"
             ]
            ],
            "type": "surface"
           }
          ],
          "table": [
           {
            "cells": {
             "fill": {
              "color": "#EBF0F8"
             },
             "line": {
              "color": "white"
             }
            },
            "header": {
             "fill": {
              "color": "#C8D4E3"
             },
             "line": {
              "color": "white"
             }
            },
            "type": "table"
           }
          ]
         },
         "layout": {
          "annotationdefaults": {
           "arrowcolor": "#2a3f5f",
           "arrowhead": 0,
           "arrowwidth": 1
          },
          "autotypenumbers": "strict",
          "coloraxis": {
           "colorbar": {
            "outlinewidth": 0,
            "ticks": ""
           }
          },
          "colorscale": {
           "diverging": [
            [
             0,
             "#8e0152"
            ],
            [
             0.1,
             "#c51b7d"
            ],
            [
             0.2,
             "#de77ae"
            ],
            [
             0.3,
             "#f1b6da"
            ],
            [
             0.4,
             "#fde0ef"
            ],
            [
             0.5,
             "#f7f7f7"
            ],
            [
             0.6,
             "#e6f5d0"
            ],
            [
             0.7,
             "#b8e186"
            ],
            [
             0.8,
             "#7fbc41"
            ],
            [
             0.9,
             "#4d9221"
            ],
            [
             1,
             "#276419"
            ]
           ],
           "sequential": [
            [
             0,
             "#0d0887"
            ],
            [
             0.1111111111111111,
             "#46039f"
            ],
            [
             0.2222222222222222,
             "#7201a8"
            ],
            [
             0.3333333333333333,
             "#9c179e"
            ],
            [
             0.4444444444444444,
             "#bd3786"
            ],
            [
             0.5555555555555556,
             "#d8576b"
            ],
            [
             0.6666666666666666,
             "#ed7953"
            ],
            [
             0.7777777777777778,
             "#fb9f3a"
            ],
            [
             0.8888888888888888,
             "#fdca26"
            ],
            [
             1,
             "#f0f921"
            ]
           ],
           "sequentialminus": [
            [
             0,
             "#0d0887"
            ],
            [
             0.1111111111111111,
             "#46039f"
            ],
            [
             0.2222222222222222,
             "#7201a8"
            ],
            [
             0.3333333333333333,
             "#9c179e"
            ],
            [
             0.4444444444444444,
             "#bd3786"
            ],
            [
             0.5555555555555556,
             "#d8576b"
            ],
            [
             0.6666666666666666,
             "#ed7953"
            ],
            [
             0.7777777777777778,
             "#fb9f3a"
            ],
            [
             0.8888888888888888,
             "#fdca26"
            ],
            [
             1,
             "#f0f921"
            ]
           ]
          },
          "colorway": [
           "#636efa",
           "#EF553B",
           "#00cc96",
           "#ab63fa",
           "#FFA15A",
           "#19d3f3",
           "#FF6692",
           "#B6E880",
           "#FF97FF",
           "#FECB52"
          ],
          "font": {
           "color": "#2a3f5f"
          },
          "geo": {
           "bgcolor": "white",
           "lakecolor": "white",
           "landcolor": "#E5ECF6",
           "showlakes": true,
           "showland": true,
           "subunitcolor": "white"
          },
          "hoverlabel": {
           "align": "left"
          },
          "hovermode": "closest",
          "mapbox": {
           "style": "light"
          },
          "paper_bgcolor": "white",
          "plot_bgcolor": "#E5ECF6",
          "polar": {
           "angularaxis": {
            "gridcolor": "white",
            "linecolor": "white",
            "ticks": ""
           },
           "bgcolor": "#E5ECF6",
           "radialaxis": {
            "gridcolor": "white",
            "linecolor": "white",
            "ticks": ""
           }
          },
          "scene": {
           "xaxis": {
            "backgroundcolor": "#E5ECF6",
            "gridcolor": "white",
            "gridwidth": 2,
            "linecolor": "white",
            "showbackground": true,
            "ticks": "",
            "zerolinecolor": "white"
           },
           "yaxis": {
            "backgroundcolor": "#E5ECF6",
            "gridcolor": "white",
            "gridwidth": 2,
            "linecolor": "white",
            "showbackground": true,
            "ticks": "",
            "zerolinecolor": "white"
           },
           "zaxis": {
            "backgroundcolor": "#E5ECF6",
            "gridcolor": "white",
            "gridwidth": 2,
            "linecolor": "white",
            "showbackground": true,
            "ticks": "",
            "zerolinecolor": "white"
           }
          },
          "shapedefaults": {
           "line": {
            "color": "#2a3f5f"
           }
          },
          "ternary": {
           "aaxis": {
            "gridcolor": "white",
            "linecolor": "white",
            "ticks": ""
           },
           "baxis": {
            "gridcolor": "white",
            "linecolor": "white",
            "ticks": ""
           },
           "bgcolor": "#E5ECF6",
           "caxis": {
            "gridcolor": "white",
            "linecolor": "white",
            "ticks": ""
           }
          },
          "title": {
           "x": 0.05
          },
          "xaxis": {
           "automargin": true,
           "gridcolor": "white",
           "linecolor": "white",
           "ticks": "",
           "title": {
            "standoff": 15
           },
           "zerolinecolor": "white",
           "zerolinewidth": 2
          },
          "yaxis": {
           "automargin": true,
           "gridcolor": "white",
           "linecolor": "white",
           "ticks": "",
           "title": {
            "standoff": 15
           },
           "zerolinecolor": "white",
           "zerolinewidth": 2
          }
         }
        }
       }
      },
      "text/html": [
       "<div>                            <div id=\"096aac24-d3ef-49c6-b201-6e7e083b43c1\" class=\"plotly-graph-div\" style=\"height:525px; width:100%;\"></div>            <script type=\"text/javascript\">                require([\"plotly\"], function(Plotly) {                    window.PLOTLYENV=window.PLOTLYENV || {};                                    if (document.getElementById(\"096aac24-d3ef-49c6-b201-6e7e083b43c1\")) {                    Plotly.newPlot(                        \"096aac24-d3ef-49c6-b201-6e7e083b43c1\",                        [{\"connectgaps\":false,\"x\":[\"2021-08-20T00:00:00\",\"2021-08-21T00:00:00\",\"2021-08-22T00:00:00\",\"2021-08-23T00:00:00\",\"2021-08-24T00:00:00\",\"2021-08-25T00:00:00\",\"2021-09-02T00:00:00\",\"2021-09-06T00:00:00\",\"2021-09-07T00:00:00\",\"2021-09-08T00:00:00\",\"2021-09-11T00:00:00\",\"2021-09-13T00:00:00\",\"2021-09-15T00:00:00\",\"2021-09-16T00:00:00\",\"2021-09-17T00:00:00\",\"2021-09-18T00:00:00\",\"2021-09-19T00:00:00\",\"2021-09-20T00:00:00\",\"2021-09-21T00:00:00\",\"2021-09-22T00:00:00\",\"2021-09-23T00:00:00\",\"2021-09-24T00:00:00\",\"2021-09-28T00:00:00\",\"2021-10-04T00:00:00\",\"2021-10-06T00:00:00\",\"2021-10-07T00:00:00\",\"2021-10-08T00:00:00\",\"2021-10-09T00:00:00\",\"2021-10-15T00:00:00\",\"2021-10-21T00:00:00\",\"2021-10-24T00:00:00\",\"2021-10-26T00:00:00\",\"2021-10-27T00:00:00\",\"2021-11-14T00:00:00\",\"2021-11-25T00:00:00\",\"2021-12-02T00:00:00\"],\"y\":[321,82,13,75,155,21,9,339,30,60,21,30,87,20,94,13,13,120,10,68,6,702,23,4,11,53,15,3,75,26,3,5,3,3,12,8],\"type\":\"scatter\"}],                        {\"template\":{\"data\":{\"bar\":[{\"error_x\":{\"color\":\"#2a3f5f\"},\"error_y\":{\"color\":\"#2a3f5f\"},\"marker\":{\"line\":{\"color\":\"#E5ECF6\",\"width\":0.5},\"pattern\":{\"fillmode\":\"overlay\",\"size\":10,\"solidity\":0.2}},\"type\":\"bar\"}],\"barpolar\":[{\"marker\":{\"line\":{\"color\":\"#E5ECF6\",\"width\":0.5},\"pattern\":{\"fillmode\":\"overlay\",\"size\":10,\"solidity\":0.2}},\"type\":\"barpolar\"}],\"carpet\":[{\"aaxis\":{\"endlinecolor\":\"#2a3f5f\",\"gridcolor\":\"white\",\"linecolor\":\"white\",\"minorgridcolor\":\"white\",\"startlinecolor\":\"#2a3f5f\"},\"baxis\":{\"endlinecolor\":\"#2a3f5f\",\"gridcolor\":\"white\",\"linecolor\":\"white\",\"minorgridcolor\":\"white\",\"startlinecolor\":\"#2a3f5f\"},\"type\":\"carpet\"}],\"choropleth\":[{\"colorbar\":{\"outlinewidth\":0,\"ticks\":\"\"},\"type\":\"choropleth\"}],\"contour\":[{\"colorbar\":{\"outlinewidth\":0,\"ticks\":\"\"},\"colorscale\":[[0.0,\"#0d0887\"],[0.1111111111111111,\"#46039f\"],[0.2222222222222222,\"#7201a8\"],[0.3333333333333333,\"#9c179e\"],[0.4444444444444444,\"#bd3786\"],[0.5555555555555556,\"#d8576b\"],[0.6666666666666666,\"#ed7953\"],[0.7777777777777778,\"#fb9f3a\"],[0.8888888888888888,\"#fdca26\"],[1.0,\"#f0f921\"]],\"type\":\"contour\"}],\"contourcarpet\":[{\"colorbar\":{\"outlinewidth\":0,\"ticks\":\"\"},\"type\":\"contourcarpet\"}],\"heatmap\":[{\"colorbar\":{\"outlinewidth\":0,\"ticks\":\"\"},\"colorscale\":[[0.0,\"#0d0887\"],[0.1111111111111111,\"#46039f\"],[0.2222222222222222,\"#7201a8\"],[0.3333333333333333,\"#9c179e\"],[0.4444444444444444,\"#bd3786\"],[0.5555555555555556,\"#d8576b\"],[0.6666666666666666,\"#ed7953\"],[0.7777777777777778,\"#fb9f3a\"],[0.8888888888888888,\"#fdca26\"],[1.0,\"#f0f921\"]],\"type\":\"heatmap\"}],\"heatmapgl\":[{\"colorbar\":{\"outlinewidth\":0,\"ticks\":\"\"},\"colorscale\":[[0.0,\"#0d0887\"],[0.1111111111111111,\"#46039f\"],[0.2222222222222222,\"#7201a8\"],[0.3333333333333333,\"#9c179e\"],[0.4444444444444444,\"#bd3786\"],[0.5555555555555556,\"#d8576b\"],[0.6666666666666666,\"#ed7953\"],[0.7777777777777778,\"#fb9f3a\"],[0.8888888888888888,\"#fdca26\"],[1.0,\"#f0f921\"]],\"type\":\"heatmapgl\"}],\"histogram\":[{\"marker\":{\"pattern\":{\"fillmode\":\"overlay\",\"size\":10,\"solidity\":0.2}},\"type\":\"histogram\"}],\"histogram2d\":[{\"colorbar\":{\"outlinewidth\":0,\"ticks\":\"\"},\"colorscale\":[[0.0,\"#0d0887\"],[0.1111111111111111,\"#46039f\"],[0.2222222222222222,\"#7201a8\"],[0.3333333333333333,\"#9c179e\"],[0.4444444444444444,\"#bd3786\"],[0.5555555555555556,\"#d8576b\"],[0.6666666666666666,\"#ed7953\"],[0.7777777777777778,\"#fb9f3a\"],[0.8888888888888888,\"#fdca26\"],[1.0,\"#f0f921\"]],\"type\":\"histogram2d\"}],\"histogram2dcontour\":[{\"colorbar\":{\"outlinewidth\":0,\"ticks\":\"\"},\"colorscale\":[[0.0,\"#0d0887\"],[0.1111111111111111,\"#46039f\"],[0.2222222222222222,\"#7201a8\"],[0.3333333333333333,\"#9c179e\"],[0.4444444444444444,\"#bd3786\"],[0.5555555555555556,\"#d8576b\"],[0.6666666666666666,\"#ed7953\"],[0.7777777777777778,\"#fb9f3a\"],[0.8888888888888888,\"#fdca26\"],[1.0,\"#f0f921\"]],\"type\":\"histogram2dcontour\"}],\"mesh3d\":[{\"colorbar\":{\"outlinewidth\":0,\"ticks\":\"\"},\"type\":\"mesh3d\"}],\"parcoords\":[{\"line\":{\"colorbar\":{\"outlinewidth\":0,\"ticks\":\"\"}},\"type\":\"parcoords\"}],\"pie\":[{\"automargin\":true,\"type\":\"pie\"}],\"scatter\":[{\"marker\":{\"colorbar\":{\"outlinewidth\":0,\"ticks\":\"\"}},\"type\":\"scatter\"}],\"scatter3d\":[{\"line\":{\"colorbar\":{\"outlinewidth\":0,\"ticks\":\"\"}},\"marker\":{\"colorbar\":{\"outlinewidth\":0,\"ticks\":\"\"}},\"type\":\"scatter3d\"}],\"scattercarpet\":[{\"marker\":{\"colorbar\":{\"outlinewidth\":0,\"ticks\":\"\"}},\"type\":\"scattercarpet\"}],\"scattergeo\":[{\"marker\":{\"colorbar\":{\"outlinewidth\":0,\"ticks\":\"\"}},\"type\":\"scattergeo\"}],\"scattergl\":[{\"marker\":{\"colorbar\":{\"outlinewidth\":0,\"ticks\":\"\"}},\"type\":\"scattergl\"}],\"scattermapbox\":[{\"marker\":{\"colorbar\":{\"outlinewidth\":0,\"ticks\":\"\"}},\"type\":\"scattermapbox\"}],\"scatterpolar\":[{\"marker\":{\"colorbar\":{\"outlinewidth\":0,\"ticks\":\"\"}},\"type\":\"scatterpolar\"}],\"scatterpolargl\":[{\"marker\":{\"colorbar\":{\"outlinewidth\":0,\"ticks\":\"\"}},\"type\":\"scatterpolargl\"}],\"scatterternary\":[{\"marker\":{\"colorbar\":{\"outlinewidth\":0,\"ticks\":\"\"}},\"type\":\"scatterternary\"}],\"surface\":[{\"colorbar\":{\"outlinewidth\":0,\"ticks\":\"\"},\"colorscale\":[[0.0,\"#0d0887\"],[0.1111111111111111,\"#46039f\"],[0.2222222222222222,\"#7201a8\"],[0.3333333333333333,\"#9c179e\"],[0.4444444444444444,\"#bd3786\"],[0.5555555555555556,\"#d8576b\"],[0.6666666666666666,\"#ed7953\"],[0.7777777777777778,\"#fb9f3a\"],[0.8888888888888888,\"#fdca26\"],[1.0,\"#f0f921\"]],\"type\":\"surface\"}],\"table\":[{\"cells\":{\"fill\":{\"color\":\"#EBF0F8\"},\"line\":{\"color\":\"white\"}},\"header\":{\"fill\":{\"color\":\"#C8D4E3\"},\"line\":{\"color\":\"white\"}},\"type\":\"table\"}]},\"layout\":{\"annotationdefaults\":{\"arrowcolor\":\"#2a3f5f\",\"arrowhead\":0,\"arrowwidth\":1},\"autotypenumbers\":\"strict\",\"coloraxis\":{\"colorbar\":{\"outlinewidth\":0,\"ticks\":\"\"}},\"colorscale\":{\"diverging\":[[0,\"#8e0152\"],[0.1,\"#c51b7d\"],[0.2,\"#de77ae\"],[0.3,\"#f1b6da\"],[0.4,\"#fde0ef\"],[0.5,\"#f7f7f7\"],[0.6,\"#e6f5d0\"],[0.7,\"#b8e186\"],[0.8,\"#7fbc41\"],[0.9,\"#4d9221\"],[1,\"#276419\"]],\"sequential\":[[0.0,\"#0d0887\"],[0.1111111111111111,\"#46039f\"],[0.2222222222222222,\"#7201a8\"],[0.3333333333333333,\"#9c179e\"],[0.4444444444444444,\"#bd3786\"],[0.5555555555555556,\"#d8576b\"],[0.6666666666666666,\"#ed7953\"],[0.7777777777777778,\"#fb9f3a\"],[0.8888888888888888,\"#fdca26\"],[1.0,\"#f0f921\"]],\"sequentialminus\":[[0.0,\"#0d0887\"],[0.1111111111111111,\"#46039f\"],[0.2222222222222222,\"#7201a8\"],[0.3333333333333333,\"#9c179e\"],[0.4444444444444444,\"#bd3786\"],[0.5555555555555556,\"#d8576b\"],[0.6666666666666666,\"#ed7953\"],[0.7777777777777778,\"#fb9f3a\"],[0.8888888888888888,\"#fdca26\"],[1.0,\"#f0f921\"]]},\"colorway\":[\"#636efa\",\"#EF553B\",\"#00cc96\",\"#ab63fa\",\"#FFA15A\",\"#19d3f3\",\"#FF6692\",\"#B6E880\",\"#FF97FF\",\"#FECB52\"],\"font\":{\"color\":\"#2a3f5f\"},\"geo\":{\"bgcolor\":\"white\",\"lakecolor\":\"white\",\"landcolor\":\"#E5ECF6\",\"showlakes\":true,\"showland\":true,\"subunitcolor\":\"white\"},\"hoverlabel\":{\"align\":\"left\"},\"hovermode\":\"closest\",\"mapbox\":{\"style\":\"light\"},\"paper_bgcolor\":\"white\",\"plot_bgcolor\":\"#E5ECF6\",\"polar\":{\"angularaxis\":{\"gridcolor\":\"white\",\"linecolor\":\"white\",\"ticks\":\"\"},\"bgcolor\":\"#E5ECF6\",\"radialaxis\":{\"gridcolor\":\"white\",\"linecolor\":\"white\",\"ticks\":\"\"}},\"scene\":{\"xaxis\":{\"backgroundcolor\":\"#E5ECF6\",\"gridcolor\":\"white\",\"gridwidth\":2,\"linecolor\":\"white\",\"showbackground\":true,\"ticks\":\"\",\"zerolinecolor\":\"white\"},\"yaxis\":{\"backgroundcolor\":\"#E5ECF6\",\"gridcolor\":\"white\",\"gridwidth\":2,\"linecolor\":\"white\",\"showbackground\":true,\"ticks\":\"\",\"zerolinecolor\":\"white\"},\"zaxis\":{\"backgroundcolor\":\"#E5ECF6\",\"gridcolor\":\"white\",\"gridwidth\":2,\"linecolor\":\"white\",\"showbackground\":true,\"ticks\":\"\",\"zerolinecolor\":\"white\"}},\"shapedefaults\":{\"line\":{\"color\":\"#2a3f5f\"}},\"ternary\":{\"aaxis\":{\"gridcolor\":\"white\",\"linecolor\":\"white\",\"ticks\":\"\"},\"baxis\":{\"gridcolor\":\"white\",\"linecolor\":\"white\",\"ticks\":\"\"},\"bgcolor\":\"#E5ECF6\",\"caxis\":{\"gridcolor\":\"white\",\"linecolor\":\"white\",\"ticks\":\"\"}},\"title\":{\"x\":0.05},\"xaxis\":{\"automargin\":true,\"gridcolor\":\"white\",\"linecolor\":\"white\",\"ticks\":\"\",\"title\":{\"standoff\":15},\"zerolinecolor\":\"white\",\"zerolinewidth\":2},\"yaxis\":{\"automargin\":true,\"gridcolor\":\"white\",\"linecolor\":\"white\",\"ticks\":\"\",\"title\":{\"standoff\":15},\"zerolinecolor\":\"white\",\"zerolinewidth\":2}}}},                        {\"responsive\": true}                    ).then(function(){\n",
       "                            \n",
       "var gd = document.getElementById('096aac24-d3ef-49c6-b201-6e7e083b43c1');\n",
       "var x = new MutationObserver(function (mutations, observer) {{\n",
       "        var display = window.getComputedStyle(gd).display;\n",
       "        if (!display || display === 'none') {{\n",
       "            console.log([gd, 'removed!']);\n",
       "            Plotly.purge(gd);\n",
       "            observer.disconnect();\n",
       "        }}\n",
       "}});\n",
       "\n",
       "// Listen for the removal of the full notebook cells\n",
       "var notebookContainer = gd.closest('#notebook-container');\n",
       "if (notebookContainer) {{\n",
       "    x.observe(notebookContainer, {childList: true});\n",
       "}}\n",
       "\n",
       "// Listen for the clearing of the current output cell\n",
       "var outputEl = gd.closest('.output');\n",
       "if (outputEl) {{\n",
       "    x.observe(outputEl, {childList: true});\n",
       "}}\n",
       "\n",
       "                        })                };                });            </script>        </div>"
      ]
     },
     "metadata": {},
     "output_type": "display_data"
    }
   ],
   "source": [
    "import plotly.graph_objects as go\n",
    "fig = go.Figure()\n",
    "fig.add_trace(go.Scatter(\n",
    "    x=datetimeline.Date,\n",
    "    y=datetimeline.Messages,\n",
    "    connectgaps=False # override default to connect the gaps\n",
    "))"
   ]
  },
  {
   "cell_type": "code",
   "execution_count": 196,
   "id": "666355ab",
   "metadata": {},
   "outputs": [
    {
     "data": {
      "text/plain": [
       "<matplotlib.collections.PathCollection at 0x1be7407b130>"
      ]
     },
     "execution_count": 196,
     "metadata": {},
     "output_type": "execute_result"
    },
    {
     "data": {
      "image/png": "[encoded data removed]",
      "text/plain": [
       "<Figure size 432x288 with 1 Axes>"
      ]
     },
     "metadata": {
      "needs_background": "light"
     },
     "output_type": "display_data"
    }
   ],
   "source": [
    "plt.scatter(  x=datetimeline.Date,y=datetimeline.Messages)"
   ]
  },
  {
   "cell_type": "code",
   "execution_count": 216,
   "id": "a7575282",
   "metadata": {},
   "outputs": [
    {
     "data": {
      "application/vnd.plotly.v1+json": {
       "config": {
        "plotlyServerURL": "https://plot.ly"
       },
       "data": [
        {
         "hovertemplate": "Week-Number=%{x}<br>Messages=%{y}<extra></extra>",
         "legendgroup": "",
         "line": {
          "color": "#636efa",
          "dash": "solid"
         },
         "marker": {
          "symbol": "circle"
         },
         "mode": "markers+lines",
         "name": "",
         "orientation": "v",
         "showlegend": false,
         "type": "scatter",
         "x": [
          "33th 2021",
          "34th 2021",
          "35th 2021",
          "36th 2021",
          "37th 2021",
          "38th 2021",
          "39th 2021",
          "40th 2021",
          "41th 2021",
          "42th 2021",
          "43th 2021",
          "45th 2021",
          "47th 2021",
          "48th 2021"
         ],
         "xaxis": "x",
         "y": [
          416,
          251,
          9,
          450,
          257,
          906,
          23,
          86,
          75,
          29,
          8,
          3,
          12,
          8
         ],
         "yaxis": "y"
        }
       ],
       "layout": {
        "legend": {
         "tracegroupgap": 0
        },
        "margin": {
         "t": 60
        },
        "template": {
         "data": {
          "bar": [
           {
            "error_x": {
             "color": "#2a3f5f"
            },
            "error_y": {
             "color": "#2a3f5f"
            },
            "marker": {
             "line": {
              "color": "#E5ECF6",
              "width": 0.5
             },
             "pattern": {
              "fillmode": "overlay",
              "size": 10,
              "solidity": 0.2
             }
            },
            "type": "bar"
           }
          ],
          "barpolar": [
           {
            "marker": {
             "line": {
              "color": "#E5ECF6",
              "width": 0.5
             },
             "pattern": {
              "fillmode": "overlay",
              "size": 10,
              "solidity": 0.2
             }
            },
            "type": "barpolar"
           }
          ],
          "carpet": [
           {
            "aaxis": {
             "endlinecolor": "#2a3f5f",
             "gridcolor": "white",
             "linecolor": "white",
             "minorgridcolor": "white",
             "startlinecolor": "#2a3f5f"
            },
            "baxis": {
             "endlinecolor": "#2a3f5f",
             "gridcolor": "white",
             "linecolor": "white",
             "minorgridcolor": "white",
             "startlinecolor": "#2a3f5f"
            },
            "type": "carpet"
           }
          ],
          "choropleth": [
           {
            "colorbar": {
             "outlinewidth": 0,
             "ticks": ""
            },
            "type": "choropleth"
           }
          ],
          "contour": [
           {
            "colorbar": {
             "outlinewidth": 0,
             "ticks": ""
            },
            "colorscale": [
             [
              0,
              "#0d0887"
             ],
             [
              0.1111111111111111,
              "#46039f"
             ],
             [
              0.2222222222222222,
              "#7201a8"
             ],
             [
              0.3333333333333333,
              "#9c179e"
             ],
             [
              0.4444444444444444,
              "#bd3786"
             ],
             [
              0.5555555555555556,
              "#d8576b"
             ],
             [
              0.6666666666666666,
              "#ed7953"
             ],
             [
              0.7777777777777778,
              "#fb9f3a"
             ],
             [
              0.8888888888888888,
              "#fdca26"
             ],
             [
              1,
              "#f0f921"
             ]
            ],
            "type": "contour"
           }
          ],
          "contourcarpet": [
           {
            "colorbar": {
             "outlinewidth": 0,
             "ticks": ""
            },
            "type": "contourcarpet"
           }
          ],
          "heatmap": [
           {
            "colorbar": {
             "outlinewidth": 0,
             "ticks": ""
            },
            "colorscale": [
             [
              0,
              "#0d0887"
             ],
             [
              0.1111111111111111,
              "#46039f"
             ],
             [
              0.2222222222222222,
              "#7201a8"
             ],
             [
              0.3333333333333333,
              "#9c179e"
             ],
             [
              0.4444444444444444,
              "#bd3786"
             ],
             [
              0.5555555555555556,
              "#d8576b"
             ],
             [
              0.6666666666666666,
              "#ed7953"
             ],
             [
              0.7777777777777778,
              "#fb9f3a"
             ],
             [
              0.8888888888888888,
              "#fdca26"
             ],
             [
              1,
              "#f0f921"
             ]
            ],
            "type": "heatmap"
           }
          ],
          "heatmapgl": [
           {
            "colorbar": {
             "outlinewidth": 0,
             "ticks": ""
            },
            "colorscale": [
             [
              0,
              "#0d0887"
             ],
             [
              0.1111111111111111,
              "#46039f"
             ],
             [
              0.2222222222222222,
              "#7201a8"
             ],
             [
              0.3333333333333333,
              "#9c179e"
             ],
             [
              0.4444444444444444,
              "#bd3786"
             ],
             [
              0.5555555555555556,
              "#d8576b"
             ],
             [
              0.6666666666666666,
              "#ed7953"
             ],
             [
              0.7777777777777778,
              "#fb9f3a"
             ],
             [
              0.8888888888888888,
              "#fdca26"
             ],
             [
              1,
              "#f0f921"
             ]
            ],
            "type": "heatmapgl"
           }
          ],
          "histogram": [
           {
            "marker": {
             "pattern": {
              "fillmode": "overlay",
              "size": 10,
              "solidity": 0.2
             }
            },
            "type": "histogram"
           }
          ],
          "histogram2d": [
           {
            "colorbar": {
             "outlinewidth": 0,
             "ticks": ""
            },
            "colorscale": [
             [
              0,
              "#0d0887"
             ],
             [
              0.1111111111111111,
              "#46039f"
             ],
             [
              0.2222222222222222,
              "#7201a8"
             ],
             [
              0.3333333333333333,
              "#9c179e"
             ],
             [
              0.4444444444444444,
              "#bd3786"
             ],
             [
              0.5555555555555556,
              "#d8576b"
             ],
             [
              0.6666666666666666,
              "#ed7953"
             ],
             [
              0.7777777777777778,
              "#fb9f3a"
             ],
             [
              0.8888888888888888,
              "#fdca26"
             ],
             [
              1,
              "#f0f921"
             ]
            ],
            "type": "histogram2d"
           }
          ],
          "histogram2dcontour": [
           {
            "colorbar": {
             "outlinewidth": 0,
             "ticks": ""
            },
            "colorscale": [
             [
              0,
              "#0d0887"
             ],
             [
              0.1111111111111111,
              "#46039f"
             ],
             [
              0.2222222222222222,
              "#7201a8"
             ],
             [
              0.3333333333333333,
              "#9c179e"
             ],
             [
              0.4444444444444444,
              "#bd3786"
             ],
             [
              0.5555555555555556,
              "#d8576b"
             ],
             [
              0.6666666666666666,
              "#ed7953"
             ],
             [
              0.7777777777777778,
              "#fb9f3a"
             ],
             [
              0.8888888888888888,
              "#fdca26"
             ],
             [
              1,
              "#f0f921"
             ]
            ],
            "type": "histogram2dcontour"
           }
          ],
          "mesh3d": [
           {
            "colorbar": {
             "outlinewidth": 0,
             "ticks": ""
            },
            "type": "mesh3d"
           }
          ],
          "parcoords": [
           {
            "line": {
             "colorbar": {
              "outlinewidth": 0,
              "ticks": ""
             }
            },
            "type": "parcoords"
           }
          ],
          "pie": [
           {
            "automargin": true,
            "type": "pie"
           }
          ],
          "scatter": [
           {
            "marker": {
             "colorbar": {
              "outlinewidth": 0,
              "ticks": ""
             }
            },
            "type": "scatter"
           }
          ],
          "scatter3d": [
           {
            "line": {
             "colorbar": {
              "outlinewidth": 0,
              "ticks": ""
             }
            },
            "marker": {
             "colorbar": {
              "outlinewidth": 0,
              "ticks": ""
             }
            },
            "type": "scatter3d"
           }
          ],
          "scattercarpet": [
           {
            "marker": {
             "colorbar": {
              "outlinewidth": 0,
              "ticks": ""
             }
            },
            "type": "scattercarpet"
           }
          ],
          "scattergeo": [
           {
            "marker": {
             "colorbar": {
              "outlinewidth": 0,
              "ticks": ""
             }
            },
            "type": "scattergeo"
           }
          ],
          "scattergl": [
           {
            "marker": {
             "colorbar": {
              "outlinewidth": 0,
              "ticks": ""
             }
            },
            "type": "scattergl"
           }
          ],
          "scattermapbox": [
           {
            "marker": {
             "colorbar": {
              "outlinewidth": 0,
              "ticks": ""
             }
            },
            "type": "scattermapbox"
           }
          ],
          "scatterpolar": [
           {
            "marker": {
             "colorbar": {
              "outlinewidth": 0,
              "ticks": ""
             }
            },
            "type": "scatterpolar"
           }
          ],
          "scatterpolargl": [
           {
            "marker": {
             "colorbar": {
              "outlinewidth": 0,
              "ticks": ""
             }
            },
            "type": "scatterpolargl"
           }
          ],
          "scatterternary": [
           {
            "marker": {
             "colorbar": {
              "outlinewidth": 0,
              "ticks": ""
             }
            },
            "type": "scatterternary"
           }
          ],
          "surface": [
           {
            "colorbar": {
             "outlinewidth": 0,
             "ticks": ""
            },
            "colorscale": [
             [
              0,
              "#0d0887"
             ],
             [
              0.1111111111111111,
              "#46039f"
             ],
             [
              0.2222222222222222,
              "#7201a8"
             ],
             [
              0.3333333333333333,
              "#9c179e"
             ],
             [
              0.4444444444444444,
              "#bd3786"
             ],
             [
              0.5555555555555556,
              "#d8576b"
             ],
             [
              0.6666666666666666,
              "#ed7953"
             ],
             [
              0.7777777777777778,
              "#fb9f3a"
             ],
             [
              0.8888888888888888,
              "#fdca26"
             ],
             [
              1,
              "#f0f921"
             ]
            ],
            "type": "surface"
           }
          ],
          "table": [
           {
            "cells": {
             "fill": {
              "color": "#EBF0F8"
             },
             "line": {
              "color": "white"
             }
            },
            "header": {
             "fill": {
              "color": "#C8D4E3"
             },
             "line": {
              "color": "white"
             }
            },
            "type": "table"
           }
          ]
         },
         "layout": {
          "annotationdefaults": {
           "arrowcolor": "#2a3f5f",
           "arrowhead": 0,
           "arrowwidth": 1
          },
          "autotypenumbers": "strict",
          "coloraxis": {
           "colorbar": {
            "outlinewidth": 0,
            "ticks": ""
           }
          },
          "colorscale": {
           "diverging": [
            [
             0,
             "#8e0152"
            ],
            [
             0.1,
             "#c51b7d"
            ],
            [
             0.2,
             "#de77ae"
            ],
            [
             0.3,
             "#f1b6da"
            ],
            [
             0.4,
             "#fde0ef"
            ],
            [
             0.5,
             "#f7f7f7"
            ],
            [
             0.6,
             "#e6f5d0"
            ],
            [
             0.7,
             "#b8e186"
            ],
            [
             0.8,
             "#7fbc41"
            ],
            [
             0.9,
             "#4d9221"
            ],
            [
             1,
             "#276419"
            ]
           ],
           "sequential": [
            [
             0,
             "#0d0887"
            ],
            [
             0.1111111111111111,
             "#46039f"
            ],
            [
             0.2222222222222222,
             "#7201a8"
            ],
            [
             0.3333333333333333,
             "#9c179e"
            ],
            [
             0.4444444444444444,
             "#bd3786"
            ],
            [
             0.5555555555555556,
             "#d8576b"
            ],
            [
             0.6666666666666666,
             "#ed7953"
            ],
            [
             0.7777777777777778,
             "#fb9f3a"
            ],
            [
             0.8888888888888888,
             "#fdca26"
            ],
            [
             1,
             "#f0f921"
            ]
           ],
           "sequentialminus": [
            [
             0,
             "#0d0887"
            ],
            [
             0.1111111111111111,
             "#46039f"
            ],
            [
             0.2222222222222222,
             "#7201a8"
            ],
            [
             0.3333333333333333,
             "#9c179e"
            ],
            [
             0.4444444444444444,
             "#bd3786"
            ],
            [
             0.5555555555555556,
             "#d8576b"
            ],
            [
             0.6666666666666666,
             "#ed7953"
            ],
            [
             0.7777777777777778,
             "#fb9f3a"
            ],
            [
             0.8888888888888888,
             "#fdca26"
            ],
            [
             1,
             "#f0f921"
            ]
           ]
          },
          "colorway": [
           "#636efa",
           "#EF553B",
           "#00cc96",
           "#ab63fa",
           "#FFA15A",
           "#19d3f3",
           "#FF6692",
           "#B6E880",
           "#FF97FF",
           "#FECB52"
          ],
          "font": {
           "color": "#2a3f5f"
          },
          "geo": {
           "bgcolor": "white",
           "lakecolor": "white",
           "landcolor": "#E5ECF6",
           "showlakes": true,
           "showland": true,
           "subunitcolor": "white"
          },
          "hoverlabel": {
           "align": "left"
          },
          "hovermode": "closest",
          "mapbox": {
           "style": "light"
          },
          "paper_bgcolor": "white",
          "plot_bgcolor": "#E5ECF6",
          "polar": {
           "angularaxis": {
            "gridcolor": "white",
            "linecolor": "white",
            "ticks": ""
           },
           "bgcolor": "#E5ECF6",
           "radialaxis": {
            "gridcolor": "white",
            "linecolor": "white",
            "ticks": ""
           }
          },
          "scene": {
           "xaxis": {
            "backgroundcolor": "#E5ECF6",
            "gridcolor": "white",
            "gridwidth": 2,
            "linecolor": "white",
            "showbackground": true,
            "ticks": "",
            "zerolinecolor": "white"
           },
           "yaxis": {
            "backgroundcolor": "#E5ECF6",
            "gridcolor": "white",
            "gridwidth": 2,
            "linecolor": "white",
            "showbackground": true,
            "ticks": "",
            "zerolinecolor": "white"
           },
           "zaxis": {
            "backgroundcolor": "#E5ECF6",
            "gridcolor": "white",
            "gridwidth": 2,
            "linecolor": "white",
            "showbackground": true,
            "ticks": "",
            "zerolinecolor": "white"
           }
          },
          "shapedefaults": {
           "line": {
            "color": "#2a3f5f"
           }
          },
          "ternary": {
           "aaxis": {
            "gridcolor": "white",
            "linecolor": "white",
            "ticks": ""
           },
           "baxis": {
            "gridcolor": "white",
            "linecolor": "white",
            "ticks": ""
           },
           "bgcolor": "#E5ECF6",
           "caxis": {
            "gridcolor": "white",
            "linecolor": "white",
            "ticks": ""
           }
          },
          "title": {
           "x": 0.05
          },
          "xaxis": {
           "automargin": true,
           "gridcolor": "white",
           "linecolor": "white",
           "ticks": "",
           "title": {
            "standoff": 15
           },
           "zerolinecolor": "white",
           "zerolinewidth": 2
          },
          "yaxis": {
           "automargin": true,
           "gridcolor": "white",
           "linecolor": "white",
           "ticks": "",
           "title": {
            "standoff": 15
           },
           "zerolinecolor": "white",
           "zerolinewidth": 2
          }
         }
        },
        "xaxis": {
         "anchor": "y",
         "domain": [
          0,
          1
         ],
         "title": {
          "text": "Week-Number"
         }
        },
        "yaxis": {
         "anchor": "x",
         "domain": [
          0,
          1
         ],
         "title": {
          "text": "Messages"
         }
        }
       }
      },
      "text/html": [
       "<div>                            <div id=\"0a362e43-c5d7-4bbf-8c64-6e33677c8ec9\" class=\"plotly-graph-div\" style=\"height:525px; width:100%;\"></div>            <script type=\"text/javascript\">                require([\"plotly\"], function(Plotly) {                    window.PLOTLYENV=window.PLOTLYENV || {};                                    if (document.getElementById(\"0a362e43-c5d7-4bbf-8c64-6e33677c8ec9\")) {                    Plotly.newPlot(                        \"0a362e43-c5d7-4bbf-8c64-6e33677c8ec9\",                        [{\"hovertemplate\":\"Week-Number=%{x}<br>Messages=%{y}<extra></extra>\",\"legendgroup\":\"\",\"line\":{\"color\":\"#636efa\",\"dash\":\"solid\"},\"marker\":{\"symbol\":\"circle\"},\"mode\":\"markers+lines\",\"name\":\"\",\"orientation\":\"v\",\"showlegend\":false,\"x\":[\"33th 2021\",\"34th 2021\",\"35th 2021\",\"36th 2021\",\"37th 2021\",\"38th 2021\",\"39th 2021\",\"40th 2021\",\"41th 2021\",\"42th 2021\",\"43th 2021\",\"45th 2021\",\"47th 2021\",\"48th 2021\"],\"xaxis\":\"x\",\"y\":[416,251,9,450,257,906,23,86,75,29,8,3,12,8],\"yaxis\":\"y\",\"type\":\"scatter\"}],                        {\"template\":{\"data\":{\"bar\":[{\"error_x\":{\"color\":\"#2a3f5f\"},\"error_y\":{\"color\":\"#2a3f5f\"},\"marker\":{\"line\":{\"color\":\"#E5ECF6\",\"width\":0.5},\"pattern\":{\"fillmode\":\"overlay\",\"size\":10,\"solidity\":0.2}},\"type\":\"bar\"}],\"barpolar\":[{\"marker\":{\"line\":{\"color\":\"#E5ECF6\",\"width\":0.5},\"pattern\":{\"fillmode\":\"overlay\",\"size\":10,\"solidity\":0.2}},\"type\":\"barpolar\"}],\"carpet\":[{\"aaxis\":{\"endlinecolor\":\"#2a3f5f\",\"gridcolor\":\"white\",\"linecolor\":\"white\",\"minorgridcolor\":\"white\",\"startlinecolor\":\"#2a3f5f\"},\"baxis\":{\"endlinecolor\":\"#2a3f5f\",\"gridcolor\":\"white\",\"linecolor\":\"white\",\"minorgridcolor\":\"white\",\"startlinecolor\":\"#2a3f5f\"},\"type\":\"carpet\"}],\"choropleth\":[{\"colorbar\":{\"outlinewidth\":0,\"ticks\":\"\"},\"type\":\"choropleth\"}],\"contour\":[{\"colorbar\":{\"outlinewidth\":0,\"ticks\":\"\"},\"colorscale\":[[0.0,\"#0d0887\"],[0.1111111111111111,\"#46039f\"],[0.2222222222222222,\"#7201a8\"],[0.3333333333333333,\"#9c179e\"],[0.4444444444444444,\"#bd3786\"],[0.5555555555555556,\"#d8576b\"],[0.6666666666666666,\"#ed7953\"],[0.7777777777777778,\"#fb9f3a\"],[0.8888888888888888,\"#fdca26\"],[1.0,\"#f0f921\"]],\"type\":\"contour\"}],\"contourcarpet\":[{\"colorbar\":{\"outlinewidth\":0,\"ticks\":\"\"},\"type\":\"contourcarpet\"}],\"heatmap\":[{\"colorbar\":{\"outlinewidth\":0,\"ticks\":\"\"},\"colorscale\":[[0.0,\"#0d0887\"],[0.1111111111111111,\"#46039f\"],[0.2222222222222222,\"#7201a8\"],[0.3333333333333333,\"#9c179e\"],[0.4444444444444444,\"#bd3786\"],[0.5555555555555556,\"#d8576b\"],[0.6666666666666666,\"#ed7953\"],[0.7777777777777778,\"#fb9f3a\"],[0.8888888888888888,\"#fdca26\"],[1.0,\"#f0f921\"]],\"type\":\"heatmap\"}],\"heatmapgl\":[{\"colorbar\":{\"outlinewidth\":0,\"ticks\":\"\"},\"colorscale\":[[0.0,\"#0d0887\"],[0.1111111111111111,\"#46039f\"],[0.2222222222222222,\"#7201a8\"],[0.3333333333333333,\"#9c179e\"],[0.4444444444444444,\"#bd3786\"],[0.5555555555555556,\"#d8576b\"],[0.6666666666666666,\"#ed7953\"],[0.7777777777777778,\"#fb9f3a\"],[0.8888888888888888,\"#fdca26\"],[1.0,\"#f0f921\"]],\"type\":\"heatmapgl\"}],\"histogram\":[{\"marker\":{\"pattern\":{\"fillmode\":\"overlay\",\"size\":10,\"solidity\":0.2}},\"type\":\"histogram\"}],\"histogram2d\":[{\"colorbar\":{\"outlinewidth\":0,\"ticks\":\"\"},\"colorscale\":[[0.0,\"#0d0887\"],[0.1111111111111111,\"#46039f\"],[0.2222222222222222,\"#7201a8\"],[0.3333333333333333,\"#9c179e\"],[0.4444444444444444,\"#bd3786\"],[0.5555555555555556,\"#d8576b\"],[0.6666666666666666,\"#ed7953\"],[0.7777777777777778,\"#fb9f3a\"],[0.8888888888888888,\"#fdca26\"],[1.0,\"#f0f921\"]],\"type\":\"histogram2d\"}],\"histogram2dcontour\":[{\"colorbar\":{\"outlinewidth\":0,\"ticks\":\"\"},\"colorscale\":[[0.0,\"#0d0887\"],[0.1111111111111111,\"#46039f\"],[0.2222222222222222,\"#7201a8\"],[0.3333333333333333,\"#9c179e\"],[0.4444444444444444,\"#bd3786\"],[0.5555555555555556,\"#d8576b\"],[0.6666666666666666,\"#ed7953\"],[0.7777777777777778,\"#fb9f3a\"],[0.8888888888888888,\"#fdca26\"],[1.0,\"#f0f921\"]],\"type\":\"histogram2dcontour\"}],\"mesh3d\":[{\"colorbar\":{\"outlinewidth\":0,\"ticks\":\"\"},\"type\":\"mesh3d\"}],\"parcoords\":[{\"line\":{\"colorbar\":{\"outlinewidth\":0,\"ticks\":\"\"}},\"type\":\"parcoords\"}],\"pie\":[{\"automargin\":true,\"type\":\"pie\"}],\"scatter\":[{\"marker\":{\"colorbar\":{\"outlinewidth\":0,\"ticks\":\"\"}},\"type\":\"scatter\"}],\"scatter3d\":[{\"line\":{\"colorbar\":{\"outlinewidth\":0,\"ticks\":\"\"}},\"marker\":{\"colorbar\":{\"outlinewidth\":0,\"ticks\":\"\"}},\"type\":\"scatter3d\"}],\"scattercarpet\":[{\"marker\":{\"colorbar\":{\"outlinewidth\":0,\"ticks\":\"\"}},\"type\":\"scattercarpet\"}],\"scattergeo\":[{\"marker\":{\"colorbar\":{\"outlinewidth\":0,\"ticks\":\"\"}},\"type\":\"scattergeo\"}],\"scattergl\":[{\"marker\":{\"colorbar\":{\"outlinewidth\":0,\"ticks\":\"\"}},\"type\":\"scattergl\"}],\"scattermapbox\":[{\"marker\":{\"colorbar\":{\"outlinewidth\":0,\"ticks\":\"\"}},\"type\":\"scattermapbox\"}],\"scatterpolar\":[{\"marker\":{\"colorbar\":{\"outlinewidth\":0,\"ticks\":\"\"}},\"type\":\"scatterpolar\"}],\"scatterpolargl\":[{\"marker\":{\"colorbar\":{\"outlinewidth\":0,\"ticks\":\"\"}},\"type\":\"scatterpolargl\"}],\"scatterternary\":[{\"marker\":{\"colorbar\":{\"outlinewidth\":0,\"ticks\":\"\"}},\"type\":\"scatterternary\"}],\"surface\":[{\"colorbar\":{\"outlinewidth\":0,\"ticks\":\"\"},\"colorscale\":[[0.0,\"#0d0887\"],[0.1111111111111111,\"#46039f\"],[0.2222222222222222,\"#7201a8\"],[0.3333333333333333,\"#9c179e\"],[0.4444444444444444,\"#bd3786\"],[0.5555555555555556,\"#d8576b\"],[0.6666666666666666,\"#ed7953\"],[0.7777777777777778,\"#fb9f3a\"],[0.8888888888888888,\"#fdca26\"],[1.0,\"#f0f921\"]],\"type\":\"surface\"}],\"table\":[{\"cells\":{\"fill\":{\"color\":\"#EBF0F8\"},\"line\":{\"color\":\"white\"}},\"header\":{\"fill\":{\"color\":\"#C8D4E3\"},\"line\":{\"color\":\"white\"}},\"type\":\"table\"}]},\"layout\":{\"annotationdefaults\":{\"arrowcolor\":\"#2a3f5f\",\"arrowhead\":0,\"arrowwidth\":1},\"autotypenumbers\":\"strict\",\"coloraxis\":{\"colorbar\":{\"outlinewidth\":0,\"ticks\":\"\"}},\"colorscale\":{\"diverging\":[[0,\"#8e0152\"],[0.1,\"#c51b7d\"],[0.2,\"#de77ae\"],[0.3,\"#f1b6da\"],[0.4,\"#fde0ef\"],[0.5,\"#f7f7f7\"],[0.6,\"#e6f5d0\"],[0.7,\"#b8e186\"],[0.8,\"#7fbc41\"],[0.9,\"#4d9221\"],[1,\"#276419\"]],\"sequential\":[[0.0,\"#0d0887\"],[0.1111111111111111,\"#46039f\"],[0.2222222222222222,\"#7201a8\"],[0.3333333333333333,\"#9c179e\"],[0.4444444444444444,\"#bd3786\"],[0.5555555555555556,\"#d8576b\"],[0.6666666666666666,\"#ed7953\"],[0.7777777777777778,\"#fb9f3a\"],[0.8888888888888888,\"#fdca26\"],[1.0,\"#f0f921\"]],\"sequentialminus\":[[0.0,\"#0d0887\"],[0.1111111111111111,\"#46039f\"],[0.2222222222222222,\"#7201a8\"],[0.3333333333333333,\"#9c179e\"],[0.4444444444444444,\"#bd3786\"],[0.5555555555555556,\"#d8576b\"],[0.6666666666666666,\"#ed7953\"],[0.7777777777777778,\"#fb9f3a\"],[0.8888888888888888,\"#fdca26\"],[1.0,\"#f0f921\"]]},\"colorway\":[\"#636efa\",\"#EF553B\",\"#00cc96\",\"#ab63fa\",\"#FFA15A\",\"#19d3f3\",\"#FF6692\",\"#B6E880\",\"#FF97FF\",\"#FECB52\"],\"font\":{\"color\":\"#2a3f5f\"},\"geo\":{\"bgcolor\":\"white\",\"lakecolor\":\"white\",\"landcolor\":\"#E5ECF6\",\"showlakes\":true,\"showland\":true,\"subunitcolor\":\"white\"},\"hoverlabel\":{\"align\":\"left\"},\"hovermode\":\"closest\",\"mapbox\":{\"style\":\"light\"},\"paper_bgcolor\":\"white\",\"plot_bgcolor\":\"#E5ECF6\",\"polar\":{\"angularaxis\":{\"gridcolor\":\"white\",\"linecolor\":\"white\",\"ticks\":\"\"},\"bgcolor\":\"#E5ECF6\",\"radialaxis\":{\"gridcolor\":\"white\",\"linecolor\":\"white\",\"ticks\":\"\"}},\"scene\":{\"xaxis\":{\"backgroundcolor\":\"#E5ECF6\",\"gridcolor\":\"white\",\"gridwidth\":2,\"linecolor\":\"white\",\"showbackground\":true,\"ticks\":\"\",\"zerolinecolor\":\"white\"},\"yaxis\":{\"backgroundcolor\":\"#E5ECF6\",\"gridcolor\":\"white\",\"gridwidth\":2,\"linecolor\":\"white\",\"showbackground\":true,\"ticks\":\"\",\"zerolinecolor\":\"white\"},\"zaxis\":{\"backgroundcolor\":\"#E5ECF6\",\"gridcolor\":\"white\",\"gridwidth\":2,\"linecolor\":\"white\",\"showbackground\":true,\"ticks\":\"\",\"zerolinecolor\":\"white\"}},\"shapedefaults\":{\"line\":{\"color\":\"#2a3f5f\"}},\"ternary\":{\"aaxis\":{\"gridcolor\":\"white\",\"linecolor\":\"white\",\"ticks\":\"\"},\"baxis\":{\"gridcolor\":\"white\",\"linecolor\":\"white\",\"ticks\":\"\"},\"bgcolor\":\"#E5ECF6\",\"caxis\":{\"gridcolor\":\"white\",\"linecolor\":\"white\",\"ticks\":\"\"}},\"title\":{\"x\":0.05},\"xaxis\":{\"automargin\":true,\"gridcolor\":\"white\",\"linecolor\":\"white\",\"ticks\":\"\",\"title\":{\"standoff\":15},\"zerolinecolor\":\"white\",\"zerolinewidth\":2},\"yaxis\":{\"automargin\":true,\"gridcolor\":\"white\",\"linecolor\":\"white\",\"ticks\":\"\",\"title\":{\"standoff\":15},\"zerolinecolor\":\"white\",\"zerolinewidth\":2}}},\"xaxis\":{\"anchor\":\"y\",\"domain\":[0.0,1.0],\"title\":{\"text\":\"Week-Number\"}},\"yaxis\":{\"anchor\":\"x\",\"domain\":[0.0,1.0],\"title\":{\"text\":\"Messages\"}},\"legend\":{\"tracegroupgap\":0},\"margin\":{\"t\":60}},                        {\"responsive\": true}                    ).then(function(){\n",
       "                            \n",
       "var gd = document.getElementById('0a362e43-c5d7-4bbf-8c64-6e33677c8ec9');\n",
       "var x = new MutationObserver(function (mutations, observer) {{\n",
       "        var display = window.getComputedStyle(gd).display;\n",
       "        if (!display || display === 'none') {{\n",
       "            console.log([gd, 'removed!']);\n",
       "            Plotly.purge(gd);\n",
       "            observer.disconnect();\n",
       "        }}\n",
       "}});\n",
       "\n",
       "// Listen for the removal of the full notebook cells\n",
       "var notebookContainer = gd.closest('#notebook-container');\n",
       "if (notebookContainer) {{\n",
       "    x.observe(notebookContainer, {childList: true});\n",
       "}}\n",
       "\n",
       "// Listen for the clearing of the current output cell\n",
       "var outputEl = gd.closest('.output');\n",
       "if (outputEl) {{\n",
       "    x.observe(outputEl, {childList: true});\n",
       "}}\n",
       "\n",
       "                        })                };                });            </script>        </div>"
      ]
     },
     "metadata": {},
     "output_type": "display_data"
    }
   ],
   "source": [
    "weekly_timeline=df.groupby(['Week','Year']).count().Messages.reset_index()\n",
    "WeekTimeline=[]\n",
    "for i in range (len(weekly_timeline)):\n",
    "    WeekTimeline.append(str(weekly_timeline['Week'][i])+\"th \"+str(weekly_timeline['Year'][i]))\n",
    "weekly_timeline['Week-Number']=WeekTimeline\n",
    "fig = px.line(weekly_timeline, x='Week-Number', y=\"Messages\",markers=True)\n",
    "fig.show()"
   ]
  },
  {
   "cell_type": "code",
   "execution_count": 252,
   "id": "653c7639",
   "metadata": {},
   "outputs": [
    {
     "data": {
      "application/vnd.plotly.v1+json": {
       "config": {
        "displayModeBar": true,
        "orientation": "v",
        "plotlyServerURL": "https://plot.ly"
       },
       "data": [
        {
         "hovertemplate": "Week-Number=%{x}<br>Messages=%{y}<extra></extra>",
         "legendgroup": "",
         "line": {
          "color": "#636efa",
          "dash": "solid"
         },
         "marker": {
          "symbol": "circle"
         },
         "mode": "markers+lines",
         "name": "",
         "orientation": "v",
         "showlegend": false,
         "type": "scatter",
         "x": [
          "33th 2021",
          "34th 2021",
          "35th 2021",
          "36th 2021",
          "37th 2021",
          "38th 2021",
          "39th 2021",
          "40th 2021",
          "41th 2021",
          "42th 2021",
          "43th 2021",
          "45th 2021",
          "47th 2021",
          "48th 2021"
         ],
         "xaxis": "x",
         "y": [
          416,
          251,
          9,
          450,
          257,
          906,
          23,
          86,
          75,
          29,
          8,
          3,
          12,
          8
         ],
         "yaxis": "y"
        }
       ],
       "layout": {
        "legend": {
         "tracegroupgap": 0
        },
        "margin": {
         "t": 60
        },
        "template": {
         "data": {
          "bar": [
           {
            "error_x": {
             "color": "#2a3f5f"
            },
            "error_y": {
             "color": "#2a3f5f"
            },
            "marker": {
             "line": {
              "color": "#E5ECF6",
              "width": 0.5
             },
             "pattern": {
              "fillmode": "overlay",
              "size": 10,
              "solidity": 0.2
             }
            },
            "type": "bar"
           }
          ],
          "barpolar": [
           {
            "marker": {
             "line": {
              "color": "#E5ECF6",
              "width": 0.5
             },
             "pattern": {
              "fillmode": "overlay",
              "size": 10,
              "solidity": 0.2
             }
            },
            "type": "barpolar"
           }
          ],
          "carpet": [
           {
            "aaxis": {
             "endlinecolor": "#2a3f5f",
             "gridcolor": "white",
             "linecolor": "white",
             "minorgridcolor": "white",
             "startlinecolor": "#2a3f5f"
            },
            "baxis": {
             "endlinecolor": "#2a3f5f",
             "gridcolor": "white",
             "linecolor": "white",
             "minorgridcolor": "white",
             "startlinecolor": "#2a3f5f"
            },
            "type": "carpet"
           }
          ],
          "choropleth": [
           {
            "colorbar": {
             "outlinewidth": 0,
             "ticks": ""
            },
            "type": "choropleth"
           }
          ],
          "contour": [
           {
            "colorbar": {
             "outlinewidth": 0,
             "ticks": ""
            },
            "colorscale": [
             [
              0,
              "#0d0887"
             ],
             [
              0.1111111111111111,
              "#46039f"
             ],
             [
              0.2222222222222222,
              "#7201a8"
             ],
             [
              0.3333333333333333,
              "#9c179e"
             ],
             [
              0.4444444444444444,
              "#bd3786"
             ],
             [
              0.5555555555555556,
              "#d8576b"
             ],
             [
              0.6666666666666666,
              "#ed7953"
             ],
             [
              0.7777777777777778,
              "#fb9f3a"
             ],
             [
              0.8888888888888888,
              "#fdca26"
             ],
             [
              1,
              "#f0f921"
             ]
            ],
            "type": "contour"
           }
          ],
          "contourcarpet": [
           {
            "colorbar": {
             "outlinewidth": 0,
             "ticks": ""
            },
            "type": "contourcarpet"
           }
          ],
          "heatmap": [
           {
            "colorbar": {
             "outlinewidth": 0,
             "ticks": ""
            },
            "colorscale": [
             [
              0,
              "#0d0887"
             ],
             [
              0.1111111111111111,
              "#46039f"
             ],
             [
              0.2222222222222222,
              "#7201a8"
             ],
             [
              0.3333333333333333,
              "#9c179e"
             ],
             [
              0.4444444444444444,
              "#bd3786"
             ],
             [
              0.5555555555555556,
              "#d8576b"
             ],
             [
              0.6666666666666666,
              "#ed7953"
             ],
             [
              0.7777777777777778,
              "#fb9f3a"
             ],
             [
              0.8888888888888888,
              "#fdca26"
             ],
             [
              1,
              "#f0f921"
             ]
            ],
            "type": "heatmap"
           }
          ],
          "heatmapgl": [
           {
            "colorbar": {
             "outlinewidth": 0,
             "ticks": ""
            },
            "colorscale": [
             [
              0,
              "#0d0887"
             ],
             [
              0.1111111111111111,
              "#46039f"
             ],
             [
              0.2222222222222222,
              "#7201a8"
             ],
             [
              0.3333333333333333,
              "#9c179e"
             ],
             [
              0.4444444444444444,
              "#bd3786"
             ],
             [
              0.5555555555555556,
              "#d8576b"
             ],
             [
              0.6666666666666666,
              "#ed7953"
             ],
             [
              0.7777777777777778,
              "#fb9f3a"
             ],
             [
              0.8888888888888888,
              "#fdca26"
             ],
             [
              1,
              "#f0f921"
             ]
            ],
            "type": "heatmapgl"
           }
          ],
          "histogram": [
           {
            "marker": {
             "pattern": {
              "fillmode": "overlay",
              "size": 10,
              "solidity": 0.2
             }
            },
            "type": "histogram"
           }
          ],
          "histogram2d": [
           {
            "colorbar": {
             "outlinewidth": 0,
             "ticks": ""
            },
            "colorscale": [
             [
              0,
              "#0d0887"
             ],
             [
              0.1111111111111111,
              "#46039f"
             ],
             [
              0.2222222222222222,
              "#7201a8"
             ],
             [
              0.3333333333333333,
              "#9c179e"
             ],
             [
              0.4444444444444444,
              "#bd3786"
             ],
             [
              0.5555555555555556,
              "#d8576b"
             ],
             [
              0.6666666666666666,
              "#ed7953"
             ],
             [
              0.7777777777777778,
              "#fb9f3a"
             ],
             [
              0.8888888888888888,
              "#fdca26"
             ],
             [
              1,
              "#f0f921"
             ]
            ],
            "type": "histogram2d"
           }
          ],
          "histogram2dcontour": [
           {
            "colorbar": {
             "outlinewidth": 0,
             "ticks": ""
            },
            "colorscale": [
             [
              0,
              "#0d0887"
             ],
             [
              0.1111111111111111,
              "#46039f"
             ],
             [
              0.2222222222222222,
              "#7201a8"
             ],
             [
              0.3333333333333333,
              "#9c179e"
             ],
             [
              0.4444444444444444,
              "#bd3786"
             ],
             [
              0.5555555555555556,
              "#d8576b"
             ],
             [
              0.6666666666666666,
              "#ed7953"
             ],
             [
              0.7777777777777778,
              "#fb9f3a"
             ],
             [
              0.8888888888888888,
              "#fdca26"
             ],
             [
              1,
              "#f0f921"
             ]
            ],
            "type": "histogram2dcontour"
           }
          ],
          "mesh3d": [
           {
            "colorbar": {
             "outlinewidth": 0,
             "ticks": ""
            },
            "type": "mesh3d"
           }
          ],
          "parcoords": [
           {
            "line": {
             "colorbar": {
              "outlinewidth": 0,
              "ticks": ""
             }
            },
            "type": "parcoords"
           }
          ],
          "pie": [
           {
            "automargin": true,
            "type": "pie"
           }
          ],
          "scatter": [
           {
            "marker": {
             "colorbar": {
              "outlinewidth": 0,
              "ticks": ""
             }
            },
            "type": "scatter"
           }
          ],
          "scatter3d": [
           {
            "line": {
             "colorbar": {
              "outlinewidth": 0,
              "ticks": ""
             }
            },
            "marker": {
             "colorbar": {
              "outlinewidth": 0,
              "ticks": ""
             }
            },
            "type": "scatter3d"
           }
          ],
          "scattercarpet": [
           {
            "marker": {
             "colorbar": {
              "outlinewidth": 0,
              "ticks": ""
             }
            },
            "type": "scattercarpet"
           }
          ],
          "scattergeo": [
           {
            "marker": {
             "colorbar": {
              "outlinewidth": 0,
              "ticks": ""
             }
            },
            "type": "scattergeo"
           }
          ],
          "scattergl": [
           {
            "marker": {
             "colorbar": {
              "outlinewidth": 0,
              "ticks": ""
             }
            },
            "type": "scattergl"
           }
          ],
          "scattermapbox": [
           {
            "marker": {
             "colorbar": {
              "outlinewidth": 0,
              "ticks": ""
             }
            },
            "type": "scattermapbox"
           }
          ],
          "scatterpolar": [
           {
            "marker": {
             "colorbar": {
              "outlinewidth": 0,
              "ticks": ""
             }
            },
            "type": "scatterpolar"
           }
          ],
          "scatterpolargl": [
           {
            "marker": {
             "colorbar": {
              "outlinewidth": 0,
              "ticks": ""
             }
            },
            "type": "scatterpolargl"
           }
          ],
          "scatterternary": [
           {
            "marker": {
             "colorbar": {
              "outlinewidth": 0,
              "ticks": ""
             }
            },
            "type": "scatterternary"
           }
          ],
          "surface": [
           {
            "colorbar": {
             "outlinewidth": 0,
             "ticks": ""
            },
            "colorscale": [
             [
              0,
              "#0d0887"
             ],
             [
              0.1111111111111111,
              "#46039f"
             ],
             [
              0.2222222222222222,
              "#7201a8"
             ],
             [
              0.3333333333333333,
              "#9c179e"
             ],
             [
              0.4444444444444444,
              "#bd3786"
             ],
             [
              0.5555555555555556,
              "#d8576b"
             ],
             [
              0.6666666666666666,
              "#ed7953"
             ],
             [
              0.7777777777777778,
              "#fb9f3a"
             ],
             [
              0.8888888888888888,
              "#fdca26"
             ],
             [
              1,
              "#f0f921"
             ]
            ],
            "type": "surface"
           }
          ],
          "table": [
           {
            "cells": {
             "fill": {
              "color": "#EBF0F8"
             },
             "line": {
              "color": "white"
             }
            },
            "header": {
             "fill": {
              "color": "#C8D4E3"
             },
             "line": {
              "color": "white"
             }
            },
            "type": "table"
           }
          ]
         },
         "layout": {
          "annotationdefaults": {
           "arrowcolor": "#2a3f5f",
           "arrowhead": 0,
           "arrowwidth": 1
          },
          "autotypenumbers": "strict",
          "coloraxis": {
           "colorbar": {
            "outlinewidth": 0,
            "ticks": ""
           }
          },
          "colorscale": {
           "diverging": [
            [
             0,
             "#8e0152"
            ],
            [
             0.1,
             "#c51b7d"
            ],
            [
             0.2,
             "#de77ae"
            ],
            [
             0.3,
             "#f1b6da"
            ],
            [
             0.4,
             "#fde0ef"
            ],
            [
             0.5,
             "#f7f7f7"
            ],
            [
             0.6,
             "#e6f5d0"
            ],
            [
             0.7,
             "#b8e186"
            ],
            [
             0.8,
             "#7fbc41"
            ],
            [
             0.9,
             "#4d9221"
            ],
            [
             1,
             "#276419"
            ]
           ],
           "sequential": [
            [
             0,
             "#0d0887"
            ],
            [
             0.1111111111111111,
             "#46039f"
            ],
            [
             0.2222222222222222,
             "#7201a8"
            ],
            [
             0.3333333333333333,
             "#9c179e"
            ],
            [
             0.4444444444444444,
             "#bd3786"
            ],
            [
             0.5555555555555556,
             "#d8576b"
            ],
            [
             0.6666666666666666,
             "#ed7953"
            ],
            [
             0.7777777777777778,
             "#fb9f3a"
            ],
            [
             0.8888888888888888,
             "#fdca26"
            ],
            [
             1,
             "#f0f921"
            ]
           ],
           "sequentialminus": [
            [
             0,
             "#0d0887"
            ],
            [
             0.1111111111111111,
             "#46039f"
            ],
            [
             0.2222222222222222,
             "#7201a8"
            ],
            [
             0.3333333333333333,
             "#9c179e"
            ],
            [
             0.4444444444444444,
             "#bd3786"
            ],
            [
             0.5555555555555556,
             "#d8576b"
            ],
            [
             0.6666666666666666,
             "#ed7953"
            ],
            [
             0.7777777777777778,
             "#fb9f3a"
            ],
            [
             0.8888888888888888,
             "#fdca26"
            ],
            [
             1,
             "#f0f921"
            ]
           ]
          },
          "colorway": [
           "#636efa",
           "#EF553B",
           "#00cc96",
           "#ab63fa",
           "#FFA15A",
           "#19d3f3",
           "#FF6692",
           "#B6E880",
           "#FF97FF",
           "#FECB52"
          ],
          "font": {
           "color": "#2a3f5f"
          },
          "geo": {
           "bgcolor": "white",
           "lakecolor": "white",
           "landcolor": "#E5ECF6",
           "showlakes": true,
           "showland": true,
           "subunitcolor": "white"
          },
          "hoverlabel": {
           "align": "left"
          },
          "hovermode": "closest",
          "mapbox": {
           "style": "light"
          },
          "paper_bgcolor": "white",
          "plot_bgcolor": "#E5ECF6",
          "polar": {
           "angularaxis": {
            "gridcolor": "white",
            "linecolor": "white",
            "ticks": ""
           },
           "bgcolor": "#E5ECF6",
           "radialaxis": {
            "gridcolor": "white",
            "linecolor": "white",
            "ticks": ""
           }
          },
          "scene": {
           "xaxis": {
            "backgroundcolor": "#E5ECF6",
            "gridcolor": "white",
            "gridwidth": 2,
            "linecolor": "white",
            "showbackground": true,
            "ticks": "",
            "zerolinecolor": "white"
           },
           "yaxis": {
            "backgroundcolor": "#E5ECF6",
            "gridcolor": "white",
            "gridwidth": 2,
            "linecolor": "white",
            "showbackground": true,
            "ticks": "",
            "zerolinecolor": "white"
           },
           "zaxis": {
            "backgroundcolor": "#E5ECF6",
            "gridcolor": "white",
            "gridwidth": 2,
            "linecolor": "white",
            "showbackground": true,
            "ticks": "",
            "zerolinecolor": "white"
           }
          },
          "shapedefaults": {
           "line": {
            "color": "#2a3f5f"
           }
          },
          "ternary": {
           "aaxis": {
            "gridcolor": "white",
            "linecolor": "white",
            "ticks": ""
           },
           "baxis": {
            "gridcolor": "white",
            "linecolor": "white",
            "ticks": ""
           },
           "bgcolor": "#E5ECF6",
           "caxis": {
            "gridcolor": "white",
            "linecolor": "white",
            "ticks": ""
           }
          },
          "title": {
           "x": 0.05
          },
          "xaxis": {
           "automargin": true,
           "gridcolor": "white",
           "linecolor": "white",
           "ticks": "",
           "title": {
            "standoff": 15
           },
           "zerolinecolor": "white",
           "zerolinewidth": 2
          },
          "yaxis": {
           "automargin": true,
           "gridcolor": "white",
           "linecolor": "white",
           "ticks": "",
           "title": {
            "standoff": 15
           },
           "zerolinecolor": "white",
           "zerolinewidth": 2
          }
         }
        },
        "xaxis": {
         "anchor": "y",
         "domain": [
          0,
          1
         ],
         "title": {
          "text": "Week-Number"
         }
        },
        "yaxis": {
         "anchor": "x",
         "domain": [
          0,
          1
         ],
         "title": {
          "text": "Messages"
         }
        }
       }
      },
      "text/html": [
       "<div>                            <div id=\"f0ce81bb-df9f-4410-9ea2-0dbb55479dac\" class=\"plotly-graph-div\" style=\"height:525px; width:100%;\"></div>            <script type=\"text/javascript\">                require([\"plotly\"], function(Plotly) {                    window.PLOTLYENV=window.PLOTLYENV || {};                                    if (document.getElementById(\"f0ce81bb-df9f-4410-9ea2-0dbb55479dac\")) {                    Plotly.newPlot(                        \"f0ce81bb-df9f-4410-9ea2-0dbb55479dac\",                        [{\"hovertemplate\":\"Week-Number=%{x}<br>Messages=%{y}<extra></extra>\",\"legendgroup\":\"\",\"line\":{\"color\":\"#636efa\",\"dash\":\"solid\"},\"marker\":{\"symbol\":\"circle\"},\"mode\":\"markers+lines\",\"name\":\"\",\"orientation\":\"v\",\"showlegend\":false,\"x\":[\"33th 2021\",\"34th 2021\",\"35th 2021\",\"36th 2021\",\"37th 2021\",\"38th 2021\",\"39th 2021\",\"40th 2021\",\"41th 2021\",\"42th 2021\",\"43th 2021\",\"45th 2021\",\"47th 2021\",\"48th 2021\"],\"xaxis\":\"x\",\"y\":[416,251,9,450,257,906,23,86,75,29,8,3,12,8],\"yaxis\":\"y\",\"type\":\"scatter\"}],                        {\"template\":{\"data\":{\"bar\":[{\"error_x\":{\"color\":\"#2a3f5f\"},\"error_y\":{\"color\":\"#2a3f5f\"},\"marker\":{\"line\":{\"color\":\"#E5ECF6\",\"width\":0.5},\"pattern\":{\"fillmode\":\"overlay\",\"size\":10,\"solidity\":0.2}},\"type\":\"bar\"}],\"barpolar\":[{\"marker\":{\"line\":{\"color\":\"#E5ECF6\",\"width\":0.5},\"pattern\":{\"fillmode\":\"overlay\",\"size\":10,\"solidity\":0.2}},\"type\":\"barpolar\"}],\"carpet\":[{\"aaxis\":{\"endlinecolor\":\"#2a3f5f\",\"gridcolor\":\"white\",\"linecolor\":\"white\",\"minorgridcolor\":\"white\",\"startlinecolor\":\"#2a3f5f\"},\"baxis\":{\"endlinecolor\":\"#2a3f5f\",\"gridcolor\":\"white\",\"linecolor\":\"white\",\"minorgridcolor\":\"white\",\"startlinecolor\":\"#2a3f5f\"},\"type\":\"carpet\"}],\"choropleth\":[{\"colorbar\":{\"outlinewidth\":0,\"ticks\":\"\"},\"type\":\"choropleth\"}],\"contour\":[{\"colorbar\":{\"outlinewidth\":0,\"ticks\":\"\"},\"colorscale\":[[0.0,\"#0d0887\"],[0.1111111111111111,\"#46039f\"],[0.2222222222222222,\"#7201a8\"],[0.3333333333333333,\"#9c179e\"],[0.4444444444444444,\"#bd3786\"],[0.5555555555555556,\"#d8576b\"],[0.6666666666666666,\"#ed7953\"],[0.7777777777777778,\"#fb9f3a\"],[0.8888888888888888,\"#fdca26\"],[1.0,\"#f0f921\"]],\"type\":\"contour\"}],\"contourcarpet\":[{\"colorbar\":{\"outlinewidth\":0,\"ticks\":\"\"},\"type\":\"contourcarpet\"}],\"heatmap\":[{\"colorbar\":{\"outlinewidth\":0,\"ticks\":\"\"},\"colorscale\":[[0.0,\"#0d0887\"],[0.1111111111111111,\"#46039f\"],[0.2222222222222222,\"#7201a8\"],[0.3333333333333333,\"#9c179e\"],[0.4444444444444444,\"#bd3786\"],[0.5555555555555556,\"#d8576b\"],[0.6666666666666666,\"#ed7953\"],[0.7777777777777778,\"#fb9f3a\"],[0.8888888888888888,\"#fdca26\"],[1.0,\"#f0f921\"]],\"type\":\"heatmap\"}],\"heatmapgl\":[{\"colorbar\":{\"outlinewidth\":0,\"ticks\":\"\"},\"colorscale\":[[0.0,\"#0d0887\"],[0.1111111111111111,\"#46039f\"],[0.2222222222222222,\"#7201a8\"],[0.3333333333333333,\"#9c179e\"],[0.4444444444444444,\"#bd3786\"],[0.5555555555555556,\"#d8576b\"],[0.6666666666666666,\"#ed7953\"],[0.7777777777777778,\"#fb9f3a\"],[0.8888888888888888,\"#fdca26\"],[1.0,\"#f0f921\"]],\"type\":\"heatmapgl\"}],\"histogram\":[{\"marker\":{\"pattern\":{\"fillmode\":\"overlay\",\"size\":10,\"solidity\":0.2}},\"type\":\"histogram\"}],\"histogram2d\":[{\"colorbar\":{\"outlinewidth\":0,\"ticks\":\"\"},\"colorscale\":[[0.0,\"#0d0887\"],[0.1111111111111111,\"#46039f\"],[0.2222222222222222,\"#7201a8\"],[0.3333333333333333,\"#9c179e\"],[0.4444444444444444,\"#bd3786\"],[0.5555555555555556,\"#d8576b\"],[0.6666666666666666,\"#ed7953\"],[0.7777777777777778,\"#fb9f3a\"],[0.8888888888888888,\"#fdca26\"],[1.0,\"#f0f921\"]],\"type\":\"histogram2d\"}],\"histogram2dcontour\":[{\"colorbar\":{\"outlinewidth\":0,\"ticks\":\"\"},\"colorscale\":[[0.0,\"#0d0887\"],[0.1111111111111111,\"#46039f\"],[0.2222222222222222,\"#7201a8\"],[0.3333333333333333,\"#9c179e\"],[0.4444444444444444,\"#bd3786\"],[0.5555555555555556,\"#d8576b\"],[0.6666666666666666,\"#ed7953\"],[0.7777777777777778,\"#fb9f3a\"],[0.8888888888888888,\"#fdca26\"],[1.0,\"#f0f921\"]],\"type\":\"histogram2dcontour\"}],\"mesh3d\":[{\"colorbar\":{\"outlinewidth\":0,\"ticks\":\"\"},\"type\":\"mesh3d\"}],\"parcoords\":[{\"line\":{\"colorbar\":{\"outlinewidth\":0,\"ticks\":\"\"}},\"type\":\"parcoords\"}],\"pie\":[{\"automargin\":true,\"type\":\"pie\"}],\"scatter\":[{\"marker\":{\"colorbar\":{\"outlinewidth\":0,\"ticks\":\"\"}},\"type\":\"scatter\"}],\"scatter3d\":[{\"line\":{\"colorbar\":{\"outlinewidth\":0,\"ticks\":\"\"}},\"marker\":{\"colorbar\":{\"outlinewidth\":0,\"ticks\":\"\"}},\"type\":\"scatter3d\"}],\"scattercarpet\":[{\"marker\":{\"colorbar\":{\"outlinewidth\":0,\"ticks\":\"\"}},\"type\":\"scattercarpet\"}],\"scattergeo\":[{\"marker\":{\"colorbar\":{\"outlinewidth\":0,\"ticks\":\"\"}},\"type\":\"scattergeo\"}],\"scattergl\":[{\"marker\":{\"colorbar\":{\"outlinewidth\":0,\"ticks\":\"\"}},\"type\":\"scattergl\"}],\"scattermapbox\":[{\"marker\":{\"colorbar\":{\"outlinewidth\":0,\"ticks\":\"\"}},\"type\":\"scattermapbox\"}],\"scatterpolar\":[{\"marker\":{\"colorbar\":{\"outlinewidth\":0,\"ticks\":\"\"}},\"type\":\"scatterpolar\"}],\"scatterpolargl\":[{\"marker\":{\"colorbar\":{\"outlinewidth\":0,\"ticks\":\"\"}},\"type\":\"scatterpolargl\"}],\"scatterternary\":[{\"marker\":{\"colorbar\":{\"outlinewidth\":0,\"ticks\":\"\"}},\"type\":\"scatterternary\"}],\"surface\":[{\"colorbar\":{\"outlinewidth\":0,\"ticks\":\"\"},\"colorscale\":[[0.0,\"#0d0887\"],[0.1111111111111111,\"#46039f\"],[0.2222222222222222,\"#7201a8\"],[0.3333333333333333,\"#9c179e\"],[0.4444444444444444,\"#bd3786\"],[0.5555555555555556,\"#d8576b\"],[0.6666666666666666,\"#ed7953\"],[0.7777777777777778,\"#fb9f3a\"],[0.8888888888888888,\"#fdca26\"],[1.0,\"#f0f921\"]],\"type\":\"surface\"}],\"table\":[{\"cells\":{\"fill\":{\"color\":\"#EBF0F8\"},\"line\":{\"color\":\"white\"}},\"header\":{\"fill\":{\"color\":\"#C8D4E3\"},\"line\":{\"color\":\"white\"}},\"type\":\"table\"}]},\"layout\":{\"annotationdefaults\":{\"arrowcolor\":\"#2a3f5f\",\"arrowhead\":0,\"arrowwidth\":1},\"autotypenumbers\":\"strict\",\"coloraxis\":{\"colorbar\":{\"outlinewidth\":0,\"ticks\":\"\"}},\"colorscale\":{\"diverging\":[[0,\"#8e0152\"],[0.1,\"#c51b7d\"],[0.2,\"#de77ae\"],[0.3,\"#f1b6da\"],[0.4,\"#fde0ef\"],[0.5,\"#f7f7f7\"],[0.6,\"#e6f5d0\"],[0.7,\"#b8e186\"],[0.8,\"#7fbc41\"],[0.9,\"#4d9221\"],[1,\"#276419\"]],\"sequential\":[[0.0,\"#0d0887\"],[0.1111111111111111,\"#46039f\"],[0.2222222222222222,\"#7201a8\"],[0.3333333333333333,\"#9c179e\"],[0.4444444444444444,\"#bd3786\"],[0.5555555555555556,\"#d8576b\"],[0.6666666666666666,\"#ed7953\"],[0.7777777777777778,\"#fb9f3a\"],[0.8888888888888888,\"#fdca26\"],[1.0,\"#f0f921\"]],\"sequentialminus\":[[0.0,\"#0d0887\"],[0.1111111111111111,\"#46039f\"],[0.2222222222222222,\"#7201a8\"],[0.3333333333333333,\"#9c179e\"],[0.4444444444444444,\"#bd3786\"],[0.5555555555555556,\"#d8576b\"],[0.6666666666666666,\"#ed7953\"],[0.7777777777777778,\"#fb9f3a\"],[0.8888888888888888,\"#fdca26\"],[1.0,\"#f0f921\"]]},\"colorway\":[\"#636efa\",\"#EF553B\",\"#00cc96\",\"#ab63fa\",\"#FFA15A\",\"#19d3f3\",\"#FF6692\",\"#B6E880\",\"#FF97FF\",\"#FECB52\"],\"font\":{\"color\":\"#2a3f5f\"},\"geo\":{\"bgcolor\":\"white\",\"lakecolor\":\"white\",\"landcolor\":\"#E5ECF6\",\"showlakes\":true,\"showland\":true,\"subunitcolor\":\"white\"},\"hoverlabel\":{\"align\":\"left\"},\"hovermode\":\"closest\",\"mapbox\":{\"style\":\"light\"},\"paper_bgcolor\":\"white\",\"plot_bgcolor\":\"#E5ECF6\",\"polar\":{\"angularaxis\":{\"gridcolor\":\"white\",\"linecolor\":\"white\",\"ticks\":\"\"},\"bgcolor\":\"#E5ECF6\",\"radialaxis\":{\"gridcolor\":\"white\",\"linecolor\":\"white\",\"ticks\":\"\"}},\"scene\":{\"xaxis\":{\"backgroundcolor\":\"#E5ECF6\",\"gridcolor\":\"white\",\"gridwidth\":2,\"linecolor\":\"white\",\"showbackground\":true,\"ticks\":\"\",\"zerolinecolor\":\"white\"},\"yaxis\":{\"backgroundcolor\":\"#E5ECF6\",\"gridcolor\":\"white\",\"gridwidth\":2,\"linecolor\":\"white\",\"showbackground\":true,\"ticks\":\"\",\"zerolinecolor\":\"white\"},\"zaxis\":{\"backgroundcolor\":\"#E5ECF6\",\"gridcolor\":\"white\",\"gridwidth\":2,\"linecolor\":\"white\",\"showbackground\":true,\"ticks\":\"\",\"zerolinecolor\":\"white\"}},\"shapedefaults\":{\"line\":{\"color\":\"#2a3f5f\"}},\"ternary\":{\"aaxis\":{\"gridcolor\":\"white\",\"linecolor\":\"white\",\"ticks\":\"\"},\"baxis\":{\"gridcolor\":\"white\",\"linecolor\":\"white\",\"ticks\":\"\"},\"bgcolor\":\"#E5ECF6\",\"caxis\":{\"gridcolor\":\"white\",\"linecolor\":\"white\",\"ticks\":\"\"}},\"title\":{\"x\":0.05},\"xaxis\":{\"automargin\":true,\"gridcolor\":\"white\",\"linecolor\":\"white\",\"ticks\":\"\",\"title\":{\"standoff\":15},\"zerolinecolor\":\"white\",\"zerolinewidth\":2},\"yaxis\":{\"automargin\":true,\"gridcolor\":\"white\",\"linecolor\":\"white\",\"ticks\":\"\",\"title\":{\"standoff\":15},\"zerolinecolor\":\"white\",\"zerolinewidth\":2}}},\"xaxis\":{\"anchor\":\"y\",\"domain\":[0.0,1.0],\"title\":{\"text\":\"Week-Number\"}},\"yaxis\":{\"anchor\":\"x\",\"domain\":[0.0,1.0],\"title\":{\"text\":\"Messages\"}},\"legend\":{\"tracegroupgap\":0},\"margin\":{\"t\":60}},                        {\"displayModeBar\": true, \"orientation\": \"v\", \"responsive\": true}                    ).then(function(){\n",
       "                            \n",
       "var gd = document.getElementById('f0ce81bb-df9f-4410-9ea2-0dbb55479dac');\n",
       "var x = new MutationObserver(function (mutations, observer) {{\n",
       "        var display = window.getComputedStyle(gd).display;\n",
       "        if (!display || display === 'none') {{\n",
       "            console.log([gd, 'removed!']);\n",
       "            Plotly.purge(gd);\n",
       "            observer.disconnect();\n",
       "        }}\n",
       "}});\n",
       "\n",
       "// Listen for the removal of the full notebook cells\n",
       "var notebookContainer = gd.closest('#notebook-container');\n",
       "if (notebookContainer) {{\n",
       "    x.observe(notebookContainer, {childList: true});\n",
       "}}\n",
       "\n",
       "// Listen for the clearing of the current output cell\n",
       "var outputEl = gd.closest('.output');\n",
       "if (outputEl) {{\n",
       "    x.observe(outputEl, {childList: true});\n",
       "}}\n",
       "\n",
       "                        })                };                });            </script>        </div>"
      ]
     },
     "metadata": {},
     "output_type": "display_data"
    }
   ],
   "source": [
    "config={\n",
    "    'displayModeBar': True,\n",
    "}\n",
    "fig = px.line(weekly_timeline, x='Week-Number', y=\"Messages\",markers=True)\n",
    "fig.show(config=config)"
   ]
  },
  {
   "cell_type": "code",
   "execution_count": null,
   "id": "01ca36d5",
   "metadata": {},
   "outputs": [],
   "source": []
  }
 ],
 "metadata": {
  "kernelspec": {
   "display_name": "Python 3 (ipykernel)",
   "language": "python",
   "name": "python3"
  },
  "language_info": {
   "codemirror_mode": {
    "name": "ipython",
    "version": 3
   },
   "file_extension": ".py",
   "mimetype": "text/x-python",
   "name": "python",
   "nbconvert_exporter": "python",
   "pygments_lexer": "ipython3",
   "version": "3.10.0"
  }
 },
 "nbformat": 4,
 "nbformat_minor": 5
}
